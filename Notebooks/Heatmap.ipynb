{
 "cells": [
  {
   "cell_type": "code",
   "execution_count": 1,
   "metadata": {
    "collapsed": false
   },
   "outputs": [
    {
     "data": {
      "image/png": "[encoded data removed]",
      "text/plain": [
       "<matplotlib.figure.Figure at 0x7f324c12da50>"
      ]
     },
     "metadata": {},
     "output_type": "display_data"
    }
   ],
   "source": [
    "import matplotlib.pyplot as plt\n",
    "import numpy as np\n",
    "\n",
    "#here's our data to plot, all normal Python lists\n",
    "x = [1, 2, 3, 4, 5]\n",
    "y = [0.1, 0.2, 0.3, 0.4, 0.5]\n",
    "\n",
    "intensity = [\n",
    "    [5, 10, 15, 20, 25],\n",
    "    [30, 35, 40, 45, 50],\n",
    "    [55, 60, 65, 70, 75],\n",
    "    [80, 85, 90, 95, 100],\n",
    "    [105, 110, 115, 120, 125]\n",
    "]\n",
    "\n",
    "#setup the 2D grid with Numpy\n",
    "x, y = np.meshgrid(x, y)\n",
    "\n",
    "#convert intensity (list of lists) to a numpy array for plotting\n",
    "intensity = np.array(intensity)\n",
    "\n",
    "#now just plug the data into pcolormesh, it's that easy!\n",
    "plt.pcolormesh(x, y, intensity)\n",
    "plt.colorbar() #need a colorbar to show the intensity scale\n",
    "plt.show() #boom"
   ]
  },
  {
   "cell_type": "code",
   "execution_count": 6,
   "metadata": {
    "collapsed": false
   },
   "outputs": [
    {
     "data": {
      "image/png": "[encoded data removed]",
      "text/plain": [
       "<matplotlib.figure.Figure at 0x7f3226a40650>"
      ]
     },
     "metadata": {},
     "output_type": "display_data"
    }
   ],
   "source": [
    "import pandas as pd\n",
    "\n",
    "org = pd.read_table(\"Original_data.txt\")\n",
    "ana = pd.read_table(\"Anomaly_points.txt\")\n",
    "        \n",
    "org = np.abs(org)\n",
    "ana = np.abs(ana)\n",
    "    \n",
    "test_org = org[10000:10050]\n",
    "    \n",
    "    \n",
    "fig, ax = plt.subplots()\n",
    "ax.scatter(np.arange(0, len(test_org), 1), test_org, color='blue', marker='o', label = \"Original Data\")\n",
    "ax.scatter(np.arange(0, len(ana), 1), ana, color='red', marker='o', label = \"Anomaly Data\")\n",
    "ax.set_title('Anomaly Detection')\n",
    "    \n",
    "ax.set_xlabel('Probability')\n",
    "ax.set_ylabel('Data points')\n",
    "    \n",
    "plt.legend()\n",
    "plt.show()"
   ]
  },
  {
   "cell_type": "code",
   "execution_count": 9,
   "metadata": {
    "collapsed": false
   },
   "outputs": [
    {
     "name": "stdout",
     "output_type": "stream",
     "text": [
      "0\n",
      "1\n",
      "2\n",
      "3\n",
      "4\n",
      "5\n",
      "6\n",
      "7\n"
     ]
    }
   ],
   "source": [
    "a = [10,20,30,40,50,35,70,89]\n",
    "for i in a:\n",
    "    print a.index(i)"
   ]
  },
  {
   "cell_type": "code",
   "execution_count": 1,
   "metadata": {
    "collapsed": true
   },
   "outputs": [],
   "source": [
    "import numpy as np\n",
    "import pandas as pd\n",
    "import matplotlib.pyplot as plt\n",
    "import matplotlib.mlab as mlab\n",
    "from mpl_toolkits.mplot3d import Axes3D\n",
    "from sklearn import mixture\n",
    "\n",
    "from sklearn.preprocessing import StandardScaler\n",
    "from sklearn.mixture import GaussianMixture\n",
    "\n",
    "import itertools\n",
    "import scipy as sp\n",
    "from scipy import linalg\n",
    "import matplotlib as mpl\n",
    "\n",
    "from itertools import product\n",
    "from scipy import stats\n",
    "\n",
    "import math\n",
    "%matplotlib inline"
   ]
  },
  {
   "cell_type": "code",
   "execution_count": 2,
   "metadata": {
    "collapsed": true
   },
   "outputs": [],
   "source": [
    "df = pd.read_csv('data/a.csv', sep=',')"
   ]
  },
  {
   "cell_type": "code",
   "execution_count": 3,
   "metadata": {
    "collapsed": true
   },
   "outputs": [],
   "source": [
    "X = df[[\"V1\",\"V2\",\"V3\",\"I1\",\"I2\",\"I3\",\"Pges\",\"Sges\",\"CosPhi\"]]"
   ]
  },
  {
   "cell_type": "code",
   "execution_count": 27,
   "metadata": {
    "collapsed": true
   },
   "outputs": [],
   "source": [
    "def add_anomaly_dynamically(num,x,count,mid_pos):\n",
    "    t_num = list(num)\n",
    "    if (mid_pos + count >= len(t_num)) and (mid_pos - count < 0):\n",
    "        print \"Point of injection is not suitable for injecting anomalies\"\n",
    "    else:\n",
    "        #t_num.sort()\n",
    "        last_idx = len(t_num)\n",
    "        delta = 1.0 + (float(x)/float(100))\n",
    "        new_list_test = [t_num[mid_pos]]\n",
    "        for j in range(0,count):\n",
    "            a = mid_pos - j\n",
    "            b = mid_pos + j\n",
    "            new_list_test.append(t_num[a])\n",
    "            new_list_test.append(t_num[b])\n",
    "            new_list_test.sort()\n",
    "        mu = len(new_list_test)/2 \n",
    "        increment = new_list_test[mu] * delta\n",
    "        \n",
    "        for k in range(mid_pos-count,mid_pos+count+1):\n",
    "            if k == mid_pos:\n",
    "                t_num[k] = increment\n",
    "            else:\n",
    "                increment_new = increment - new_list_test[mu]\n",
    "                share = abs(mid_pos - k )\n",
    "                t_num[k] = t_num[k] + increment_new * (1.0 - (float(share)/float(mu)))\n",
    "    return t_num "
   ]
  },
  {
   "cell_type": "code",
   "execution_count": 28,
   "metadata": {
    "collapsed": false
   },
   "outputs": [
    {
     "data": {
      "text/html": [
       "<div>\n",
       "<table border=\"1\" class=\"dataframe\">\n",
       "  <thead>\n",
       "    <tr style=\"text-align: right;\">\n",
       "      <th></th>\n",
       "      <th>V1</th>\n",
       "      <th>V2</th>\n",
       "      <th>V3</th>\n",
       "      <th>I1</th>\n",
       "      <th>I2</th>\n",
       "      <th>I3</th>\n",
       "      <th>Pges</th>\n",
       "      <th>Sges</th>\n",
       "      <th>CosPhi</th>\n",
       "    </tr>\n",
       "  </thead>\n",
       "  <tbody>\n",
       "    <tr>\n",
       "      <th>0</th>\n",
       "      <td>231.48</td>\n",
       "      <td>230.68</td>\n",
       "      <td>231.13</td>\n",
       "      <td>28.62</td>\n",
       "      <td>85.35</td>\n",
       "      <td>67.17</td>\n",
       "      <td>40634.93</td>\n",
       "      <td>41954.64</td>\n",
       "      <td>0.90</td>\n",
       "    </tr>\n",
       "    <tr>\n",
       "      <th>1</th>\n",
       "      <td>232.55</td>\n",
       "      <td>231.93</td>\n",
       "      <td>232.12</td>\n",
       "      <td>42.26</td>\n",
       "      <td>59.70</td>\n",
       "      <td>55.55</td>\n",
       "      <td>34041.65</td>\n",
       "      <td>36562.76</td>\n",
       "      <td>0.92</td>\n",
       "    </tr>\n",
       "    <tr>\n",
       "      <th>2</th>\n",
       "      <td>235.39</td>\n",
       "      <td>234.91</td>\n",
       "      <td>234.56</td>\n",
       "      <td>46.28</td>\n",
       "      <td>48.49</td>\n",
       "      <td>50.96</td>\n",
       "      <td>31277.35</td>\n",
       "      <td>34297.96</td>\n",
       "      <td>0.91</td>\n",
       "    </tr>\n",
       "    <tr>\n",
       "      <th>3</th>\n",
       "      <td>231.87</td>\n",
       "      <td>231.05</td>\n",
       "      <td>231.39</td>\n",
       "      <td>69.17</td>\n",
       "      <td>92.45</td>\n",
       "      <td>89.39</td>\n",
       "      <td>56084.99</td>\n",
       "      <td>58069.81</td>\n",
       "      <td>0.96</td>\n",
       "    </tr>\n",
       "    <tr>\n",
       "      <th>4</th>\n",
       "      <td>232.40</td>\n",
       "      <td>231.82</td>\n",
       "      <td>231.79</td>\n",
       "      <td>77.44</td>\n",
       "      <td>93.10</td>\n",
       "      <td>81.21</td>\n",
       "      <td>54859.91</td>\n",
       "      <td>58391.86</td>\n",
       "      <td>0.94</td>\n",
       "    </tr>\n",
       "  </tbody>\n",
       "</table>\n",
       "</div>"
      ],
      "text/plain": [
       "       V1      V2      V3     I1     I2     I3      Pges      Sges  CosPhi\n",
       "0  231.48  230.68  231.13  28.62  85.35  67.17  40634.93  41954.64    0.90\n",
       "1  232.55  231.93  232.12  42.26  59.70  55.55  34041.65  36562.76    0.92\n",
       "2  235.39  234.91  234.56  46.28  48.49  50.96  31277.35  34297.96    0.91\n",
       "3  231.87  231.05  231.39  69.17  92.45  89.39  56084.99  58069.81    0.96\n",
       "4  232.40  231.82  231.79  77.44  93.10  81.21  54859.91  58391.86    0.94"
      ]
     },
     "execution_count": 28,
     "metadata": {},
     "output_type": "execute_result"
    }
   ],
   "source": [
    "X"
   ]
  },
  {
   "cell_type": "code",
   "execution_count": 30,
   "metadata": {
    "collapsed": false
   },
   "outputs": [
    {
     "data": {
      "text/html": [
       "<div>\n",
       "<table border=\"1\" class=\"dataframe\">\n",
       "  <thead>\n",
       "    <tr style=\"text-align: right;\">\n",
       "      <th></th>\n",
       "      <th>0</th>\n",
       "      <th>1</th>\n",
       "      <th>2</th>\n",
       "      <th>3</th>\n",
       "      <th>4</th>\n",
       "      <th>5</th>\n",
       "      <th>6</th>\n",
       "      <th>7</th>\n",
       "      <th>8</th>\n",
       "    </tr>\n",
       "  </thead>\n",
       "  <tbody>\n",
       "    <tr>\n",
       "      <th>0</th>\n",
       "      <td>231.4800</td>\n",
       "      <td>230.6800</td>\n",
       "      <td>231.130</td>\n",
       "      <td>28.620</td>\n",
       "      <td>85.3500</td>\n",
       "      <td>67.170</td>\n",
       "      <td>40634.9300</td>\n",
       "      <td>41954.640</td>\n",
       "      <td>0.9000</td>\n",
       "    </tr>\n",
       "    <tr>\n",
       "      <th>1</th>\n",
       "      <td>244.3195</td>\n",
       "      <td>243.6755</td>\n",
       "      <td>243.848</td>\n",
       "      <td>44.574</td>\n",
       "      <td>62.1245</td>\n",
       "      <td>58.098</td>\n",
       "      <td>35605.5175</td>\n",
       "      <td>38277.658</td>\n",
       "      <td>0.9655</td>\n",
       "    </tr>\n",
       "    <tr>\n",
       "      <th>2</th>\n",
       "      <td>258.9290</td>\n",
       "      <td>258.4010</td>\n",
       "      <td>258.016</td>\n",
       "      <td>50.908</td>\n",
       "      <td>53.3390</td>\n",
       "      <td>56.056</td>\n",
       "      <td>34405.0850</td>\n",
       "      <td>37727.756</td>\n",
       "      <td>1.0010</td>\n",
       "    </tr>\n",
       "    <tr>\n",
       "      <th>3</th>\n",
       "      <td>243.6395</td>\n",
       "      <td>242.7955</td>\n",
       "      <td>243.118</td>\n",
       "      <td>71.484</td>\n",
       "      <td>94.8745</td>\n",
       "      <td>91.938</td>\n",
       "      <td>57648.8575</td>\n",
       "      <td>59784.708</td>\n",
       "      <td>1.0055</td>\n",
       "    </tr>\n",
       "    <tr>\n",
       "      <th>4</th>\n",
       "      <td>232.4000</td>\n",
       "      <td>231.8200</td>\n",
       "      <td>231.790</td>\n",
       "      <td>77.440</td>\n",
       "      <td>93.1000</td>\n",
       "      <td>81.210</td>\n",
       "      <td>54859.9100</td>\n",
       "      <td>58391.860</td>\n",
       "      <td>0.9400</td>\n",
       "    </tr>\n",
       "  </tbody>\n",
       "</table>\n",
       "</div>"
      ],
      "text/plain": [
       "          0         1        2       3        4       5           6  \\\n",
       "0  231.4800  230.6800  231.130  28.620  85.3500  67.170  40634.9300   \n",
       "1  244.3195  243.6755  243.848  44.574  62.1245  58.098  35605.5175   \n",
       "2  258.9290  258.4010  258.016  50.908  53.3390  56.056  34405.0850   \n",
       "3  243.6395  242.7955  243.118  71.484  94.8745  91.938  57648.8575   \n",
       "4  232.4000  231.8200  231.790  77.440  93.1000  81.210  54859.9100   \n",
       "\n",
       "           7       8  \n",
       "0  41954.640  0.9000  \n",
       "1  38277.658  0.9655  \n",
       "2  37727.756  1.0010  \n",
       "3  59784.708  1.0055  \n",
       "4  58391.860  0.9400  "
      ]
     },
     "execution_count": 30,
     "metadata": {},
     "output_type": "execute_result"
    }
   ],
   "source": [
    "#add_anomaly_dynamically(num,x,count,mid_pos):\n",
    "df_new = pd.DataFrame()\n",
    "for i in range(X.shape[1]):\n",
    "    df_new[i] = add_anomaly_dynamically(X.iloc[:,i],10,2,2)\n",
    "df_new"
   ]
  },
  {
   "cell_type": "code",
   "execution_count": 14,
   "metadata": {
    "collapsed": false
   },
   "outputs": [
    {
     "data": {
      "text/plain": [
       "0    231.48\n",
       "1    232.55\n",
       "2    235.39\n",
       "3    231.87\n",
       "4    232.40\n",
       "Name: V1, dtype: float64"
      ]
     },
     "execution_count": 14,
     "metadata": {},
     "output_type": "execute_result"
    }
   ],
   "source": [
    "X.iloc[:,0]"
   ]
  },
  {
   "cell_type": "code",
   "execution_count": null,
   "metadata": {
    "collapsed": true
   },
   "outputs": [],
   "source": []
  }
 ],
 "metadata": {
  "kernelspec": {
   "display_name": "Python 2",
   "language": "python",
   "name": "python2"
  },
  "language_info": {
   "codemirror_mode": {
    "name": "ipython",
    "version": 2
   },
   "file_extension": ".py",
   "mimetype": "text/x-python",
   "name": "python",
   "nbconvert_exporter": "python",
   "pygments_lexer": "ipython2",
   "version": "2.7.13"
  }
 },
 "nbformat": 4,
 "nbformat_minor": 2
}
