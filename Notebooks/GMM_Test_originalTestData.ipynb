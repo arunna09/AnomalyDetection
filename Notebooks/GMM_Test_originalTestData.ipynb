{
 "cells": [
  {
   "cell_type": "code",
   "execution_count": 1,
   "metadata": {
    "collapsed": true
   },
   "outputs": [],
   "source": [
    "import numpy as np\n",
    "import pandas as pd\n",
    "import matplotlib.pyplot as plt\n",
    "import matplotlib.mlab as mlab\n",
    "from mpl_toolkits.mplot3d import Axes3D\n",
    "from sklearn import mixture\n",
    "\n",
    "from sklearn.preprocessing import StandardScaler\n",
    "from sklearn.mixture import GaussianMixture\n",
    "\n",
    "import itertools\n",
    "import scipy as sp\n",
    "from scipy import linalg\n",
    "import matplotlib as mpl\n",
    "\n",
    "from itertools import product\n",
    "from scipy import stats\n",
    "\n",
    "import math\n",
    "%matplotlib inline"
   ]
  },
  {
   "cell_type": "code",
   "execution_count": 2,
   "metadata": {
    "collapsed": false
   },
   "outputs": [],
   "source": [
    "df = pd.read_csv('data/Test_org_data_07_11_2015.csv', sep=',')"
   ]
  },
  {
   "cell_type": "code",
   "execution_count": 3,
   "metadata": {
    "collapsed": false
   },
   "outputs": [],
   "source": [
    "X = df[[\"V1\",\"V2\",\"V3\",\"I1\",\"I2\",\"I3\",\"Pges\",\"Sges\",\"CosPhi\"]]"
   ]
  },
  {
   "cell_type": "markdown",
   "metadata": {},
   "source": [
    "# Data Smoothing"
   ]
  },
  {
   "cell_type": "code",
   "execution_count": 4,
   "metadata": {
    "collapsed": false
   },
   "outputs": [],
   "source": [
    "r = X.rolling(60).mean()"
   ]
  },
  {
   "cell_type": "code",
   "execution_count": 5,
   "metadata": {
    "collapsed": false
   },
   "outputs": [],
   "source": [
    "data_smooth = pd.DataFrame(r.iloc[59:,:])"
   ]
  },
  {
   "cell_type": "code",
   "execution_count": 6,
   "metadata": {
    "collapsed": false
   },
   "outputs": [
    {
     "data": {
      "text/plain": [
       "(76071, 9)"
      ]
     },
     "execution_count": 6,
     "metadata": {},
     "output_type": "execute_result"
    }
   ],
   "source": [
    "data_smooth.shape"
   ]
  },
  {
   "cell_type": "code",
   "execution_count": 7,
   "metadata": {
    "collapsed": false
   },
   "outputs": [
    {
     "data": {
      "image/png": "[encoded data removed]",
      "text/plain": [
       "<matplotlib.figure.Figure at 0x7f2dd0448610>"
      ]
     },
     "metadata": {},
     "output_type": "display_data"
    }
   ],
   "source": [
    "plt.hist(data_smooth.iloc[:,0],bins=1000)\n",
    "plt.show()"
   ]
  },
  {
   "cell_type": "markdown",
   "metadata": {},
   "source": [
    "# End of Data Smoothing"
   ]
  },
  {
   "cell_type": "code",
   "execution_count": 8,
   "metadata": {
    "collapsed": false
   },
   "outputs": [],
   "source": [
    "#PCA Implementation\n",
    "from sklearn.preprocessing import StandardScaler\n",
    "X_std = StandardScaler().fit_transform(data_smooth)\n",
    "\n",
    "X_non_smoothed = StandardScaler().fit_transform(X)"
   ]
  },
  {
   "cell_type": "code",
   "execution_count": 9,
   "metadata": {
    "collapsed": false
   },
   "outputs": [
    {
     "data": {
      "image/png": "[encoded data removed]",
      "text/plain": [
       "<matplotlib.figure.Figure at 0x7f2dacf24a50>"
      ]
     },
     "metadata": {},
     "output_type": "display_data"
    }
   ],
   "source": [
    "plt.hist(X_non_smoothed,bins=20)\n",
    "plt.show()"
   ]
  },
  {
   "cell_type": "code",
   "execution_count": 10,
   "metadata": {
    "collapsed": false
   },
   "outputs": [
    {
     "data": {
      "image/png": "[encoded data removed]",
      "text/plain": [
       "<matplotlib.figure.Figure at 0x7f2d96c47790>"
      ]
     },
     "metadata": {},
     "output_type": "display_data"
    }
   ],
   "source": [
    "plt.plot(X_non_smoothed)\n",
    "plt.show()"
   ]
  },
  {
   "cell_type": "code",
   "execution_count": 11,
   "metadata": {
    "collapsed": false
   },
   "outputs": [
    {
     "data": {
      "image/png": "[encoded data removed]",
      "text/plain": [
       "<matplotlib.figure.Figure at 0x7f2d96ba0210>"
      ]
     },
     "metadata": {},
     "output_type": "display_data"
    }
   ],
   "source": [
    "plt.hist(X_std,bins=100)\n",
    "plt.show()"
   ]
  },
  {
   "cell_type": "code",
   "execution_count": 12,
   "metadata": {
    "collapsed": false
   },
   "outputs": [
    {
     "data": {
      "text/plain": [
       "array([ 0.88714072,  0.97006888,  1.08182652, -0.45544553, -0.5530699 ,\n",
       "       -0.43272182, -0.48739039, -0.4832273 , -0.15573154])"
      ]
     },
     "execution_count": 12,
     "metadata": {},
     "output_type": "execute_result"
    }
   ],
   "source": [
    "X_std[1000]"
   ]
  },
  {
   "cell_type": "code",
   "execution_count": 13,
   "metadata": {
    "collapsed": false
   },
   "outputs": [],
   "source": [
    "#Calculate the z-score of all the points\n",
    "from scipy import stats\n",
    "zscore = stats.zscore(X)"
   ]
  },
  {
   "cell_type": "code",
   "execution_count": 14,
   "metadata": {
    "collapsed": false
   },
   "outputs": [
    {
     "data": {
      "image/png": "[encoded data removed]",
      "text/plain": [
       "<matplotlib.figure.Figure at 0x7f2d96adb710>"
      ]
     },
     "metadata": {},
     "output_type": "display_data"
    }
   ],
   "source": [
    "plt.boxplot(zscore)\n",
    "plt.show()"
   ]
  },
  {
   "cell_type": "code",
   "execution_count": 15,
   "metadata": {
    "collapsed": false
   },
   "outputs": [
    {
     "data": {
      "text/plain": [
       "array([ 0.66338512,  0.91086291,  0.98968517,  0.99553459,  0.99882046,\n",
       "        0.99946568,  0.9999126 ,  0.99998375,  1.        ])"
      ]
     },
     "execution_count": 15,
     "metadata": {},
     "output_type": "execute_result"
    }
   ],
   "source": [
    "from sklearn.decomposition import PCA \n",
    "sklearn_pca = PCA(n_components=9)\n",
    "Y_sklearn = sklearn_pca.fit_transform(X_std)\n",
    "\n",
    "sklearn_pca.explained_variance_ratio_.cumsum()"
   ]
  },
  {
   "cell_type": "code",
   "execution_count": 16,
   "metadata": {
    "collapsed": false
   },
   "outputs": [
    {
     "data": {
      "text/plain": [
       "[<matplotlib.lines.Line2D at 0x7f2d9a846fd0>]"
      ]
     },
     "execution_count": 16,
     "metadata": {},
     "output_type": "execute_result"
    },
    {
     "data": {
      "image/png": "[encoded data removed]",
      "text/plain": [
       "<matplotlib.figure.Figure at 0x7f2d96a39e90>"
      ]
     },
     "metadata": {},
     "output_type": "display_data"
    }
   ],
   "source": [
    "plt.plot(sklearn_pca.explained_variance_ratio_.cumsum())"
   ]
  },
  {
   "cell_type": "code",
   "execution_count": 17,
   "metadata": {
    "collapsed": false
   },
   "outputs": [
    {
     "data": {
      "text/html": [
       "<div>\n",
       "<table border=\"1\" class=\"dataframe\">\n",
       "  <thead>\n",
       "    <tr style=\"text-align: right;\">\n",
       "      <th></th>\n",
       "      <th>PCA1</th>\n",
       "      <th>PCA2</th>\n",
       "      <th>PCA3</th>\n",
       "    </tr>\n",
       "  </thead>\n",
       "  <tbody>\n",
       "    <tr>\n",
       "      <th>0</th>\n",
       "      <td>-0.399653</td>\n",
       "      <td>0.522914</td>\n",
       "      <td>-0.548873</td>\n",
       "    </tr>\n",
       "    <tr>\n",
       "      <th>1</th>\n",
       "      <td>-0.451422</td>\n",
       "      <td>0.779832</td>\n",
       "      <td>-0.714547</td>\n",
       "    </tr>\n",
       "    <tr>\n",
       "      <th>2</th>\n",
       "      <td>0.116390</td>\n",
       "      <td>1.046743</td>\n",
       "      <td>-0.652471</td>\n",
       "    </tr>\n",
       "    <tr>\n",
       "      <th>3</th>\n",
       "      <td>-0.061175</td>\n",
       "      <td>1.019116</td>\n",
       "      <td>-0.661136</td>\n",
       "    </tr>\n",
       "    <tr>\n",
       "      <th>4</th>\n",
       "      <td>0.697785</td>\n",
       "      <td>0.963161</td>\n",
       "      <td>-0.500743</td>\n",
       "    </tr>\n",
       "  </tbody>\n",
       "</table>\n",
       "</div>"
      ],
      "text/plain": [
       "       PCA1      PCA2      PCA3\n",
       "0 -0.399653  0.522914 -0.548873\n",
       "1 -0.451422  0.779832 -0.714547\n",
       "2  0.116390  1.046743 -0.652471\n",
       "3 -0.061175  1.019116 -0.661136\n",
       "4  0.697785  0.963161 -0.500743"
      ]
     },
     "execution_count": 17,
     "metadata": {},
     "output_type": "execute_result"
    }
   ],
   "source": [
    "#Convert the PCA to dataframe\n",
    "data = pd.DataFrame(Y_sklearn[:,0:3], columns=('PCA1', 'PCA2','PCA3'))\n",
    "data.head()\n",
    "\n"
   ]
  },
  {
   "cell_type": "code",
   "execution_count": 18,
   "metadata": {
    "collapsed": false
   },
   "outputs": [
    {
     "name": "stderr",
     "output_type": "stream",
     "text": [
      "/home/arun/anaconda2/lib/python2.7/site-packages/matplotlib/axes/_axes.py:545: UserWarning: No labelled objects found. Use label='...' kwarg on individual plots.\n",
      "  warnings.warn(\"No labelled objects found. \"\n"
     ]
    },
    {
     "data": {
      "text/plain": [
       "<matplotlib.text.Text at 0x7f2d9a873950>"
      ]
     },
     "execution_count": 18,
     "metadata": {},
     "output_type": "execute_result"
    },
    {
     "data": {
      "image/png": "[encoded data removed]",
      "text/plain": [
       "<matplotlib.figure.Figure at 0x7f2d96a61cd0>"
      ]
     },
     "metadata": {},
     "output_type": "display_data"
    }
   ],
   "source": [
    "#Plot the PCA values\n",
    "fig = plt.figure() \n",
    "plt.legend(loc='upper right')\n",
    "plt.plot(data)\n",
    "plt.title(\"PCA of Torschlag_Trafo_07122015_to_11122015(Week-1)\")\n",
    "\n",
    "#plt.legend()\n",
    "plt.ylabel(\"PCA recorded value\")\n",
    "plt.xlabel(\"N-Observations\")"
   ]
  },
  {
   "cell_type": "markdown",
   "metadata": {},
   "source": [
    "# Split the data into training and testing "
   ]
  },
  {
   "cell_type": "markdown",
   "metadata": {
    "collapsed": true
   },
   "source": [
    "def split_data(data, val_size=0, test_size=0):\n",
    "    \"\"\"\n",
    "    splits data to training, validation and testing parts\n",
    "    \"\"\"\n",
    "    ntest = int(round(len(data) * (1 - test_size)))\n",
    "    nval = int(round(len(data.iloc[:ntest]) * (1 - val_size)))\n",
    "    df_train, df_val, df_test = data.iloc[:nval], data.iloc[nval:ntest], data.iloc[ntest:]\n",
    "    return df_train, df_val, df_test"
   ]
  },
  {
   "cell_type": "markdown",
   "metadata": {
    "collapsed": true
   },
   "source": [
    "train, validate, test = split_data(data)"
   ]
  },
  {
   "cell_type": "markdown",
   "metadata": {},
   "source": [
    "# Splitting data ends"
   ]
  },
  {
   "cell_type": "markdown",
   "metadata": {},
   "source": [
    "# Method 1 : Choose the best model"
   ]
  },
  {
   "cell_type": "code",
   "execution_count": 22,
   "metadata": {
    "collapsed": false
   },
   "outputs": [],
   "source": [
    "#Fit GMM on the PCA\n",
    "from sklearn.mixture import GaussianMixture\n",
    "import pylab as pl\n",
    "\n",
    "def model_fit_1(X):\n",
    "    n_components = np.arange(1, 21)\n",
    "    BIC = np.zeros(n_components.shape)\n",
    "    AIC = np.zeros(n_components.shape)\n",
    "    for i, n in enumerate(n_components):\n",
    "        clf = GaussianMixture(n_components=n, covariance_type='full')\n",
    "        clf.fit(X)\n",
    "        AIC[i] = clf.aic(X)\n",
    "        BIC[i] = clf.bic(X)\n",
    "    pl.figure()\n",
    "    pl.plot(n_components, AIC, label='AIC')\n",
    "    pl.plot(n_components, BIC, label='BIC')\n",
    "    pl.legend(loc=0)\n",
    "    pl.xlabel('n_components')\n",
    "    pl.ylabel('AIC / BIC')\n",
    "    return clf, AIC, BIC"
   ]
  },
  {
   "cell_type": "code",
   "execution_count": 23,
   "metadata": {
    "collapsed": false
   },
   "outputs": [],
   "source": [
    "def gmm_ad(wgt_log_probability):\n",
    "    values = []\n",
    "    index = []\n",
    "    threshold = 3 * wgt_log_probability.std() #Check if we can consider since its not a normal distribution\n",
    "    a = np.absolute(wgt_log_probability.mean()) + threshold\n",
    "    count = 0\n",
    "    for i in range(0,len(wgt_log_probability)):\n",
    "        #print i\n",
    "        if np.absolute(wgt_log_probability[i]) > a:\n",
    "            count = count + 1\n",
    "            values.append(wgt_log_probability[i])\n",
    "            index.append(i)\n",
    "    return count, values, index\n",
    "    #print values"
   ]
  },
  {
   "cell_type": "code",
   "execution_count": 24,
   "metadata": {
    "collapsed": false
   },
   "outputs": [
    {
     "data": {
      "image/png": "[encoded data removed]",
      "text/plain": [
       "<matplotlib.figure.Figure at 0x7f2d97551e90>"
      ]
     },
     "metadata": {},
     "output_type": "display_data"
    }
   ],
   "source": [
    "clf, clf_aic, clf_bic  = model_fit_1(data)"
   ]
  },
  {
   "cell_type": "code",
   "execution_count": 25,
   "metadata": {
    "collapsed": false
   },
   "outputs": [
    {
     "data": {
      "text/plain": [
       "array([ 0.03604449,  0.06608653,  0.0559464 ,  0.04117027,  0.0435784 ,\n",
       "        0.0487155 ,  0.00283431,  0.05135008,  0.08078686,  0.06334722,\n",
       "        0.03005221,  0.06599547,  0.05966091,  0.06622082,  0.03785665,\n",
       "        0.06558547,  0.06656259,  0.06377362,  0.01085499,  0.04357721])"
      ]
     },
     "execution_count": 25,
     "metadata": {},
     "output_type": "execute_result"
    }
   ],
   "source": [
    "clf.weights_ #the weights of no_of_components, see first parameter to GaussianMixture"
   ]
  },
  {
   "cell_type": "code",
   "execution_count": 26,
   "metadata": {
    "collapsed": false
   },
   "outputs": [
    {
     "data": {
      "text/plain": [
       "(20, 3)"
      ]
     },
     "execution_count": 26,
     "metadata": {},
     "output_type": "execute_result"
    }
   ],
   "source": [
    "clf.means_.shape #(n_components, n_features)"
   ]
  },
  {
   "cell_type": "markdown",
   "metadata": {},
   "source": [
    "The precision matrices for each component in the mixture. **A precision matrix is the inverse of a covariance matrix.** A covariance matrix is symmetric positive definite so the mixture of Gaussian can be equivalently parameterized by the precision matrices. Storing the precision matrices instead of the covariance matrices makes it more efficient to compute the log-likelihood of new samples at test time. The shape depends on covariance_type:"
   ]
  },
  {
   "cell_type": "code",
   "execution_count": 27,
   "metadata": {
    "collapsed": false
   },
   "outputs": [
    {
     "data": {
      "text/plain": [
       "(20, 3, 3)"
      ]
     },
     "execution_count": 27,
     "metadata": {},
     "output_type": "execute_result"
    }
   ],
   "source": [
    "clf.covariances_.shape #(n_components, n_features, n_features) if 'full'"
   ]
  },
  {
   "cell_type": "code",
   "execution_count": 28,
   "metadata": {
    "collapsed": false
   },
   "outputs": [
    {
     "data": {
      "text/plain": [
       "(20, 3, 3)"
      ]
     },
     "execution_count": 28,
     "metadata": {},
     "output_type": "execute_result"
    }
   ],
   "source": [
    "clf.precisions_.shape #"
   ]
  },
  {
   "cell_type": "code",
   "execution_count": 29,
   "metadata": {
    "collapsed": false
   },
   "outputs": [
    {
     "data": {
      "text/plain": [
       "<matplotlib.text.Text at 0x7f2d9ac1e910>"
      ]
     },
     "execution_count": 29,
     "metadata": {},
     "output_type": "execute_result"
    },
    {
     "data": {
      "image/png": "[encoded data removed]",
      "text/plain": [
       "<matplotlib.figure.Figure at 0x7f2d978634d0>"
      ]
     },
     "metadata": {},
     "output_type": "display_data"
    }
   ],
   "source": [
    "plt.scatter(clf.precisions_, clf.covariances_)\n",
    "plt.title('Scatter plot of precisions and covariances')"
   ]
  },
  {
   "cell_type": "code",
   "execution_count": 30,
   "metadata": {
    "collapsed": false
   },
   "outputs": [
    {
     "data": {
      "text/plain": [
       "array([16, 16, 16, ...,  2,  2, 13])"
      ]
     },
     "execution_count": 30,
     "metadata": {},
     "output_type": "execute_result"
    }
   ],
   "source": [
    "classes = clf.predict(data)\n",
    "classes"
   ]
  },
  {
   "cell_type": "code",
   "execution_count": 31,
   "metadata": {
    "collapsed": false
   },
   "outputs": [
    {
     "data": {
      "text/plain": [
       "array([ 0,  1,  2,  3,  4,  5,  6,  7,  8,  9, 10, 11, 12, 13, 14, 15, 16,\n",
       "       17, 18, 19])"
      ]
     },
     "execution_count": 31,
     "metadata": {},
     "output_type": "execute_result"
    }
   ],
   "source": [
    "np.unique(classes)"
   ]
  },
  {
   "cell_type": "code",
   "execution_count": 32,
   "metadata": {
    "collapsed": false
   },
   "outputs": [
    {
     "data": {
      "image/png": "[encoded data removed]",
      "text/plain": [
       "<matplotlib.figure.Figure at 0x7f2d96a9ed90>"
      ]
     },
     "metadata": {},
     "output_type": "display_data"
    }
   ],
   "source": [
    "classes = clf.predict(data)\n",
    "plt.scatter(data.iloc[:,0], data.iloc[:,1], c=classes)\n",
    "plt.legend()\n",
    "plt.title('Scatterplot of predicted data')\n",
    "plt.show()"
   ]
  },
  {
   "cell_type": "code",
   "execution_count": 33,
   "metadata": {
    "collapsed": false
   },
   "outputs": [],
   "source": [
    "score_samp = clf.score_samples(data) #Compute the weighted log probabilities for each sample."
   ]
  },
  {
   "cell_type": "code",
   "execution_count": 34,
   "metadata": {
    "collapsed": false
   },
   "outputs": [],
   "source": [
    "np.savetxt(\"Original_data.txt\",score_samp)"
   ]
  },
  {
   "cell_type": "code",
   "execution_count": 35,
   "metadata": {
    "collapsed": false,
    "scrolled": true
   },
   "outputs": [
    {
     "data": {
      "image/png": "[encoded data removed]",
      "text/plain": [
       "<matplotlib.figure.Figure at 0x7f2d9ac69950>"
      ]
     },
     "metadata": {},
     "output_type": "display_data"
    }
   ],
   "source": [
    "plt.hist(score_samp,bins =100)\n",
    "plt.show()"
   ]
  },
  {
   "cell_type": "markdown",
   "metadata": {},
   "source": [
    "# Calculate the confidence intervals"
   ]
  },
  {
   "cell_type": "code",
   "execution_count": 36,
   "metadata": {
    "collapsed": false
   },
   "outputs": [],
   "source": [
    "#http://stackoverflow.com/questions/4493543/calculating-confidence-intervals-for-a-non-normal-distribution\n",
    "def CI_dist(X):\n",
    "    N = len(X)\n",
    "    mu = np.mean(abs(X))         # sample mean (normally distributed)\n",
    "    print(\"Mean = %s\"%mu)\n",
    "    #sig = np.std(X)/math.sqrt(N); # sample standard deviation of the mean\n",
    "    sig = np.std(X) # sample standard deviation of the mean\n",
    "    print(\"Std = %s\"%sig)\n",
    "    alphao2 = .05/2;      # alpha over 2   \n",
    "    CI = stats.norm.ppf(0.95, loc=mu, scale= 2.5*sig)\n",
    "    return CI"
   ]
  },
  {
   "cell_type": "code",
   "execution_count": 37,
   "metadata": {
    "collapsed": false
   },
   "outputs": [
    {
     "name": "stdout",
     "output_type": "stream",
     "text": [
      "Mean = 5.20934977956\n",
      "Std = 1.2850688286\n"
     ]
    },
    {
     "data": {
      "text/plain": [
       "10.493725088573058"
      ]
     },
     "execution_count": 37,
     "metadata": {},
     "output_type": "execute_result"
    }
   ],
   "source": [
    "CI = CI_dist(score_samp)\n",
    "CI"
   ]
  },
  {
   "cell_type": "markdown",
   "metadata": {},
   "source": [
    "# Calculate the number of data points lower than -10"
   ]
  },
  {
   "cell_type": "code",
   "execution_count": 38,
   "metadata": {
    "collapsed": false
   },
   "outputs": [],
   "source": [
    "def count_no_of_points(dist,confidence_interval,filename):\n",
    "    count = 0\n",
    "    anomalous_values = []\n",
    "    idx = []\n",
    "    for i in dist:\n",
    "        if i < -confidence_interval:\n",
    "            count += 1\n",
    "            k, = np.where(dist == i)\n",
    "            idx.append(k)\n",
    "            anomalous_values.append(i)\n",
    "    np.savetxt(filename,anomalous_values)\n",
    "    return count,idx"
   ]
  },
  {
   "cell_type": "code",
   "execution_count": 39,
   "metadata": {
    "collapsed": false
   },
   "outputs": [
    {
     "data": {
      "text/plain": [
       "(517,\n",
       " [array([20]),\n",
       "  array([21]),\n",
       "  array([22]),\n",
       "  array([23]),\n",
       "  array([24]),\n",
       "  array([25]),\n",
       "  array([26]),\n",
       "  array([27]),\n",
       "  array([28]),\n",
       "  array([29]),\n",
       "  array([30]),\n",
       "  array([31]),\n",
       "  array([32]),\n",
       "  array([33]),\n",
       "  array([34]),\n",
       "  array([35]),\n",
       "  array([36]),\n",
       "  array([37]),\n",
       "  array([38]),\n",
       "  array([39]),\n",
       "  array([40]),\n",
       "  array([41]),\n",
       "  array([42]),\n",
       "  array([43]),\n",
       "  array([44]),\n",
       "  array([45]),\n",
       "  array([46]),\n",
       "  array([47]),\n",
       "  array([48]),\n",
       "  array([49]),\n",
       "  array([50]),\n",
       "  array([51]),\n",
       "  array([52]),\n",
       "  array([53]),\n",
       "  array([54]),\n",
       "  array([55]),\n",
       "  array([56]),\n",
       "  array([57]),\n",
       "  array([58]),\n",
       "  array([59]),\n",
       "  array([60]),\n",
       "  array([61]),\n",
       "  array([62]),\n",
       "  array([63]),\n",
       "  array([64]),\n",
       "  array([65]),\n",
       "  array([66]),\n",
       "  array([67]),\n",
       "  array([68]),\n",
       "  array([69]),\n",
       "  array([70]),\n",
       "  array([71]),\n",
       "  array([72]),\n",
       "  array([73]),\n",
       "  array([74]),\n",
       "  array([75]),\n",
       "  array([76]),\n",
       "  array([77]),\n",
       "  array([78]),\n",
       "  array([79]),\n",
       "  array([80]),\n",
       "  array([81]),\n",
       "  array([82]),\n",
       "  array([83]),\n",
       "  array([84]),\n",
       "  array([85]),\n",
       "  array([86]),\n",
       "  array([87]),\n",
       "  array([88]),\n",
       "  array([89]),\n",
       "  array([90]),\n",
       "  array([91]),\n",
       "  array([92]),\n",
       "  array([93]),\n",
       "  array([94]),\n",
       "  array([95]),\n",
       "  array([96]),\n",
       "  array([97]),\n",
       "  array([98]),\n",
       "  array([99]),\n",
       "  array([100]),\n",
       "  array([101]),\n",
       "  array([102]),\n",
       "  array([103]),\n",
       "  array([104]),\n",
       "  array([105]),\n",
       "  array([106]),\n",
       "  array([107]),\n",
       "  array([108]),\n",
       "  array([109]),\n",
       "  array([110]),\n",
       "  array([111]),\n",
       "  array([112]),\n",
       "  array([113]),\n",
       "  array([114]),\n",
       "  array([115]),\n",
       "  array([116]),\n",
       "  array([117]),\n",
       "  array([118]),\n",
       "  array([119]),\n",
       "  array([178]),\n",
       "  array([179]),\n",
       "  array([180]),\n",
       "  array([181]),\n",
       "  array([182]),\n",
       "  array([183]),\n",
       "  array([184]),\n",
       "  array([186]),\n",
       "  array([744]),\n",
       "  array([748]),\n",
       "  array([749]),\n",
       "  array([2177]),\n",
       "  array([2178]),\n",
       "  array([2179]),\n",
       "  array([2180]),\n",
       "  array([2706]),\n",
       "  array([2709]),\n",
       "  array([2710]),\n",
       "  array([2711]),\n",
       "  array([2713]),\n",
       "  array([2799]),\n",
       "  array([3929]),\n",
       "  array([3932]),\n",
       "  array([3934]),\n",
       "  array([3935]),\n",
       "  array([3936]),\n",
       "  array([3937]),\n",
       "  array([3938]),\n",
       "  array([3939]),\n",
       "  array([3940]),\n",
       "  array([3941]),\n",
       "  array([3942]),\n",
       "  array([3943]),\n",
       "  array([3944]),\n",
       "  array([3945]),\n",
       "  array([3946]),\n",
       "  array([3947]),\n",
       "  array([3948]),\n",
       "  array([3949]),\n",
       "  array([3950]),\n",
       "  array([3951]),\n",
       "  array([3952]),\n",
       "  array([3953]),\n",
       "  array([3954]),\n",
       "  array([3955]),\n",
       "  array([3956]),\n",
       "  array([3957]),\n",
       "  array([3958]),\n",
       "  array([3959]),\n",
       "  array([3960]),\n",
       "  array([3961]),\n",
       "  array([3962]),\n",
       "  array([3963]),\n",
       "  array([3964]),\n",
       "  array([3965]),\n",
       "  array([3966]),\n",
       "  array([3967]),\n",
       "  array([3968]),\n",
       "  array([3969]),\n",
       "  array([3970]),\n",
       "  array([3971]),\n",
       "  array([3972]),\n",
       "  array([4184]),\n",
       "  array([4186]),\n",
       "  array([4187]),\n",
       "  array([4188]),\n",
       "  array([4189]),\n",
       "  array([4190]),\n",
       "  array([4191]),\n",
       "  array([8717]),\n",
       "  array([8718]),\n",
       "  array([10305]),\n",
       "  array([10346]),\n",
       "  array([10929]),\n",
       "  array([10938]),\n",
       "  array([10939]),\n",
       "  array([10940]),\n",
       "  array([10941]),\n",
       "  array([10942]),\n",
       "  array([10943]),\n",
       "  array([10970]),\n",
       "  array([10990]),\n",
       "  array([10991]),\n",
       "  array([10992]),\n",
       "  array([11784]),\n",
       "  array([11785]),\n",
       "  array([11786]),\n",
       "  array([11787]),\n",
       "  array([11788]),\n",
       "  array([11789]),\n",
       "  array([11790]),\n",
       "  array([11791]),\n",
       "  array([11793]),\n",
       "  array([12457]),\n",
       "  array([12458]),\n",
       "  array([12459]),\n",
       "  array([12464]),\n",
       "  array([12465]),\n",
       "  array([12469]),\n",
       "  array([12470]),\n",
       "  array([12471]),\n",
       "  array([12472]),\n",
       "  array([12473]),\n",
       "  array([12474]),\n",
       "  array([12475]),\n",
       "  array([12476]),\n",
       "  array([12477]),\n",
       "  array([12478]),\n",
       "  array([12479]),\n",
       "  array([12480]),\n",
       "  array([12481]),\n",
       "  array([12482]),\n",
       "  array([12483]),\n",
       "  array([12484]),\n",
       "  array([12485]),\n",
       "  array([12486]),\n",
       "  array([12487]),\n",
       "  array([12488]),\n",
       "  array([12489]),\n",
       "  array([13019]),\n",
       "  array([13020]),\n",
       "  array([14533]),\n",
       "  array([14534]),\n",
       "  array([14535]),\n",
       "  array([14536]),\n",
       "  array([14537]),\n",
       "  array([14538]),\n",
       "  array([14539]),\n",
       "  array([14540]),\n",
       "  array([14541]),\n",
       "  array([14542]),\n",
       "  array([14543]),\n",
       "  array([14545]),\n",
       "  array([17416]),\n",
       "  array([17417]),\n",
       "  array([17418]),\n",
       "  array([17420]),\n",
       "  array([17428]),\n",
       "  array([17429]),\n",
       "  array([17430]),\n",
       "  array([17431]),\n",
       "  array([17432]),\n",
       "  array([18708]),\n",
       "  array([18709]),\n",
       "  array([23086]),\n",
       "  array([23087]),\n",
       "  array([23088]),\n",
       "  array([23089]),\n",
       "  array([23090]),\n",
       "  array([23091]),\n",
       "  array([26043]),\n",
       "  array([26044]),\n",
       "  array([26045]),\n",
       "  array([26690]),\n",
       "  array([29610]),\n",
       "  array([29611]),\n",
       "  array([29612]),\n",
       "  array([29613]),\n",
       "  array([29614]),\n",
       "  array([29615]),\n",
       "  array([29616]),\n",
       "  array([31435]),\n",
       "  array([31436]),\n",
       "  array([31440]),\n",
       "  array([31691]),\n",
       "  array([31692]),\n",
       "  array([33777]),\n",
       "  array([33778]),\n",
       "  array([33779]),\n",
       "  array([33780]),\n",
       "  array([33781]),\n",
       "  array([33782]),\n",
       "  array([33784]),\n",
       "  array([33785]),\n",
       "  array([33786]),\n",
       "  array([33787]),\n",
       "  array([33788]),\n",
       "  array([33789]),\n",
       "  array([33790]),\n",
       "  array([33791]),\n",
       "  array([33792]),\n",
       "  array([33793]),\n",
       "  array([33794]),\n",
       "  array([33795]),\n",
       "  array([33796]),\n",
       "  array([33797]),\n",
       "  array([33798]),\n",
       "  array([33799]),\n",
       "  array([33800]),\n",
       "  array([33801]),\n",
       "  array([33802]),\n",
       "  array([33803]),\n",
       "  array([33804]),\n",
       "  array([33805]),\n",
       "  array([33806]),\n",
       "  array([33807]),\n",
       "  array([33808]),\n",
       "  array([33809]),\n",
       "  array([33810]),\n",
       "  array([33811]),\n",
       "  array([33829]),\n",
       "  array([33893]),\n",
       "  array([36249]),\n",
       "  array([37766]),\n",
       "  array([37767]),\n",
       "  array([37768]),\n",
       "  array([37769]),\n",
       "  array([37770]),\n",
       "  array([37771]),\n",
       "  array([38171]),\n",
       "  array([38172]),\n",
       "  array([38173]),\n",
       "  array([38174]),\n",
       "  array([38175]),\n",
       "  array([38176]),\n",
       "  array([38177]),\n",
       "  array([38178]),\n",
       "  array([38179]),\n",
       "  array([38180]),\n",
       "  array([38181]),\n",
       "  array([38182]),\n",
       "  array([38183]),\n",
       "  array([38533]),\n",
       "  array([38537]),\n",
       "  array([38538]),\n",
       "  array([38539]),\n",
       "  array([38540]),\n",
       "  array([38541]),\n",
       "  array([39194]),\n",
       "  array([39196]),\n",
       "  array([39198]),\n",
       "  array([39199]),\n",
       "  array([39200]),\n",
       "  array([39202]),\n",
       "  array([39220]),\n",
       "  array([49170]),\n",
       "  array([49171]),\n",
       "  array([49172]),\n",
       "  array([49173]),\n",
       "  array([49174]),\n",
       "  array([49175]),\n",
       "  array([49176]),\n",
       "  array([49179]),\n",
       "  array([49180]),\n",
       "  array([49181]),\n",
       "  array([49182]),\n",
       "  array([49183]),\n",
       "  array([49184]),\n",
       "  array([49401]),\n",
       "  array([49402]),\n",
       "  array([49890]),\n",
       "  array([49891]),\n",
       "  array([49892]),\n",
       "  array([52851]),\n",
       "  array([52989]),\n",
       "  array([52990]),\n",
       "  array([52991]),\n",
       "  array([52992]),\n",
       "  array([52993]),\n",
       "  array([52994]),\n",
       "  array([52995]),\n",
       "  array([52996]),\n",
       "  array([52997]),\n",
       "  array([52998]),\n",
       "  array([52999]),\n",
       "  array([53000]),\n",
       "  array([60077]),\n",
       "  array([61100]),\n",
       "  array([61101]),\n",
       "  array([61102]),\n",
       "  array([61103]),\n",
       "  array([61104]),\n",
       "  array([61105]),\n",
       "  array([61106]),\n",
       "  array([61107]),\n",
       "  array([61108]),\n",
       "  array([61109]),\n",
       "  array([61110]),\n",
       "  array([61111]),\n",
       "  array([61112]),\n",
       "  array([61113]),\n",
       "  array([61114]),\n",
       "  array([61115]),\n",
       "  array([61116]),\n",
       "  array([61117]),\n",
       "  array([61118]),\n",
       "  array([61119]),\n",
       "  array([61120]),\n",
       "  array([61121]),\n",
       "  array([61122]),\n",
       "  array([61123]),\n",
       "  array([61124]),\n",
       "  array([61125]),\n",
       "  array([61126]),\n",
       "  array([61127]),\n",
       "  array([61128]),\n",
       "  array([61129]),\n",
       "  array([61130]),\n",
       "  array([61131]),\n",
       "  array([61132]),\n",
       "  array([61133]),\n",
       "  array([61134]),\n",
       "  array([61135]),\n",
       "  array([61136]),\n",
       "  array([61137]),\n",
       "  array([61138]),\n",
       "  array([61139]),\n",
       "  array([61140]),\n",
       "  array([61141]),\n",
       "  array([61142]),\n",
       "  array([61143]),\n",
       "  array([61144]),\n",
       "  array([61145]),\n",
       "  array([61146]),\n",
       "  array([61147]),\n",
       "  array([61148]),\n",
       "  array([61149]),\n",
       "  array([61150]),\n",
       "  array([61151]),\n",
       "  array([61152]),\n",
       "  array([61153]),\n",
       "  array([61154]),\n",
       "  array([61155]),\n",
       "  array([61156]),\n",
       "  array([61157]),\n",
       "  array([61158]),\n",
       "  array([61159]),\n",
       "  array([63974]),\n",
       "  array([63975]),\n",
       "  array([67525]),\n",
       "  array([67533]),\n",
       "  array([67534]),\n",
       "  array([67538]),\n",
       "  array([71740]),\n",
       "  array([71741]),\n",
       "  array([71742]),\n",
       "  array([71743]),\n",
       "  array([71744]),\n",
       "  array([71745]),\n",
       "  array([71751]),\n",
       "  array([71754]),\n",
       "  array([71757]),\n",
       "  array([71759]),\n",
       "  array([71761]),\n",
       "  array([71762]),\n",
       "  array([71763]),\n",
       "  array([71764]),\n",
       "  array([71765]),\n",
       "  array([71766]),\n",
       "  array([71767]),\n",
       "  array([71768]),\n",
       "  array([71769]),\n",
       "  array([71770]),\n",
       "  array([71771]),\n",
       "  array([71772]),\n",
       "  array([71773]),\n",
       "  array([71774]),\n",
       "  array([71782]),\n",
       "  array([71783]),\n",
       "  array([71784]),\n",
       "  array([71785]),\n",
       "  array([71786]),\n",
       "  array([71787]),\n",
       "  array([71788]),\n",
       "  array([71789]),\n",
       "  array([71790]),\n",
       "  array([71791]),\n",
       "  array([71792]),\n",
       "  array([71793]),\n",
       "  array([71794]),\n",
       "  array([71795]),\n",
       "  array([71796]),\n",
       "  array([71797]),\n",
       "  array([71798]),\n",
       "  array([71799]),\n",
       "  array([72190]),\n",
       "  array([73001]),\n",
       "  array([73002]),\n",
       "  array([73061]),\n",
       "  array([73090]),\n",
       "  array([73091]),\n",
       "  array([73092]),\n",
       "  array([73093]),\n",
       "  array([73094]),\n",
       "  array([73095]),\n",
       "  array([73096]),\n",
       "  array([73097]),\n",
       "  array([73098]),\n",
       "  array([73099]),\n",
       "  array([73100]),\n",
       "  array([73101]),\n",
       "  array([73102]),\n",
       "  array([73103]),\n",
       "  array([73104]),\n",
       "  array([73105]),\n",
       "  array([73116]),\n",
       "  array([73118]),\n",
       "  array([73121]),\n",
       "  array([73122]),\n",
       "  array([73123]),\n",
       "  array([73124]),\n",
       "  array([73125]),\n",
       "  array([73126]),\n",
       "  array([73127]),\n",
       "  array([73128]),\n",
       "  array([73129]),\n",
       "  array([73136]),\n",
       "  array([73140]),\n",
       "  array([73141]),\n",
       "  array([73142]),\n",
       "  array([73143]),\n",
       "  array([73144]),\n",
       "  array([73145]),\n",
       "  array([73146]),\n",
       "  array([73147]),\n",
       "  array([73148]),\n",
       "  array([73149])])"
      ]
     },
     "execution_count": 39,
     "metadata": {},
     "output_type": "execute_result"
    }
   ],
   "source": [
    "less_probable_value_count, idx_ap = count_no_of_points(score_samp,CI,\"test_anomaly_1.txt\")\n",
    "less_probable_value_count, idx_ap"
   ]
  }
 ],
 "metadata": {
  "kernelspec": {
   "display_name": "Python 2",
   "language": "python",
   "name": "python2"
  },
  "language_info": {
   "codemirror_mode": {
    "name": "ipython",
    "version": 2
   },
   "file_extension": ".py",
   "mimetype": "text/x-python",
   "name": "python",
   "nbconvert_exporter": "python",
   "pygments_lexer": "ipython2",
   "version": "2.7.13"
  }
 },
 "nbformat": 4,
 "nbformat_minor": 2
}
