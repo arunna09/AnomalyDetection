{
 "cells": [
  {
   "cell_type": "code",
   "execution_count": null,
   "metadata": {
    "collapsed": true
   },
   "outputs": [],
   "source": [
    "def MahalanobisDist(x, y):\n",
    "    covariance_xy = np.cov(x,y, rowvar=0)\n",
    "    inv_covariance_xy = np.linalg.inv(covariance_xy)\n",
    "    xy_mean = np.mean(x),np.mean(y)\n",
    "    x_diff = np.array([x_i - xy_mean[0] for x_i in x])\n",
    "    y_diff = np.array([y_i - xy_mean[1] for y_i in y])\n",
    "    diff_xy = np.transpose([x_diff, y_diff])\n",
    "    \n",
    "    md = []\n",
    "    for i in range(len(diff_xy)):\n",
    "        md.append(np.sqrt(np.dot(np.dot(np.transpose(diff_xy[i]),inv_covariance_xy),diff_xy[i])))\n",
    "    return md"
   ]
  },
  {
   "cell_type": "code",
   "execution_count": null,
   "metadata": {
    "collapsed": true
   },
   "outputs": [],
   "source": [
    "MahalanobisDist(x,y)"
   ]
  },
  {
   "cell_type": "code",
   "execution_count": null,
   "metadata": {
    "collapsed": true
   },
   "outputs": [],
   "source": [
    "def MD_removeOutliers(x, y):\n",
    "    MD = MahalanobisDist(x, y)\n",
    "    threshold = np.mean(MD) * 1.5 # adjust 1.5 accordingly \n",
    "    nx, ny, outliers = [], [], []\n",
    "    for i in range(len(MD)):\n",
    "        if MD[i] <= threshold:\n",
    "            nx.append(x[i])\n",
    "            ny.append(y[i])\n",
    "        else:\n",
    "            outliers.append(i) # position of removed pair\n",
    "    return (np.array(nx), np.array(ny), np.array(outliers))"
   ]
  },
  {
   "cell_type": "code",
   "execution_count": null,
   "metadata": {
    "collapsed": true
   },
   "outputs": [],
   "source": [
    "print 'x:', x\n",
    "print 'y:', y\n",
    "MD_removeOutliers(x,y)"
   ]
  },
  {
   "cell_type": "code",
   "execution_count": 5,
   "metadata": {
    "collapsed": false
   },
   "outputs": [
    {
     "data": {
      "text/plain": [
       "array([[ 1.,  0.],\n",
       "       [ 0.,  1.]])"
      ]
     },
     "execution_count": 5,
     "metadata": {},
     "output_type": "execute_result"
    }
   ],
   "source": [
    "covCircle = np.array([[1, 0.], [0., 1.]])\n",
    "covCircle"
   ]
  },
  {
   "cell_type": "code",
   "execution_count": 6,
   "metadata": {
    "collapsed": false
   },
   "outputs": [
    {
     "data": {
      "text/plain": [
       "array([[ 0.08932374, -0.45793839],\n",
       "       [ 0.20108188,  0.37761979],\n",
       "       [-0.47796064, -0.30509328],\n",
       "       ..., \n",
       "       [ 2.15853256,  0.72616998],\n",
       "       [-1.57933098,  1.86105663],\n",
       "       [ 0.51186841, -1.55774274]])"
      ]
     },
     "execution_count": 6,
     "metadata": {},
     "output_type": "execute_result"
    }
   ],
   "source": [
    "circle = np.random.multivariate_normal([0, 0], covCircle, 1000)\n",
    "circle"
   ]
  },
  {
   "cell_type": "markdown",
   "metadata": {},
   "source": [
    "Test and Example"
   ]
  },
  {
   "cell_type": "code",
   "execution_count": 4,
   "metadata": {
    "collapsed": false
   },
   "outputs": [
    {
     "data": {
      "image/png": "[encoded data removed]",
      "text/plain": [
       "<matplotlib.figure.Figure at 0x7f530c8f8f90>"
      ]
     },
     "metadata": {},
     "output_type": "display_data"
    }
   ],
   "source": [
    "import numpy as np\n",
    "import scipy.stats as stats\n",
    "import scipy.spatial.distance as distance\n",
    "import matplotlib.pyplot as plt\n",
    "chi2 = stats.chi2\n",
    "np.random.seed(111)\n",
    "\n",
    "\n",
    "#covariance matrix: X and Y are normally distributed with std of 1\n",
    "#and are independent one of another\n",
    "covCircle = np.array([[1, 0.], [0., 1.]])\n",
    "circle = np.random.multivariate_normal([0, 0], covCircle, 1000) #1000 points around [0, 0]\n",
    "mahalanobis = lambda p: distance.mahalanobis(p, [0, 0], covCircle.T)\n",
    "d = np.array(map(mahalanobis, circle)) #Mahalanobis distance values for the 1000 points\n",
    "d2 = d ** 2 #MD squared\n",
    "\n",
    "degrees_of_freedom = 2\n",
    "\n",
    "x = range( len( d2 ))\n",
    "\n",
    "plt.subplot(111)\n",
    "\n",
    "plt.scatter( x, d2 )\n",
    "\n",
    "plt.hlines( chi2.ppf(0.95, degrees_of_freedom), 0, len(d2), label =\"95% $\\chi^2$ quantile\", linestyles = \"solid\" ) \n",
    "plt.hlines( chi2.ppf(0.975, degrees_of_freedom), 0, len(d2), label =\"97.5% $\\chi^2$ quantile\", linestyles=\"dashed\" ) \n",
    "plt.hlines( chi2.ppf(0.99, degrees_of_freedom), 0, len(d2), label =\"99.5% $\\chi^2$ quantile\", linestyles = \"dotted\" )\n",
    "\n",
    "plt.legend()\n",
    "plt.ylabel(\"recorded value\")\n",
    "plt.xlabel(\"observation\")\n",
    "plt.title( 'Detection of outliers at different $\\chi^2$ quantiles' )\n",
    "\n",
    "plt.show()"
   ]
  },
  {
   "cell_type": "code",
   "execution_count": null,
   "metadata": {
    "collapsed": true
   },
   "outputs": [],
   "source": []
  }
 ],
 "metadata": {
  "kernelspec": {
   "display_name": "Python 2",
   "language": "python",
   "name": "python2"
  },
  "language_info": {
   "codemirror_mode": {
    "name": "ipython",
    "version": 2
   },
   "file_extension": ".py",
   "mimetype": "text/x-python",
   "name": "python",
   "nbconvert_exporter": "python",
   "pygments_lexer": "ipython2",
   "version": "2.7.13"
  }
 },
 "nbformat": 4,
 "nbformat_minor": 2
}
