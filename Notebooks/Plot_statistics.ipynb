{
 "cells": [
  {
   "cell_type": "code",
   "execution_count": null,
   "metadata": {
    "collapsed": true
   },
   "outputs": [],
   "source": [
    "def normalized(x):\n",
    "    y = (x-min(x))/(max(x)-min(x))\n",
    "    return y"
   ]
  },
  {
   "cell_type": "code",
   "execution_count": null,
   "metadata": {
    "collapsed": false
   },
   "outputs": [],
   "source": [
    "import pandas as pd\n",
    "import matplotlib.pyplot as plt\n",
    "%matplotlib inline\n",
    "\n",
    "df = pd.read_csv(\"stats_all.csv\",sep=',')\n",
    "#df.groupby('Location')\n",
    "#normalized_df = normalized(df)\n",
    "#print(normalized_df.head())\n",
    "#sns.pairplot(df.head(),hue = None)"
   ]
  },
  {
   "cell_type": "code",
   "execution_count": null,
   "metadata": {
    "collapsed": false
   },
   "outputs": [],
   "source": [
    "df.head()"
   ]
  },
  {
   "cell_type": "code",
   "execution_count": null,
   "metadata": {
    "collapsed": false
   },
   "outputs": [],
   "source": [
    "df['COUNT(1)'].min()"
   ]
  },
  {
   "cell_type": "code",
   "execution_count": null,
   "metadata": {
    "collapsed": false
   },
   "outputs": [],
   "source": [
    "df.iloc[0].plot(legend=False,kind='bar')"
   ]
  },
  {
   "cell_type": "code",
   "execution_count": null,
   "metadata": {
    "collapsed": false
   },
   "outputs": [],
   "source": [
    "df.iloc[0].plot(legend=False,kind='line')"
   ]
  },
  {
   "cell_type": "code",
   "execution_count": null,
   "metadata": {
    "collapsed": true
   },
   "outputs": [],
   "source": [
    "scatterplot(V,I) each dot a location\n"
   ]
  },
  {
   "cell_type": "code",
   "execution_count": null,
   "metadata": {
    "collapsed": false
   },
   "outputs": [],
   "source": [
    "plt.plot(df['AVG(V1)'],df['AVG(Pges)'],marker='o',linestyle='None')"
   ]
  },
  {
   "cell_type": "code",
   "execution_count": null,
   "metadata": {
    "collapsed": false
   },
   "outputs": [],
   "source": [
    "df.corr()"
   ]
  },
  {
   "cell_type": "code",
   "execution_count": null,
   "metadata": {
    "collapsed": true
   },
   "outputs": [],
   "source": [
    "data decorrelation\n",
    "data whitening\n",
    "PCA\n",
    "visualization\n",
    "add locations"
   ]
  },
  {
   "cell_type": "code",
   "execution_count": null,
   "metadata": {
    "collapsed": true
   },
   "outputs": [],
   "source": [
    "import sklearn.decomposition as sklearn_pca\n",
    "import pylab\n",
    "\n",
    "def pca_decomposition(X):\n",
    "    pca = sklearn_pca.PCA(n_components='mle')\n",
    "    reduced_X = pca.fit_transform(X) #Fit the model with X and apply the dimensionality reduction on X.\n",
    "    return reduced_X\n",
    "\n",
    "def plot_data(reduced_data, labels, title):\n",
    "    fig = plt.figure()\n",
    "    ax1 = fig.add_subplot(111)\n",
    "    \n",
    "    #ax1.scatter(reduced_data[:,:], reduced_data[:,1], c=labels, edgecolor='none', cmap=pylab.cm.cool)\n",
    "    color = ['b'] * (len(reduced_data) - 1) + ['r']\n",
    "    ax1.scatter(reduced_data[:,0], reduced_data[:,1], color=color, edgecolor='none', cmap=pylab.cm.cool)\n",
    "    ax1.set_title(title)\n",
    "    return fig"
   ]
  },
  {
   "cell_type": "code",
   "execution_count": null,
   "metadata": {
    "collapsed": false
   },
   "outputs": [],
   "source": [
    "import numpy as np\n",
    "import pandas as pd\n",
    "\n",
    "labels = np.zeros((1156,1))\n",
    "labels = labels + 1\n",
    "print(df.columns)\n",
    "print(df.columns[[0,1]])\n",
    "#df.drop(df.columns[[0, 1]], axis=1, inplace=True)\n",
    "\n",
    "print(df.head())\n",
    "\n",
    "#plot the data\n",
    "reduced_data = pca_decomposition(df)\n",
    "reduced_df = pd.DataFrame(reduced_data)\n",
    "reduced_df.to_csv(r'/home/arun/reduced_data.csv',header=True, index=True, mode='a', sep = ',')\n",
    "print(reduced_data)\n",
    "title = 'Original Data'\n",
    "fig = plot_data(reduced_data, labels, title)\n",
    "fig.show()"
   ]
  },
  {
   "cell_type": "code",
   "execution_count": null,
   "metadata": {
    "collapsed": true
   },
   "outputs": [],
   "source": []
  },
  {
   "cell_type": "code",
   "execution_count": null,
   "metadata": {
    "collapsed": true
   },
   "outputs": [],
   "source": []
  }
 ],
 "metadata": {
  "kernelspec": {
   "display_name": "Python 2",
   "language": "python",
   "name": "python2"
  },
  "language_info": {
   "codemirror_mode": {
    "name": "ipython",
    "version": 2
   },
   "file_extension": ".py",
   "mimetype": "text/x-python",
   "name": "python",
   "nbconvert_exporter": "python",
   "pygments_lexer": "ipython2",
   "version": "2.7.13"
  }
 },
 "nbformat": 4,
 "nbformat_minor": 1
}
