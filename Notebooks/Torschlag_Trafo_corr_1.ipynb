{
 "cells": [
  {
   "cell_type": "code",
   "execution_count": 1,
   "metadata": {
    "collapsed": true
   },
   "outputs": [],
   "source": [
    "import numpy as np # linear algebra\n",
    "import pandas as pd # data processing, CSV file I/O (e.g. pd.read_csv)\n",
    "import matplotlib as mpl\n",
    "import matplotlib.pyplot as plt\n",
    "import seaborn as sns\n",
    "%matplotlib inline"
   ]
  },
  {
   "cell_type": "code",
   "execution_count": 2,
   "metadata": {
    "collapsed": false
   },
   "outputs": [
    {
     "data": {
      "text/plain": [
       "u'0.19.2'"
      ]
     },
     "execution_count": 2,
     "metadata": {},
     "output_type": "execute_result"
    }
   ],
   "source": [
    "pd.__version__ #pandas version"
   ]
  },
  {
   "cell_type": "markdown",
   "metadata": {},
   "source": [
    "# Establish Connection to DB through SSH"
   ]
  },
  {
   "cell_type": "code",
   "execution_count": 3,
   "metadata": {
    "collapsed": false
   },
   "outputs": [],
   "source": [
    "from sshtunnel import SSHTunnelForwarder\n",
    "import MySQLdb as db\n",
    "import pandas as pd\n",
    "import sys\n",
    "import logging\n",
    "#logging.basicConfig(stream=sys.stdout, level=logging.DEBUG) \n",
    "import paramiko\n",
    "#ssh = paramiko.SSHClient()\n",
    "#ssh.set_missing_host_key_policy(paramiko.AutoAddPolicy())\n",
    "#ssh.connect('ssicluster2.tk.informatik.tu-darmstadt.de',port = 12822, username='arun',password='ArunDss@123',allow_agent=False,look_for_keys=False)\n",
    "localhost = '127.0.0.1'\n",
    "user = 'root'\n",
    "password='kUrsVbpyfFWF'\n",
    "database = 'Energy_AD'\n",
    "def query(q):\n",
    "     with SSHTunnelForwarder(\n",
    "          ('ssicluster2.tk.informatik.tu-darmstadt.de', 12822),\n",
    "          allow_agent=False,\n",
    "          ssh_username='arun',\n",
    "          ssh_password = 'ArunDss@123',\n",
    "          #remote_bind_address=('130.83.163.8', 3306)\n",
    "          remote_bind_address=('127.0.0.1', 3306)\n",
    "           \n",
    "     ) as server:\n",
    "          conn = db.connect(host=localhost,\n",
    "          port=server.local_bind_port,\n",
    "          user=user,\n",
    "          passwd=password,\n",
    "          db=database)\n",
    "\n",
    "          return pd.read_sql_query(q, conn)"
   ]
  },
  {
   "cell_type": "markdown",
   "metadata": {},
   "source": [
    "# Run the desired query "
   ]
  },
  {
   "cell_type": "code",
   "execution_count": 4,
   "metadata": {
    "collapsed": false
   },
   "outputs": [
    {
     "name": "stdout",
     "output_type": "stream",
     "text": [
      "Start date and time using str method of datetime object:\n",
      "2017-03-11 19:36:54.760921\n",
      "SELECT * FROM energy_sample_data1 where location like 'Torschlag_Trafo%' ORDER BY Serial_no LIMIT 518401 OFFSET 0\n",
      "SELECT * FROM energy_sample_data1 where location like 'Torschlag_Trafo%' ORDER BY Serial_no LIMIT 518401 OFFSET 518401\n",
      "SELECT * FROM energy_sample_data1 where location like 'Torschlag_Trafo%' ORDER BY Serial_no LIMIT 518401 OFFSET 1036802\n",
      "SELECT * FROM energy_sample_data1 where location like 'Torschlag_Trafo%' ORDER BY Serial_no LIMIT 518401 OFFSET 1555203\n",
      "SELECT * FROM energy_sample_data1 where location like 'Torschlag_Trafo%' ORDER BY Serial_no LIMIT 518401 OFFSET 2073604\n",
      "SELECT * FROM energy_sample_data1 where location like 'Torschlag_Trafo%' ORDER BY Serial_no LIMIT 518401 OFFSET 2592005\n",
      "SELECT * FROM energy_sample_data1 where location like 'Torschlag_Trafo%' ORDER BY Serial_no LIMIT 518401 OFFSET 3110406\n",
      "SELECT * FROM energy_sample_data1 where location like 'Torschlag_Trafo%' ORDER BY Serial_no LIMIT 518401 OFFSET 3628807\n",
      "SELECT * FROM energy_sample_data1 where location like 'Torschlag_Trafo%' ORDER BY Serial_no LIMIT 518401 OFFSET 4147208\n",
      "SELECT * FROM energy_sample_data1 where location like 'Torschlag_Trafo%' ORDER BY Serial_no LIMIT 518401 OFFSET 4665609\n",
      "SELECT * FROM energy_sample_data1 where location like 'Torschlag_Trafo%' ORDER BY Serial_no LIMIT 518401 OFFSET 5184010\n",
      "Query executed\n",
      "Concatenating....\n",
      "End date and time using str method of datetime object:\n",
      "2017-03-11 20:11:16.706867\n",
      "Execution Completed\n"
     ]
    }
   ],
   "source": [
    "#!/home/arun/anaconda2/bin/python\n",
    "import MySQLdb as db1\n",
    "import pandas as pd\n",
    "import datetime\n",
    "import pandas.io.sql as psql\n",
    "\n",
    "now = datetime.datetime.now()\n",
    "print \"Start date and time using str method of datetime object:\"\n",
    "print str(now)\n",
    "\n",
    "chunk_size = 518401\n",
    "offset = 0\n",
    "location = 'Torschlag_Trafo' + '%'\n",
    "list_data = []\n",
    "#Uncomment and run the below query to read all the data of particular location\n",
    "while True:\n",
    "    q = (\"SELECT * FROM energy_sample_data1 where location like '%s' ORDER BY Serial_no LIMIT %s OFFSET %s\" % (location,chunk_size,offset))\n",
    "    print(q)\n",
    "    list_data.append(query(q))\n",
    "    offset += chunk_size\n",
    "    if len(list_data[-1]) < chunk_size:\n",
    "        break\n",
    "print(\"Query executed\")\n",
    "print(\"Concatenating....\")\n",
    "dfs = pd.concat(list_data)\n",
    "\n",
    "#To read only specific rows of data\n",
    "#q = (\"SELECT * FROM energy_sample_data1 where location like '%s' ORDER BY Serial_no LIMIT %s\" % (location,chunk_size))\n",
    "#print(q)\n",
    "#list_data.append(query(q))\n",
    "#dfs = pd.concat(list_data)\n",
    "\n",
    "\n",
    "\n",
    "now1 = datetime.datetime.now()\n",
    "print \"End date and time using str method of datetime object:\"\n",
    "print str(now1)\n",
    "\n",
    "print(\"Execution Completed\")\n",
    "\n",
    "\n",
    "\n",
    "\n",
    "\n"
   ]
  },
  {
   "cell_type": "code",
   "execution_count": 5,
   "metadata": {
    "collapsed": false
   },
   "outputs": [
    {
     "data": {
      "text/plain": [
       "(5518987, 16)"
      ]
     },
     "execution_count": 5,
     "metadata": {},
     "output_type": "execute_result"
    }
   ],
   "source": [
    "dfs.shape"
   ]
  },
  {
   "cell_type": "code",
   "execution_count": 6,
   "metadata": {
    "collapsed": false
   },
   "outputs": [
    {
     "data": {
      "text/html": [
       "<div>\n",
       "<table border=\"1\" class=\"dataframe\">\n",
       "  <thead>\n",
       "    <tr style=\"text-align: right;\">\n",
       "      <th></th>\n",
       "      <th>Serial_no</th>\n",
       "      <th>Date</th>\n",
       "      <th>Time</th>\n",
       "      <th>V1</th>\n",
       "      <th>V2</th>\n",
       "      <th>V3</th>\n",
       "      <th>I1</th>\n",
       "      <th>I2</th>\n",
       "      <th>I3</th>\n",
       "      <th>I_N</th>\n",
       "      <th>Pges</th>\n",
       "      <th>Sges</th>\n",
       "      <th>CosPhi</th>\n",
       "      <th>Egy_trpt</th>\n",
       "      <th>Egy_con</th>\n",
       "      <th>Location</th>\n",
       "    </tr>\n",
       "  </thead>\n",
       "  <tbody>\n",
       "    <tr>\n",
       "      <th>334972</th>\n",
       "      <td>70831416</td>\n",
       "      <td>2015-12-31</td>\n",
       "      <td>23:59:55</td>\n",
       "      <td>237.51</td>\n",
       "      <td>237.14</td>\n",
       "      <td>236.98</td>\n",
       "      <td>10.42</td>\n",
       "      <td>17.51</td>\n",
       "      <td>11.98</td>\n",
       "      <td>10.17</td>\n",
       "      <td>9118.33</td>\n",
       "      <td>9458.78</td>\n",
       "      <td>0.94</td>\n",
       "      <td>20349.0</td>\n",
       "      <td>13965090.56</td>\n",
       "      <td>Torschlag_Trafo_31122015.csv</td>\n",
       "    </tr>\n",
       "    <tr>\n",
       "      <th>334973</th>\n",
       "      <td>70831417</td>\n",
       "      <td>2015-12-31</td>\n",
       "      <td>23:59:56</td>\n",
       "      <td>237.33</td>\n",
       "      <td>236.93</td>\n",
       "      <td>236.78</td>\n",
       "      <td>10.46</td>\n",
       "      <td>17.50</td>\n",
       "      <td>11.92</td>\n",
       "      <td>10.17</td>\n",
       "      <td>9099.92</td>\n",
       "      <td>9445.64</td>\n",
       "      <td>0.94</td>\n",
       "      <td>20349.0</td>\n",
       "      <td>13965100.80</td>\n",
       "      <td>Torschlag_Trafo_31122015.csv</td>\n",
       "    </tr>\n",
       "    <tr>\n",
       "      <th>334974</th>\n",
       "      <td>70831418</td>\n",
       "      <td>2015-12-31</td>\n",
       "      <td>23:59:57</td>\n",
       "      <td>237.33</td>\n",
       "      <td>236.93</td>\n",
       "      <td>236.78</td>\n",
       "      <td>10.46</td>\n",
       "      <td>17.50</td>\n",
       "      <td>11.92</td>\n",
       "      <td>10.17</td>\n",
       "      <td>9099.92</td>\n",
       "      <td>9445.64</td>\n",
       "      <td>0.94</td>\n",
       "      <td>20349.0</td>\n",
       "      <td>13965100.80</td>\n",
       "      <td>Torschlag_Trafo_31122015.csv</td>\n",
       "    </tr>\n",
       "    <tr>\n",
       "      <th>334975</th>\n",
       "      <td>70831419</td>\n",
       "      <td>2015-12-31</td>\n",
       "      <td>23:59:58</td>\n",
       "      <td>237.33</td>\n",
       "      <td>236.93</td>\n",
       "      <td>236.78</td>\n",
       "      <td>10.46</td>\n",
       "      <td>17.50</td>\n",
       "      <td>11.92</td>\n",
       "      <td>10.17</td>\n",
       "      <td>9099.92</td>\n",
       "      <td>9445.64</td>\n",
       "      <td>0.94</td>\n",
       "      <td>20349.0</td>\n",
       "      <td>13965100.80</td>\n",
       "      <td>Torschlag_Trafo_31122015.csv</td>\n",
       "    </tr>\n",
       "    <tr>\n",
       "      <th>334976</th>\n",
       "      <td>70831420</td>\n",
       "      <td>2015-12-31</td>\n",
       "      <td>23:59:59</td>\n",
       "      <td>237.33</td>\n",
       "      <td>236.93</td>\n",
       "      <td>236.78</td>\n",
       "      <td>10.46</td>\n",
       "      <td>17.50</td>\n",
       "      <td>11.92</td>\n",
       "      <td>13.29</td>\n",
       "      <td>9099.92</td>\n",
       "      <td>9445.64</td>\n",
       "      <td>0.94</td>\n",
       "      <td>20349.0</td>\n",
       "      <td>13965100.80</td>\n",
       "      <td>Torschlag_Trafo_31122015.csv</td>\n",
       "    </tr>\n",
       "  </tbody>\n",
       "</table>\n",
       "</div>"
      ],
      "text/plain": [
       "        Serial_no        Date     Time      V1      V2      V3     I1     I2  \\\n",
       "334972   70831416  2015-12-31 23:59:55  237.51  237.14  236.98  10.42  17.51   \n",
       "334973   70831417  2015-12-31 23:59:56  237.33  236.93  236.78  10.46  17.50   \n",
       "334974   70831418  2015-12-31 23:59:57  237.33  236.93  236.78  10.46  17.50   \n",
       "334975   70831419  2015-12-31 23:59:58  237.33  236.93  236.78  10.46  17.50   \n",
       "334976   70831420  2015-12-31 23:59:59  237.33  236.93  236.78  10.46  17.50   \n",
       "\n",
       "           I3    I_N     Pges     Sges  CosPhi  Egy_trpt      Egy_con  \\\n",
       "334972  11.98  10.17  9118.33  9458.78    0.94   20349.0  13965090.56   \n",
       "334973  11.92  10.17  9099.92  9445.64    0.94   20349.0  13965100.80   \n",
       "334974  11.92  10.17  9099.92  9445.64    0.94   20349.0  13965100.80   \n",
       "334975  11.92  10.17  9099.92  9445.64    0.94   20349.0  13965100.80   \n",
       "334976  11.92  13.29  9099.92  9445.64    0.94   20349.0  13965100.80   \n",
       "\n",
       "                            Location  \n",
       "334972  Torschlag_Trafo_31122015.csv  \n",
       "334973  Torschlag_Trafo_31122015.csv  \n",
       "334974  Torschlag_Trafo_31122015.csv  \n",
       "334975  Torschlag_Trafo_31122015.csv  \n",
       "334976  Torschlag_Trafo_31122015.csv  "
      ]
     },
     "execution_count": 6,
     "metadata": {},
     "output_type": "execute_result"
    }
   ],
   "source": [
    "dfs.tail()"
   ]
  },
  {
   "cell_type": "code",
   "execution_count": 9,
   "metadata": {
    "collapsed": false
   },
   "outputs": [
    {
     "data": {
      "text/plain": [
       "Index([u'Serial_no', u'Date', u'Time', u'V1', u'V2', u'V3', u'I1', u'I2',\n",
       "       u'I3', u'I_N', u'Pges', u'Sges', u'CosPhi', u'Egy_trpt', u'Egy_con',\n",
       "       u'Location'],\n",
       "      dtype='object')"
      ]
     },
     "execution_count": 9,
     "metadata": {},
     "output_type": "execute_result"
    }
   ],
   "source": [
    "dfs.columns"
   ]
  },
  {
   "cell_type": "code",
   "execution_count": 14,
   "metadata": {
    "collapsed": false
   },
   "outputs": [],
   "source": [
    "df_filt = dfs[['V1', 'V2', 'V3', 'I1', 'I2','I3', 'Pges', 'Sges', 'CosPhi']]"
   ]
  },
  {
   "cell_type": "code",
   "execution_count": 15,
   "metadata": {
    "collapsed": false
   },
   "outputs": [
    {
     "data": {
      "text/plain": [
       "(5518987, 9)"
      ]
     },
     "execution_count": 15,
     "metadata": {},
     "output_type": "execute_result"
    }
   ],
   "source": [
    "df_filt.shape"
   ]
  },
  {
   "cell_type": "markdown",
   "metadata": {},
   "source": [
    "# Read the saved CSV\n"
   ]
  },
  {
   "cell_type": "code",
   "execution_count": 8,
   "metadata": {
    "collapsed": false
   },
   "outputs": [],
   "source": [
    "dfs = pd.to_csv('Torschlag_df.csv',sep=',')"
   ]
  },
  {
   "cell_type": "code",
   "execution_count": null,
   "metadata": {
    "collapsed": false
   },
   "outputs": [],
   "source": [
    "dfs.shape #DataFrame containing all fields of Siedlerstr_Trafo"
   ]
  },
  {
   "cell_type": "code",
   "execution_count": null,
   "metadata": {
    "collapsed": true
   },
   "outputs": [],
   "source": [
    "columns_list = dfs.columns"
   ]
  },
  {
   "cell_type": "markdown",
   "metadata": {},
   "source": [
    "# Run the below code when data is read from SQL"
   ]
  },
  {
   "cell_type": "code",
   "execution_count": null,
   "metadata": {
    "collapsed": false
   },
   "outputs": [],
   "source": [
    "cols = 'DESC energy_sample_data1 '\n",
    "columns_list = query(cols)"
   ]
  },
  {
   "cell_type": "code",
   "execution_count": null,
   "metadata": {
    "collapsed": false
   },
   "outputs": [],
   "source": [
    "cols_sql = pd.DataFrame(columns_list)\n",
    "print(\"Columns names:\")\n",
    "print(cols_sql.iloc[:,0])"
   ]
  },
  {
   "cell_type": "code",
   "execution_count": null,
   "metadata": {
    "collapsed": false
   },
   "outputs": [],
   "source": [
    "#df_cols = cols_sql.iloc[:,0] # use this to read columns from sql\n",
    "#columns_names= df_cols.tolist()\n",
    "\n",
    "print(\"Columns names:\")\n",
    "print(dfs.columns.tolist())"
   ]
  },
  {
   "cell_type": "code",
   "execution_count": null,
   "metadata": {
    "collapsed": false
   },
   "outputs": [],
   "source": [
    "import gc\n",
    "gc.collect()\n",
    "#dfs.iloc[0:2500000][1:].corr()\n",
    "#dfs.ix[0:2500000,'Serial_no':].corr()"
   ]
  },
  {
   "cell_type": "code",
   "execution_count": null,
   "metadata": {
    "collapsed": false
   },
   "outputs": [],
   "source": [
    "dfs.corr()"
   ]
  },
  {
   "cell_type": "code",
   "execution_count": null,
   "metadata": {
    "collapsed": false
   },
   "outputs": [],
   "source": [
    "correlation = dfs.corr()\n",
    "#plt.figure(figsize=(13,13))\n",
    "fig = plt.figure(figsize=(15,15)) \n",
    "sns.heatmap(correlation, vmax=1, square=True,annot=True,cmap='cubehelix')\n",
    "\n",
    "plt.title('Correlation between columns')\n",
    "\n",
    "fig.savefig('Correlation_part1 Torschlag_Trafo_upto_518400.png')"
   ]
  },
  {
   "cell_type": "markdown",
   "metadata": {},
   "source": [
    "# Statistics calculation implementation"
   ]
  },
  {
   "cell_type": "markdown",
   "metadata": {},
   "source": [
    "# Plot statistics by grouping location "
   ]
  },
  {
   "cell_type": "code",
   "execution_count": null,
   "metadata": {
    "collapsed": false
   },
   "outputs": [],
   "source": [
    "dfs_loc = dfs.groupby('Location') # groupby location wise\n",
    "#df_loc_part1 = dfs_drop_part1.groupby('Location') # groupby location wise"
   ]
  },
  {
   "cell_type": "markdown",
   "metadata": {},
   "source": [
    "# Describe() : Produces the basic statistics of the DataFrame"
   ]
  },
  {
   "cell_type": "code",
   "execution_count": null,
   "metadata": {
    "collapsed": false
   },
   "outputs": [],
   "source": [
    "dfs.drop(labels=['Time','Serial_no'],axis=1).describe()"
   ]
  },
  {
   "cell_type": "markdown",
   "metadata": {},
   "source": [
    "# Saving the basic statistics to csv"
   ]
  },
  {
   "cell_type": "code",
   "execution_count": null,
   "metadata": {
    "collapsed": true
   },
   "outputs": [],
   "source": [
    "dfs.drop(labels=['Time','Serial_no'],axis=1).describe().to_csv(r'Torschlag_Trafo_upto_518400_describe.csv',sep=',')"
   ]
  },
  {
   "cell_type": "code",
   "execution_count": null,
   "metadata": {
    "collapsed": false
   },
   "outputs": [],
   "source": [
    "#dfs.iloc[0:500000][:].describe().to_csv(r'Torschlag_Trafo_corr_desc_1.csv',sep=',')"
   ]
  },
  {
   "cell_type": "code",
   "execution_count": null,
   "metadata": {
    "collapsed": false
   },
   "outputs": [],
   "source": [
    "#dfs.iloc[500000:1000000][:].describe().to_csv(r'Torschlag_Trafo_corr_desc_2.csv',sep=',')"
   ]
  },
  {
   "cell_type": "code",
   "execution_count": null,
   "metadata": {
    "collapsed": false
   },
   "outputs": [],
   "source": [
    "#dfs.iloc[1000000:1500000][:].describe().to_csv(r'Torschlag_Trafo_corr_desc_3.csv',sep=',')"
   ]
  },
  {
   "cell_type": "code",
   "execution_count": null,
   "metadata": {
    "collapsed": false
   },
   "outputs": [],
   "source": [
    "#dfs.iloc[1500000:2000000][:].describe().to_csv(r'Torschlag_Trafo_corr_desc_4.csv',sep=',')"
   ]
  },
  {
   "cell_type": "code",
   "execution_count": null,
   "metadata": {
    "collapsed": false
   },
   "outputs": [],
   "source": [
    "#dfs.iloc[2000000:2500000][:].describe().to_csv(r'Torschlag_Trafo_corr_desc_5.csv',sep=',')"
   ]
  },
  {
   "cell_type": "code",
   "execution_count": null,
   "metadata": {
    "collapsed": false
   },
   "outputs": [],
   "source": [
    "#dfs.iloc[2500000:3000000][:].describe().to_csv(r'Torschlag_Trafo_corr_desc_6.csv',sep=',')"
   ]
  },
  {
   "cell_type": "code",
   "execution_count": null,
   "metadata": {
    "collapsed": false
   },
   "outputs": [],
   "source": [
    "#dfs.iloc[3000000:3500000][:].describe().to_csv(r'Torschlag_Trafo_corr_desc_7.csv',sep=',')"
   ]
  },
  {
   "cell_type": "code",
   "execution_count": null,
   "metadata": {
    "collapsed": false
   },
   "outputs": [],
   "source": [
    "#dfs.iloc[3500000:4000000][:].describe().to_csv(r'Torschlag_Trafo_corr_desc_8.csv',sep=',')"
   ]
  },
  {
   "cell_type": "code",
   "execution_count": null,
   "metadata": {
    "collapsed": false
   },
   "outputs": [],
   "source": [
    "#dfs.iloc[4000000:4500000][:].describe().to_csv(r'Torschlag_Trafo_corr_desc_9.csv',sep=',')"
   ]
  },
  {
   "cell_type": "code",
   "execution_count": null,
   "metadata": {
    "collapsed": false
   },
   "outputs": [],
   "source": [
    "#dfs.iloc[4500000:-1][:].describe().to_csv(r'Torschlag_Trafo_corr_last.csv',sep=',')"
   ]
  },
  {
   "cell_type": "markdown",
   "metadata": {},
   "source": [
    "# Below you will calculate the correlation on the data grouped by location"
   ]
  },
  {
   "cell_type": "code",
   "execution_count": null,
   "metadata": {
    "collapsed": false
   },
   "outputs": [],
   "source": [
    "#dfs_grp_loc = dfs.iloc[0:500000][:]"
   ]
  },
  {
   "cell_type": "code",
   "execution_count": null,
   "metadata": {
    "collapsed": false
   },
   "outputs": [],
   "source": [
    "#dfs_grp_loc.groupby('Location').describe()"
   ]
  },
  {
   "cell_type": "code",
   "execution_count": null,
   "metadata": {
    "collapsed": false
   },
   "outputs": [],
   "source": [
    "#dfs.iloc[500000:1000000][:].groupby('Location').describe()"
   ]
  },
  {
   "cell_type": "code",
   "execution_count": null,
   "metadata": {
    "collapsed": false
   },
   "outputs": [],
   "source": [
    "dfs_loc.corr(method='pearson', min_periods=1)"
   ]
  },
  {
   "cell_type": "code",
   "execution_count": null,
   "metadata": {
    "collapsed": false
   },
   "outputs": [],
   "source": [
    "dfs_loc.hist(bins=5,figsize=(15,15))\n",
    "plt.savefig('Torschlag_trafo_pearson_corr_groupby_location_upto_518400.png')\n",
    "plt.show()\n"
   ]
  },
  {
   "cell_type": "markdown",
   "metadata": {},
   "source": [
    "# Compute only the mean of the data grouped by location and visualize"
   ]
  },
  {
   "cell_type": "code",
   "execution_count": null,
   "metadata": {
    "collapsed": false
   },
   "outputs": [],
   "source": [
    "df_st_mean = dfs_loc.mean()\n",
    "df_st_mean"
   ]
  },
  {
   "cell_type": "code",
   "execution_count": null,
   "metadata": {
    "collapsed": true
   },
   "outputs": [],
   "source": [
    "df_st_mean.to_csv(r'Torschlag_trafo_mean_groupby_location_upto_518400.csv',sep=',')"
   ]
  },
  {
   "cell_type": "markdown",
   "metadata": {},
   "source": [
    "# Plot the groupby location "
   ]
  },
  {
   "cell_type": "code",
   "execution_count": null,
   "metadata": {
    "collapsed": false
   },
   "outputs": [],
   "source": [
    "fig1,ax2 = plt.subplots(figsize=(6,15))\n",
    "bp = dfs_loc.plot(kind='kde', ax2 = ax2, legend=False)\n"
   ]
  },
  {
   "cell_type": "markdown",
   "metadata": {
    "collapsed": true
   },
   "source": [
    "# PCA implementation"
   ]
  },
  {
   "cell_type": "code",
   "execution_count": null,
   "metadata": {
    "collapsed": true
   },
   "outputs": [],
   "source": [
    "dfs_drop = dfs.drop(labels=['Serial_no', 'Date', 'Time','Location'],axis=1)"
   ]
  },
  {
   "cell_type": "code",
   "execution_count": null,
   "metadata": {
    "collapsed": false
   },
   "outputs": [],
   "source": [
    "dfs_drop.columns"
   ]
  },
  {
   "cell_type": "code",
   "execution_count": null,
   "metadata": {
    "collapsed": false
   },
   "outputs": [],
   "source": [
    "X = dfs_drop.iloc[:,0:6].values\n",
    "X"
   ]
  },
  {
   "cell_type": "code",
   "execution_count": null,
   "metadata": {
    "collapsed": true
   },
   "outputs": [],
   "source": [
    "from sklearn.preprocessing import StandardScaler\n",
    "X_std = StandardScaler().fit_transform(X)"
   ]
  },
  {
   "cell_type": "code",
   "execution_count": null,
   "metadata": {
    "collapsed": true
   },
   "outputs": [],
   "source": [
    "from sklearn.decomposition import PCA \n",
    "sklearn_pca = PCA(n_components=6)\n",
    "Y_sklearn = sklearn_pca.fit_transform(X_std)"
   ]
  },
  {
   "cell_type": "code",
   "execution_count": null,
   "metadata": {
    "collapsed": false
   },
   "outputs": [],
   "source": [
    "Y_sklearn.shape"
   ]
  },
  {
   "cell_type": "code",
   "execution_count": null,
   "metadata": {
    "collapsed": false
   },
   "outputs": [],
   "source": [
    "n_components = pd.DataFrame(Y_sklearn, columns=('V1', 'V2', 'V3', 'I1', 'I2', 'I3'))\n",
    "n_components.head()"
   ]
  },
  {
   "cell_type": "code",
   "execution_count": null,
   "metadata": {
    "collapsed": false
   },
   "outputs": [],
   "source": [
    "fig = plt.figure() \n",
    "plt.legend(loc='upper right')\n",
    "plt.plot(n_components)\n",
    "plt.title(\"PCA of Torschlag_trafo_upto_518400\")\n",
    "\n",
    "fig.savefig('PCA of Torschlag_trafo_upto_518400.png')\n"
   ]
  },
  {
   "cell_type": "code",
   "execution_count": null,
   "metadata": {
    "collapsed": false
   },
   "outputs": [],
   "source": []
  },
  {
   "cell_type": "code",
   "execution_count": null,
   "metadata": {
    "collapsed": true
   },
   "outputs": [],
   "source": []
  }
 ],
 "metadata": {
  "kernelspec": {
   "display_name": "Python 2",
   "language": "python",
   "name": "python2"
  },
  "language_info": {
   "codemirror_mode": {
    "name": "ipython",
    "version": 2
   },
   "file_extension": ".py",
   "mimetype": "text/x-python",
   "name": "python",
   "nbconvert_exporter": "python",
   "pygments_lexer": "ipython2",
   "version": "2.7.13"
  }
 },
 "nbformat": 4,
 "nbformat_minor": 1
}
