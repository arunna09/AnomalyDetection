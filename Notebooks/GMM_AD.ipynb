{
 "cells": [
  {
   "cell_type": "markdown",
   "metadata": {},
   "source": [
    "1. Import all the necessary libraries.\n",
    "2. Load the dataset.\n",
    "3. Preprocess the data.\n",
    "4. Determine the number of Gaussian mixtures(n_components) to use by computing the BIC score.\n",
    "5. Fit the model\n",
    "6. Detect the anomaly by using some anomaly metric.\n",
    "    For example: If the non-anomalous data is Gaussian with some mean and variance, the points that receive low probability assignments under the chosen prior may be flagged as anomalous. "
   ]
  },
  {
   "cell_type": "markdown",
   "metadata": {},
   "source": [
    "** STEP 1 **"
   ]
  },
  {
   "cell_type": "code",
   "execution_count": 1,
   "metadata": {
    "collapsed": false
   },
   "outputs": [],
   "source": [
    "import numpy as np\n",
    "import pandas as pd\n",
    "import matplotlib.pyplot as plt\n",
    "import matplotlib.mlab as mlab\n",
    "from mpl_toolkits.mplot3d import Axes3D\n",
    "import sklearn\n",
    "from sklearn import mixture\n",
    "\n",
    "from sklearn.preprocessing import StandardScaler\n",
    "from sklearn.mixture import GaussianMixture\n",
    "%matplotlib inline"
   ]
  },
  {
   "cell_type": "code",
   "execution_count": 2,
   "metadata": {
    "collapsed": false
   },
   "outputs": [],
   "source": [
    "import itertools\n",
    "from scipy import linalg\n",
    "import matplotlib as mpl"
   ]
  },
  {
   "cell_type": "markdown",
   "metadata": {},
   "source": [
    "**STEP 2**"
   ]
  },
  {
   "cell_type": "markdown",
   "metadata": {},
   "source": [
    "csv = pd.read_csv('data/Torschlag_Trafo_07122015_to_11122015.csv', sep=',')\n",
    "train, test = sklearn.model_selection.train_test_split(csv, train_size = 0.8)"
   ]
  },
  {
   "cell_type": "markdown",
   "metadata": {},
   "source": [
    "train.to_csv('data/Train_data_07_11_2015.csv',sep=',')"
   ]
  },
  {
   "cell_type": "markdown",
   "metadata": {},
   "source": [
    "test.to_csv('data/Test_data_07_11_2015.csv',sep=',')"
   ]
  },
  {
   "cell_type": "code",
   "execution_count": 3,
   "metadata": {
    "collapsed": false
   },
   "outputs": [],
   "source": [
    "#df = pd.read_csv('Torschlag_Trafo_07122015_to_11122015.csv', sep=',')\n",
    "train_data = pd.read_csv('data/Train_data_07_11_2015.csv', sep=',')\n",
    "test_data = pd.read_csv('data/Test_data_07_11_2015.csv', sep=',')"
   ]
  },
  {
   "cell_type": "code",
   "execution_count": 4,
   "metadata": {
    "collapsed": false
   },
   "outputs": [
    {
     "data": {
      "text/html": [
       "<div>\n",
       "<table border=\"1\" class=\"dataframe\">\n",
       "  <thead>\n",
       "    <tr style=\"text-align: right;\">\n",
       "      <th></th>\n",
       "      <th>Date</th>\n",
       "      <th>Time</th>\n",
       "      <th>V1</th>\n",
       "      <th>V2</th>\n",
       "      <th>V3</th>\n",
       "      <th>I1</th>\n",
       "      <th>I2</th>\n",
       "      <th>I3</th>\n",
       "      <th>I_N</th>\n",
       "      <th>Pges</th>\n",
       "      <th>Sges</th>\n",
       "      <th>CosPhi</th>\n",
       "    </tr>\n",
       "  </thead>\n",
       "  <tbody>\n",
       "    <tr>\n",
       "      <th>0</th>\n",
       "      <td>2015-12-09</td>\n",
       "      <td>21:24:31</td>\n",
       "      <td>235.36</td>\n",
       "      <td>234.91</td>\n",
       "      <td>234.61</td>\n",
       "      <td>7.67</td>\n",
       "      <td>16.63</td>\n",
       "      <td>20.32</td>\n",
       "      <td>14.25</td>\n",
       "      <td>9772.93</td>\n",
       "      <td>10469.60</td>\n",
       "      <td>0.88</td>\n",
       "    </tr>\n",
       "    <tr>\n",
       "      <th>1</th>\n",
       "      <td>2015-12-10</td>\n",
       "      <td>23:36:33</td>\n",
       "      <td>237.36</td>\n",
       "      <td>237.05</td>\n",
       "      <td>236.52</td>\n",
       "      <td>7.29</td>\n",
       "      <td>16.73</td>\n",
       "      <td>17.95</td>\n",
       "      <td>16.81</td>\n",
       "      <td>9289.21</td>\n",
       "      <td>9941.19</td>\n",
       "      <td>0.88</td>\n",
       "    </tr>\n",
       "    <tr>\n",
       "      <th>2</th>\n",
       "      <td>2015-12-08</td>\n",
       "      <td>08:28:08</td>\n",
       "      <td>231.31</td>\n",
       "      <td>230.40</td>\n",
       "      <td>230.85</td>\n",
       "      <td>119.50</td>\n",
       "      <td>137.19</td>\n",
       "      <td>126.95</td>\n",
       "      <td>24.70</td>\n",
       "      <td>83781.78</td>\n",
       "      <td>88599.25</td>\n",
       "      <td>0.94</td>\n",
       "    </tr>\n",
       "    <tr>\n",
       "      <th>3</th>\n",
       "      <td>2015-12-11</td>\n",
       "      <td>13:13:42</td>\n",
       "      <td>231.79</td>\n",
       "      <td>231.11</td>\n",
       "      <td>231.05</td>\n",
       "      <td>66.04</td>\n",
       "      <td>81.74</td>\n",
       "      <td>79.52</td>\n",
       "      <td>21.21</td>\n",
       "      <td>50102.93</td>\n",
       "      <td>52555.68</td>\n",
       "      <td>0.95</td>\n",
       "    </tr>\n",
       "    <tr>\n",
       "      <th>4</th>\n",
       "      <td>2015-12-11</td>\n",
       "      <td>04:09:48</td>\n",
       "      <td>235.83</td>\n",
       "      <td>235.65</td>\n",
       "      <td>235.10</td>\n",
       "      <td>6.86</td>\n",
       "      <td>17.66</td>\n",
       "      <td>13.03</td>\n",
       "      <td>11.21</td>\n",
       "      <td>8521.57</td>\n",
       "      <td>8847.56</td>\n",
       "      <td>0.91</td>\n",
       "    </tr>\n",
       "  </tbody>\n",
       "</table>\n",
       "</div>"
      ],
      "text/plain": [
       "         Date      Time      V1      V2      V3      I1      I2      I3  \\\n",
       "0  2015-12-09  21:24:31  235.36  234.91  234.61    7.67   16.63   20.32   \n",
       "1  2015-12-10  23:36:33  237.36  237.05  236.52    7.29   16.73   17.95   \n",
       "2  2015-12-08  08:28:08  231.31  230.40  230.85  119.50  137.19  126.95   \n",
       "3  2015-12-11  13:13:42  231.79  231.11  231.05   66.04   81.74   79.52   \n",
       "4  2015-12-11  04:09:48  235.83  235.65  235.10    6.86   17.66   13.03   \n",
       "\n",
       "     I_N      Pges      Sges  CosPhi  \n",
       "0  14.25   9772.93  10469.60    0.88  \n",
       "1  16.81   9289.21   9941.19    0.88  \n",
       "2  24.70  83781.78  88599.25    0.94  \n",
       "3  21.21  50102.93  52555.68    0.95  \n",
       "4  11.21   8521.57   8847.56    0.91  "
      ]
     },
     "execution_count": 4,
     "metadata": {},
     "output_type": "execute_result"
    }
   ],
   "source": [
    "train_data.head()"
   ]
  },
  {
   "cell_type": "code",
   "execution_count": 5,
   "metadata": {
    "collapsed": true
   },
   "outputs": [],
   "source": [
    "train_data = train_data[[\"V1\",\"V2\",\"V3\",\"I1\",\"I2\",\"I3\",\"Pges\",\"Sges\",\"CosPhi\"]]\n",
    "test_data = test_data[[\"V1\",\"V2\",\"V3\",\"I1\",\"I2\",\"I3\",\"Pges\",\"Sges\",\"CosPhi\"]]"
   ]
  },
  {
   "cell_type": "markdown",
   "metadata": {},
   "source": [
    "**STEP 3**"
   ]
  },
  {
   "cell_type": "code",
   "execution_count": 6,
   "metadata": {
    "collapsed": false
   },
   "outputs": [],
   "source": [
    "Std_train_data = StandardScaler().fit_transform(train_data)\n",
    "Std_test_data = StandardScaler().fit_transform(test_data)"
   ]
  },
  {
   "cell_type": "code",
   "execution_count": 7,
   "metadata": {
    "collapsed": false
   },
   "outputs": [
    {
     "data": {
      "text/plain": [
       "array([[ 0.61186196,  0.60716179,  0.51914337, -0.7810617 , -0.95617834,\n",
       "        -0.75743592, -0.85864056, -0.85273286, -0.65854118],\n",
       "       [ 1.82712215,  1.81650902,  1.66725003, -0.79440919, -0.95329351,\n",
       "        -0.83310191, -0.88237993, -0.87722806, -0.65854118],\n",
       "       [-1.84903991, -1.94150923, -1.74100379,  3.14696253,  2.52176238,\n",
       "         2.64689539,  2.77346844,  2.76907924,  1.01697849],\n",
       "       [-1.55737747, -1.54027721, -1.6207832 ,  1.26918219,  0.9221289 ,\n",
       "         1.13261767,  1.12062214,  1.09822781,  1.29623177],\n",
       "       [ 0.8974481 ,  1.02534728,  0.81368382, -0.80951292, -0.92646467,\n",
       "        -0.99018069, -0.92005316, -0.92792485,  0.17921865]])"
      ]
     },
     "execution_count": 7,
     "metadata": {},
     "output_type": "execute_result"
    }
   ],
   "source": [
    "Std_train_data[:5]"
   ]
  },
  {
   "cell_type": "markdown",
   "metadata": {},
   "source": [
    "**STEP 4**"
   ]
  },
  {
   "cell_type": "markdown",
   "metadata": {},
   "source": [
    "A GaussianMixture.fit method is provided that learns a Gaussian Mixture Model from train data. Given test data, it can assign to each sample the Gaussian it mostly probably belong to using the GaussianMixture.predict method."
   ]
  },
  {
   "cell_type": "code",
   "execution_count": 8,
   "metadata": {
    "collapsed": false
   },
   "outputs": [],
   "source": [
    "def compute_bic(X):\n",
    "    cv_types = ['spherical', 'tied', 'diag', 'full']\n",
    "    lowest_bic = np.infty\n",
    "    bic = []\n",
    "    n_components_range = range(1,10)\n",
    "    for cv_type in cv_types:\n",
    "        for n in n_components_range:\n",
    "            gmm = GaussianMixture(n_components = n, covariance_type='full')\n",
    "            gmm.fit(X)\n",
    "            bic.append(gmm.bic(X))\n",
    "            if bic[-1] < lowest_bic:\n",
    "                lowest_bic = bic[-1]\n",
    "                best_gmm = gmm\n",
    "    bic = np.array(bic)\n",
    "    return best_gmm, bic"
   ]
  },
  {
   "cell_type": "code",
   "execution_count": 9,
   "metadata": {
    "collapsed": true
   },
   "outputs": [],
   "source": [
    "def plot_bic(best_gmm, bic, X):\n",
    "    cv_types = ['spherical', 'tied', 'diag', 'full']\n",
    "    color_iter = itertools.cycle(['navy', 'turquoise', 'cornflowerblue',\n",
    "                              'darkorange'])\n",
    "    clf = best_gmm\n",
    "    bars = []\n",
    "    n_components_range = range(1,10)\n",
    "    \n",
    "    spl = plt.subplot(2, 1, 1)\n",
    "    for i, (cv_type, color) in enumerate(zip(cv_types, color_iter)):\n",
    "        xpos = np.array(n_components_range) + .2 * (i - 2)\n",
    "        bars.append(plt.bar(xpos, bic[i * len(n_components_range):\n",
    "                                      (i + 1) * len(n_components_range)],\n",
    "                            width=.2, color=color))\n",
    "    plt.xticks(n_components_range)\n",
    "    plt.ylim([bic.min() * 1.01 - .01 * bic.max(), bic.max()])\n",
    "    plt.title('BIC score per model')\n",
    "    xpos = np.mod(bic.argmin(), len(n_components_range)) + .65 +.2 * np.floor(bic.argmin() / len(n_components_range))\n",
    "    plt.text(xpos, bic.min() * 0.97 + .03 * bic.max(), '*', fontsize=14)\n",
    "    spl.set_xlabel('Number of components')\n",
    "    spl.legend([b[0] for b in bars], cv_types)\n",
    "    \n",
    "    # Plot the winner\n",
    "    splot = plt.subplot(2, 1, 2)\n",
    "    Y_ = clf.predict(X)\n",
    "    for i, (mean, cov, color) in enumerate(zip(clf.means_, clf.covariances_,color_iter)):\n",
    "        v, w = linalg.eigh(cov)\n",
    "        if not np.any(Y_ == i):\n",
    "            continue\n",
    "        plt.scatter(X[Y_ == i, 0], X[Y_ == i, 1], .8, color=color)\n",
    "        \n",
    "        # Plot an ellipse to show the Gaussian component\n",
    "        angle = np.arctan2(w[0][1], w[0][0])\n",
    "        angle = 180. * angle / np.pi  # convert to degrees\n",
    "        v = 2. * np.sqrt(2.) * np.sqrt(v)\n",
    "        ell = mpl.patches.Ellipse(mean, v[0], v[1], 180. + angle, color=color)\n",
    "        ell.set_clip_box(splot.bbox)\n",
    "        ell.set_alpha(.5)\n",
    "        splot.add_artist(ell)\n",
    "    \n",
    "    plt.xticks(())\n",
    "    plt.yticks(())\n",
    "    plt.title('Selected GMM: full model, 2 components')\n",
    "    plt.subplots_adjust(hspace=.35, bottom=.02)\n",
    "    plt.show()\n",
    "    "
   ]
  },
  {
   "cell_type": "code",
   "execution_count": 10,
   "metadata": {
    "collapsed": false
   },
   "outputs": [],
   "source": [
    "best_gmm, bic = compute_bic(Std_train_data)\n"
   ]
  },
  {
   "cell_type": "code",
   "execution_count": 11,
   "metadata": {
    "collapsed": false
   },
   "outputs": [
    {
     "data": {
      "image/png": "[encoded data removed]",
      "text/plain": [
       "<matplotlib.figure.Figure at 0x7fe91d067e10>"
      ]
     },
     "metadata": {},
     "output_type": "display_data"
    }
   ],
   "source": [
    "plot_bic(best_gmm, bic, Std_train_data)"
   ]
  },
  {
   "cell_type": "code",
   "execution_count": 12,
   "metadata": {
    "collapsed": false
   },
   "outputs": [
    {
     "data": {
      "image/png": "[encoded data removed]",
      "text/plain": [
       "<matplotlib.figure.Figure at 0x7fe90f61af10>"
      ]
     },
     "metadata": {},
     "output_type": "display_data"
    }
   ],
   "source": [
    "n_components = np.arange(1, 50)\n",
    "models = [GaussianMixture(n, covariance_type='full', random_state=0).fit(Std_train_data)\n",
    "          for n in n_components]\n",
    "\n",
    "plt.plot(n_components, [m.bic(Std_train_data) for m in models], label='BIC')\n",
    "plt.plot(n_components, [m.aic(Std_train_data) for m in models], label='AIC')\n",
    "plt.legend(loc='best')\n",
    "plt.xlabel('n_components');\n",
    "\n"
   ]
  },
  {
   "cell_type": "code",
   "execution_count": 13,
   "metadata": {
    "collapsed": false
   },
   "outputs": [
    {
     "data": {
      "text/plain": [
       "[<matplotlib.lines.Line2D at 0x7fe90f54cb10>]"
      ]
     },
     "execution_count": 13,
     "metadata": {},
     "output_type": "execute_result"
    },
    {
     "data": {
      "image/png": "[encoded data removed]",
      "text/plain": [
       "<matplotlib.figure.Figure at 0x7fe90f7ee790>"
      ]
     },
     "metadata": {},
     "output_type": "display_data"
    }
   ],
   "source": [
    "plt.plot(best_gmm.predict(Std_test_data))"
   ]
  },
  {
   "cell_type": "markdown",
   "metadata": {},
   "source": [
    "**STEP 5**"
   ]
  },
  {
   "cell_type": "code",
   "execution_count": 14,
   "metadata": {
    "collapsed": true
   },
   "outputs": [],
   "source": [
    "def fit_data(data):\n",
    "    gmix = mixture.GMM(n_components=2, covariance_type='full')\n",
    "    gmix.fit(data)\n",
    "    print gmix.means_\n",
    "    colors = ['r' if i==0 else 'g' for i in gmix.predict(data)]\n",
    "    ax = plt.gca()\n",
    "    ax.scatter(data[:,0], data[:,1], c=colors, alpha=0.8)\n",
    "    plt.show()"
   ]
  },
  {
   "cell_type": "markdown",
   "metadata": {},
   "source": [
    "**STEP 6**"
   ]
  }
 ],
 "metadata": {
  "kernelspec": {
   "display_name": "Python 2",
   "language": "python",
   "name": "python2"
  },
  "language_info": {
   "codemirror_mode": {
    "name": "ipython",
    "version": 2
   },
   "file_extension": ".py",
   "mimetype": "text/x-python",
   "name": "python",
   "nbconvert_exporter": "python",
   "pygments_lexer": "ipython2",
   "version": "2.7.13"
  }
 },
 "nbformat": 4,
 "nbformat_minor": 2
}
