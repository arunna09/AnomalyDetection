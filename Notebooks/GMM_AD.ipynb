{
 "cells": [
  {
   "cell_type": "markdown",
   "metadata": {},
   "source": [
    "1. Import all the necessary libraries.\n",
    "2. Load the dataset.\n",
    "3. Preprocess the data.\n",
    "4. Determine the number of Gaussian mixtures(n_components) to use by computing the BIC score.\n",
    "5. Fit the model\n",
    "6. Detect the anomaly by using some anomaly metric.\n",
    "    For example: If the non-anomalous data is Gaussian with some mean and variance, the points that receive low probability assignments under the chosen prior may be flagged as anomalous. "
   ]
  },
  {
   "cell_type": "markdown",
   "metadata": {},
   "source": [
    "** STEP 1 **"
   ]
  },
  {
   "cell_type": "code",
   "execution_count": 1,
   "metadata": {
    "collapsed": false
   },
   "outputs": [],
   "source": [
    "import numpy as np\n",
    "import pandas as pd\n",
    "import matplotlib.pyplot as plt\n",
    "import matplotlib.mlab as mlab\n",
    "from mpl_toolkits.mplot3d import Axes3D\n",
    "from sklearn import mixture\n",
    "\n",
    "from sklearn.preprocessing import StandardScaler\n",
    "from sklearn.mixture import GaussianMixture\n",
    "%matplotlib inline"
   ]
  },
  {
   "cell_type": "code",
   "execution_count": 2,
   "metadata": {
    "collapsed": false
   },
   "outputs": [],
   "source": [
    "import itertools\n",
    "from scipy import linalg\n",
    "import matplotlib as mpl"
   ]
  },
  {
   "cell_type": "markdown",
   "metadata": {},
   "source": [
    "**STEP 2**"
   ]
  },
  {
   "cell_type": "code",
   "execution_count": 3,
   "metadata": {
    "collapsed": false
   },
   "outputs": [],
   "source": [
    "df = pd.read_csv('Torschlag_Trafo_07122015_to_11122015.csv', sep=',')"
   ]
  },
  {
   "cell_type": "code",
   "execution_count": 4,
   "metadata": {
    "collapsed": true
   },
   "outputs": [],
   "source": [
    "df_filt = df[[\"V1\",\"V2\",\"V3\",\"I1\",\"I2\",\"I3\",\"Pges\",\"Sges\",\"CosPhi\"]]"
   ]
  },
  {
   "cell_type": "code",
   "execution_count": 5,
   "metadata": {
    "collapsed": false
   },
   "outputs": [
    {
     "data": {
      "text/plain": [
       "(380648, 9)"
      ]
     },
     "execution_count": 5,
     "metadata": {},
     "output_type": "execute_result"
    }
   ],
   "source": [
    "df_filt.shape"
   ]
  },
  {
   "cell_type": "markdown",
   "metadata": {},
   "source": [
    "**STEP 3**"
   ]
  },
  {
   "cell_type": "code",
   "execution_count": 6,
   "metadata": {
    "collapsed": false
   },
   "outputs": [],
   "source": [
    "Std_data = StandardScaler().fit_transform(df_filt)"
   ]
  },
  {
   "cell_type": "code",
   "execution_count": 7,
   "metadata": {
    "collapsed": false
   },
   "outputs": [
    {
     "data": {
      "text/plain": [
       "array([[-0.48778673, -0.69823107, -0.71288956, ...,  2.93609279,\n",
       "         2.96073279,  0.73869058],\n",
       "       [-0.57887644, -0.76036342, -0.77897396, ...,  2.97444359,\n",
       "         2.98222249,  1.01825551],\n",
       "       [-0.57887644, -0.76036342, -0.77897396, ...,  2.97444359,\n",
       "         2.98222249,  1.01825551],\n",
       "       ..., \n",
       "       [ 2.4270839 ,  2.29541834,  2.4591617 , ..., -0.81344742,\n",
       "        -0.8242239 , -1.49782884],\n",
       "       [ 2.4270839 ,  2.29541834,  2.4591617 , ..., -0.81344742,\n",
       "        -0.8242239 , -1.49782884],\n",
       "       [ 2.4270839 ,  2.29541834,  2.4591617 , ..., -0.81344742,\n",
       "        -0.8242239 , -1.49782884]])"
      ]
     },
     "execution_count": 7,
     "metadata": {},
     "output_type": "execute_result"
    }
   ],
   "source": [
    "Std_data"
   ]
  },
  {
   "cell_type": "markdown",
   "metadata": {},
   "source": [
    "**STEP 4**"
   ]
  },
  {
   "cell_type": "markdown",
   "metadata": {},
   "source": [
    "A GaussianMixture.fit method is provided that learns a Gaussian Mixture Model from train data. Given test data, it can assign to each sample the Gaussian it mostly probably belong to using the GaussianMixture.predict method."
   ]
  },
  {
   "cell_type": "code",
   "execution_count": 8,
   "metadata": {
    "collapsed": false
   },
   "outputs": [],
   "source": [
    "def compute_bic(X):\n",
    "    cv_types = ['spherical', 'tied', 'diag', 'full']\n",
    "    lowest_bic = np.infty\n",
    "    bic = []\n",
    "    n_components_range = range(1,10)\n",
    "    for cv_type in cv_types:\n",
    "        for n in n_components_range:\n",
    "            gmm = GaussianMixture(n_components = n, covariance_type='full')\n",
    "            gmm.fit(X)\n",
    "            bic.append(gmm.bic(X))\n",
    "            if bic[-1] < lowest_bic:\n",
    "                lowest_bic = bic[-1]\n",
    "                best_gmm = gmm\n",
    "    bic = np.array(bic)\n",
    "    return best_gmm, bic"
   ]
  },
  {
   "cell_type": "code",
   "execution_count": 9,
   "metadata": {
    "collapsed": true
   },
   "outputs": [],
   "source": [
    "def plot_bic(best_gmm, bic, X):\n",
    "    cv_types = ['spherical', 'tied', 'diag', 'full']\n",
    "    color_iter = itertools.cycle(['navy', 'turquoise', 'cornflowerblue',\n",
    "                              'darkorange'])\n",
    "    clf = best_gmm\n",
    "    bars = []\n",
    "    n_components_range = range(1,10)\n",
    "    \n",
    "    spl = plt.subplot(2, 1, 1)\n",
    "    for i, (cv_type, color) in enumerate(zip(cv_types, color_iter)):\n",
    "        xpos = np.array(n_components_range) + .2 * (i - 2)\n",
    "        bars.append(plt.bar(xpos, bic[i * len(n_components_range):\n",
    "                                      (i + 1) * len(n_components_range)],\n",
    "                            width=.2, color=color))\n",
    "    plt.xticks(n_components_range)\n",
    "    plt.ylim([bic.min() * 1.01 - .01 * bic.max(), bic.max()])\n",
    "    plt.title('BIC score per model')\n",
    "    xpos = np.mod(bic.argmin(), len(n_components_range)) + .65 +.2 * np.floor(bic.argmin() / len(n_components_range))\n",
    "    plt.text(xpos, bic.min() * 0.97 + .03 * bic.max(), '*', fontsize=14)\n",
    "    spl.set_xlabel('Number of components')\n",
    "    spl.legend([b[0] for b in bars], cv_types)\n",
    "    \n",
    "    # Plot the winner\n",
    "    splot = plt.subplot(2, 1, 2)\n",
    "    Y_ = clf.predict(X)\n",
    "    for i, (mean, cov, color) in enumerate(zip(clf.means_, clf.covariances_,color_iter)):\n",
    "        v, w = linalg.eigh(cov)\n",
    "        if not np.any(Y_ == i):\n",
    "            continue\n",
    "        plt.scatter(X[Y_ == i, 0], X[Y_ == i, 1], .8, color=color)\n",
    "        \n",
    "        # Plot an ellipse to show the Gaussian component\n",
    "        angle = np.arctan2(w[0][1], w[0][0])\n",
    "        angle = 180. * angle / np.pi  # convert to degrees\n",
    "        v = 2. * np.sqrt(2.) * np.sqrt(v)\n",
    "        ell = mpl.patches.Ellipse(mean, v[0], v[1], 180. + angle, color=color)\n",
    "        ell.set_clip_box(splot.bbox)\n",
    "        ell.set_alpha(.5)\n",
    "        splot.add_artist(ell)\n",
    "    \n",
    "    plt.xticks(())\n",
    "    plt.yticks(())\n",
    "    plt.title('Selected GMM: full model, 2 components')\n",
    "    plt.subplots_adjust(hspace=.35, bottom=.02)\n",
    "    plt.show()\n",
    "    "
   ]
  },
  {
   "cell_type": "code",
   "execution_count": 10,
   "metadata": {
    "collapsed": false
   },
   "outputs": [],
   "source": [
    "best_gmm, bic = compute_bic(Std_data)\n"
   ]
  },
  {
   "cell_type": "code",
   "execution_count": 11,
   "metadata": {
    "collapsed": false
   },
   "outputs": [
    {
     "data": {
      "image/png": "[encoded data removed]",
      "text/plain": [
       "<matplotlib.figure.Figure at 0x7f68b8642a90>"
      ]
     },
     "metadata": {},
     "output_type": "display_data"
    }
   ],
   "source": [
    "plot_bic(best_gmm, bic, Std_data)"
   ]
  },
  {
   "cell_type": "code",
   "execution_count": 12,
   "metadata": {
    "collapsed": false
   },
   "outputs": [
    {
     "data": {
      "image/png": "[encoded data removed]",
      "text/plain": [
       "<matplotlib.figure.Figure at 0x7f6882549ed0>"
      ]
     },
     "metadata": {},
     "output_type": "display_data"
    }
   ],
   "source": [
    "n_components = np.arange(1, 35)\n",
    "models = [GaussianMixture(n, covariance_type='full', random_state=0).fit(Std_data)\n",
    "          for n in n_components]\n",
    "\n",
    "plt.plot(n_components, [m.bic(Std_data) for m in models], label='BIC')\n",
    "plt.plot(n_components, [m.aic(Std_data) for m in models], label='AIC')\n",
    "plt.legend(loc='best')\n",
    "plt.xlabel('n_components');\n",
    "\n"
   ]
  },
  {
   "cell_type": "code",
   "execution_count": 13,
   "metadata": {
    "collapsed": false
   },
   "outputs": [
    {
     "data": {
      "text/plain": [
       "array([1, 1, 1, ..., 2, 2, 2])"
      ]
     },
     "execution_count": 13,
     "metadata": {},
     "output_type": "execute_result"
    }
   ],
   "source": [
    "best_gmm.predict(Std_data)"
   ]
  },
  {
   "cell_type": "markdown",
   "metadata": {},
   "source": [
    "**STEP 5**"
   ]
  },
  {
   "cell_type": "code",
   "execution_count": 14,
   "metadata": {
    "collapsed": true
   },
   "outputs": [],
   "source": [
    "def fit_data(data):\n",
    "    gmix = mixture.GMM(n_components=2, covariance_type='full')\n",
    "    gmix.fit(data)\n",
    "    print gmix.means_\n",
    "    colors = ['r' if i==0 else 'g' for i in gmix.predict(data)]\n",
    "    ax = plt.gca()\n",
    "    ax.scatter(data[:,0], data[:,1], c=colors, alpha=0.8)\n",
    "    plt.show()"
   ]
  },
  {
   "cell_type": "markdown",
   "metadata": {},
   "source": [
    "**STEP 6**"
   ]
  }
 ],
 "metadata": {
  "kernelspec": {
   "display_name": "Python 2",
   "language": "python",
   "name": "python2"
  },
  "language_info": {
   "codemirror_mode": {
    "name": "ipython",
    "version": 2
   },
   "file_extension": ".py",
   "mimetype": "text/x-python",
   "name": "python",
   "nbconvert_exporter": "python",
   "pygments_lexer": "ipython2",
   "version": "2.7.13"
  }
 },
 "nbformat": 4,
 "nbformat_minor": 2
}
