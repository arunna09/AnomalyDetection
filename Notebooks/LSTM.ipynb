{
 "cells": [
  {
   "cell_type": "markdown",
   "metadata": {
    "collapsed": true
   },
   "source": [
    "LSTMs are sensitive to the scale of the input data, specifically when the sigmoid (default) or tanh activation functions are used. It can be a good practice to rescale the data to the range of 0-to-1, also called normalizing.\n",
    "\n",
    "Dropout is a regularization technique for neural network models proposed by Srivastava, et al. in their 2014 paper Dropout: A Simple Way to Prevent Neural Networks from Overfitting (download the PDF).\n",
    "\n",
    "Dropout is a technique where randomly selected neurons are ignored during training. They are “dropped-out” randomly. This means that their contribution to the activation of downstream neurons is temporally removed on the forward pass and any weight updates are not applied to the neuron on the backward pass.\n",
    "\n",
    "We add a new Dropout layer between the input (or visible layer) and the first hidden layer. The dropout rate is set to 20%, meaning one in 5 inputs will be randomly excluded from each update cycle."
   ]
  },
  {
   "cell_type": "markdown",
   "metadata": {},
   "source": [
    "The function takes two arguments: the dataset, which is a NumPy array that we want to convert into a dataset, and the look_back, which is the number of previous time steps to use as input variables to predict the next time period — in this case defaulted to 1."
   ]
  },
  {
   "cell_type": "markdown",
   "metadata": {},
   "source": [
    "The LSTM network expects the input data (X) to be provided with a specific array structure in the form of: [samples, time steps, features]."
   ]
  },
  {
   "cell_type": "code",
   "execution_count": 10,
   "metadata": {
    "collapsed": false
   },
   "outputs": [
    {
     "name": "stdout",
     "output_type": "stream",
     "text": [
      "python:2.7.12 (default, Nov 19 2016, 06:48:10) \n",
      "[GCC 5.4.0 20160609], keras:2.0.2, tensorflow: 1.0.0\n"
     ]
    }
   ],
   "source": [
    "import keras\n",
    "import tensorflow as tf\n",
    "%matplotlib inline\n",
    "import os, sys\n",
    "print(\"python:{}, keras:{}, tensorflow: {}\".format(sys.version, keras.__version__, tf.__version__))"
   ]
  },
  {
   "cell_type": "code",
   "execution_count": 19,
   "metadata": {
    "collapsed": false
   },
   "outputs": [
    {
     "name": "stdout",
     "output_type": "stream",
     "text": [
      "Epoch 1/1\n",
      "0s - loss: 0.0057\n",
      "Epoch 1/1\n",
      "0s - loss: 0.0141\n",
      "Epoch 1/1\n",
      "0s - loss: 0.0099\n",
      "Epoch 1/1\n",
      "0s - loss: 0.0072\n",
      "Epoch 1/1\n",
      "0s - loss: 0.0060\n",
      "Epoch 1/1\n",
      "0s - loss: 0.0057\n",
      "Epoch 1/1\n",
      "0s - loss: 0.0056\n",
      "Epoch 1/1\n",
      "0s - loss: 0.0055\n",
      "Epoch 1/1\n",
      "0s - loss: 0.0055\n",
      "Epoch 1/1\n",
      "0s - loss: 0.0055\n",
      "Epoch 1/1\n",
      "0s - loss: 0.0055\n",
      "Epoch 1/1\n",
      "0s - loss: 0.0055\n",
      "Epoch 1/1\n",
      "0s - loss: 0.0055\n",
      "Epoch 1/1\n",
      "0s - loss: 0.0055\n",
      "Epoch 1/1\n",
      "0s - loss: 0.0055\n",
      "Epoch 1/1\n",
      "0s - loss: 0.0055\n",
      "Epoch 1/1\n",
      "0s - loss: 0.0055\n",
      "Epoch 1/1\n",
      "0s - loss: 0.0055\n",
      "Epoch 1/1\n",
      "0s - loss: 0.0055\n",
      "Epoch 1/1\n",
      "0s - loss: 0.0055\n",
      "Epoch 1/1\n",
      "0s - loss: 0.0055\n",
      "Epoch 1/1\n",
      "0s - loss: 0.0055\n",
      "Epoch 1/1\n",
      "0s - loss: 0.0055\n",
      "Epoch 1/1\n",
      "0s - loss: 0.0055\n",
      "Epoch 1/1\n",
      "0s - loss: 0.0055\n",
      "Epoch 1/1\n",
      "0s - loss: 0.0055\n",
      "Epoch 1/1\n",
      "0s - loss: 0.0055\n",
      "Epoch 1/1\n",
      "0s - loss: 0.0054\n",
      "Epoch 1/1\n",
      "0s - loss: 0.0054\n",
      "Epoch 1/1\n",
      "0s - loss: 0.0054\n",
      "Epoch 1/1\n",
      "0s - loss: 0.0054\n",
      "Epoch 1/1\n",
      "0s - loss: 0.0054\n",
      "Epoch 1/1\n",
      "0s - loss: 0.0054\n",
      "Epoch 1/1\n",
      "0s - loss: 0.0054\n",
      "Epoch 1/1\n",
      "0s - loss: 0.0053\n",
      "Epoch 1/1\n",
      "0s - loss: 0.0053\n",
      "Epoch 1/1\n",
      "0s - loss: 0.0053\n",
      "Epoch 1/1\n",
      "0s - loss: 0.0053\n",
      "Epoch 1/1\n",
      "0s - loss: 0.0053\n",
      "Epoch 1/1\n",
      "0s - loss: 0.0053\n",
      "Epoch 1/1\n",
      "0s - loss: 0.0053\n",
      "Epoch 1/1\n",
      "0s - loss: 0.0052\n",
      "Epoch 1/1\n",
      "0s - loss: 0.0052\n",
      "Epoch 1/1\n",
      "0s - loss: 0.0052\n",
      "Epoch 1/1\n",
      "0s - loss: 0.0052\n",
      "Epoch 1/1\n",
      "0s - loss: 0.0052\n",
      "Epoch 1/1\n",
      "0s - loss: 0.0052\n",
      "Epoch 1/1\n",
      "0s - loss: 0.0051\n",
      "Epoch 1/1\n",
      "0s - loss: 0.0051\n",
      "Epoch 1/1\n",
      "0s - loss: 0.0051\n",
      "Epoch 1/1\n",
      "0s - loss: 0.0051\n",
      "Epoch 1/1\n",
      "0s - loss: 0.0051\n",
      "Epoch 1/1\n",
      "0s - loss: 0.0050\n",
      "Epoch 1/1\n",
      "0s - loss: 0.0050\n",
      "Epoch 1/1\n",
      "0s - loss: 0.0050\n",
      "Epoch 1/1\n",
      "0s - loss: 0.0050\n",
      "Epoch 1/1\n",
      "0s - loss: 0.0049\n",
      "Epoch 1/1\n",
      "0s - loss: 0.0049\n",
      "Epoch 1/1\n",
      "0s - loss: 0.0049\n",
      "Epoch 1/1\n",
      "0s - loss: 0.0049\n",
      "Epoch 1/1\n",
      "0s - loss: 0.0048\n",
      "Epoch 1/1\n",
      "0s - loss: 0.0048\n",
      "Epoch 1/1\n",
      "0s - loss: 0.0048\n",
      "Epoch 1/1\n",
      "0s - loss: 0.0047\n",
      "Epoch 1/1\n",
      "0s - loss: 0.0047\n",
      "Epoch 1/1\n",
      "0s - loss: 0.0046\n",
      "Epoch 1/1\n",
      "0s - loss: 0.0046\n",
      "Epoch 1/1\n",
      "0s - loss: 0.0045\n",
      "Epoch 1/1\n",
      "0s - loss: 0.0044\n",
      "Epoch 1/1\n",
      "0s - loss: 0.0044\n",
      "Epoch 1/1\n",
      "0s - loss: 0.0043\n",
      "Epoch 1/1\n",
      "0s - loss: 0.0042\n",
      "Epoch 1/1\n",
      "0s - loss: 0.0041\n",
      "Epoch 1/1\n",
      "0s - loss: 0.0041\n",
      "Epoch 1/1\n",
      "0s - loss: 0.0040\n",
      "Epoch 1/1\n",
      "0s - loss: 0.0039\n",
      "Epoch 1/1\n",
      "0s - loss: 0.0038\n",
      "Epoch 1/1\n",
      "0s - loss: 0.0037\n",
      "Epoch 1/1\n",
      "0s - loss: 0.0036\n",
      "Epoch 1/1\n",
      "0s - loss: 0.0035\n",
      "Epoch 1/1\n",
      "0s - loss: 0.0033\n",
      "Epoch 1/1\n",
      "0s - loss: 0.0032\n",
      "Epoch 1/1\n",
      "0s - loss: 0.0030\n",
      "Epoch 1/1\n",
      "0s - loss: 0.0029\n",
      "Epoch 1/1\n",
      "0s - loss: 0.0027\n",
      "Epoch 1/1\n",
      "0s - loss: 0.0025\n",
      "Epoch 1/1\n",
      "0s - loss: 0.0024\n",
      "Epoch 1/1\n",
      "0s - loss: 0.0022\n",
      "Epoch 1/1\n",
      "0s - loss: 0.0021\n",
      "Epoch 1/1\n",
      "0s - loss: 0.0020\n",
      "Epoch 1/1\n",
      "0s - loss: 0.0019\n",
      "Epoch 1/1\n",
      "0s - loss: 0.0019\n",
      "Epoch 1/1\n",
      "0s - loss: 0.0018\n",
      "Epoch 1/1\n",
      "0s - loss: 0.0018\n",
      "Epoch 1/1\n",
      "0s - loss: 0.0017\n",
      "Epoch 1/1\n",
      "0s - loss: 0.0017\n",
      "Epoch 1/1\n",
      "0s - loss: 0.0017\n",
      "Epoch 1/1\n",
      "0s - loss: 0.0017\n",
      "Epoch 1/1\n",
      "0s - loss: 0.0016\n",
      "Epoch 1/1\n",
      "0s - loss: 0.0016\n",
      "Train Score: 20.48 RMSE\n",
      "Test Score: 56.19 RMSE\n"
     ]
    },
    {
     "data": {
      "image/png": "[encoded data removed]",
      "text/plain": [
       "<matplotlib.figure.Figure at 0x7fc8dd2ac990>"
      ]
     },
     "metadata": {},
     "output_type": "display_data"
    }
   ],
   "source": [
    "import numpy\n",
    "import matplotlib.pyplot as plt\n",
    "import pandas\n",
    "import math\n",
    "from keras.models import Sequential\n",
    "from keras.layers import Dense\n",
    "from keras.layers import LSTM\n",
    "from sklearn.preprocessing import MinMaxScaler\n",
    "from sklearn.metrics import mean_squared_error\n",
    "# convert an array of values into a dataset matrix\n",
    "def create_dataset(dataset, look_back=1):\n",
    "\tdataX, dataY = [], []\n",
    "\tfor i in range(len(dataset)-look_back-1):\n",
    "\t\ta = dataset[i:(i+look_back), 0]\n",
    "\t\tdataX.append(a)\n",
    "\t\tdataY.append(dataset[i + look_back, 0])\n",
    "\treturn numpy.array(dataX), numpy.array(dataY)\n",
    "# fix random seed for reproducibility\n",
    "numpy.random.seed(7)\n",
    "# load the dataset\n",
    "dataframe = pandas.read_csv('international-airline-passengers.csv', usecols=[1], engine='python', skipfooter=3)\n",
    "dataset = dataframe.values\n",
    "dataset = dataset.astype('float32')\n",
    "# normalize the dataset\n",
    "scaler = MinMaxScaler(feature_range=(0, 1))\n",
    "dataset = scaler.fit_transform(dataset)\n",
    "# split into train and test sets\n",
    "train_size = int(len(dataset) * 0.67)\n",
    "test_size = len(dataset) - train_size\n",
    "train, test = dataset[0:train_size,:], dataset[train_size:len(dataset),:]\n",
    "\n",
    "# reshape into X=t and Y=t+1\n",
    "look_back = 3\n",
    "trainX, trainY = create_dataset(train, look_back)\n",
    "testX, testY = create_dataset(test, look_back)\n",
    "# reshape input to be [samples, time steps, features]\n",
    "#trainX = numpy.reshape(trainX, (trainX.shape[0], 1, trainX.shape[1]))\n",
    "#testX = numpy.reshape(testX, (testX.shape[0], 1, testX.shape[1]))\n",
    "trainX = numpy.reshape(trainX, (trainX.shape[0], trainX.shape[1], 1))\n",
    "testX = numpy.reshape(testX, (testX.shape[0], testX.shape[1], 1))\n",
    "\n",
    "# create and fit the LSTM network\n",
    "batch_size=1\n",
    "model = Sequential()\n",
    "\n",
    "#model.add(LSTM(4, input_dim=look_back))\n",
    "\n",
    "#changes memory end model.add(LSTM(4, batch_input_shape=(batch_size, look_back, 1), stateful=True))\n",
    "\n",
    "#changes to implement stacked memory starts\n",
    "model.add(LSTM(4, batch_input_shape=(batch_size, look_back, 1), stateful=True, return_sequences=True))\n",
    "model.add(LSTM(4, batch_input_shape=(batch_size, look_back, 1), stateful=True))\n",
    "#changes to implement stacked memory ends\n",
    "\n",
    "model.add(Dense(1))\n",
    "model.compile(loss='mean_squared_error', optimizer='adam')\n",
    "\n",
    "\n",
    "#model.fit(trainX, trainY, nb_epoch=100, batch_size=1, verbose=2)\n",
    "# make predictions\n",
    "#trainPredict = model.predict(trainX)\n",
    "#testPredict = model.predict(testX)\n",
    "\n",
    "#Changes to take leverage of the memory in LSTM --starts\n",
    "for i in range(100):\n",
    "\tmodel.fit(trainX, trainY, nb_epoch=1, batch_size=batch_size, verbose=2, shuffle=False)\n",
    "\tmodel.reset_states()\n",
    "# make predictions\n",
    "trainPredict = model.predict(trainX, batch_size=batch_size)\n",
    "model.reset_states()\n",
    "testPredict = model.predict(testX, batch_size=batch_size)\n",
    "#Changes to take leverage of the memory in LSTM -- ends\n",
    "\n",
    "# invert predictions\n",
    "trainPredict = scaler.inverse_transform(trainPredict)\n",
    "trainY = scaler.inverse_transform([trainY])\n",
    "testPredict = scaler.inverse_transform(testPredict)\n",
    "testY = scaler.inverse_transform([testY])\n",
    "# calculate root mean squared error\n",
    "trainScore = math.sqrt(mean_squared_error(trainY[0], trainPredict[:,0]))\n",
    "print('Train Score: %.2f RMSE' % (trainScore))\n",
    "testScore = math.sqrt(mean_squared_error(testY[0], testPredict[:,0]))\n",
    "print('Test Score: %.2f RMSE' % (testScore))\n",
    "# shift train predictions for plotting\n",
    "trainPredictPlot = numpy.empty_like(dataset)\n",
    "trainPredictPlot[:, :] = numpy.nan\n",
    "trainPredictPlot[look_back:len(trainPredict)+look_back, :] = trainPredict\n",
    "# shift test predictions for plotting\n",
    "testPredictPlot = numpy.empty_like(dataset)\n",
    "testPredictPlot[:, :] = numpy.nan\n",
    "testPredictPlot[len(trainPredict)+(look_back*2)+1:len(dataset)-1, :] = testPredict\n",
    "# plot baseline and predictions\n",
    "plt.plot(scaler.inverse_transform(dataset))\n",
    "plt.plot(trainPredictPlot)\n",
    "plt.plot(testPredictPlot)\n",
    "plt.show()"
   ]
  },
  {
   "cell_type": "markdown",
   "metadata": {},
   "source": [
    "Instead of phrasing the past observations as separate input features, we can use them as time steps of the one input feature, which is indeed a more accurate framing of the problem.\n",
    "\n",
    "We can do this using the same data representation as in the previous window-based example, except when we reshape the data, we set the columns to be the time steps dimension and change the features dimension back to 1. For example:"
   ]
  },
  {
   "cell_type": "code",
   "execution_count": null,
   "metadata": {
    "collapsed": true
   },
   "outputs": [],
   "source": [
    "#reshape input to be [samples, time steps, features]\n",
    "trainX = numpy.reshape(trainX, (trainX.shape[0], trainX.shape[1], 1))\n",
    "testX = numpy.reshape(testX, (testX.shape[0], testX.shape[1], 1))"
   ]
  },
  {
   "cell_type": "markdown",
   "metadata": {},
   "source": [
    "LSTM with Memory Between Batches\n",
    "\n",
    "The LSTM network has memory, which is capable of remembering across long sequences.\n",
    "\n",
    "Normally, the state within the network is reset after each training batch when fitting the model, as well as each call to model.predict() or model.evaluate().\n",
    "\n",
    "We can gain finer control over when the internal state of the LSTM network is cleared in Keras by making the LSTM layer “stateful”. This means that it can build state over the entire training sequence and even maintain that state if needed to make predictions.\n",
    "\n",
    "It requires that the training data not be shuffled when fitting the network. It also requires explicit resetting of the network state after each exposure to the training data (epoch) by calls to model.reset_states(). This means that we must create our own outer loop of epochs and within each epoch call model.fit() and model.reset_states(). "
   ]
  },
  {
   "cell_type": "code",
   "execution_count": null,
   "metadata": {
    "collapsed": true
   },
   "outputs": [],
   "source": [
    "for i in range(100):\n",
    "\tmodel.fit(trainX, trainY, nb_epoch=1, batch_size=batch_size, verbose=2, shuffle=False)\n",
    "\tmodel.reset_states()"
   ]
  },
  {
   "cell_type": "markdown",
   "metadata": {},
   "source": [
    "Finally, when the LSTM layer is constructed, the stateful parameter must be set True and instead of specifying the input dimensions, we must hard code the number of samples in a batch, number of time steps in a sample and number of features in a time step by setting the batch_input_shape parameter. "
   ]
  },
  {
   "cell_type": "code",
   "execution_count": null,
   "metadata": {
    "collapsed": true
   },
   "outputs": [],
   "source": [
    "model.add(LSTM(4, batch_input_shape=(batch_size, time_steps, features), stateful=True))"
   ]
  },
  {
   "cell_type": "markdown",
   "metadata": {},
   "source": [
    "This same batch size must then be used later when evaluating the model and making predictions"
   ]
  },
  {
   "cell_type": "code",
   "execution_count": null,
   "metadata": {
    "collapsed": true
   },
   "outputs": [],
   "source": [
    "model.predict(trainX, batch_size=batch_size)"
   ]
  },
  {
   "cell_type": "code",
   "execution_count": null,
   "metadata": {
    "collapsed": true
   },
   "outputs": [],
   "source": []
  }
 ],
 "metadata": {
  "kernelspec": {
   "display_name": "Python for tensorflow",
   "language": "python",
   "name": "tensorflow"
  },
  "language_info": {
   "codemirror_mode": {
    "name": "ipython",
    "version": 2
   },
   "file_extension": ".py",
   "mimetype": "text/x-python",
   "name": "python",
   "nbconvert_exporter": "python",
   "pygments_lexer": "ipython2",
   "version": "2.7.12"
  }
 },
 "nbformat": 4,
 "nbformat_minor": 2
}
