{
 "cells": [
  {
   "cell_type": "code",
   "execution_count": 1,
   "metadata": {
    "collapsed": false
   },
   "outputs": [],
   "source": [
    "%matplotlib inline\n",
    "import pandas as pd\n",
    "import numpy as np\n",
    "import matplotlib.pyplot as plt\n",
    "from scipy import stats\n",
    "\n",
    "from mpl_toolkits.mplot3d import Axes3D\n",
    "import pylab\n",
    "import itertools\n",
    "import matplotlib as mpl\n",
    "from scipy import linalg\n",
    "\n",
    "from sklearn.preprocessing import StandardScaler\n",
    "from sklearn.decomposition import PCA\n",
    "\n",
    "\n",
    "import seaborn as sns\n",
    "sns.set()"
   ]
  },
  {
   "cell_type": "code",
   "execution_count": 2,
   "metadata": {
    "collapsed": false
   },
   "outputs": [],
   "source": [
    "df = pd.read_csv('Torschlag_Trafo_07122015_to_11122015.csv',sep=',')"
   ]
  },
  {
   "cell_type": "code",
   "execution_count": 3,
   "metadata": {
    "collapsed": true
   },
   "outputs": [],
   "source": [
    "X = df[[\"V1\",\"V2\",\"V3\",\"I1\",\"I2\",\"I3\",\"Pges\",\"Sges\",\"CosPhi\"]]"
   ]
  },
  {
   "cell_type": "code",
   "execution_count": 4,
   "metadata": {
    "collapsed": false
   },
   "outputs": [],
   "source": [
    "r = X.rolling(60).mean()\n"
   ]
  },
  {
   "cell_type": "code",
   "execution_count": 5,
   "metadata": {
    "collapsed": false
   },
   "outputs": [
    {
     "data": {
      "text/plain": [
       "(380589, 9)"
      ]
     },
     "execution_count": 5,
     "metadata": {},
     "output_type": "execute_result"
    }
   ],
   "source": [
    "data_smooth = pd.DataFrame(r.iloc[59:,:])\n",
    "data_smooth.shape"
   ]
  },
  {
   "cell_type": "code",
   "execution_count": 6,
   "metadata": {
    "collapsed": false
   },
   "outputs": [
    {
     "data": {
      "text/plain": [
       "(array([ 2.,  3.,  1.,  0.,  1.,  1.,  0.,  1.,  1.]),\n",
       " array([ 233.26583333,  233.26725926,  233.26868519,  233.27011111,\n",
       "         233.27153704,  233.27296296,  233.27438889,  233.27581481,\n",
       "         233.27724074,  233.27866667]),\n",
       " <a list of 9 Patch objects>)"
      ]
     },
     "execution_count": 6,
     "metadata": {},
     "output_type": "execute_result"
    },
    {
     "data": {
      "image/png": "[encoded data removed]",
      "text/plain": [
       "<matplotlib.figure.Figure at 0x7f9e23156f50>"
      ]
     },
     "metadata": {},
     "output_type": "display_data"
    }
   ],
   "source": [
    "plt.hist(data_smooth.iloc[15:25,0],bins=9)"
   ]
  },
  {
   "cell_type": "markdown",
   "metadata": {},
   "source": [
    "# PCA Based Anomaly Detection "
   ]
  },
  {
   "cell_type": "code",
   "execution_count": 7,
   "metadata": {
    "collapsed": false
   },
   "outputs": [],
   "source": [
    "X_std = StandardScaler().fit_transform(data_smooth)"
   ]
  },
  {
   "cell_type": "code",
   "execution_count": 8,
   "metadata": {
    "collapsed": false
   },
   "outputs": [],
   "source": [
    "sklearn_pca = PCA(n_components=9)\n",
    "Y_sklearn = sklearn_pca.fit_transform(X_std)"
   ]
  },
  {
   "cell_type": "code",
   "execution_count": 9,
   "metadata": {
    "collapsed": false
   },
   "outputs": [
    {
     "data": {
      "text/plain": [
       "[<matplotlib.lines.Line2D at 0x7f9e0e0d0750>]"
      ]
     },
     "execution_count": 9,
     "metadata": {},
     "output_type": "execute_result"
    },
    {
     "data": {
      "image/png": "[encoded data removed]",
      "text/plain": [
       "<matplotlib.figure.Figure at 0x7f9e440aa810>"
      ]
     },
     "metadata": {},
     "output_type": "display_data"
    }
   ],
   "source": [
    "plt.plot(sklearn_pca.explained_variance_ratio_.cumsum())"
   ]
  },
  {
   "cell_type": "markdown",
   "metadata": {},
   "source": [
    "# Method to calculate the PCA which captures very less variance"
   ]
  },
  {
   "cell_type": "code",
   "execution_count": 10,
   "metadata": {
    "collapsed": false
   },
   "outputs": [],
   "source": [
    "class PCA_decomp:\n",
    "    def __init__(self):\n",
    "        self.e_values = None\n",
    "        self.e_vectors = None\n",
    "        self.mean_data = None\n",
    "\n",
    "    # Find all eigenvalues and eigenvectors\n",
    "    # data -> instances as rows\n",
    "    def prepare(self, data):\n",
    "        # Substract mean\n",
    "        self.mean_data = np.mean(data, axis=0)\n",
    "        adj_data = data - self.mean_data\n",
    "        # Covariance matrix\n",
    "        covariance = np.cov(adj_data.T)\n",
    "        # Eigenstuff\n",
    "        self.e_values, self.e_vectors = np.linalg.eig(covariance)\n",
    "        i = np.argsort(self.e_values)\n",
    "        i = i[::-1]\n",
    "        self.e_vectors = self.e_vectors[:,i]\n",
    "        self.e_values = self.e_values[i]\n",
    "        # Print the coverage of variance\n",
    "        table = pd.DataFrame(index=['eVal','eTotal', 'Idiv%', '%'], columns=list(range(len(self.e_values))))\n",
    "        current_val = 0\n",
    "        total_val = np.sum(self.e_values)\n",
    "        for i, val in enumerate(self.e_values):\n",
    "            current_val += val\n",
    "            table[i] = [val, current_val, val/total_val, current_val/total_val]\n",
    "        print('Coverage of Variance:')\n",
    "        print(table)\n",
    "        print(\"\\n\")\n",
    "        return table\n",
    "\n",
    "    # Project the data into the normal or abnormal subspace\n",
    "    def project(self, data, dimensions, normal_subspace=True):\n",
    "        adj_data = data - self.mean_data\n",
    "        if normal_subspace:\n",
    "            # Extract only the top most eigenvectors\n",
    "            e_vectors = self.e_vectors[:,:dimensions]\n",
    "        else:\n",
    "            # Extract the smallers eigenvectors as the anomalous part\n",
    "            e_vectors = self.e_vectors[:,dimensions:]\n",
    "        # Return the projected data\n",
    "        return np.dot(adj_data, e_vectors)\n",
    "\n",
    "    def revert(self, projected_data, dimensions):\n",
    "        e_vectors = self.e_vectors[:,:dimensions]\n",
    "        return np.dot(projected_data, e_vectors.T) + self.mean_data"
   ]
  },
  {
   "cell_type": "code",
   "execution_count": 11,
   "metadata": {
    "collapsed": false
   },
   "outputs": [
    {
     "name": "stdout",
     "output_type": "stream",
     "text": [
      "Coverage of Variance:\n",
      "               0         1         2         3         4         5         6  \\\n",
      "eVal    6.217087  2.007879  0.686996  0.049837  0.028351  0.005651  0.003765   \n",
      "eTotal  6.217087  8.224965  8.911962  8.961798  8.990150  8.995801  8.999566   \n",
      "Idiv%   0.690786  0.223097  0.076333  0.005537  0.003150  0.000628  0.000418   \n",
      "%       0.690786  0.913883  0.990215  0.995753  0.998903  0.999531  0.999949   \n",
      "\n",
      "               7         8  \n",
      "eVal    0.000424  0.000034  \n",
      "eTotal  8.999990  9.000024  \n",
      "Idiv%   0.000047  0.000004  \n",
      "%       0.999996  1.000000  \n",
      "\n",
      "\n"
     ]
    }
   ],
   "source": [
    "a = PCA_decomp()\n",
    "df_pca = a.prepare(X_std)"
   ]
  },
  {
   "cell_type": "markdown",
   "metadata": {},
   "source": [
    "Split the PCA components into normal and abnormal depending on the variance. The first 4 components capture most of the variances as can be seen from the *sklearn_pca.explained_variance_ratio_.cumsum()* plot and hence, will be considered as **normal** and rest as **abnormal**"
   ]
  },
  {
   "cell_type": "code",
   "execution_count": 12,
   "metadata": {
    "collapsed": false
   },
   "outputs": [],
   "source": [
    "df_pca_abnormal = a.project(X_std,4,normal_subspace=False)"
   ]
  },
  {
   "cell_type": "code",
   "execution_count": 13,
   "metadata": {
    "collapsed": false
   },
   "outputs": [
    {
     "data": {
      "text/plain": [
       "(380589, 5)"
      ]
     },
     "execution_count": 13,
     "metadata": {},
     "output_type": "execute_result"
    }
   ],
   "source": [
    "df_pca_abnormal.shape"
   ]
  },
  {
   "cell_type": "code",
   "execution_count": 14,
   "metadata": {
    "collapsed": false
   },
   "outputs": [
    {
     "data": {
      "text/plain": [
       "[<matplotlib.lines.Line2D at 0x7f9e0da03b50>,\n",
       " <matplotlib.lines.Line2D at 0x7f9e0da03d50>,\n",
       " <matplotlib.lines.Line2D at 0x7f9e0da03e90>,\n",
       " <matplotlib.lines.Line2D at 0x7f9e0da03fd0>,\n",
       " <matplotlib.lines.Line2D at 0x7f9e0da12150>]"
      ]
     },
     "execution_count": 14,
     "metadata": {},
     "output_type": "execute_result"
    },
    {
     "data": {
      "image/png": "[encoded data removed]",
      "text/plain": [
       "<matplotlib.figure.Figure at 0x7f9e2316e8d0>"
      ]
     },
     "metadata": {},
     "output_type": "display_data"
    }
   ],
   "source": [
    "plt.plot(df_pca_abnormal)"
   ]
  },
  {
   "cell_type": "markdown",
   "metadata": {},
   "source": [
    "# Calculate the Squared Prediction Error"
   ]
  },
  {
   "cell_type": "markdown",
   "metadata": {},
   "source": [
    "$$ y = ŷ + ỹ $$\n",
    "\n",
    "\n",
    "\n",
    "$$ŷ = PP^Ty = Cy$$ and $$ỹ = I − PP^T y = C̃y $$\n",
    "\n",
    "\n",
    "$$ \\textbf{SPE} ≡  \\parallel ỹ \\space \\parallel ^ 2 $$\n",
    "\n",
    "$$ \\delta^2_\\alpha == \\phi_1 \\Bigg[ \\frac{c_\\alpha\\sqrt{2\\phi_2 h^2_0}}{\\phi_1} + 1 + \\frac{ \\phi_2 h_0(h_0 -1)}{\\phi_1 ^ 2} \\Bigg]^\\frac{1}{h_0} $$\n",
    "\n",
    "$$\\phi_i=\\sum_{j=r+1}^m \\lambda^i_j \\quad for \\quad i = 1,2,3 $$\n",
    "\n",
    "$$ h_0 = 1 - \\frac{2\\phi_1 \\phi_3}{3\\phi_2 ^2} $$"
   ]
  },
  {
   "cell_type": "code",
   "execution_count": 15,
   "metadata": {
    "collapsed": true
   },
   "outputs": [],
   "source": [
    "def calc_spe(data):\n",
    "    norm_val = np.linalg.norm(data,axis=1)\n",
    "    SPE = norm_val * norm_val\n",
    "    return SPE"
   ]
  },
  {
   "cell_type": "code",
   "execution_count": 16,
   "metadata": {
    "collapsed": false
   },
   "outputs": [
    {
     "data": {
      "text/plain": [
       "array([ 0.04229103,  0.04282484,  0.04337661, ...,  0.01159356,\n",
       "        0.01220878,  0.01285241])"
      ]
     },
     "execution_count": 16,
     "metadata": {},
     "output_type": "execute_result"
    }
   ],
   "source": [
    "spe_err = calc_spe(df_pca_abnormal)\n",
    "spe_err"
   ]
  },
  {
   "cell_type": "code",
   "execution_count": 17,
   "metadata": {
    "collapsed": false
   },
   "outputs": [
    {
     "data": {
      "text/plain": [
       "380589"
      ]
     },
     "execution_count": 17,
     "metadata": {},
     "output_type": "execute_result"
    }
   ],
   "source": [
    "spe_err.shape[0]"
   ]
  },
  {
   "cell_type": "code",
   "execution_count": 18,
   "metadata": {
    "collapsed": false
   },
   "outputs": [
    {
     "data": {
      "text/plain": [
       "[<matplotlib.lines.Line2D at 0x7f9e0d8f2d90>]"
      ]
     },
     "execution_count": 18,
     "metadata": {},
     "output_type": "execute_result"
    },
    {
     "data": {
      "image/png": "[encoded data removed]",
      "text/plain": [
       "<matplotlib.figure.Figure at 0x7f9e0e0961d0>"
      ]
     },
     "metadata": {},
     "output_type": "display_data"
    }
   ],
   "source": [
    "plt.plot(spe_err)"
   ]
  },
  {
   "cell_type": "markdown",
   "metadata": {
    "collapsed": true
   },
   "source": [
    "# Calculate the Q-threshold"
   ]
  },
  {
   "cell_type": "markdown",
   "metadata": {},
   "source": [
    "Remember eigen values are in descending order"
   ]
  },
  {
   "cell_type": "code",
   "execution_count": 19,
   "metadata": {
    "collapsed": false
   },
   "outputs": [
    {
     "data": {
      "text/plain": [
       "0    6.217087\n",
       "1    2.007879\n",
       "2    0.686996\n",
       "3    0.049837\n",
       "4    0.028351\n",
       "5    0.005651\n",
       "6    0.003765\n",
       "7    0.000424\n",
       "8    0.000034\n",
       "Name: eVal, dtype: float64"
      ]
     },
     "execution_count": 19,
     "metadata": {},
     "output_type": "execute_result"
    }
   ],
   "source": [
    "eig_vals = df_pca.iloc[0,:]\n",
    "eig_vals# gives the eigen values of the residual PCA components"
   ]
  },
  {
   "cell_type": "markdown",
   "metadata": {},
   "source": [
    "$$\\phi_i=\\sum_{j=r+1}^m \\lambda^i_j \\quad for \\quad i = 1,2,3 $$"
   ]
  },
  {
   "cell_type": "code",
   "execution_count": 20,
   "metadata": {
    "collapsed": false
   },
   "outputs": [
    {
     "name": "stdout",
     "output_type": "stream",
     "text": [
      "5\n",
      "6\n",
      "7\n",
      "8\n",
      "5\n",
      "6\n",
      "7\n",
      "8\n",
      "5\n",
      "6\n",
      "7\n",
      "8\n"
     ]
    }
   ],
   "source": [
    "list_eig = []\n",
    "eig_vals_j = 0\n",
    "for i in (1,2,3):\n",
    "    for j in range(df_pca_abnormal.shape[1], data_smooth.shape[1]):\n",
    "        print j\n",
    "        eig_vals_j += eig_vals[j]\n",
    "    list_eig.append(np.power(eig_vals_j,i))"
   ]
  },
  {
   "cell_type": "code",
   "execution_count": 21,
   "metadata": {
    "collapsed": false
   },
   "outputs": [
    {
     "data": {
      "text/plain": [
       "[0.0098739965321339995, 0.00038998323006637697, 2.59921781635443e-05]"
      ]
     },
     "execution_count": 21,
     "metadata": {},
     "output_type": "execute_result"
    }
   ],
   "source": [
    "list_eig"
   ]
  },
  {
   "cell_type": "code",
   "execution_count": 22,
   "metadata": {
    "collapsed": false
   },
   "outputs": [],
   "source": [
    "phi_1,phi_2,phi_3 = list_eig[0],list_eig[1],list_eig[2]"
   ]
  },
  {
   "cell_type": "code",
   "execution_count": 23,
   "metadata": {
    "collapsed": false
   },
   "outputs": [
    {
     "data": {
      "text/plain": [
       "0.0098739965321339995"
      ]
     },
     "execution_count": 23,
     "metadata": {},
     "output_type": "execute_result"
    }
   ],
   "source": [
    "phi_1"
   ]
  },
  {
   "cell_type": "markdown",
   "metadata": {},
   "source": [
    "$$ h_0 = 1 - \\frac{2\\phi_1 \\phi_3}{3\\phi_2 ^2} $$"
   ]
  },
  {
   "cell_type": "code",
   "execution_count": 24,
   "metadata": {
    "collapsed": false
   },
   "outputs": [],
   "source": [
    "h0 = 1 - ((2 * phi_1 * phi_3)/(3 * phi_2 * phi_2))"
   ]
  },
  {
   "cell_type": "code",
   "execution_count": 25,
   "metadata": {
    "collapsed": false
   },
   "outputs": [
    {
     "data": {
      "text/plain": [
       "-0.125"
      ]
     },
     "execution_count": 25,
     "metadata": {},
     "output_type": "execute_result"
    }
   ],
   "source": [
    "h0"
   ]
  },
  {
   "cell_type": "markdown",
   "metadata": {},
   "source": [
    "$$ \\delta^2_\\alpha == \\phi_1 \\Bigg[ \\frac{c_\\alpha\\sqrt{2\\phi_2 h^2_0}}{\\phi_1} + 1 + \\frac{ \\phi_2 h_0(h_0 -1)}{\\phi_1 ^ 2} \\Bigg]^\\frac{1}{h_0} $$"
   ]
  },
  {
   "cell_type": "code",
   "execution_count": 26,
   "metadata": {
    "collapsed": false
   },
   "outputs": [],
   "source": [
    "a = 2.576\n",
    "b = np.sqrt(2 * phi_2 * h0 * h0)\n",
    "c = phi_1\n",
    "d = phi_2 * h0 * (h0 - 1)\n",
    "e1 = 1/h0\n",
    "threshold = ( c * np.power( ((a * b)/c) + 1 + (d/(c * c)),e1) )"
   ]
  },
  {
   "cell_type": "code",
   "execution_count": 27,
   "metadata": {
    "collapsed": false
   },
   "outputs": [
    {
     "data": {
      "text/plain": [
       "7.0525124850113597e-06"
      ]
     },
     "execution_count": 27,
     "metadata": {},
     "output_type": "execute_result"
    }
   ],
   "source": [
    "threshold"
   ]
  },
  {
   "cell_type": "code",
   "execution_count": 28,
   "metadata": {
    "collapsed": false
   },
   "outputs": [
    {
     "name": "stdout",
     "output_type": "stream",
     "text": [
      "380589\n"
     ]
    }
   ],
   "source": [
    "count = 0\n",
    "for i in range(spe_err.shape[0]):\n",
    "    if spe_err[i] > threshold:\n",
    "        count = count + 1\n",
    "print count"
   ]
  },
  {
   "cell_type": "code",
   "execution_count": null,
   "metadata": {
    "collapsed": true
   },
   "outputs": [],
   "source": []
  }
 ],
 "metadata": {
  "anaconda-cloud": {},
  "kernelspec": {
   "display_name": "Python 2",
   "language": "python",
   "name": "python2"
  },
  "language_info": {
   "codemirror_mode": {
    "name": "ipython",
    "version": 2
   },
   "file_extension": ".py",
   "mimetype": "text/x-python",
   "name": "python",
   "nbconvert_exporter": "python",
   "pygments_lexer": "ipython2",
   "version": "2.7.13"
  }
 },
 "nbformat": 4,
 "nbformat_minor": 1
}
