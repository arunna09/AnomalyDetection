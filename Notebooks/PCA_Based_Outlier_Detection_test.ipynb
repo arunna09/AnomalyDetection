{
 "cells": [
  {
   "cell_type": "code",
   "execution_count": 1,
   "metadata": {
    "collapsed": false
   },
   "outputs": [],
   "source": [
    "%matplotlib inline\n",
    "import pandas as pd\n",
    "import numpy as np\n",
    "import matplotlib.pyplot as plt\n",
    "from scipy import stats\n",
    "\n",
    "from mpl_toolkits.mplot3d import Axes3D\n",
    "import pylab\n",
    "import itertools\n",
    "import matplotlib as mpl\n",
    "from scipy import linalg\n",
    "\n",
    "from sklearn.preprocessing import StandardScaler\n",
    "from sklearn.decomposition import PCA\n",
    "\n",
    "\n",
    "import seaborn as sns\n",
    "sns.set()"
   ]
  },
  {
   "cell_type": "code",
   "execution_count": 2,
   "metadata": {
    "collapsed": false
   },
   "outputs": [],
   "source": [
    "df = pd.read_csv('data/Test_data_07_11_2015.csv',sep=',')"
   ]
  },
  {
   "cell_type": "code",
   "execution_count": 3,
   "metadata": {
    "collapsed": true
   },
   "outputs": [],
   "source": [
    "X = df[[\"V1\",\"V2\",\"V3\",\"I1\",\"I2\",\"I3\",\"Pges\",\"Sges\",\"CosPhi\"]]"
   ]
  },
  {
   "cell_type": "code",
   "execution_count": 4,
   "metadata": {
    "collapsed": true
   },
   "outputs": [],
   "source": [
    "r = X.rolling(60).mean()\n"
   ]
  },
  {
   "cell_type": "code",
   "execution_count": 5,
   "metadata": {
    "collapsed": false
   },
   "outputs": [
    {
     "data": {
      "text/plain": [
       "(76071, 9)"
      ]
     },
     "execution_count": 5,
     "metadata": {},
     "output_type": "execute_result"
    }
   ],
   "source": [
    "data_smooth = pd.DataFrame(r.iloc[59:,:])\n",
    "data_smooth.shape"
   ]
  },
  {
   "cell_type": "markdown",
   "metadata": {
    "collapsed": false
   },
   "source": [
    "plt.hist(data_smooth.iloc[:,0],bins=1000)\n",
    "plt.show()"
   ]
  },
  {
   "cell_type": "markdown",
   "metadata": {},
   "source": [
    "# PCA Based Anomaly Detection "
   ]
  },
  {
   "cell_type": "code",
   "execution_count": 6,
   "metadata": {
    "collapsed": false
   },
   "outputs": [],
   "source": [
    "X_std = StandardScaler().fit_transform(data_smooth)"
   ]
  },
  {
   "cell_type": "code",
   "execution_count": 7,
   "metadata": {
    "collapsed": false
   },
   "outputs": [],
   "source": [
    "sklearn_pca = PCA(n_components=9)\n",
    "Y_sklearn = sklearn_pca.fit_transform(X_std)"
   ]
  },
  {
   "cell_type": "code",
   "execution_count": 8,
   "metadata": {
    "collapsed": false
   },
   "outputs": [
    {
     "data": {
      "text/plain": [
       "[<matplotlib.lines.Line2D at 0x7f1b02b6a410>]"
      ]
     },
     "execution_count": 8,
     "metadata": {},
     "output_type": "execute_result"
    },
    {
     "data": {
      "image/png": "[encoded data removed]",
      "text/plain": [
       "<matplotlib.figure.Figure at 0x7f1b3847a0d0>"
      ]
     },
     "metadata": {},
     "output_type": "display_data"
    }
   ],
   "source": [
    "plt.plot(sklearn_pca.explained_variance_ratio_.cumsum())"
   ]
  },
  {
   "cell_type": "markdown",
   "metadata": {},
   "source": [
    "# Method to calculate the PCA which captures very less variance"
   ]
  },
  {
   "cell_type": "code",
   "execution_count": 9,
   "metadata": {
    "collapsed": false
   },
   "outputs": [],
   "source": [
    "class PCA_decomp:\n",
    "    def __init__(self):\n",
    "        self.e_values = None\n",
    "        self.e_vectors = None\n",
    "        self.mean_data = None\n",
    "\n",
    "    # Find all eigenvalues and eigenvectors\n",
    "    # data -> instances as rows\n",
    "    def prepare(self, data):\n",
    "        # Substract mean\n",
    "        self.mean_data = np.mean(data, axis=0)\n",
    "        adj_data = data - self.mean_data\n",
    "        # Covariance matrix\n",
    "        covariance = np.cov(adj_data.T)\n",
    "        # Eigenstuff\n",
    "        self.e_values, self.e_vectors = np.linalg.eig(covariance)\n",
    "        i = np.argsort(self.e_values)\n",
    "        i = i[::-1]\n",
    "        self.e_vectors = self.e_vectors[:,i]\n",
    "        self.e_values = self.e_values[i]\n",
    "        # Print the coverage of variance\n",
    "        table = pd.DataFrame(index=['eVal','eTotal', 'Idiv%', '%'], columns=list(range(len(self.e_values))))\n",
    "        current_val = 0\n",
    "        total_val = np.sum(self.e_values)\n",
    "        for i, val in enumerate(self.e_values):\n",
    "            current_val += val\n",
    "            table[i] = [val, current_val, val/total_val, current_val/total_val]\n",
    "        print('Coverage of Variance:')\n",
    "        print(table)\n",
    "        print(\"\\n\")\n",
    "        return table\n",
    "\n",
    "    # Project the data into the normal or abnormal subspace\n",
    "    def project(self, data, dimensions, normal_subspace=True):\n",
    "        adj_data = data - self.mean_data\n",
    "        if normal_subspace:\n",
    "            # Extract only the top most eigenvectors\n",
    "            e_vectors = self.e_vectors[:,:dimensions]\n",
    "        else:\n",
    "            # Extract the smallers eigenvectors as the anomalous part\n",
    "            e_vectors = self.e_vectors[:,dimensions:]\n",
    "        # Return the projected data\n",
    "        return np.dot(adj_data, e_vectors)\n",
    "\n",
    "    def revert(self, projected_data, dimensions):\n",
    "        e_vectors = self.e_vectors[:,:dimensions]\n",
    "        return np.dot(projected_data, e_vectors.T) + self.mean_data"
   ]
  },
  {
   "cell_type": "code",
   "execution_count": 10,
   "metadata": {
    "collapsed": false
   },
   "outputs": [
    {
     "name": "stdout",
     "output_type": "stream",
     "text": [
      "Coverage of Variance:\n",
      "               0         1         2         3         4         5         6  \\\n",
      "eVal    6.276633  1.999516  0.648243  0.042887  0.024598  0.004565  0.003294   \n",
      "eTotal  6.276633  8.276150  8.924393  8.967280  8.991878  8.996443  8.999737   \n",
      "Idiv%   0.697395  0.222166  0.072026  0.004765  0.002733  0.000507  0.000366   \n",
      "%       0.697395  0.919560  0.991586  0.996351  0.999084  0.999592  0.999958   \n",
      "\n",
      "               7         8  \n",
      "eVal    0.000350  0.000031  \n",
      "eTotal  9.000087  9.000118  \n",
      "Idiv%   0.000039  0.000003  \n",
      "%       0.999997  1.000000  \n",
      "\n",
      "\n"
     ]
    }
   ],
   "source": [
    "a = PCA_decomp()\n",
    "df_pca = a.prepare(X_std)"
   ]
  },
  {
   "cell_type": "markdown",
   "metadata": {},
   "source": [
    "Split the PCA components into normal and abnormal depending on the variance. The first 4 components capture most of the variances as can be seen from the *sklearn_pca.explained_variance_ratio_.cumsum()* plot and hence, will be considered as **normal** and rest as **abnormal**"
   ]
  },
  {
   "cell_type": "code",
   "execution_count": 11,
   "metadata": {
    "collapsed": false
   },
   "outputs": [],
   "source": [
    "df_pca_abnormal = a.project(X_std,3,normal_subspace=False)"
   ]
  },
  {
   "cell_type": "code",
   "execution_count": 12,
   "metadata": {
    "collapsed": false
   },
   "outputs": [
    {
     "data": {
      "text/plain": [
       "(76071, 6)"
      ]
     },
     "execution_count": 12,
     "metadata": {},
     "output_type": "execute_result"
    }
   ],
   "source": [
    "df_pca_abnormal.shape"
   ]
  },
  {
   "cell_type": "code",
   "execution_count": 13,
   "metadata": {
    "collapsed": false
   },
   "outputs": [
    {
     "data": {
      "text/plain": [
       "array([[  2.69264636e-01,  -2.07164954e-01,   1.04851762e-01,\n",
       "         -1.68966308e-02,  -5.25643411e-03,   2.44004487e-04],\n",
       "       [  2.71388242e-01,  -2.08410476e-01,   1.04465838e-01,\n",
       "         -1.61525340e-02,  -5.06404054e-03,   3.03346819e-04],\n",
       "       [  2.73152731e-01,  -2.10580055e-01,   1.04524660e-01,\n",
       "         -1.57509917e-02,  -4.58404076e-03,   2.63105162e-04],\n",
       "       [  2.74555708e-01,  -2.10709639e-01,   1.04115024e-01,\n",
       "         -1.46279301e-02,  -4.25965581e-03,   3.18537134e-04],\n",
       "       [  2.78646687e-01,  -2.12480742e-01,   1.02251218e-01,\n",
       "         -1.41609908e-02,  -3.93924994e-03,   3.30009399e-04]])"
      ]
     },
     "execution_count": 13,
     "metadata": {},
     "output_type": "execute_result"
    }
   ],
   "source": [
    "df_pca_abnormal[:5]"
   ]
  },
  {
   "cell_type": "code",
   "execution_count": 14,
   "metadata": {
    "collapsed": false
   },
   "outputs": [
    {
     "data": {
      "text/plain": [
       "[<matplotlib.lines.Line2D at 0x7f1b02a13d90>,\n",
       " <matplotlib.lines.Line2D at 0x7f1b02a13f90>,\n",
       " <matplotlib.lines.Line2D at 0x7f1b02a22110>,\n",
       " <matplotlib.lines.Line2D at 0x7f1b02a22250>,\n",
       " <matplotlib.lines.Line2D at 0x7f1b02a22390>,\n",
       " <matplotlib.lines.Line2D at 0x7f1b02a224d0>]"
      ]
     },
     "execution_count": 14,
     "metadata": {},
     "output_type": "execute_result"
    },
    {
     "data": {
      "image/png": "[encoded data removed]",
      "text/plain": [
       "<matplotlib.figure.Figure at 0x7f1b02ad7a90>"
      ]
     },
     "metadata": {},
     "output_type": "display_data"
    }
   ],
   "source": [
    "plt.plot(df_pca_abnormal)\n",
    "plt.show()"
   ]
  },
  {
   "cell_type": "markdown",
   "metadata": {},
   "source": [
    "# Calculate the Squared Prediction Error"
   ]
  },
  {
   "cell_type": "markdown",
   "metadata": {},
   "source": [
    "$$ y = ŷ + ỹ $$\n",
    "\n",
    "\n",
    "\n",
    "$$ŷ = PP^Ty = Cy$$ and $$ỹ = I − PP^T y = C̃y $$\n",
    "\n",
    "\n",
    "$$ \\textbf{SPE} ≡  \\parallel ỹ \\space \\parallel ^ 2 $$\n",
    "\n",
    "$$ \\delta^2_\\alpha == \\phi_1 \\Bigg[ \\frac{c_\\alpha\\sqrt{2\\phi_2 h^2_0}}{\\phi_1} + 1 + \\frac{ \\phi_2 h_0(h_0 -1)}{\\phi_1 ^ 2} \\Bigg]^\\frac{1}{h_0} $$\n",
    "\n",
    "$$\\phi_i=\\sum_{j=r+1}^m \\lambda^i_j \\quad for \\quad i = 1,2,3 $$\n",
    "\n",
    "$$ h_0 = 1 - \\frac{2\\phi_1 \\phi_3}{3\\phi_2 ^2} $$"
   ]
  },
  {
   "cell_type": "code",
   "execution_count": 15,
   "metadata": {
    "collapsed": true
   },
   "outputs": [],
   "source": [
    "def calc_spe(data):\n",
    "    norm_val = np.linalg.norm(data,axis=1)\n",
    "    SPE = norm_val * norm_val\n",
    "    return SPE"
   ]
  },
  {
   "cell_type": "code",
   "execution_count": 16,
   "metadata": {
    "collapsed": false
   },
   "outputs": [
    {
     "data": {
      "text/plain": [
       "array([ 0.12672784,  0.12828626,  0.13015095, ...,  0.00747462,\n",
       "        0.00747891,  0.00757282])"
      ]
     },
     "execution_count": 16,
     "metadata": {},
     "output_type": "execute_result"
    }
   ],
   "source": [
    "spe_err = calc_spe(df_pca_abnormal)\n",
    "spe_err"
   ]
  },
  {
   "cell_type": "code",
   "execution_count": 17,
   "metadata": {
    "collapsed": false
   },
   "outputs": [
    {
     "data": {
      "text/plain": [
       "76071"
      ]
     },
     "execution_count": 17,
     "metadata": {},
     "output_type": "execute_result"
    }
   ],
   "source": [
    "spe_err.shape[0]"
   ]
  },
  {
   "cell_type": "code",
   "execution_count": 18,
   "metadata": {
    "collapsed": false
   },
   "outputs": [
    {
     "data": {
      "text/plain": [
       "[<matplotlib.lines.Line2D at 0x7f1b01a0c090>]"
      ]
     },
     "execution_count": 18,
     "metadata": {},
     "output_type": "execute_result"
    },
    {
     "data": {
      "image/png": "[encoded data removed]",
      "text/plain": [
       "<matplotlib.figure.Figure at 0x7f1b01a93d50>"
      ]
     },
     "metadata": {},
     "output_type": "display_data"
    }
   ],
   "source": [
    "plt.plot(spe_err)"
   ]
  },
  {
   "cell_type": "code",
   "execution_count": 47,
   "metadata": {
    "collapsed": false
   },
   "outputs": [
    {
     "name": "stdout",
     "output_type": "stream",
     "text": [
      "116\n"
     ]
    }
   ],
   "source": [
    "count = 0\n",
    "spe_err_gt = []\n",
    "for i in range(spe_err.shape[0]):\n",
    "    if spe_err[i] > 0.7:\n",
    "        count = count + 1\n",
    "        spe_err_gt.append(i)\n",
    "print count"
   ]
  },
  {
   "cell_type": "code",
   "execution_count": 48,
   "metadata": {
    "collapsed": false
   },
   "outputs": [
    {
     "data": {
      "text/plain": [
       "[34754,\n",
       " 34755,\n",
       " 34756,\n",
       " 34757,\n",
       " 34758,\n",
       " 34759,\n",
       " 34760,\n",
       " 34761,\n",
       " 34762,\n",
       " 34763,\n",
       " 34764,\n",
       " 34765,\n",
       " 34766,\n",
       " 34767,\n",
       " 34768,\n",
       " 34769,\n",
       " 34770,\n",
       " 34771,\n",
       " 34772,\n",
       " 34773,\n",
       " 34774,\n",
       " 34775,\n",
       " 34776,\n",
       " 34777,\n",
       " 34778,\n",
       " 34779,\n",
       " 34780,\n",
       " 34781,\n",
       " 34782,\n",
       " 34783,\n",
       " 34784,\n",
       " 34785,\n",
       " 34786,\n",
       " 34787,\n",
       " 34788,\n",
       " 34789,\n",
       " 34790,\n",
       " 34791,\n",
       " 34792,\n",
       " 34793,\n",
       " 34794,\n",
       " 34795,\n",
       " 34796,\n",
       " 34797,\n",
       " 34798,\n",
       " 34799,\n",
       " 34800,\n",
       " 34801,\n",
       " 34802,\n",
       " 34803,\n",
       " 34804,\n",
       " 34805,\n",
       " 34806,\n",
       " 34807,\n",
       " 34808,\n",
       " 34809,\n",
       " 34810,\n",
       " 34811,\n",
       " 34812,\n",
       " 34813,\n",
       " 34814,\n",
       " 34815,\n",
       " 34816,\n",
       " 34817,\n",
       " 34818,\n",
       " 34819,\n",
       " 34820,\n",
       " 34821,\n",
       " 34822,\n",
       " 34823,\n",
       " 34824,\n",
       " 34825,\n",
       " 34826,\n",
       " 34827,\n",
       " 34828,\n",
       " 34829,\n",
       " 34830,\n",
       " 34831,\n",
       " 34832,\n",
       " 34833,\n",
       " 34834,\n",
       " 34835,\n",
       " 34836,\n",
       " 34837,\n",
       " 34838,\n",
       " 34839,\n",
       " 34840,\n",
       " 34841,\n",
       " 34842,\n",
       " 66118,\n",
       " 66119,\n",
       " 66120,\n",
       " 66121,\n",
       " 66122,\n",
       " 66123,\n",
       " 66124,\n",
       " 66125,\n",
       " 66126,\n",
       " 66127,\n",
       " 66128,\n",
       " 66129,\n",
       " 66130,\n",
       " 66131,\n",
       " 66132,\n",
       " 66133,\n",
       " 66134,\n",
       " 66135,\n",
       " 66136,\n",
       " 66137,\n",
       " 66138,\n",
       " 66139,\n",
       " 66140,\n",
       " 66141,\n",
       " 66142,\n",
       " 66143,\n",
       " 66144]"
      ]
     },
     "execution_count": 48,
     "metadata": {},
     "output_type": "execute_result"
    }
   ],
   "source": [
    "spe_err_gt #red above 1.0 and yellow above 1.5"
   ]
  },
  {
   "cell_type": "markdown",
   "metadata": {
    "collapsed": true
   },
   "source": [
    "# Calculate the Q-threshold"
   ]
  },
  {
   "cell_type": "markdown",
   "metadata": {},
   "source": [
    "Remember eigen values are in descending order"
   ]
  },
  {
   "cell_type": "code",
   "execution_count": 35,
   "metadata": {
    "collapsed": false
   },
   "outputs": [
    {
     "data": {
      "text/plain": [
       "0    6.276633\n",
       "1    1.999516\n",
       "2    0.648243\n",
       "3    0.042887\n",
       "4    0.024598\n",
       "5    0.004565\n",
       "6    0.003294\n",
       "7    0.000350\n",
       "8    0.000031\n",
       "Name: eVal, dtype: float64"
      ]
     },
     "execution_count": 35,
     "metadata": {},
     "output_type": "execute_result"
    }
   ],
   "source": [
    "eig_vals = df_pca.iloc[0,:]\n",
    "eig_vals# gives the eigen values of the residual PCA components"
   ]
  },
  {
   "cell_type": "markdown",
   "metadata": {},
   "source": [
    "$$\\phi_i=\\sum_{j=r+1}^m \\lambda^i_j \\quad for \\quad i = 1,2,3 $$"
   ]
  },
  {
   "cell_type": "code",
   "execution_count": 36,
   "metadata": {
    "collapsed": false
   },
   "outputs": [
    {
     "name": "stdout",
     "output_type": "stream",
     "text": [
      "1\n",
      "7\n",
      "8\n",
      "[0.00038091139815403903]\n",
      "2\n",
      "7\n",
      "8\n",
      "[0.00038091139815403903, 1.4509349324366486e-07]\n",
      "3\n",
      "7\n",
      "8\n",
      "[0.00038091139815403903, 1.4509349324366486e-07, 5.5267765374497992e-11]\n"
     ]
    }
   ],
   "source": [
    "list_eig = []\n",
    "for i in (1,2,3):\n",
    "    print i\n",
    "    eig_vals_j = 0\n",
    "    for j in range(7, X.shape[1]):\n",
    "        print j\n",
    "        eig_vals_j += eig_vals[j]\n",
    "    list_eig.append(np.power(eig_vals_j,i))\n",
    "    print list_eig"
   ]
  },
  {
   "cell_type": "code",
   "execution_count": 37,
   "metadata": {
    "collapsed": false
   },
   "outputs": [
    {
     "data": {
      "text/plain": [
       "[0.00038091139815403903, 1.4509349324366486e-07, 5.5267765374497992e-11]"
      ]
     },
     "execution_count": 37,
     "metadata": {},
     "output_type": "execute_result"
    }
   ],
   "source": [
    "list_eig"
   ]
  },
  {
   "cell_type": "code",
   "execution_count": 38,
   "metadata": {
    "collapsed": false
   },
   "outputs": [],
   "source": [
    "phi_1,phi_2,phi_3 = list_eig[0],list_eig[1],list_eig[2]"
   ]
  },
  {
   "cell_type": "code",
   "execution_count": 39,
   "metadata": {
    "collapsed": false
   },
   "outputs": [
    {
     "data": {
      "text/plain": [
       "0.00038091139815403903"
      ]
     },
     "execution_count": 39,
     "metadata": {},
     "output_type": "execute_result"
    }
   ],
   "source": [
    "phi_1"
   ]
  },
  {
   "cell_type": "markdown",
   "metadata": {},
   "source": [
    "$$ h_0 = 1 - \\frac{2\\phi_1 \\phi_3}{3\\phi_2 ^2} $$"
   ]
  },
  {
   "cell_type": "code",
   "execution_count": 40,
   "metadata": {
    "collapsed": false
   },
   "outputs": [],
   "source": [
    "h0 = 1 - (float(2 * phi_1 * phi_3)/float(3 * phi_2 * phi_2))"
   ]
  },
  {
   "cell_type": "code",
   "execution_count": 41,
   "metadata": {
    "collapsed": false
   },
   "outputs": [
    {
     "data": {
      "text/plain": [
       "0.3333333333333335"
      ]
     },
     "execution_count": 41,
     "metadata": {},
     "output_type": "execute_result"
    }
   ],
   "source": [
    "h0"
   ]
  },
  {
   "cell_type": "code",
   "execution_count": 42,
   "metadata": {
    "collapsed": true
   },
   "outputs": [],
   "source": [
    "h0 = 0.0000000003"
   ]
  },
  {
   "cell_type": "markdown",
   "metadata": {},
   "source": [
    "$$ \\delta^2_\\alpha == \\phi_1 \\Bigg[ \\frac{c_\\alpha\\sqrt{2\\phi_2 h^2_0}}{\\phi_1} + 1 + \\frac{ \\phi_2 h_0(h_0 -1)}{\\phi_1 ^ 2} \\Bigg]^\\frac{1}{h_0} $$"
   ]
  },
  {
   "cell_type": "code",
   "execution_count": 59,
   "metadata": {
    "collapsed": false
   },
   "outputs": [],
   "source": [
    "a = 6\n",
    "b = np.sqrt(2 * phi_2 * h0 * h0)\n",
    "c = phi_1\n",
    "d = phi_2 * h0 * (h0 - 1)\n",
    "e1 = float(1)/float(h0)\n",
    "inner_brackets = np.power( (float(a * b)/float(c) + 1.0 + float(d)/float(c * c)),e1)\n",
    "threshold = ( c * inner_brackets )"
   ]
  },
  {
   "cell_type": "code",
   "execution_count": 60,
   "metadata": {
    "collapsed": false
   },
   "outputs": [
    {
     "data": {
      "text/plain": [
       "0.67864135600011399"
      ]
     },
     "execution_count": 60,
     "metadata": {},
     "output_type": "execute_result"
    }
   ],
   "source": [
    "threshold"
   ]
  },
  {
   "cell_type": "code",
   "execution_count": 61,
   "metadata": {
    "collapsed": false
   },
   "outputs": [
    {
     "name": "stdout",
     "output_type": "stream",
     "text": [
      "148\n"
     ]
    }
   ],
   "source": [
    "count = 0\n",
    "spe_ex_thr = []\n",
    "for i in range(spe_err.shape[0]):\n",
    "    if spe_err[i] > threshold:\n",
    "        count = count + 1\n",
    "        spe_ex_thr.append(i)\n",
    "print count"
   ]
  },
  {
   "cell_type": "code",
   "execution_count": 62,
   "metadata": {
    "collapsed": false
   },
   "outputs": [
    {
     "data": {
      "text/plain": [
       "[2264,\n",
       " 2265,\n",
       " 2266,\n",
       " 2267,\n",
       " 2268,\n",
       " 2269,\n",
       " 2270,\n",
       " 2271,\n",
       " 2272,\n",
       " 2273,\n",
       " 2274,\n",
       " 2275,\n",
       " 2276,\n",
       " 2277,\n",
       " 2278,\n",
       " 2279,\n",
       " 2280,\n",
       " 2281,\n",
       " 2282,\n",
       " 34754,\n",
       " 34755,\n",
       " 34756,\n",
       " 34757,\n",
       " 34758,\n",
       " 34759,\n",
       " 34760,\n",
       " 34761,\n",
       " 34762,\n",
       " 34763,\n",
       " 34764,\n",
       " 34765,\n",
       " 34766,\n",
       " 34767,\n",
       " 34768,\n",
       " 34769,\n",
       " 34770,\n",
       " 34771,\n",
       " 34772,\n",
       " 34773,\n",
       " 34774,\n",
       " 34775,\n",
       " 34776,\n",
       " 34777,\n",
       " 34778,\n",
       " 34779,\n",
       " 34780,\n",
       " 34781,\n",
       " 34782,\n",
       " 34783,\n",
       " 34784,\n",
       " 34785,\n",
       " 34786,\n",
       " 34787,\n",
       " 34788,\n",
       " 34789,\n",
       " 34790,\n",
       " 34791,\n",
       " 34792,\n",
       " 34793,\n",
       " 34794,\n",
       " 34795,\n",
       " 34796,\n",
       " 34797,\n",
       " 34798,\n",
       " 34799,\n",
       " 34800,\n",
       " 34801,\n",
       " 34802,\n",
       " 34803,\n",
       " 34804,\n",
       " 34805,\n",
       " 34806,\n",
       " 34807,\n",
       " 34808,\n",
       " 34809,\n",
       " 34810,\n",
       " 34811,\n",
       " 34812,\n",
       " 34813,\n",
       " 34814,\n",
       " 34815,\n",
       " 34816,\n",
       " 34817,\n",
       " 34818,\n",
       " 34819,\n",
       " 34820,\n",
       " 34821,\n",
       " 34822,\n",
       " 34823,\n",
       " 34824,\n",
       " 34825,\n",
       " 34826,\n",
       " 34827,\n",
       " 34828,\n",
       " 34829,\n",
       " 34830,\n",
       " 34831,\n",
       " 34832,\n",
       " 34833,\n",
       " 34834,\n",
       " 34835,\n",
       " 34836,\n",
       " 34837,\n",
       " 34838,\n",
       " 34839,\n",
       " 34840,\n",
       " 34841,\n",
       " 34842,\n",
       " 34843,\n",
       " 34844,\n",
       " 34845,\n",
       " 66092,\n",
       " 66093,\n",
       " 66094,\n",
       " 66095,\n",
       " 66115,\n",
       " 66116,\n",
       " 66117,\n",
       " 66118,\n",
       " 66119,\n",
       " 66120,\n",
       " 66121,\n",
       " 66122,\n",
       " 66123,\n",
       " 66124,\n",
       " 66125,\n",
       " 66126,\n",
       " 66127,\n",
       " 66128,\n",
       " 66129,\n",
       " 66130,\n",
       " 66131,\n",
       " 66132,\n",
       " 66133,\n",
       " 66134,\n",
       " 66135,\n",
       " 66136,\n",
       " 66137,\n",
       " 66138,\n",
       " 66139,\n",
       " 66140,\n",
       " 66141,\n",
       " 66142,\n",
       " 66143,\n",
       " 66144,\n",
       " 66145,\n",
       " 66146,\n",
       " 66147]"
      ]
     },
     "execution_count": 62,
     "metadata": {},
     "output_type": "execute_result"
    }
   ],
   "source": [
    "spe_ex_thr"
   ]
  }
 ],
 "metadata": {
  "anaconda-cloud": {},
  "kernelspec": {
   "display_name": "Python 2",
   "language": "python",
   "name": "python2"
  },
  "language_info": {
   "codemirror_mode": {
    "name": "ipython",
    "version": 2
   },
   "file_extension": ".py",
   "mimetype": "text/x-python",
   "name": "python",
   "nbconvert_exporter": "python",
   "pygments_lexer": "ipython2",
   "version": "2.7.13"
  }
 },
 "nbformat": 4,
 "nbformat_minor": 1
}
