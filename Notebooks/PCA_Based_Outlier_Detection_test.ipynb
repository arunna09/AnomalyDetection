{
 "cells": [
  {
   "cell_type": "code",
   "execution_count": 2,
   "metadata": {
    "collapsed": false
   },
   "outputs": [],
   "source": [
    "%matplotlib inline\n",
    "import pandas as pd\n",
    "import numpy as np\n",
    "import matplotlib.pyplot as plt\n",
    "from scipy import stats\n",
    "\n",
    "from mpl_toolkits.mplot3d import Axes3D\n",
    "import pylab\n",
    "import itertools\n",
    "import matplotlib as mpl\n",
    "from scipy import linalg\n",
    "\n",
    "from sklearn.preprocessing import StandardScaler\n",
    "from sklearn.decomposition import PCA\n",
    "\n",
    "\n",
    "import seaborn as sns\n",
    "sns.set()"
   ]
  },
  {
   "cell_type": "code",
   "execution_count": 3,
   "metadata": {
    "collapsed": false
   },
   "outputs": [],
   "source": [
    "df = pd.read_csv('Torschlag_Trafo_07122015_to_11122015.csv',sep=',')"
   ]
  },
  {
   "cell_type": "markdown",
   "metadata": {},
   "source": [
    "# Method to calculate the PCA which captures very less variance"
   ]
  },
  {
   "cell_type": "code",
   "execution_count": 3,
   "metadata": {
    "collapsed": true
   },
   "outputs": [],
   "source": [
    "def getLastPCAcomp(data, n_lastcomponents):\n",
    "    # Generate a covariance matrix\n",
    "    mean_vec = np.mean(data,axis=0)\n",
    "    cov_mat = (data - mean_vec).T.dot((data - mean_vec)) / (data.shape[0]-1)\n",
    "\n",
    "    # Get Eigen values and Eigen vectors\n",
    "    eig_vals, eig_vecs = np.linalg.eig(cov_mat)\n",
    "\n",
    "    tmp_dict = {}\n",
    "    for itr in xrange(len(eig_vals)):\n",
    "        tmp_dict.update({eig_vals[itr]:eig_vecs[itr]})\n",
    "\n",
    "    # Eigen vectors corresponding to ascending order eigen values\n",
    "    asc_eigen_vec = [value for (key, value) in sorted(tmp_dict.items())]\n",
    "\n",
    "    return (asc_eigen_vec[:n_lastcomponents])"
   ]
  },
  {
   "cell_type": "code",
   "execution_count": 4,
   "metadata": {
    "collapsed": false
   },
   "outputs": [
    {
     "name": "stdout",
     "output_type": "stream",
     "text": [
      "5\n"
     ]
    }
   ],
   "source": [
    "df_filt = df[[\"V1\",\"V2\",\"V3\",\"I1\",\"I2\",\"I3\",\"I_N\",\"Pges\",\"Sges\",\"CosPhi\",\"Egy_trpt\",\"Egy_con\"]]\n",
    "data = np.array(df_filt)\n",
    "\n",
    "mean_vec = np.mean(data,axis=0)\n",
    "cov_mat = (data - mean_vec).T.dot((data - mean_vec)) / (data.shape[0]-1)\n",
    "eig_vals, eig_vecs = np.linalg.eig(cov_mat)\n",
    "\n",
    "n_lastcomponents = 5\n",
    "pca_components = getLastPCAcomp(data, n_lastcomponents)\n",
    "print len(pca_components)"
   ]
  },
  {
   "cell_type": "code",
   "execution_count": 11,
   "metadata": {
    "collapsed": false
   },
   "outputs": [
    {
     "data": {
      "text/plain": [
       "380648"
      ]
     },
     "execution_count": 11,
     "metadata": {},
     "output_type": "execute_result"
    }
   ],
   "source": [
    "data.shape[0]"
   ]
  },
  {
   "cell_type": "code",
   "execution_count": 5,
   "metadata": {
    "collapsed": false
   },
   "outputs": [
    {
     "data": {
      "text/plain": [
       "[0.0,\n",
       " 0.00039739377297505458,\n",
       " 0.016392281982193762,\n",
       " 0.019248245511819632,\n",
       " 0.63799301110646189,\n",
       " 6.4403085800526956,\n",
       " 9.6551246811133851,\n",
       " 25.927713594261469,\n",
       " 124.48308733983443,\n",
       " 287347.50672412489,\n",
       " 873782537.30320847,\n",
       " 710502374716.58276]"
      ]
     },
     "execution_count": 5,
     "metadata": {},
     "output_type": "execute_result"
    }
   ],
   "source": [
    "sorted(eig_vals)"
   ]
  },
  {
   "cell_type": "code",
   "execution_count": 6,
   "metadata": {
    "collapsed": false
   },
   "outputs": [
    {
     "data": {
      "text/plain": [
       "[array([ -9.99994359e-01,  -3.35625532e-03,  -1.32156785e-04,\n",
       "         -6.52214674e-07,  -1.44283816e-06,  -3.85115668e-07,\n",
       "         -3.95298436e-07,  -4.30816506e-08,   4.14883831e-09,\n",
       "          6.48347277e-09,   8.25236483e-10,   0.00000000e+00]),\n",
       " array([ 0.,  0.,  0.,  0.,  0.,  0.,  0.,  0.,  0.,  0.,  0.,  1.]),\n",
       " array([  6.21679013e-09,  -5.66496925e-07,  -2.76738763e-05,\n",
       "         -1.64068201e-03,   6.76997159e-04,   4.39784004e-04,\n",
       "          3.53359379e-04,   5.76199900e-04,   1.50236392e-02,\n",
       "          1.73949699e-03,   9.99883725e-01,   0.00000000e+00]),\n",
       " array([  2.35011030e-03,  -7.27240489e-01,   6.86373179e-01,\n",
       "          6.79992727e-04,  -1.22972086e-03,  -3.38310981e-04,\n",
       "          5.41061015e-04,   2.28550677e-03,   1.61796020e-05,\n",
       "          3.87345467e-05,   1.88631982e-05,   0.00000000e+00]),\n",
       " array([  2.39976259e-03,  -6.86372115e-01,  -7.27244464e-01,\n",
       "         -1.09207325e-03,   1.31732943e-03,   3.11081663e-04,\n",
       "         -3.47543101e-05,   1.53213749e-04,  -1.69877278e-07,\n",
       "         -1.49339638e-05,  -2.33850854e-05,   0.00000000e+00])]"
      ]
     },
     "execution_count": 6,
     "metadata": {},
     "output_type": "execute_result"
    }
   ],
   "source": [
    "pca_components"
   ]
  },
  {
   "cell_type": "code",
   "execution_count": null,
   "metadata": {
    "collapsed": false
   },
   "outputs": [],
   "source": [
    "mean = np.mean(df_filt['V1'])\n",
    "mean"
   ]
  },
  {
   "cell_type": "code",
   "execution_count": null,
   "metadata": {
    "collapsed": false
   },
   "outputs": [],
   "source": [
    "std = np.std(df_filt['V1'])\n",
    "std"
   ]
  },
  {
   "cell_type": "code",
   "execution_count": null,
   "metadata": {
    "collapsed": false
   },
   "outputs": [],
   "source": [
    "outlier_assumed = mean + 3 *std\n",
    "outlier_assumed"
   ]
  },
  {
   "cell_type": "code",
   "execution_count": null,
   "metadata": {
    "collapsed": false
   },
   "outputs": [],
   "source": [
    "pca_components_test = getLastPCAcomp(data, 12)\n",
    "pca_components_test"
   ]
  },
  {
   "cell_type": "code",
   "execution_count": null,
   "metadata": {
    "collapsed": false
   },
   "outputs": [],
   "source": [
    "plt.plot(pca_components_test)"
   ]
  },
  {
   "cell_type": "markdown",
   "metadata": {},
   "source": [
    "# PCA Based Anomaly Detection "
   ]
  },
  {
   "cell_type": "code",
   "execution_count": 5,
   "metadata": {
    "collapsed": false
   },
   "outputs": [],
   "source": [
    "X_std = StandardScaler().fit_transform(df_filt)"
   ]
  },
  {
   "cell_type": "code",
   "execution_count": 7,
   "metadata": {
    "collapsed": false
   },
   "outputs": [],
   "source": [
    "sklearn_pca = PCA(n_components=12)\n",
    "Y_sklearn = sklearn_pca.fit_transform(X_std)"
   ]
  },
  {
   "cell_type": "code",
   "execution_count": 14,
   "metadata": {
    "collapsed": false
   },
   "outputs": [
    {
     "data": {
      "text/plain": [
       "array([[  6.54359812e+00,  -1.97427324e+00,  -3.59916514e-01,\n",
       "          1.66672947e+00,   8.08426964e-01,  -5.32002158e-02,\n",
       "          1.66829638e-01,   5.34446612e-02,   8.17588456e-02,\n",
       "          8.19573807e-04,   9.10767086e-04,  -0.00000000e+00],\n",
       "       [  6.70684680e+00,  -1.97960886e+00,  -5.49971223e-01,\n",
       "          1.52297937e+00,   6.72670651e-01,  -7.50135584e-02,\n",
       "          2.31734065e-01,   1.81799902e-02,   4.22210107e-02,\n",
       "          7.83333992e-03,  -4.78304449e-03,  -0.00000000e+00],\n",
       "       [  6.70684063e+00,  -1.97961844e+00,  -5.49908936e-01,\n",
       "          1.52289527e+00,   6.72665411e-01,  -7.50186300e-02,\n",
       "          2.31732314e-01,   1.81797134e-02,   4.22214191e-02,\n",
       "          7.83348682e-03,  -4.78316415e-03,  -0.00000000e+00],\n",
       "       [  6.70684063e+00,  -1.97961844e+00,  -5.49908936e-01,\n",
       "          1.52289527e+00,   6.72665411e-01,  -7.50186300e-02,\n",
       "          2.31732314e-01,   1.81797134e-02,   4.22214191e-02,\n",
       "          7.83348682e-03,  -4.78316415e-03,  -0.00000000e+00],\n",
       "       [  6.70684063e+00,  -1.97961844e+00,  -5.49908936e-01,\n",
       "          1.52289527e+00,   6.72665411e-01,  -7.50186300e-02,\n",
       "          2.31732314e-01,   1.81797134e-02,   4.22214191e-02,\n",
       "          7.83348682e-03,  -4.78316415e-03,  -0.00000000e+00],\n",
       "       [  6.48043825e+00,  -2.15371951e+00,  -8.87519238e-01,\n",
       "          1.27818546e+00,   1.15128038e+00,  -3.48554432e-02,\n",
       "          1.72881609e-01,   4.50263621e-02,   7.20552905e-02,\n",
       "          2.02862992e-02,  -4.36223328e-03,  -0.00000000e+00],\n",
       "       [  6.48043825e+00,  -2.15371951e+00,  -8.87519238e-01,\n",
       "          1.27818546e+00,   1.15128038e+00,  -3.48554432e-02,\n",
       "          1.72881609e-01,   4.50263621e-02,   7.20552905e-02,\n",
       "          2.02862992e-02,  -4.36223328e-03,   0.00000000e+00]])"
      ]
     },
     "execution_count": 14,
     "metadata": {},
     "output_type": "execute_result"
    }
   ],
   "source": [
    "Y_sklearn[:7,:]"
   ]
  },
  {
   "cell_type": "code",
   "execution_count": 9,
   "metadata": {
    "collapsed": false
   },
   "outputs": [
    {
     "data": {
      "text/plain": [
       "[<matplotlib.lines.Line2D at 0xa943884c>]"
      ]
     },
     "execution_count": 9,
     "metadata": {},
     "output_type": "execute_result"
    },
    {
     "data": {
      "image/png": "[encoded data removed]",
      "text/plain": [
       "<matplotlib.figure.Figure at 0xa72e8b0c>"
      ]
     },
     "metadata": {},
     "output_type": "display_data"
    }
   ],
   "source": [
    "plt.plot(sklearn_pca.explained_variance_ratio_.cumsum())"
   ]
  },
  {
   "cell_type": "markdown",
   "metadata": {},
   "source": [
    "Split the PCA components into normal and abnormal depending on the variance. The first 4 components capture most of the variances as can be seen from the *sklearn_pca.explained_variance_ratio_.cumsum()* plot and hence, will be considered as **normal** and rest as **abnormal**"
   ]
  },
  {
   "cell_type": "code",
   "execution_count": null,
   "metadata": {
    "collapsed": false
   },
   "outputs": [],
   "source": [
    "Y_sklearn\n",
    "Y_normal = Y_sklearn[:,0:5]\n",
    "Y_abnormal = Y_sklearn[:,5:-1]"
   ]
  },
  {
   "cell_type": "code",
   "execution_count": null,
   "metadata": {
    "collapsed": false
   },
   "outputs": [],
   "source": [
    "sklearn_pca.explained_variance_ratio_.cumsum()"
   ]
  },
  {
   "cell_type": "code",
   "execution_count": null,
   "metadata": {
    "collapsed": false
   },
   "outputs": [],
   "source": [
    "#plt.scatter(Y_sklearn[:,5], Y_sklearn[:,1],color=['red','red','red','red','red','blue','blue','blue','blue','blue'])\n",
    "plt.scatter(Y_normal, Y_abnormal[:,0:5],color=['red','blue'])"
   ]
  },
  {
   "cell_type": "code",
   "execution_count": 10,
   "metadata": {
    "collapsed": false
   },
   "outputs": [],
   "source": [
    "class PCA_decomp:\n",
    "    def __init__(self):\n",
    "        self.e_values = None\n",
    "        self.e_vectors = None\n",
    "        self.mean_data = None\n",
    "\n",
    "    # Find all eigenvalues and eigenvectors\n",
    "    # data -> instances as rows\n",
    "    def prepare(self, data):\n",
    "        # Substract mean\n",
    "        self.mean_data = np.mean(data, axis=0)\n",
    "        adj_data = data - self.mean_data\n",
    "        # Covariance matrix\n",
    "        covariance = np.cov(adj_data.T)\n",
    "        # Eigenstuff\n",
    "        self.e_values, self.e_vectors = np.linalg.eig(covariance)\n",
    "        i = np.argsort(self.e_values)\n",
    "        i = i[::-1]\n",
    "        self.e_vectors = self.e_vectors[:,i]\n",
    "        self.e_values = self.e_values[i]\n",
    "        # Print the coverage of variance\n",
    "        table = pd.DataFrame(index=['eVal','eTotal', 'Idiv%', '%'], columns=list(range(len(self.e_values))))\n",
    "        current_val = 0\n",
    "        total_val = np.sum(self.e_values)\n",
    "        for i, val in enumerate(self.e_values):\n",
    "            current_val += val\n",
    "            table[i] = [val, current_val, val/total_val, current_val/total_val]\n",
    "        print('Coverage of Variance:')\n",
    "        print(table)\n",
    "        print(\"\\n\")\n",
    "\n",
    "    # Project the data into the normal or abnormal subspace\n",
    "    def project(self, data, dimensions, normal_subspace=True):\n",
    "        adj_data = data - self.mean_data\n",
    "        if normal_subspace:\n",
    "            # Extract only the top most eigenvectors\n",
    "            e_vectors = self.e_vectors[:,:dimensions]\n",
    "        else:\n",
    "            # Extract the smallers eigenvectors as the anomalous part\n",
    "            e_vectors = self.e_vectors[:,dimensions:]\n",
    "        # Return the projected data\n",
    "        return np.dot(adj_data, e_vectors)\n",
    "\n",
    "    def revert(self, projected_data, dimensions):\n",
    "        e_vectors = self.e_vectors[:,:dimensions]\n",
    "        return np.dot(projected_data, e_vectors.T) + self.mean_data"
   ]
  },
  {
   "cell_type": "code",
   "execution_count": 11,
   "metadata": {
    "collapsed": false
   },
   "outputs": [
    {
     "data": {
      "text/html": [
       "<div>\n",
       "<table border=\"1\" class=\"dataframe\">\n",
       "  <thead>\n",
       "    <tr style=\"text-align: right;\">\n",
       "      <th></th>\n",
       "      <th>V1</th>\n",
       "      <th>V2</th>\n",
       "      <th>V3</th>\n",
       "      <th>I1</th>\n",
       "      <th>I2</th>\n",
       "      <th>I3</th>\n",
       "      <th>I_N</th>\n",
       "      <th>Pges</th>\n",
       "      <th>Sges</th>\n",
       "      <th>CosPhi</th>\n",
       "      <th>Egy_trpt</th>\n",
       "      <th>Egy_con</th>\n",
       "    </tr>\n",
       "  </thead>\n",
       "  <tbody>\n",
       "    <tr>\n",
       "      <th>0</th>\n",
       "      <td>233.55</td>\n",
       "      <td>232.60</td>\n",
       "      <td>232.56</td>\n",
       "      <td>113.78</td>\n",
       "      <td>146.12</td>\n",
       "      <td>138.27</td>\n",
       "      <td>37.54</td>\n",
       "      <td>87138.89</td>\n",
       "      <td>92784.46</td>\n",
       "      <td>0.93</td>\n",
       "      <td>1674.0</td>\n",
       "      <td>3098679.04</td>\n",
       "    </tr>\n",
       "    <tr>\n",
       "      <th>1</th>\n",
       "      <td>233.40</td>\n",
       "      <td>232.49</td>\n",
       "      <td>232.45</td>\n",
       "      <td>116.19</td>\n",
       "      <td>144.43</td>\n",
       "      <td>140.08</td>\n",
       "      <td>37.54</td>\n",
       "      <td>87920.99</td>\n",
       "      <td>93248.45</td>\n",
       "      <td>0.94</td>\n",
       "      <td>1674.0</td>\n",
       "      <td>3098679.04</td>\n",
       "    </tr>\n",
       "  </tbody>\n",
       "</table>\n",
       "</div>"
      ],
      "text/plain": [
       "       V1      V2      V3      I1      I2      I3    I_N      Pges      Sges  \\\n",
       "0  233.55  232.60  232.56  113.78  146.12  138.27  37.54  87138.89  92784.46   \n",
       "1  233.40  232.49  232.45  116.19  144.43  140.08  37.54  87920.99  93248.45   \n",
       "\n",
       "   CosPhi  Egy_trpt     Egy_con  \n",
       "0    0.93    1674.0  3098679.04  \n",
       "1    0.94    1674.0  3098679.04  "
      ]
     },
     "execution_count": 11,
     "metadata": {},
     "output_type": "execute_result"
    }
   ],
   "source": [
    "df_filt.iloc[:2,:]"
   ]
  },
  {
   "cell_type": "code",
   "execution_count": 12,
   "metadata": {
    "collapsed": false
   },
   "outputs": [
    {
     "name": "stdout",
     "output_type": "stream",
     "text": [
      "Coverage of Variance:\n",
      "                  0             1             2             3             4   \\\n",
      "eVal    7.105024e+11  8.737825e+08  2.873475e+05  1.244831e+02  2.592770e+01   \n",
      "eTotal  7.105024e+11  7.113762e+11  7.113764e+11  7.113764e+11  7.113764e+11   \n",
      "Idiv%   9.987713e-01  1.228298e-03  4.039317e-07  1.749890e-10  3.644723e-11   \n",
      "%       9.987713e-01  9.999996e-01  1.000000e+00  1.000000e+00  1.000000e+00   \n",
      "\n",
      "                  5             6             7             8             9   \\\n",
      "eVal    9.655070e+00  6.439969e+00  6.379833e-01  1.913803e-02  1.585502e-02   \n",
      "eTotal  7.113764e+11  7.113764e+11  7.113764e+11  7.113764e+11  7.113764e+11   \n",
      "Idiv%   1.357238e-11  9.052829e-12  8.968294e-13  2.690282e-14  2.228780e-14   \n",
      "%       1.000000e+00  1.000000e+00  1.000000e+00  1.000000e+00  1.000000e+00   \n",
      "\n",
      "                  10            11  \n",
      "eVal    3.973774e-04  0.000000e+00  \n",
      "eTotal  7.113764e+11  7.113764e+11  \n",
      "Idiv%   5.586036e-16  0.000000e+00  \n",
      "%       1.000000e+00  1.000000e+00  \n",
      "\n",
      "\n"
     ]
    }
   ],
   "source": [
    "a = PCA_decomp()\n",
    "df_pca = a.prepare(df_filt)"
   ]
  },
  {
   "cell_type": "code",
   "execution_count": null,
   "metadata": {
    "collapsed": true
   },
   "outputs": [],
   "source": [
    "df_pca_abnormal = a.project(df_filt,8,normal_subspace=False)"
   ]
  },
  {
   "cell_type": "code",
   "execution_count": null,
   "metadata": {
    "collapsed": false
   },
   "outputs": [],
   "source": [
    "df_pca_abnormal.shape"
   ]
  },
  {
   "cell_type": "code",
   "execution_count": null,
   "metadata": {
    "collapsed": false
   },
   "outputs": [],
   "source": [
    "df_pca_abnormal[:2,:]"
   ]
  },
  {
   "cell_type": "code",
   "execution_count": null,
   "metadata": {
    "collapsed": false
   },
   "outputs": [],
   "source": [
    "plt.plot(df_pca_abnormal)"
   ]
  },
  {
   "cell_type": "markdown",
   "metadata": {},
   "source": [
    "# Calculate the Squared Prediction Error"
   ]
  },
  {
   "cell_type": "code",
   "execution_count": 66,
   "metadata": {
    "collapsed": true
   },
   "outputs": [],
   "source": [
    "def calc_spe(data):\n",
    "    norm_val = np.linalg.norm(data,axis=1)\n",
    "    SPE = norm_val * norm_val\n",
    "    return SPE"
   ]
  },
  {
   "cell_type": "code",
   "execution_count": 67,
   "metadata": {
    "collapsed": false
   },
   "outputs": [
    {
     "data": {
      "text/plain": [
       "array([[ 0.05344466,  0.08175885,  0.00081957,  0.00091077, -0.        ],\n",
       "       [ 0.01817999,  0.04222101,  0.00783334, -0.00478304, -0.        ],\n",
       "       [ 0.01817971,  0.04222142,  0.00783349, -0.00478316, -0.        ],\n",
       "       ..., \n",
       "       [-0.00093463,  0.02050835,  0.03309319, -0.01841953,  0.        ],\n",
       "       [-0.00093463,  0.02050835,  0.03309319, -0.01841953,  0.        ],\n",
       "       [-0.00093463,  0.02050835,  0.03309319, -0.01841953,  0.        ]])"
      ]
     },
     "execution_count": 67,
     "metadata": {},
     "output_type": "execute_result"
    }
   ],
   "source": [
    "residual_PCA = Y_sklearn[:,7:]\n",
    "residual_PCA"
   ]
  },
  {
   "cell_type": "markdown",
   "metadata": {},
   "source": [
    "$$ y = ŷ + ỹ $$\n",
    "\n",
    "\n",
    "\n",
    "$$ŷ = PP^Ty = Cy$$ and $$ỹ = I − PP^T y = C̃y $$\n",
    "\n",
    "\n",
    "$$ \\textbf{SPE} ≡  \\parallel ỹ \\space \\parallel ^ 2 $$\n",
    "\n",
    "$$ \\delta^2_\\alpha == \\phi_1 \\Bigg[ \\frac{c_\\alpha\\sqrt{2\\phi_2 h^2_0}}{\\phi_1} + 1 + \\frac{ \\phi_2 h_0(h_0 -1)}{\\phi_1 ^ 2} \\Bigg]^\\frac{1}{h_0} $$\n",
    "\n",
    "$$\\phi_i=\\sum_{j=r+1}^m \\lambda^i_j \\quad for \\quad i = 1,2,3 $$\n",
    "\n",
    "$$ h_0 = 1 - \\frac{2\\phi_1 \\phi_3}{3\\phi_2 ^2} $$"
   ]
  },
  {
   "cell_type": "code",
   "execution_count": 69,
   "metadata": {
    "collapsed": false
   },
   "outputs": [
    {
     "data": {
      "text/plain": [
       "(380648, 5)"
      ]
     },
     "execution_count": 69,
     "metadata": {},
     "output_type": "execute_result"
    }
   ],
   "source": [
    "residual_PCA.shape"
   ]
  },
  {
   "cell_type": "code",
   "execution_count": 68,
   "metadata": {
    "collapsed": false
   },
   "outputs": [
    {
     "data": {
      "text/plain": [
       "array([ 0.00954234,  0.00219736,  0.00219739, ...,  0.0018559 ,\n",
       "        0.0018559 ,  0.0018559 ])"
      ]
     },
     "execution_count": 68,
     "metadata": {},
     "output_type": "execute_result"
    }
   ],
   "source": [
    "spe_err = calc_spe(residual_PCA)\n",
    "spe_err"
   ]
  },
  {
   "cell_type": "code",
   "execution_count": 72,
   "metadata": {
    "collapsed": false
   },
   "outputs": [
    {
     "data": {
      "text/plain": [
       "380648"
      ]
     },
     "execution_count": 72,
     "metadata": {},
     "output_type": "execute_result"
    }
   ],
   "source": [
    "spe_err.shape[0]"
   ]
  },
  {
   "cell_type": "code",
   "execution_count": 73,
   "metadata": {
    "collapsed": false
   },
   "outputs": [
    {
     "name": "stdout",
     "output_type": "stream",
     "text": [
      "0.655096066478\n",
      "0.549620067734\n",
      "1.6323129624\n",
      "2.99055728583\n",
      "2.61816983609\n",
      "1.41362287361\n",
      "1.02823390541\n",
      "1.00240920378\n",
      "0.831188002387\n",
      "1.12200362731\n",
      "2.77768398332\n",
      "0.547863752776\n",
      "1.72638672325\n",
      "1.28744120153\n",
      "1.26896948522\n",
      "2.9285190072\n",
      "1.0705946633\n",
      "0.682580726931\n",
      "0.529952322145\n",
      "0.947725056281\n",
      "0.978758778867\n",
      "0.537830358269\n",
      "0.637113484558\n",
      "1.61184509401\n",
      "1.18797501979\n",
      "0.817818833379\n",
      "0.500052504333\n",
      "1.77422821209\n",
      "1.19476902198\n",
      "2.58744739615\n",
      "2.53068625047\n",
      "0.971842257942\n",
      "0.971842397422\n",
      "0.971842397422\n",
      "0.971842397422\n"
     ]
    }
   ],
   "source": [
    "for i in range(spe_err.shape[0]):\n",
    "    if spe_err[i] > 0.5:\n",
    "        print spe_err[i]"
   ]
  },
  {
   "cell_type": "code",
   "execution_count": 65,
   "metadata": {
    "collapsed": false
   },
   "outputs": [
    {
     "data": {
      "text/plain": [
       "[<matplotlib.lines.Line2D at 0xa80342cc>]"
      ]
     },
     "execution_count": 65,
     "metadata": {},
     "output_type": "execute_result"
    },
    {
     "data": {
      "image/png": "[encoded data removed]",
      "text/plain": [
       "<matplotlib.figure.Figure at 0xa8883c4c>"
      ]
     },
     "metadata": {},
     "output_type": "display_data"
    }
   ],
   "source": [
    "plt.plot(spe_err)"
   ]
  },
  {
   "cell_type": "markdown",
   "metadata": {
    "collapsed": true
   },
   "source": [
    "# Calculate the Q-threshold"
   ]
  },
  {
   "cell_type": "markdown",
   "metadata": {},
   "source": [
    "Remember eigen values are in descending order"
   ]
  },
  {
   "cell_type": "code",
   "execution_count": 4,
   "metadata": {
    "collapsed": true
   },
   "outputs": [],
   "source": [
    "df_filt = df[[\"V1\",\"V2\",\"V3\",\"I1\",\"I2\",\"I3\",\"I_N\",\"Pges\",\"Sges\",\"CosPhi\",\"Egy_trpt\",\"Egy_con\"]]\n",
    "data = np.array(df_filt)\n",
    "\n",
    "mean_vec = np.mean(data,axis=0)\n",
    "cov_mat = (data - mean_vec).T.dot((data - mean_vec)) / (data.shape[0]-1)\n",
    "eig_vals, eig_vecs = np.linalg.eig(cov_mat)"
   ]
  },
  {
   "cell_type": "code",
   "execution_count": 5,
   "metadata": {
    "collapsed": false
   },
   "outputs": [
    {
     "data": {
      "text/plain": [
       "array([  7.10502375e+11,   8.73782537e+08,   2.87347507e+05,\n",
       "         1.24483061e+02,   2.59277037e+01,   9.65506991e+00,\n",
       "         6.43996916e+00,   6.37983336e-01,   1.91378607e-02,\n",
       "         1.58547506e-02,   3.97377375e-04,   0.00000000e+00])"
      ]
     },
     "execution_count": 5,
     "metadata": {},
     "output_type": "execute_result"
    }
   ],
   "source": [
    "eig_vals # gives the eigen values of the residual PCA components"
   ]
  },
  {
   "cell_type": "code",
   "execution_count": 7,
   "metadata": {
    "collapsed": false
   },
   "outputs": [
    {
     "data": {
      "text/plain": [
       "(12, 12)"
      ]
     },
     "execution_count": 7,
     "metadata": {},
     "output_type": "execute_result"
    }
   ],
   "source": [
    "eig_vecs.shape"
   ]
  },
  {
   "cell_type": "code",
   "execution_count": 74,
   "metadata": {
    "collapsed": false
   },
   "outputs": [],
   "source": [
    "list_eig = []\n",
    "for i in (1,2,3):\n",
    "    for j in range(7,12):\n",
    "        list_eig.append(np.power(eig_vals[j],i))"
   ]
  },
  {
   "cell_type": "code",
   "execution_count": 82,
   "metadata": {
    "collapsed": false
   },
   "outputs": [
    {
     "data": {
      "text/plain": [
       "[0.63798333629926851,\n",
       " 0.019137860715692484,\n",
       " 0.015854750567749293,\n",
       " 0.00039737737497428424,\n",
       " 0.0,\n",
       " 0.40702273739554556,\n",
       " 0.00036625771277324563,\n",
       " 0.00025137311556554655,\n",
       " 1.5790877814145289e-07,\n",
       " 0.0,\n",
       " 0.25967372395327121,\n",
       " 7.0093890931024786e-06,\n",
       " 3.9854580467297577e-06,\n",
       " 6.2749375743247188e-11,\n",
       " 0.0]"
      ]
     },
     "execution_count": 82,
     "metadata": {},
     "output_type": "execute_result"
    }
   ],
   "source": [
    "list_eig"
   ]
  },
  {
   "cell_type": "code",
   "execution_count": 77,
   "metadata": {
    "collapsed": false
   },
   "outputs": [],
   "source": [
    "phi_1,phi_2,phi_3 = list_eig[:5],list_eig[5:10],list_eig[10:15]"
   ]
  },
  {
   "cell_type": "code",
   "execution_count": 78,
   "metadata": {
    "collapsed": false
   },
   "outputs": [
    {
     "data": {
      "text/plain": [
       "[0.63798333629926851,\n",
       " 0.019137860715692484,\n",
       " 0.015854750567749293,\n",
       " 0.00039737737497428424,\n",
       " 0.0]"
      ]
     },
     "execution_count": 78,
     "metadata": {},
     "output_type": "execute_result"
    }
   ],
   "source": [
    "phi_1"
   ]
  },
  {
   "cell_type": "code",
   "execution_count": 79,
   "metadata": {
    "collapsed": false
   },
   "outputs": [],
   "source": [
    "h0 = 1 - (2 * np.multiply(phi_1,phi_3))/(3 * np.power(phi_3,2))"
   ]
  },
  {
   "cell_type": "code",
   "execution_count": 80,
   "metadata": {
    "collapsed": false
   },
   "outputs": [
    {
     "data": {
      "text/plain": [
       "array([ -6.37910135e-01,  -1.81921195e+03,  -2.65110011e+03,\n",
       "        -4.22184578e+06,              nan])"
      ]
     },
     "execution_count": 80,
     "metadata": {},
     "output_type": "execute_result"
    }
   ],
   "source": [
    "h0"
   ]
  },
  {
   "cell_type": "code",
   "execution_count": 84,
   "metadata": {
    "collapsed": false
   },
   "outputs": [],
   "source": [
    "a = 0.2\n",
    "list_threshold = []\n",
    "for i in range(0,5):\n",
    "    b = np.sqrt(2 * phi_2[i] * h0[i] * h0[i])\n",
    "    c = phi_1[i]\n",
    "    d = phi_2[i] * h0[i] * (h0[i] - 1)\n",
    "    e1 = 1/h0[i]\n",
    "    list_threshold.append( c * np.power( ((a * b)/c) + 1 + (d/(c * c)),e1) )"
   ]
  },
  {
   "cell_type": "code",
   "execution_count": 85,
   "metadata": {
    "collapsed": false
   },
   "outputs": [
    {
     "data": {
      "text/plain": [
       "[0.18207332420263672,\n",
       " 0.018980575662062186,\n",
       " 0.015760743059876962,\n",
       " 0.00039737450311137773,\n",
       " nan]"
      ]
     },
     "execution_count": 85,
     "metadata": {},
     "output_type": "execute_result"
    }
   ],
   "source": [
    "list_threshold"
   ]
  },
  {
   "cell_type": "code",
   "execution_count": null,
   "metadata": {
    "collapsed": true
   },
   "outputs": [],
   "source": []
  }
 ],
 "metadata": {
  "anaconda-cloud": {},
  "kernelspec": {
   "display_name": "Python [default]",
   "language": "python",
   "name": "python2"
  },
  "language_info": {
   "codemirror_mode": {
    "name": "ipython",
    "version": 2
   },
   "file_extension": ".py",
   "mimetype": "text/x-python",
   "name": "python",
   "nbconvert_exporter": "python",
   "pygments_lexer": "ipython2",
   "version": "2.7.12"
  }
 },
 "nbformat": 4,
 "nbformat_minor": 1
}
