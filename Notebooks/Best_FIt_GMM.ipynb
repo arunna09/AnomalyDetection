{
 "cells": [
  {
   "cell_type": "code",
   "execution_count": 2,
   "metadata": {
    "collapsed": false
   },
   "outputs": [],
   "source": [
    "\n",
    "def fit(Y_sklearn, n_components=20):\n",
    "    \"\"\"\n",
    "    Find best fitting by Gaussian Mixture Model\n",
    "    Arguments:\n",
    "        X -- data points\n",
    "        n_components -- maximum number of mixture components\n",
    "    Returns:\n",
    "        A list of GMM instance and BICs of each fitting tried\n",
    "    \"\"\"\n",
    "    # create several GMM instance with different covariance_type\n",
    "    COVARIANCE_TYPES = ['spherical', 'tied', 'diag', 'full']\n",
    "    properties = list(product(COVARIANCE_TYPES, range(1, n_components+1)))\n",
    "    models = np.zeros(len(properties), dtype=object)\n",
    "    for i, (covariance_type, n_component) in enumerate(properties):\n",
    "        models[i] = GMM(n_component, covariance_type=covariance_type)\n",
    "        models[i].fit(X)\n",
    "    # calculate AIC/BIC\n",
    "    AIC = np.array([m.aic(X) for m in models])\n",
    "    BIC = np.array([m.bic(X) for m in models])\n",
    "    # find best model by AIC\n",
    "    best_model = models[np.argmin(AIC)]\n",
    "    return best_model, AIC, BIC"
   ]
  },
  {
   "cell_type": "code",
   "execution_count": null,
   "metadata": {
    "collapsed": true
   },
   "outputs": [],
   "source": []
  }
 ],
 "metadata": {
  "kernelspec": {
   "display_name": "Python 2",
   "language": "python",
   "name": "python2"
  },
  "language_info": {
   "codemirror_mode": {
    "name": "ipython",
    "version": 2
   },
   "file_extension": ".py",
   "mimetype": "text/x-python",
   "name": "python",
   "nbconvert_exporter": "python",
   "pygments_lexer": "ipython2",
   "version": "2.7.13"
  }
 },
 "nbformat": 4,
 "nbformat_minor": 2
}
