{
 "cells": [
  {
   "cell_type": "code",
   "execution_count": 1,
   "metadata": {
    "collapsed": true
   },
   "outputs": [],
   "source": [
    "import numpy as np\n",
    "import pandas as pd\n",
    "import matplotlib.pyplot as plt\n",
    "import matplotlib.mlab as mlab\n",
    "from mpl_toolkits.mplot3d import Axes3D\n",
    "from sklearn import mixture\n",
    "\n",
    "from sklearn.preprocessing import StandardScaler\n",
    "from sklearn.mixture import GaussianMixture\n",
    "\n",
    "import itertools\n",
    "from scipy import linalg\n",
    "import matplotlib as mpl\n",
    "\n",
    "%matplotlib inline"
   ]
  },
  {
   "cell_type": "code",
   "execution_count": 2,
   "metadata": {
    "collapsed": true
   },
   "outputs": [],
   "source": [
    "df = pd.read_csv('Torschlag_Trafo_07122015_to_11122015.csv', sep=',')"
   ]
  },
  {
   "cell_type": "code",
   "execution_count": 3,
   "metadata": {
    "collapsed": false
   },
   "outputs": [],
   "source": [
    "X = df[[\"V1\",\"V2\",\"V3\",\"I1\",\"I2\",\"I3\",\"Pges\",\"Sges\",\"CosPhi\"]]"
   ]
  },
  {
   "cell_type": "markdown",
   "metadata": {},
   "source": [
    "# Data Smoothing"
   ]
  },
  {
   "cell_type": "code",
   "execution_count": 4,
   "metadata": {
    "collapsed": false
   },
   "outputs": [],
   "source": [
    "r = X.rolling(60).mean()"
   ]
  },
  {
   "cell_type": "code",
   "execution_count": 5,
   "metadata": {
    "collapsed": false
   },
   "outputs": [],
   "source": [
    "data_smooth = pd.DataFrame(r.iloc[59:,:])"
   ]
  },
  {
   "cell_type": "code",
   "execution_count": 6,
   "metadata": {
    "collapsed": false
   },
   "outputs": [
    {
     "data": {
      "text/plain": [
       "(380589, 9)"
      ]
     },
     "execution_count": 6,
     "metadata": {},
     "output_type": "execute_result"
    }
   ],
   "source": [
    "data_smooth.shape"
   ]
  },
  {
   "cell_type": "code",
   "execution_count": 7,
   "metadata": {
    "collapsed": false
   },
   "outputs": [
    {
     "data": {
      "text/plain": [
       "(array([  4.00000000e+00,   0.00000000e+00,   1.00000000e+00,\n",
       "          0.00000000e+00,   1.00000000e+00,   1.00000000e+00,\n",
       "          0.00000000e+00,   1.00000000e+00,   0.00000000e+00,\n",
       "          2.00000000e+00,   0.00000000e+00,   1.00000000e+00,\n",
       "          0.00000000e+00,   0.00000000e+00,   2.00000000e+00,\n",
       "          0.00000000e+00,   1.00000000e+00,   0.00000000e+00,\n",
       "          0.00000000e+00,   2.00000000e+00,   0.00000000e+00,\n",
       "          0.00000000e+00,   1.00000000e+00,   0.00000000e+00,\n",
       "          1.00000000e+00,   1.00000000e+00,   0.00000000e+00,\n",
       "          1.00000000e+00,   0.00000000e+00,   1.00000000e+00,\n",
       "          2.00000000e+00,   0.00000000e+00,   2.00000000e+00,\n",
       "          3.00000000e+00,   6.00000000e+00,   1.50000000e+01,\n",
       "          1.00000000e+01,   8.00000000e+00,   7.00000000e+00,\n",
       "          5.00000000e+00,   8.00000000e+00,   8.00000000e+00,\n",
       "          6.00000000e+00,   7.00000000e+00,   6.00000000e+00,\n",
       "          4.00000000e+00,   1.00000000e+01,   1.10000000e+01,\n",
       "          1.20000000e+01,   1.10000000e+01,   1.20000000e+01,\n",
       "          1.60000000e+01,   8.00000000e+00,   9.00000000e+00,\n",
       "          7.00000000e+00,   2.10000000e+01,   1.90000000e+01,\n",
       "          1.20000000e+01,   9.00000000e+00,   9.00000000e+00,\n",
       "          1.90000000e+01,   4.00000000e+01,   2.60000000e+01,\n",
       "          4.80000000e+01,   3.80000000e+01,   4.30000000e+01,\n",
       "          4.50000000e+01,   4.30000000e+01,   3.60000000e+01,\n",
       "          3.60000000e+01,   2.90000000e+01,   3.10000000e+01,\n",
       "          2.80000000e+01,   4.60000000e+01,   5.10000000e+01,\n",
       "          4.60000000e+01,   7.30000000e+01,   4.80000000e+01,\n",
       "          5.30000000e+01,   5.90000000e+01,   5.40000000e+01,\n",
       "          6.60000000e+01,   7.80000000e+01,   7.70000000e+01,\n",
       "          8.60000000e+01,   6.70000000e+01,   4.90000000e+01,\n",
       "          5.20000000e+01,   7.90000000e+01,   7.00000000e+01,\n",
       "          5.60000000e+01,   3.50000000e+01,   4.70000000e+01,\n",
       "          5.20000000e+01,   5.60000000e+01,   7.50000000e+01,\n",
       "          7.60000000e+01,   7.30000000e+01,   7.60000000e+01,\n",
       "          6.50000000e+01,   8.00000000e+01,   8.40000000e+01,\n",
       "          7.40000000e+01,   8.60000000e+01,   8.20000000e+01,\n",
       "          7.70000000e+01,   7.80000000e+01,   7.50000000e+01,\n",
       "          7.80000000e+01,   4.30000000e+01,   5.10000000e+01,\n",
       "          6.40000000e+01,   5.30000000e+01,   7.70000000e+01,\n",
       "          6.40000000e+01,   7.00000000e+01,   8.50000000e+01,\n",
       "          7.70000000e+01,   7.50000000e+01,   8.00000000e+01,\n",
       "          1.13000000e+02,   9.40000000e+01,   8.50000000e+01,\n",
       "          9.60000000e+01,   9.00000000e+01,   8.70000000e+01,\n",
       "          1.13000000e+02,   1.01000000e+02,   8.10000000e+01,\n",
       "          1.24000000e+02,   1.08000000e+02,   1.27000000e+02,\n",
       "          9.90000000e+01,   1.01000000e+02,   1.24000000e+02,\n",
       "          1.22000000e+02,   1.22000000e+02,   1.51000000e+02,\n",
       "          1.76000000e+02,   1.50000000e+02,   1.24000000e+02,\n",
       "          1.59000000e+02,   1.26000000e+02,   1.08000000e+02,\n",
       "          1.31000000e+02,   9.20000000e+01,   1.15000000e+02,\n",
       "          1.20000000e+02,   1.30000000e+02,   1.39000000e+02,\n",
       "          9.70000000e+01,   1.03000000e+02,   1.14000000e+02,\n",
       "          1.09000000e+02,   1.08000000e+02,   9.50000000e+01,\n",
       "          1.27000000e+02,   1.18000000e+02,   1.32000000e+02,\n",
       "          1.31000000e+02,   1.47000000e+02,   1.27000000e+02,\n",
       "          1.49000000e+02,   1.90000000e+02,   2.01000000e+02,\n",
       "          1.78000000e+02,   1.84000000e+02,   1.71000000e+02,\n",
       "          1.50000000e+02,   1.52000000e+02,   1.59000000e+02,\n",
       "          2.40000000e+02,   2.33000000e+02,   1.75000000e+02,\n",
       "          1.76000000e+02,   1.94000000e+02,   1.77000000e+02,\n",
       "          1.87000000e+02,   1.72000000e+02,   1.94000000e+02,\n",
       "          1.82000000e+02,   1.88000000e+02,   1.63000000e+02,\n",
       "          1.55000000e+02,   2.12000000e+02,   2.00000000e+02,\n",
       "          1.81000000e+02,   1.77000000e+02,   1.85000000e+02,\n",
       "          1.81000000e+02,   1.69000000e+02,   1.83000000e+02,\n",
       "          1.83000000e+02,   1.69000000e+02,   2.00000000e+02,\n",
       "          1.99000000e+02,   2.24000000e+02,   2.31000000e+02,\n",
       "          2.38000000e+02,   2.23000000e+02,   2.25000000e+02,\n",
       "          2.04000000e+02,   2.17000000e+02,   2.26000000e+02,\n",
       "          2.15000000e+02,   2.23000000e+02,   2.41000000e+02,\n",
       "          2.06000000e+02,   2.38000000e+02,   2.26000000e+02,\n",
       "          2.18000000e+02,   2.46000000e+02,   2.63000000e+02,\n",
       "          2.60000000e+02,   2.97000000e+02,   2.82000000e+02,\n",
       "          3.14000000e+02,   3.71000000e+02,   2.98000000e+02,\n",
       "          2.60000000e+02,   2.81000000e+02,   2.78000000e+02,\n",
       "          2.80000000e+02,   3.32000000e+02,   2.88000000e+02,\n",
       "          3.11000000e+02,   3.43000000e+02,   3.25000000e+02,\n",
       "          3.14000000e+02,   3.27000000e+02,   2.61000000e+02,\n",
       "          2.76000000e+02,   3.03000000e+02,   2.94000000e+02,\n",
       "          2.43000000e+02,   2.28000000e+02,   2.79000000e+02,\n",
       "          2.86000000e+02,   2.98000000e+02,   2.83000000e+02,\n",
       "          2.46000000e+02,   2.59000000e+02,   3.13000000e+02,\n",
       "          2.52000000e+02,   2.38000000e+02,   2.54000000e+02,\n",
       "          2.85000000e+02,   3.02000000e+02,   3.32000000e+02,\n",
       "          2.92000000e+02,   3.15000000e+02,   2.64000000e+02,\n",
       "          3.14000000e+02,   3.09000000e+02,   3.30000000e+02,\n",
       "          2.81000000e+02,   3.11000000e+02,   3.27000000e+02,\n",
       "          3.41000000e+02,   3.55000000e+02,   3.82000000e+02,\n",
       "          4.09000000e+02,   4.32000000e+02,   4.17000000e+02,\n",
       "          4.16000000e+02,   3.89000000e+02,   4.22000000e+02,\n",
       "          4.02000000e+02,   3.84000000e+02,   4.30000000e+02,\n",
       "          3.78000000e+02,   3.58000000e+02,   3.79000000e+02,\n",
       "          3.87000000e+02,   4.27000000e+02,   4.01000000e+02,\n",
       "          3.90000000e+02,   4.03000000e+02,   3.72000000e+02,\n",
       "          4.25000000e+02,   4.02000000e+02,   4.25000000e+02,\n",
       "          3.97000000e+02,   3.92000000e+02,   4.28000000e+02,\n",
       "          3.57000000e+02,   4.14000000e+02,   3.79000000e+02,\n",
       "          3.65000000e+02,   4.08000000e+02,   4.10000000e+02,\n",
       "          3.98000000e+02,   3.35000000e+02,   3.42000000e+02,\n",
       "          3.50000000e+02,   4.64000000e+02,   4.61000000e+02,\n",
       "          4.50000000e+02,   4.08000000e+02,   3.50000000e+02,\n",
       "          3.65000000e+02,   3.83000000e+02,   3.86000000e+02,\n",
       "          3.91000000e+02,   4.20000000e+02,   4.45000000e+02,\n",
       "          4.31000000e+02,   4.91000000e+02,   4.91000000e+02,\n",
       "          5.02000000e+02,   4.48000000e+02,   4.31000000e+02,\n",
       "          4.57000000e+02,   4.62000000e+02,   4.62000000e+02,\n",
       "          4.22000000e+02,   4.58000000e+02,   5.20000000e+02,\n",
       "          4.60000000e+02,   4.31000000e+02,   4.76000000e+02,\n",
       "          4.50000000e+02,   4.59000000e+02,   4.95000000e+02,\n",
       "          4.79000000e+02,   4.62000000e+02,   4.12000000e+02,\n",
       "          3.76000000e+02,   4.26000000e+02,   4.35000000e+02,\n",
       "          5.01000000e+02,   4.83000000e+02,   4.27000000e+02,\n",
       "          4.50000000e+02,   4.44000000e+02,   4.57000000e+02,\n",
       "          4.82000000e+02,   5.05000000e+02,   4.76000000e+02,\n",
       "          5.01000000e+02,   6.06000000e+02,   5.67000000e+02,\n",
       "          5.79000000e+02,   5.19000000e+02,   5.25000000e+02,\n",
       "          5.27000000e+02,   5.12000000e+02,   5.61000000e+02,\n",
       "          5.28000000e+02,   5.58000000e+02,   5.98000000e+02,\n",
       "          5.09000000e+02,   5.35000000e+02,   5.61000000e+02,\n",
       "          5.57000000e+02,   5.76000000e+02,   5.62000000e+02,\n",
       "          5.62000000e+02,   5.40000000e+02,   5.77000000e+02,\n",
       "          5.27000000e+02,   5.61000000e+02,   5.47000000e+02,\n",
       "          5.90000000e+02,   5.55000000e+02,   5.48000000e+02,\n",
       "          5.12000000e+02,   5.48000000e+02,   5.19000000e+02,\n",
       "          5.79000000e+02,   5.49000000e+02,   5.95000000e+02,\n",
       "          5.62000000e+02,   5.45000000e+02,   5.68000000e+02,\n",
       "          5.88000000e+02,   5.10000000e+02,   5.79000000e+02,\n",
       "          5.98000000e+02,   6.36000000e+02,   6.00000000e+02,\n",
       "          6.10000000e+02,   5.44000000e+02,   5.47000000e+02,\n",
       "          4.80000000e+02,   4.62000000e+02,   4.87000000e+02,\n",
       "          4.23000000e+02,   5.23000000e+02,   5.39000000e+02,\n",
       "          5.19000000e+02,   4.99000000e+02,   5.54000000e+02,\n",
       "          5.24000000e+02,   5.15000000e+02,   5.21000000e+02,\n",
       "          5.71000000e+02,   5.77000000e+02,   5.37000000e+02,\n",
       "          5.09000000e+02,   5.68000000e+02,   5.86000000e+02,\n",
       "          5.85000000e+02,   5.38000000e+02,   5.32000000e+02,\n",
       "          5.44000000e+02,   5.10000000e+02,   4.50000000e+02,\n",
       "          4.91000000e+02,   5.56000000e+02,   5.54000000e+02,\n",
       "          5.80000000e+02,   6.26000000e+02,   5.38000000e+02,\n",
       "          5.82000000e+02,   6.36000000e+02,   6.49000000e+02,\n",
       "          5.96000000e+02,   6.05000000e+02,   6.26000000e+02,\n",
       "          5.58000000e+02,   5.66000000e+02,   6.04000000e+02,\n",
       "          6.80000000e+02,   6.57000000e+02,   5.74000000e+02,\n",
       "          6.76000000e+02,   5.82000000e+02,   6.36000000e+02,\n",
       "          5.90000000e+02,   6.37000000e+02,   6.25000000e+02,\n",
       "          6.74000000e+02,   6.38000000e+02,   5.91000000e+02,\n",
       "          5.24000000e+02,   6.03000000e+02,   5.81000000e+02,\n",
       "          6.10000000e+02,   6.16000000e+02,   6.23000000e+02,\n",
       "          6.09000000e+02,   5.65000000e+02,   5.47000000e+02,\n",
       "          5.47000000e+02,   4.82000000e+02,   5.20000000e+02,\n",
       "          5.80000000e+02,   6.74000000e+02,   6.65000000e+02,\n",
       "          5.64000000e+02,   6.24000000e+02,   6.03000000e+02,\n",
       "          5.52000000e+02,   5.69000000e+02,   6.39000000e+02,\n",
       "          5.79000000e+02,   5.50000000e+02,   5.53000000e+02,\n",
       "          6.06000000e+02,   5.53000000e+02,   5.96000000e+02,\n",
       "          5.81000000e+02,   6.00000000e+02,   5.69000000e+02,\n",
       "          6.59000000e+02,   6.05000000e+02,   5.90000000e+02,\n",
       "          6.49000000e+02,   6.35000000e+02,   6.34000000e+02,\n",
       "          6.04000000e+02,   6.34000000e+02,   5.50000000e+02,\n",
       "          5.41000000e+02,   6.85000000e+02,   6.90000000e+02,\n",
       "          5.85000000e+02,   5.11000000e+02,   5.13000000e+02,\n",
       "          5.01000000e+02,   5.75000000e+02,   5.90000000e+02,\n",
       "          5.67000000e+02,   6.37000000e+02,   5.82000000e+02,\n",
       "          6.18000000e+02,   5.35000000e+02,   5.52000000e+02,\n",
       "          5.59000000e+02,   5.58000000e+02,   5.14000000e+02,\n",
       "          5.19000000e+02,   5.69000000e+02,   5.98000000e+02,\n",
       "          6.49000000e+02,   6.53000000e+02,   6.76000000e+02,\n",
       "          7.15000000e+02,   6.10000000e+02,   6.27000000e+02,\n",
       "          5.71000000e+02,   5.53000000e+02,   6.06000000e+02,\n",
       "          6.28000000e+02,   6.41000000e+02,   6.67000000e+02,\n",
       "          6.59000000e+02,   6.59000000e+02,   6.78000000e+02,\n",
       "          6.28000000e+02,   6.38000000e+02,   7.17000000e+02,\n",
       "          6.87000000e+02,   7.44000000e+02,   7.48000000e+02,\n",
       "          6.73000000e+02,   6.82000000e+02,   7.91000000e+02,\n",
       "          7.57000000e+02,   7.35000000e+02,   8.36000000e+02,\n",
       "          8.56000000e+02,   7.50000000e+02,   6.66000000e+02,\n",
       "          6.55000000e+02,   6.42000000e+02,   6.91000000e+02,\n",
       "          7.37000000e+02,   7.12000000e+02,   6.49000000e+02,\n",
       "          7.59000000e+02,   7.22000000e+02,   6.31000000e+02,\n",
       "          6.87000000e+02,   7.71000000e+02,   6.28000000e+02,\n",
       "          7.31000000e+02,   7.29000000e+02,   6.50000000e+02,\n",
       "          6.23000000e+02,   7.60000000e+02,   7.78000000e+02,\n",
       "          7.86000000e+02,   7.33000000e+02,   7.53000000e+02,\n",
       "          8.08000000e+02,   8.60000000e+02,   8.82000000e+02,\n",
       "          8.82000000e+02,   8.37000000e+02,   8.15000000e+02,\n",
       "          7.86000000e+02,   6.70000000e+02,   6.61000000e+02,\n",
       "          7.39000000e+02,   7.48000000e+02,   7.74000000e+02,\n",
       "          8.78000000e+02,   7.55000000e+02,   7.54000000e+02,\n",
       "          7.89000000e+02,   8.37000000e+02,   8.38000000e+02,\n",
       "          8.39000000e+02,   8.43000000e+02,   8.55000000e+02,\n",
       "          1.00300000e+03,   8.64000000e+02,   8.83000000e+02,\n",
       "          8.79000000e+02,   8.80000000e+02,   7.57000000e+02,\n",
       "          8.08000000e+02,   8.01000000e+02,   7.24000000e+02,\n",
       "          7.44000000e+02,   8.46000000e+02,   8.59000000e+02,\n",
       "          8.44000000e+02,   7.85000000e+02,   7.25000000e+02,\n",
       "          6.49000000e+02,   7.60000000e+02,   7.16000000e+02,\n",
       "          8.11000000e+02,   8.62000000e+02,   8.19000000e+02,\n",
       "          7.57000000e+02,   7.34000000e+02,   8.13000000e+02,\n",
       "          7.42000000e+02,   7.55000000e+02,   7.06000000e+02,\n",
       "          7.05000000e+02,   8.13000000e+02,   7.67000000e+02,\n",
       "          7.63000000e+02,   7.99000000e+02,   7.69000000e+02,\n",
       "          6.65000000e+02,   6.52000000e+02,   6.93000000e+02,\n",
       "          7.45000000e+02,   6.79000000e+02,   6.76000000e+02,\n",
       "          6.75000000e+02,   6.08000000e+02,   5.96000000e+02,\n",
       "          6.32000000e+02,   6.31000000e+02,   6.46000000e+02,\n",
       "          6.56000000e+02,   6.80000000e+02,   7.21000000e+02,\n",
       "          7.06000000e+02,   7.31000000e+02,   7.20000000e+02,\n",
       "          7.34000000e+02,   7.12000000e+02,   7.32000000e+02,\n",
       "          6.69000000e+02,   6.56000000e+02,   6.84000000e+02,\n",
       "          6.91000000e+02,   6.99000000e+02,   6.72000000e+02,\n",
       "          7.20000000e+02,   6.53000000e+02,   6.76000000e+02,\n",
       "          6.85000000e+02,   6.18000000e+02,   6.05000000e+02,\n",
       "          6.55000000e+02,   6.61000000e+02,   5.80000000e+02,\n",
       "          6.02000000e+02,   5.10000000e+02,   4.77000000e+02,\n",
       "          5.14000000e+02,   5.32000000e+02,   6.08000000e+02,\n",
       "          6.23000000e+02,   5.61000000e+02,   5.33000000e+02,\n",
       "          5.59000000e+02,   5.51000000e+02,   5.69000000e+02,\n",
       "          4.96000000e+02,   4.86000000e+02,   5.67000000e+02,\n",
       "          5.58000000e+02,   5.27000000e+02,   5.47000000e+02,\n",
       "          5.46000000e+02,   5.65000000e+02,   6.05000000e+02,\n",
       "          5.91000000e+02,   5.57000000e+02,   5.94000000e+02,\n",
       "          6.02000000e+02,   5.81000000e+02,   5.55000000e+02,\n",
       "          4.88000000e+02,   4.57000000e+02,   5.22000000e+02,\n",
       "          5.29000000e+02,   4.85000000e+02,   4.76000000e+02,\n",
       "          4.81000000e+02,   4.27000000e+02,   4.66000000e+02,\n",
       "          4.27000000e+02,   4.40000000e+02,   5.01000000e+02,\n",
       "          5.28000000e+02,   4.61000000e+02,   4.34000000e+02,\n",
       "          4.40000000e+02,   4.37000000e+02,   4.87000000e+02,\n",
       "          4.37000000e+02,   5.33000000e+02,   5.29000000e+02,\n",
       "          5.20000000e+02,   5.35000000e+02,   5.90000000e+02,\n",
       "          6.23000000e+02,   5.62000000e+02,   5.22000000e+02,\n",
       "          5.17000000e+02,   5.21000000e+02,   5.18000000e+02,\n",
       "          5.99000000e+02,   5.87000000e+02,   6.17000000e+02,\n",
       "          6.24000000e+02,   5.87000000e+02,   5.90000000e+02,\n",
       "          5.82000000e+02,   5.16000000e+02,   5.57000000e+02,\n",
       "          6.04000000e+02,   5.71000000e+02,   5.71000000e+02,\n",
       "          6.59000000e+02,   6.84000000e+02,   6.75000000e+02,\n",
       "          6.50000000e+02,   5.90000000e+02,   5.71000000e+02,\n",
       "          6.83000000e+02,   5.43000000e+02,   5.37000000e+02,\n",
       "          4.83000000e+02,   5.89000000e+02,   6.51000000e+02,\n",
       "          6.27000000e+02,   5.75000000e+02,   5.76000000e+02,\n",
       "          5.64000000e+02,   6.19000000e+02,   6.36000000e+02,\n",
       "          5.65000000e+02,   6.58000000e+02,   5.66000000e+02,\n",
       "          5.76000000e+02,   4.97000000e+02,   5.96000000e+02,\n",
       "          5.78000000e+02,   5.96000000e+02,   6.13000000e+02,\n",
       "          5.58000000e+02,   5.43000000e+02,   5.86000000e+02,\n",
       "          5.51000000e+02,   5.54000000e+02,   5.36000000e+02,\n",
       "          5.23000000e+02,   6.10000000e+02,   6.48000000e+02,\n",
       "          5.63000000e+02,   5.84000000e+02,   6.64000000e+02,\n",
       "          6.71000000e+02,   6.18000000e+02,   6.13000000e+02,\n",
       "          6.48000000e+02,   6.86000000e+02,   6.44000000e+02,\n",
       "          6.33000000e+02,   5.46000000e+02,   5.64000000e+02,\n",
       "          5.57000000e+02,   6.38000000e+02,   5.38000000e+02,\n",
       "          5.49000000e+02,   5.28000000e+02,   5.50000000e+02,\n",
       "          5.38000000e+02,   5.33000000e+02,   6.14000000e+02,\n",
       "          5.66000000e+02,   5.75000000e+02,   5.97000000e+02,\n",
       "          5.65000000e+02,   6.30000000e+02,   6.20000000e+02,\n",
       "          5.81000000e+02,   5.44000000e+02,   5.55000000e+02,\n",
       "          5.52000000e+02,   5.25000000e+02,   5.30000000e+02,\n",
       "          5.00000000e+02,   4.98000000e+02,   5.15000000e+02,\n",
       "          4.56000000e+02,   4.42000000e+02,   4.78000000e+02,\n",
       "          4.96000000e+02,   4.73000000e+02,   5.19000000e+02,\n",
       "          5.74000000e+02,   5.13000000e+02,   4.77000000e+02,\n",
       "          5.45000000e+02,   5.74000000e+02,   5.32000000e+02,\n",
       "          4.71000000e+02,   3.83000000e+02,   4.08000000e+02,\n",
       "          4.36000000e+02,   4.94000000e+02,   5.28000000e+02,\n",
       "          5.29000000e+02,   4.68000000e+02,   5.06000000e+02,\n",
       "          5.62000000e+02,   5.16000000e+02,   5.15000000e+02,\n",
       "          5.19000000e+02,   6.01000000e+02,   5.52000000e+02,\n",
       "          4.90000000e+02,   4.77000000e+02,   5.42000000e+02,\n",
       "          5.14000000e+02,   4.62000000e+02,   4.71000000e+02,\n",
       "          3.93000000e+02,   3.61000000e+02,   3.22000000e+02,\n",
       "          3.71000000e+02,   3.25000000e+02,   2.93000000e+02,\n",
       "          3.16000000e+02,   3.04000000e+02,   3.31000000e+02,\n",
       "          3.16000000e+02,   3.26000000e+02,   2.97000000e+02,\n",
       "          3.04000000e+02,   3.40000000e+02,   3.72000000e+02,\n",
       "          4.06000000e+02,   3.51000000e+02,   3.14000000e+02,\n",
       "          3.59000000e+02,   3.22000000e+02,   2.89000000e+02,\n",
       "          2.69000000e+02,   2.79000000e+02,   3.26000000e+02,\n",
       "          3.22000000e+02,   2.93000000e+02,   3.70000000e+02,\n",
       "          4.03000000e+02,   3.60000000e+02,   3.46000000e+02,\n",
       "          3.60000000e+02,   3.42000000e+02,   3.09000000e+02,\n",
       "          3.28000000e+02,   3.25000000e+02,   3.51000000e+02,\n",
       "          3.54000000e+02,   3.08000000e+02,   3.01000000e+02,\n",
       "          2.80000000e+02,   3.13000000e+02,   3.19000000e+02,\n",
       "          3.13000000e+02,   3.48000000e+02,   3.65000000e+02,\n",
       "          2.86000000e+02,   2.77000000e+02,   2.84000000e+02,\n",
       "          2.68000000e+02,   2.95000000e+02,   3.33000000e+02,\n",
       "          3.08000000e+02,   2.81000000e+02,   2.79000000e+02,\n",
       "          2.87000000e+02,   3.04000000e+02,   2.69000000e+02,\n",
       "          2.52000000e+02,   2.52000000e+02,   2.33000000e+02,\n",
       "          2.78000000e+02,   2.80000000e+02,   2.52000000e+02,\n",
       "          2.66000000e+02,   2.05000000e+02,   1.98000000e+02,\n",
       "          1.73000000e+02,   1.72000000e+02,   1.84000000e+02,\n",
       "          2.19000000e+02,   1.52000000e+02,   1.39000000e+02,\n",
       "          1.35000000e+02,   1.35000000e+02,   1.28000000e+02,\n",
       "          1.25000000e+02,   1.11000000e+02,   9.70000000e+01,\n",
       "          1.02000000e+02,   1.19000000e+02,   9.20000000e+01,\n",
       "          1.51000000e+02,   1.29000000e+02,   1.48000000e+02,\n",
       "          9.90000000e+01,   1.37000000e+02,   1.69000000e+02,\n",
       "          2.04000000e+02,   1.78000000e+02,   1.57000000e+02,\n",
       "          2.15000000e+02,   1.83000000e+02,   1.83000000e+02,\n",
       "          1.05000000e+02,   1.31000000e+02,   1.19000000e+02,\n",
       "          1.28000000e+02,   1.12000000e+02,   1.13000000e+02,\n",
       "          1.26000000e+02,   1.26000000e+02,   1.08000000e+02,\n",
       "          7.00000000e+01,   5.80000000e+01,   7.80000000e+01,\n",
       "          8.80000000e+01,   7.30000000e+01,   4.70000000e+01,\n",
       "          5.70000000e+01,   5.90000000e+01,   5.10000000e+01,\n",
       "          5.10000000e+01,   2.90000000e+01,   2.80000000e+01,\n",
       "          4.20000000e+01,   3.10000000e+01,   4.00000000e+01,\n",
       "          3.10000000e+01,   3.50000000e+01,   3.80000000e+01,\n",
       "          4.70000000e+01,   2.20000000e+01,   3.10000000e+01,\n",
       "          4.70000000e+01,   1.70000000e+01,   2.20000000e+01,\n",
       "          2.10000000e+01,   1.40000000e+01,   2.40000000e+01,\n",
       "          2.70000000e+01,   1.10000000e+01,   7.00000000e+00,\n",
       "          1.10000000e+01,   7.00000000e+00,   9.00000000e+00,\n",
       "          1.20000000e+01,   7.00000000e+00,   7.00000000e+00,\n",
       "          6.00000000e+00,   8.00000000e+00,   6.00000000e+00,\n",
       "          1.20000000e+01,   8.00000000e+00,   8.00000000e+00,\n",
       "          2.00000000e+01,   2.20000000e+01,   2.40000000e+01,\n",
       "          1.60000000e+01,   8.00000000e+00,   6.00000000e+00,\n",
       "          1.60000000e+01,   1.00000000e+01,   3.00000000e+00,\n",
       "          4.00000000e+00,   4.00000000e+00,   5.00000000e+00,\n",
       "          2.00000000e+00,   1.00000000e+01,   7.00000000e+00,\n",
       "          6.00000000e+00,   3.00000000e+00,   2.00000000e+00,\n",
       "          1.30000000e+01,   1.10000000e+01,   9.00000000e+00,\n",
       "          8.00000000e+00,   4.00000000e+00,   4.00000000e+00,\n",
       "          4.00000000e+00,   4.00000000e+00,   3.00000000e+00,\n",
       "          5.00000000e+00,   8.00000000e+00,   6.00000000e+00,\n",
       "          5.00000000e+00,   5.00000000e+00,   4.00000000e+00,\n",
       "          1.20000000e+01,   1.10000000e+01,   1.50000000e+01,\n",
       "          7.00000000e+00,   1.60000000e+01,   7.00000000e+00,\n",
       "          4.00000000e+00,   3.00000000e+00,   3.00000000e+00,\n",
       "          4.00000000e+00,   3.00000000e+00,   3.00000000e+00,\n",
       "          1.40000000e+01]),\n",
       " array([ 229.7805   ,  229.7890315,  229.797563 , ...,  238.294937 ,\n",
       "         238.3034685,  238.312    ]),\n",
       " <a list of 1000 Patch objects>)"
      ]
     },
     "execution_count": 7,
     "metadata": {},
     "output_type": "execute_result"
    },
    {
     "data": {
      "image/png": "[encoded data removed]",
      "text/plain": [
       "<matplotlib.figure.Figure at 0x7f60d3e16bd0>"
      ]
     },
     "metadata": {},
     "output_type": "display_data"
    }
   ],
   "source": [
    "plt.hist(data_smooth.iloc[:,0],bins=1000)"
   ]
  },
  {
   "cell_type": "markdown",
   "metadata": {},
   "source": [
    "# End of Data Smoothing"
   ]
  },
  {
   "cell_type": "code",
   "execution_count": 8,
   "metadata": {
    "collapsed": false
   },
   "outputs": [],
   "source": [
    "#PCA Implementation\n",
    "from sklearn.preprocessing import StandardScaler\n",
    "X_std = StandardScaler().fit_transform(data_smooth)\n",
    "\n",
    "X_non_smoothed = StandardScaler().fit_transform(X)"
   ]
  },
  {
   "cell_type": "code",
   "execution_count": 9,
   "metadata": {
    "collapsed": false
   },
   "outputs": [
    {
     "data": {
      "text/plain": [
       "([array([     0.,      0.,      0.,      0.,      0.,      0.,      0.,\n",
       "            274.,   7063.,  25575.,  52421.,  66664.,  81322.,  68273.,\n",
       "          58455.,  20003.,    598.,      0.,      0.,      0.]),\n",
       "  array([     0.,      0.,      0.,      0.,      0.,      0.,      0.,\n",
       "            284.,   6547.,  26714.,  50590.,  68179.,  84286.,  63096.,\n",
       "          59434.,  20971.,    547.,      0.,      0.,      0.]),\n",
       "  array([     0.,      0.,      0.,      0.,      0.,      0.,      0.,\n",
       "            369.,   6997.,  26014.,  51096.,  67909.,  81061.,  69794.,\n",
       "          56255.,  20511.,    642.,      0.,      0.,      0.]),\n",
       "  array([  0.00000000e+00,   0.00000000e+00,   0.00000000e+00,\n",
       "           0.00000000e+00,   0.00000000e+00,   0.00000000e+00,\n",
       "           0.00000000e+00,   0.00000000e+00,   0.00000000e+00,\n",
       "           0.00000000e+00,   3.75300000e+03,   2.14683000e+05,\n",
       "           3.84910000e+04,   4.44770000e+04,   4.23890000e+04,\n",
       "           2.13250000e+04,   1.09860000e+04,   3.35800000e+03,\n",
       "           9.96000000e+02,   1.90000000e+02]),\n",
       "  array([  0.00000000e+00,   0.00000000e+00,   0.00000000e+00,\n",
       "           0.00000000e+00,   0.00000000e+00,   0.00000000e+00,\n",
       "           0.00000000e+00,   0.00000000e+00,   0.00000000e+00,\n",
       "           0.00000000e+00,   1.12920000e+05,   8.34950000e+04,\n",
       "           4.86820000e+04,   5.39590000e+04,   4.98040000e+04,\n",
       "           2.13650000e+04,   7.50900000e+03,   2.22600000e+03,\n",
       "           6.32000000e+02,   5.60000000e+01]),\n",
       "  array([  0.00000000e+00,   0.00000000e+00,   0.00000000e+00,\n",
       "           0.00000000e+00,   0.00000000e+00,   0.00000000e+00,\n",
       "           0.00000000e+00,   0.00000000e+00,   0.00000000e+00,\n",
       "           0.00000000e+00,   9.28500000e+04,   1.26936000e+05,\n",
       "           3.18180000e+04,   4.49080000e+04,   4.69750000e+04,\n",
       "           2.57300000e+04,   8.24700000e+03,   2.30200000e+03,\n",
       "           8.18000000e+02,   6.40000000e+01]),\n",
       "  array([  0.00000000e+00,   0.00000000e+00,   0.00000000e+00,\n",
       "           0.00000000e+00,   0.00000000e+00,   0.00000000e+00,\n",
       "           0.00000000e+00,   0.00000000e+00,   0.00000000e+00,\n",
       "           0.00000000e+00,   9.91290000e+04,   1.16311000e+05,\n",
       "           3.44130000e+04,   4.69550000e+04,   4.86110000e+04,\n",
       "           2.40770000e+04,   7.87900000e+03,   2.34000000e+03,\n",
       "           8.71000000e+02,   6.20000000e+01]),\n",
       "  array([  0.00000000e+00,   0.00000000e+00,   0.00000000e+00,\n",
       "           0.00000000e+00,   0.00000000e+00,   0.00000000e+00,\n",
       "           0.00000000e+00,   0.00000000e+00,   0.00000000e+00,\n",
       "           0.00000000e+00,   9.94530000e+04,   1.14544000e+05,\n",
       "           3.52470000e+04,   4.81100000e+04,   4.82460000e+04,\n",
       "           2.38080000e+04,   8.00900000e+03,   2.32700000e+03,\n",
       "           8.51000000e+02,   5.30000000e+01]),\n",
       "  array([  8.00000000e+00,   4.00000000e+00,   0.00000000e+00,\n",
       "           0.00000000e+00,   2.40000000e+01,   2.77000000e+02,\n",
       "           1.53600000e+03,   4.98300000e+03,   1.13780000e+04,\n",
       "           1.52040000e+04,   3.72250000e+04,   6.10350000e+04,\n",
       "           9.64680000e+04,   8.02740000e+04,   5.47900000e+04,\n",
       "           1.67770000e+04,   6.61000000e+02,   4.00000000e+00,\n",
       "           0.00000000e+00,   0.00000000e+00])],\n",
       " array([-7.36869233, -6.7754293 , -6.18216627, -5.58890325, -4.99564022,\n",
       "        -4.40237719, -3.80911416, -3.21585114, -2.62258811, -2.02932508,\n",
       "        -1.43606205, -0.84279903, -0.249536  ,  0.34372703,  0.93699006,\n",
       "         1.53025309,  2.12351611,  2.71677914,  3.31004217,  3.9033052 ,\n",
       "         4.49656822]),\n",
       " <a list of 9 Lists of Patches objects>)"
      ]
     },
     "execution_count": 9,
     "metadata": {},
     "output_type": "execute_result"
    },
    {
     "data": {
      "image/png": "[encoded data removed]",
      "text/plain": [
       "<matplotlib.figure.Figure at 0x7f60cc3c4210>"
      ]
     },
     "metadata": {},
     "output_type": "display_data"
    }
   ],
   "source": [
    "plt.hist(X_non_smoothed,bins=20)"
   ]
  },
  {
   "cell_type": "code",
   "execution_count": 10,
   "metadata": {
    "collapsed": false
   },
   "outputs": [
    {
     "data": {
      "text/plain": [
       "[<matplotlib.lines.Line2D at 0x7f6093ab9650>,\n",
       " <matplotlib.lines.Line2D at 0x7f6093ab9850>,\n",
       " <matplotlib.lines.Line2D at 0x7f6093ab9990>,\n",
       " <matplotlib.lines.Line2D at 0x7f6093ab9ad0>,\n",
       " <matplotlib.lines.Line2D at 0x7f6093ab9c10>,\n",
       " <matplotlib.lines.Line2D at 0x7f6093ab9d50>,\n",
       " <matplotlib.lines.Line2D at 0x7f6093ab9e90>,\n",
       " <matplotlib.lines.Line2D at 0x7f6093ab9fd0>,\n",
       " <matplotlib.lines.Line2D at 0x7f6093ac5150>]"
      ]
     },
     "execution_count": 10,
     "metadata": {},
     "output_type": "execute_result"
    },
    {
     "data": {
      "image/png": "[encoded data removed]",
      "text/plain": [
       "<matplotlib.figure.Figure at 0x7f6093b8cad0>"
      ]
     },
     "metadata": {},
     "output_type": "display_data"
    }
   ],
   "source": [
    "plt.plot(X_non_smoothed)"
   ]
  },
  {
   "cell_type": "code",
   "execution_count": 19,
   "metadata": {
    "collapsed": false
   },
   "outputs": [
    {
     "data": {
      "text/plain": [
       "([array([  0.00000000e+00,   0.00000000e+00,   0.00000000e+00,\n",
       "           0.00000000e+00,   0.00000000e+00,   0.00000000e+00,\n",
       "           0.00000000e+00,   0.00000000e+00,   0.00000000e+00,\n",
       "           0.00000000e+00,   0.00000000e+00,   0.00000000e+00,\n",
       "           0.00000000e+00,   0.00000000e+00,   0.00000000e+00,\n",
       "           0.00000000e+00,   0.00000000e+00,   1.30000000e+01,\n",
       "           1.00000000e+01,   1.16000000e+02,   2.87000000e+02,\n",
       "           7.08000000e+02,   1.03500000e+03,   1.15300000e+03,\n",
       "           1.41600000e+03,   2.06800000e+03,   1.91300000e+03,\n",
       "           2.94300000e+03,   2.93800000e+03,   3.60000000e+03,\n",
       "           4.70100000e+03,   4.61300000e+03,   4.82400000e+03,\n",
       "           6.45800000e+03,   6.47500000e+03,   6.53100000e+03,\n",
       "           7.54000000e+03,   7.44700000e+03,   8.96700000e+03,\n",
       "           8.97800000e+03,   8.86400000e+03,   8.79900000e+03,\n",
       "           9.24400000e+03,   9.99300000e+03,   9.52800000e+03,\n",
       "           9.66200000e+03,   9.56100000e+03,   9.64300000e+03,\n",
       "           1.09140000e+04,   1.16730000e+04,   1.24240000e+04,\n",
       "           1.28790000e+04,   1.30930000e+04,   1.25190000e+04,\n",
       "           1.08580000e+04,   1.11290000e+04,   9.23900000e+03,\n",
       "           8.92000000e+03,   7.65000000e+03,   9.01700000e+03,\n",
       "           9.71500000e+03,   9.49400000e+03,   9.57100000e+03,\n",
       "           9.51100000e+03,   8.85100000e+03,   7.99700000e+03,\n",
       "           8.22400000e+03,   5.41000000e+03,   5.33500000e+03,\n",
       "           5.06200000e+03,   4.34500000e+03,   2.24800000e+03,\n",
       "           2.42300000e+03,   1.12700000e+03,   4.63000000e+02,\n",
       "           1.82000000e+02,   1.12000000e+02,   1.09000000e+02,\n",
       "           6.70000000e+01,   0.00000000e+00,   0.00000000e+00,\n",
       "           0.00000000e+00,   0.00000000e+00,   0.00000000e+00,\n",
       "           0.00000000e+00,   0.00000000e+00,   0.00000000e+00,\n",
       "           0.00000000e+00,   0.00000000e+00,   0.00000000e+00,\n",
       "           0.00000000e+00,   0.00000000e+00,   0.00000000e+00,\n",
       "           0.00000000e+00,   0.00000000e+00,   0.00000000e+00,\n",
       "           0.00000000e+00,   0.00000000e+00,   0.00000000e+00,\n",
       "           0.00000000e+00]),\n",
       "  array([     0.,      0.,      0.,      0.,      0.,      0.,      0.,\n",
       "              0.,      0.,      0.,      0.,      0.,      0.,      0.,\n",
       "              0.,      0.,      0.,      0.,     43.,    158.,    338.,\n",
       "            646.,    579.,    992.,   1553.,   2012.,   2985.,   2776.,\n",
       "           3008.,   3046.,   4108.,   5440.,   5910.,   6025.,   6164.,\n",
       "           5685.,   6863.,   8226.,   8171.,   8629.,   8939.,   9513.,\n",
       "           9081.,   9765.,   9388.,  10238.,  10193.,  11085.,  10788.,\n",
       "          10400.,  11562.,  12651.,  14539.,  15030.,  12169.,   9625.,\n",
       "           9056.,   9111.,   6926.,   7256.,   7301.,   9467.,  10582.,\n",
       "           9644.,   8279.,   8240.,   7801.,   6670.,   5453.,   5022.,\n",
       "           4531.,   2614.,   1928.,   1508.,    383.,    149.,    228.,\n",
       "            117.,      0.,      0.,      0.,      0.,      0.,      0.,\n",
       "              0.,      0.,      0.,      0.,      0.,      0.,      0.,\n",
       "              0.,      0.,      0.,      0.,      0.,      0.,      0.,\n",
       "              0.,      0.]),\n",
       "  array([  0.00000000e+00,   0.00000000e+00,   0.00000000e+00,\n",
       "           0.00000000e+00,   0.00000000e+00,   0.00000000e+00,\n",
       "           0.00000000e+00,   0.00000000e+00,   0.00000000e+00,\n",
       "           0.00000000e+00,   0.00000000e+00,   0.00000000e+00,\n",
       "           0.00000000e+00,   0.00000000e+00,   0.00000000e+00,\n",
       "           0.00000000e+00,   9.00000000e+00,   1.60000000e+01,\n",
       "           1.12000000e+02,   1.89000000e+02,   2.61000000e+02,\n",
       "           4.43000000e+02,   7.14000000e+02,   1.55900000e+03,\n",
       "           1.52900000e+03,   1.99300000e+03,   2.59600000e+03,\n",
       "           3.21100000e+03,   2.88400000e+03,   3.36700000e+03,\n",
       "           4.12300000e+03,   4.67600000e+03,   5.67500000e+03,\n",
       "           5.43300000e+03,   5.20400000e+03,   6.73800000e+03,\n",
       "           7.49300000e+03,   7.73500000e+03,   7.85200000e+03,\n",
       "           1.01760000e+04,   9.45400000e+03,   9.67500000e+03,\n",
       "           8.78600000e+03,   8.39300000e+03,   9.62900000e+03,\n",
       "           1.07270000e+04,   1.04250000e+04,   1.00290000e+04,\n",
       "           9.94300000e+03,   1.07330000e+04,   1.22950000e+04,\n",
       "           1.34520000e+04,   1.28640000e+04,   1.31160000e+04,\n",
       "           1.22560000e+04,   1.01350000e+04,   9.74000000e+03,\n",
       "           8.07600000e+03,   9.33000000e+03,   9.51400000e+03,\n",
       "           9.33700000e+03,   8.81600000e+03,   9.29700000e+03,\n",
       "           8.89000000e+03,   7.95000000e+03,   8.09500000e+03,\n",
       "           7.99300000e+03,   6.30300000e+03,   4.56300000e+03,\n",
       "           4.35800000e+03,   4.89000000e+03,   3.04300000e+03,\n",
       "           1.92800000e+03,   1.42500000e+03,   7.33000000e+02,\n",
       "           1.97000000e+02,   4.20000000e+01,   6.70000000e+01,\n",
       "           1.02000000e+02,   0.00000000e+00,   0.00000000e+00,\n",
       "           0.00000000e+00,   0.00000000e+00,   0.00000000e+00,\n",
       "           0.00000000e+00,   0.00000000e+00,   0.00000000e+00,\n",
       "           0.00000000e+00,   0.00000000e+00,   0.00000000e+00,\n",
       "           0.00000000e+00,   0.00000000e+00,   0.00000000e+00,\n",
       "           0.00000000e+00,   0.00000000e+00,   0.00000000e+00,\n",
       "           0.00000000e+00,   0.00000000e+00,   0.00000000e+00,\n",
       "           0.00000000e+00]),\n",
       "  array([  0.00000000e+00,   0.00000000e+00,   0.00000000e+00,\n",
       "           0.00000000e+00,   0.00000000e+00,   0.00000000e+00,\n",
       "           0.00000000e+00,   0.00000000e+00,   0.00000000e+00,\n",
       "           0.00000000e+00,   0.00000000e+00,   0.00000000e+00,\n",
       "           0.00000000e+00,   0.00000000e+00,   0.00000000e+00,\n",
       "           0.00000000e+00,   0.00000000e+00,   0.00000000e+00,\n",
       "           0.00000000e+00,   0.00000000e+00,   0.00000000e+00,\n",
       "           0.00000000e+00,   0.00000000e+00,   0.00000000e+00,\n",
       "           0.00000000e+00,   0.00000000e+00,   0.00000000e+00,\n",
       "           0.00000000e+00,   0.00000000e+00,   0.00000000e+00,\n",
       "           0.00000000e+00,   0.00000000e+00,   0.00000000e+00,\n",
       "           0.00000000e+00,   0.00000000e+00,   0.00000000e+00,\n",
       "           0.00000000e+00,   0.00000000e+00,   0.00000000e+00,\n",
       "           1.67300000e+03,   1.17040000e+05,   6.22170000e+04,\n",
       "           1.60960000e+04,   9.12900000e+03,   3.70800000e+03,\n",
       "           3.08300000e+03,   4.50100000e+03,   4.74900000e+03,\n",
       "           7.02500000e+03,   5.41200000e+03,   4.89800000e+03,\n",
       "           4.98100000e+03,   5.44600000e+03,   5.29800000e+03,\n",
       "           6.20600000e+03,   5.84300000e+03,   6.07900000e+03,\n",
       "           5.97400000e+03,   5.69300000e+03,   6.78400000e+03,\n",
       "           6.88400000e+03,   7.21700000e+03,   7.96100000e+03,\n",
       "           6.58900000e+03,   5.39900000e+03,   5.84300000e+03,\n",
       "           5.61100000e+03,   5.70500000e+03,   4.93700000e+03,\n",
       "           3.77200000e+03,   3.62200000e+03,   3.39700000e+03,\n",
       "           2.74900000e+03,   2.34000000e+03,   2.00800000e+03,\n",
       "           1.87300000e+03,   1.64400000e+03,   2.18900000e+03,\n",
       "           1.61700000e+03,   1.38700000e+03,   9.97000000e+02,\n",
       "           8.39000000e+02,   8.09000000e+02,   5.05000000e+02,\n",
       "           4.69000000e+02,   5.92000000e+02,   3.18000000e+02,\n",
       "           1.43000000e+02,   3.07000000e+02,   2.50000000e+02,\n",
       "           2.20000000e+02,   1.01000000e+02,   1.01000000e+02,\n",
       "           4.30000000e+01,   4.80000000e+01,   1.14000000e+02,\n",
       "           6.80000000e+01,   3.20000000e+01,   3.10000000e+01,\n",
       "           2.30000000e+01]),\n",
       "  array([  0.00000000e+00,   0.00000000e+00,   0.00000000e+00,\n",
       "           0.00000000e+00,   0.00000000e+00,   0.00000000e+00,\n",
       "           0.00000000e+00,   0.00000000e+00,   0.00000000e+00,\n",
       "           0.00000000e+00,   0.00000000e+00,   0.00000000e+00,\n",
       "           0.00000000e+00,   0.00000000e+00,   0.00000000e+00,\n",
       "           0.00000000e+00,   0.00000000e+00,   0.00000000e+00,\n",
       "           0.00000000e+00,   0.00000000e+00,   0.00000000e+00,\n",
       "           0.00000000e+00,   0.00000000e+00,   0.00000000e+00,\n",
       "           0.00000000e+00,   0.00000000e+00,   0.00000000e+00,\n",
       "           0.00000000e+00,   0.00000000e+00,   0.00000000e+00,\n",
       "           0.00000000e+00,   0.00000000e+00,   0.00000000e+00,\n",
       "           0.00000000e+00,   0.00000000e+00,   0.00000000e+00,\n",
       "           0.00000000e+00,   2.05540000e+04,   5.33510000e+04,\n",
       "           3.78210000e+04,   2.35410000e+04,   2.19990000e+04,\n",
       "           1.27660000e+04,   9.42900000e+03,   6.58900000e+03,\n",
       "           5.72600000e+03,   4.60700000e+03,   6.50400000e+03,\n",
       "           6.86000000e+03,   4.67500000e+03,   8.97800000e+03,\n",
       "           8.83300000e+03,   5.00700000e+03,   6.42000000e+03,\n",
       "           6.43200000e+03,   6.58200000e+03,   7.47800000e+03,\n",
       "           8.25600000e+03,   7.88900000e+03,   7.38800000e+03,\n",
       "           8.55700000e+03,   8.30800000e+03,   8.22800000e+03,\n",
       "           8.04900000e+03,   8.23600000e+03,   7.49600000e+03,\n",
       "           6.79500000e+03,   5.69100000e+03,   4.41900000e+03,\n",
       "           3.73700000e+03,   3.96000000e+03,   3.19000000e+03,\n",
       "           2.66200000e+03,   2.19700000e+03,   1.81300000e+03,\n",
       "           1.57000000e+03,   1.14600000e+03,   9.57000000e+02,\n",
       "           1.09300000e+03,   6.34000000e+02,   6.00000000e+02,\n",
       "           7.34000000e+02,   5.55000000e+02,   3.52000000e+02,\n",
       "           2.93000000e+02,   2.22000000e+02,   3.18000000e+02,\n",
       "           2.38000000e+02,   1.74000000e+02,   1.92000000e+02,\n",
       "           2.13000000e+02,   1.63000000e+02,   3.30000000e+01,\n",
       "           2.50000000e+01,   1.10000000e+01,   1.00000000e+01,\n",
       "           2.30000000e+01,   1.00000000e+01,   0.00000000e+00,\n",
       "           0.00000000e+00]),\n",
       "  array([  0.00000000e+00,   0.00000000e+00,   0.00000000e+00,\n",
       "           0.00000000e+00,   0.00000000e+00,   0.00000000e+00,\n",
       "           0.00000000e+00,   0.00000000e+00,   0.00000000e+00,\n",
       "           0.00000000e+00,   0.00000000e+00,   0.00000000e+00,\n",
       "           0.00000000e+00,   0.00000000e+00,   0.00000000e+00,\n",
       "           0.00000000e+00,   0.00000000e+00,   0.00000000e+00,\n",
       "           0.00000000e+00,   0.00000000e+00,   0.00000000e+00,\n",
       "           0.00000000e+00,   0.00000000e+00,   0.00000000e+00,\n",
       "           0.00000000e+00,   0.00000000e+00,   0.00000000e+00,\n",
       "           0.00000000e+00,   0.00000000e+00,   0.00000000e+00,\n",
       "           0.00000000e+00,   0.00000000e+00,   0.00000000e+00,\n",
       "           0.00000000e+00,   0.00000000e+00,   0.00000000e+00,\n",
       "           0.00000000e+00,   2.99000000e+02,   2.67520000e+04,\n",
       "           5.71610000e+04,   3.46910000e+04,   2.71850000e+04,\n",
       "           2.32490000e+04,   1.89160000e+04,   1.23610000e+04,\n",
       "           1.10440000e+04,   7.82300000e+03,   5.76700000e+03,\n",
       "           4.15800000e+03,   4.10000000e+03,   3.70400000e+03,\n",
       "           4.18400000e+03,   3.51200000e+03,   4.63500000e+03,\n",
       "           6.25100000e+03,   5.60300000e+03,   6.73600000e+03,\n",
       "           6.40700000e+03,   6.33100000e+03,   6.43900000e+03,\n",
       "           6.82700000e+03,   7.27900000e+03,   7.40200000e+03,\n",
       "           7.40800000e+03,   7.24700000e+03,   6.74000000e+03,\n",
       "           6.40800000e+03,   6.27000000e+03,   5.93500000e+03,\n",
       "           4.52200000e+03,   4.40200000e+03,   3.70200000e+03,\n",
       "           3.10300000e+03,   2.49400000e+03,   2.44600000e+03,\n",
       "           2.31700000e+03,   1.65300000e+03,   1.47000000e+03,\n",
       "           1.18400000e+03,   7.95000000e+02,   5.65000000e+02,\n",
       "           4.55000000e+02,   3.87000000e+02,   2.35000000e+02,\n",
       "           1.30000000e+02,   3.00000000e+02,   2.11000000e+02,\n",
       "           2.81000000e+02,   2.26000000e+02,   2.51000000e+02,\n",
       "           1.73000000e+02,   1.95000000e+02,   1.14000000e+02,\n",
       "           9.80000000e+01,   1.20000000e+01,   1.10000000e+01,\n",
       "           2.00000000e+01,   1.30000000e+01,   0.00000000e+00,\n",
       "           0.00000000e+00]),\n",
       "  array([  0.00000000e+00,   0.00000000e+00,   0.00000000e+00,\n",
       "           0.00000000e+00,   0.00000000e+00,   0.00000000e+00,\n",
       "           0.00000000e+00,   0.00000000e+00,   0.00000000e+00,\n",
       "           0.00000000e+00,   0.00000000e+00,   0.00000000e+00,\n",
       "           0.00000000e+00,   0.00000000e+00,   0.00000000e+00,\n",
       "           0.00000000e+00,   0.00000000e+00,   0.00000000e+00,\n",
       "           0.00000000e+00,   0.00000000e+00,   0.00000000e+00,\n",
       "           0.00000000e+00,   0.00000000e+00,   0.00000000e+00,\n",
       "           0.00000000e+00,   0.00000000e+00,   0.00000000e+00,\n",
       "           0.00000000e+00,   0.00000000e+00,   0.00000000e+00,\n",
       "           0.00000000e+00,   0.00000000e+00,   0.00000000e+00,\n",
       "           0.00000000e+00,   0.00000000e+00,   0.00000000e+00,\n",
       "           0.00000000e+00,   0.00000000e+00,   1.58800000e+04,\n",
       "           7.43770000e+04,   3.76340000e+04,   3.07340000e+04,\n",
       "           2.01660000e+04,   9.38400000e+03,   9.66100000e+03,\n",
       "           9.11100000e+03,   8.06000000e+03,   5.67200000e+03,\n",
       "           5.38800000e+03,   4.64600000e+03,   4.44000000e+03,\n",
       "           4.52000000e+03,   3.68100000e+03,   4.85700000e+03,\n",
       "           4.99100000e+03,   5.67400000e+03,   6.50300000e+03,\n",
       "           6.82500000e+03,   7.17200000e+03,   7.64500000e+03,\n",
       "           7.38000000e+03,   6.57300000e+03,   7.07200000e+03,\n",
       "           8.28500000e+03,   8.61900000e+03,   7.61000000e+03,\n",
       "           6.21700000e+03,   6.11500000e+03,   5.74300000e+03,\n",
       "           4.61200000e+03,   3.78600000e+03,   3.30100000e+03,\n",
       "           3.27100000e+03,   2.38200000e+03,   2.27700000e+03,\n",
       "           1.70800000e+03,   1.47300000e+03,   1.25500000e+03,\n",
       "           1.14500000e+03,   6.29000000e+02,   7.08000000e+02,\n",
       "           4.03000000e+02,   4.17000000e+02,   3.37000000e+02,\n",
       "           3.71000000e+02,   3.60000000e+02,   1.43000000e+02,\n",
       "           1.83000000e+02,   2.29000000e+02,   1.36000000e+02,\n",
       "           3.41000000e+02,   2.36000000e+02,   1.61000000e+02,\n",
       "           2.60000000e+01,   1.10000000e+01,   1.10000000e+01,\n",
       "           1.00000000e+01,   2.20000000e+01,   1.00000000e+01,\n",
       "           0.00000000e+00]),\n",
       "  array([  0.00000000e+00,   0.00000000e+00,   0.00000000e+00,\n",
       "           0.00000000e+00,   0.00000000e+00,   0.00000000e+00,\n",
       "           0.00000000e+00,   0.00000000e+00,   0.00000000e+00,\n",
       "           0.00000000e+00,   0.00000000e+00,   0.00000000e+00,\n",
       "           0.00000000e+00,   0.00000000e+00,   0.00000000e+00,\n",
       "           0.00000000e+00,   0.00000000e+00,   0.00000000e+00,\n",
       "           0.00000000e+00,   0.00000000e+00,   0.00000000e+00,\n",
       "           0.00000000e+00,   0.00000000e+00,   0.00000000e+00,\n",
       "           0.00000000e+00,   0.00000000e+00,   0.00000000e+00,\n",
       "           0.00000000e+00,   0.00000000e+00,   0.00000000e+00,\n",
       "           0.00000000e+00,   0.00000000e+00,   0.00000000e+00,\n",
       "           0.00000000e+00,   0.00000000e+00,   0.00000000e+00,\n",
       "           0.00000000e+00,   0.00000000e+00,   1.97380000e+04,\n",
       "           7.14350000e+04,   3.88400000e+04,   3.17880000e+04,\n",
       "           1.74080000e+04,   9.25500000e+03,   8.81600000e+03,\n",
       "           9.06200000e+03,   7.20500000e+03,   4.40800000e+03,\n",
       "           5.47100000e+03,   6.24600000e+03,   4.52900000e+03,\n",
       "           4.40500000e+03,   4.23500000e+03,   4.76400000e+03,\n",
       "           4.64800000e+03,   6.43600000e+03,   7.12600000e+03,\n",
       "           6.26400000e+03,   7.58400000e+03,   8.18300000e+03,\n",
       "           7.04000000e+03,   6.77500000e+03,   7.38500000e+03,\n",
       "           8.63600000e+03,   7.55600000e+03,   7.14800000e+03,\n",
       "           6.79000000e+03,   6.12500000e+03,   5.47100000e+03,\n",
       "           4.79900000e+03,   3.36100000e+03,   3.26400000e+03,\n",
       "           3.21000000e+03,   2.39300000e+03,   2.29100000e+03,\n",
       "           1.62800000e+03,   1.54300000e+03,   1.29500000e+03,\n",
       "           1.24000000e+03,   6.50000000e+02,   7.35000000e+02,\n",
       "           5.17000000e+02,   3.83000000e+02,   2.46000000e+02,\n",
       "           3.90000000e+02,   3.98000000e+02,   1.13000000e+02,\n",
       "           2.04000000e+02,   2.12000000e+02,   1.71000000e+02,\n",
       "           3.59000000e+02,   2.49000000e+02,   9.10000000e+01,\n",
       "           1.10000000e+01,   1.20000000e+01,   1.10000000e+01,\n",
       "           1.10000000e+01,   3.00000000e+01,   0.00000000e+00,\n",
       "           0.00000000e+00]),\n",
       "  array([  4.00000000e+01,   5.10000000e+01,   4.10000000e+01,\n",
       "           5.20000000e+01,   6.40000000e+01,   1.59000000e+02,\n",
       "           1.55000000e+02,   1.97000000e+02,   4.65000000e+02,\n",
       "           5.86000000e+02,   5.87000000e+02,   6.54000000e+02,\n",
       "           5.63000000e+02,   5.75000000e+02,   8.90000000e+02,\n",
       "           1.03500000e+03,   1.12900000e+03,   9.26000000e+02,\n",
       "           9.60000000e+02,   6.42000000e+02,   1.04500000e+03,\n",
       "           1.21000000e+03,   1.18500000e+03,   6.65000000e+02,\n",
       "           1.09400000e+03,   1.24700000e+03,   1.39000000e+03,\n",
       "           1.12800000e+03,   1.75800000e+03,   1.35400000e+03,\n",
       "           1.43600000e+03,   2.69200000e+03,   3.20700000e+03,\n",
       "           3.29000000e+03,   4.27900000e+03,   5.41600000e+03,\n",
       "           5.22900000e+03,   5.42600000e+03,   6.43200000e+03,\n",
       "           6.24800000e+03,   5.68400000e+03,   7.77400000e+03,\n",
       "           8.37000000e+03,   7.92100000e+03,   8.72400000e+03,\n",
       "           1.25510000e+04,   1.15840000e+04,   1.21050000e+04,\n",
       "           1.56440000e+04,   1.59950000e+04,   1.34790000e+04,\n",
       "           1.54370000e+04,   1.96860000e+04,   1.31640000e+04,\n",
       "           1.47200000e+04,   1.65850000e+04,   1.06440000e+04,\n",
       "           8.93900000e+03,   1.02470000e+04,   1.05090000e+04,\n",
       "           8.08200000e+03,   7.75900000e+03,   1.09710000e+04,\n",
       "           7.63000000e+03,   7.15300000e+03,   1.07460000e+04,\n",
       "           5.41700000e+03,   3.96200000e+03,   3.91300000e+03,\n",
       "           5.85400000e+03,   1.39800000e+03,   8.32000000e+02,\n",
       "           9.04000000e+02,   1.32000000e+02,   1.06000000e+02,\n",
       "           2.91000000e+02,   1.73000000e+02,   2.00000000e+00,\n",
       "           0.00000000e+00,   0.00000000e+00,   0.00000000e+00,\n",
       "           0.00000000e+00,   0.00000000e+00,   0.00000000e+00,\n",
       "           0.00000000e+00,   0.00000000e+00,   0.00000000e+00,\n",
       "           0.00000000e+00,   0.00000000e+00,   0.00000000e+00,\n",
       "           0.00000000e+00,   0.00000000e+00,   0.00000000e+00,\n",
       "           0.00000000e+00,   0.00000000e+00,   0.00000000e+00,\n",
       "           0.00000000e+00,   0.00000000e+00,   0.00000000e+00,\n",
       "           0.00000000e+00])],\n",
       " array([-4.24904929, -4.16415866, -4.07926802, -3.99437739, -3.90948675,\n",
       "        -3.82459612, -3.73970549, -3.65481485, -3.56992422, -3.48503358,\n",
       "        -3.40014295, -3.31525232, -3.23036168, -3.14547105, -3.06058041,\n",
       "        -2.97568978, -2.89079915, -2.80590851, -2.72101788, -2.63612724,\n",
       "        -2.55123661, -2.46634597, -2.38145534, -2.29656471, -2.21167407,\n",
       "        -2.12678344, -2.0418928 , -1.95700217, -1.87211154, -1.7872209 ,\n",
       "        -1.70233027, -1.61743963, -1.532549  , -1.44765837, -1.36276773,\n",
       "        -1.2778771 , -1.19298646, -1.10809583, -1.0232052 , -0.93831456,\n",
       "        -0.85342393, -0.76853329, -0.68364266, -0.59875202, -0.51386139,\n",
       "        -0.42897076, -0.34408012, -0.25918949, -0.17429885, -0.08940822,\n",
       "        -0.00451759,  0.08037305,  0.16526368,  0.25015432,  0.33504495,\n",
       "         0.41993558,  0.50482622,  0.58971685,  0.67460749,  0.75949812,\n",
       "         0.84438875,  0.92927939,  1.01417002,  1.09906066,  1.18395129,\n",
       "         1.26884193,  1.35373256,  1.43862319,  1.52351383,  1.60840446,\n",
       "         1.6932951 ,  1.77818573,  1.86307636,  1.947967  ,  2.03285763,\n",
       "         2.11774827,  2.2026389 ,  2.28752953,  2.37242017,  2.4573108 ,\n",
       "         2.54220144,  2.62709207,  2.7119827 ,  2.79687334,  2.88176397,\n",
       "         2.96665461,  3.05154524,  3.13643588,  3.22132651,  3.30621714,\n",
       "         3.39110778,  3.47599841,  3.56088905,  3.64577968,  3.73067031,\n",
       "         3.81556095,  3.90045158,  3.98534222,  4.07023285,  4.15512348,\n",
       "         4.24001412]),\n",
       " <a list of 9 Lists of Patches objects>)"
      ]
     },
     "execution_count": 19,
     "metadata": {},
     "output_type": "execute_result"
    },
    {
     "data": {
      "image/png": "[encoded data removed]",
      "text/plain": [
       "<matplotlib.figure.Figure at 0x7f608c25b3d0>"
      ]
     },
     "metadata": {},
     "output_type": "display_data"
    }
   ],
   "source": [
    "plt.hist(X_std,bins=100)"
   ]
  },
  {
   "cell_type": "code",
   "execution_count": 12,
   "metadata": {
    "collapsed": false
   },
   "outputs": [
    {
     "data": {
      "text/plain": [
       "array([-0.81479743, -0.91980114, -0.94375773,  0.81415447,  1.01030995,\n",
       "        1.22427872,  1.08495911,  1.03381005,  1.29075557])"
      ]
     },
     "execution_count": 12,
     "metadata": {},
     "output_type": "execute_result"
    }
   ],
   "source": [
    "X_std[1000]"
   ]
  },
  {
   "cell_type": "code",
   "execution_count": 13,
   "metadata": {
    "collapsed": false
   },
   "outputs": [],
   "source": [
    "#Calculate the z-score of all the points\n",
    "from scipy import stats\n",
    "zscore = stats.zscore(X)"
   ]
  },
  {
   "cell_type": "code",
   "execution_count": 14,
   "metadata": {
    "collapsed": false
   },
   "outputs": [
    {
     "data": {
      "text/plain": [
       "{'boxes': [<matplotlib.lines.Line2D at 0x7f609310b710>,\n",
       "  <matplotlib.lines.Line2D at 0x7f60930a3f50>,\n",
       "  <matplotlib.lines.Line2D at 0x7f60930c7bd0>,\n",
       "  <matplotlib.lines.Line2D at 0x7f609306b810>,\n",
       "  <matplotlib.lines.Line2D at 0x7f609300f450>,\n",
       "  <matplotlib.lines.Line2D at 0x7f6093034090>,\n",
       "  <matplotlib.lines.Line2D at 0x7f609304e050>,\n",
       "  <matplotlib.lines.Line2D at 0x7f60964e1e90>,\n",
       "  <matplotlib.lines.Line2D at 0x7f6092ff7090>],\n",
       " 'caps': [<matplotlib.lines.Line2D at 0x7f6093098650>,\n",
       "  <matplotlib.lines.Line2D at 0x7f6093098c90>,\n",
       "  <matplotlib.lines.Line2D at 0x7f60930bb2d0>,\n",
       "  <matplotlib.lines.Line2D at 0x7f60930bb910>,\n",
       "  <matplotlib.lines.Line2D at 0x7f6093052ed0>,\n",
       "  <matplotlib.lines.Line2D at 0x7f609305f550>,\n",
       "  <matplotlib.lines.Line2D at 0x7f6093078b10>,\n",
       "  <matplotlib.lines.Line2D at 0x7f6093083190>,\n",
       "  <matplotlib.lines.Line2D at 0x7f609301c750>,\n",
       "  <matplotlib.lines.Line2D at 0x7f609301cd90>,\n",
       "  <matplotlib.lines.Line2D at 0x7f6093147fd0>,\n",
       "  <matplotlib.lines.Line2D at 0x7f6093147ed0>,\n",
       "  <matplotlib.lines.Line2D at 0x7f60939e2cd0>,\n",
       "  <matplotlib.lines.Line2D at 0x7f6093164b90>,\n",
       "  <matplotlib.lines.Line2D at 0x7f6092fe0750>,\n",
       "  <matplotlib.lines.Line2D at 0x7f6092fe0d90>,\n",
       "  <matplotlib.lines.Line2D at 0x7f6093002390>,\n",
       "  <matplotlib.lines.Line2D at 0x7f60930029d0>],\n",
       " 'fliers': [<matplotlib.lines.Line2D at 0x7f60930a3950>,\n",
       "  <matplotlib.lines.Line2D at 0x7f60930c75d0>,\n",
       "  <matplotlib.lines.Line2D at 0x7f609306b210>,\n",
       "  <matplotlib.lines.Line2D at 0x7f6093083e10>,\n",
       "  <matplotlib.lines.Line2D at 0x7f6093028a50>,\n",
       "  <matplotlib.lines.Line2D at 0x7f6093041a10>,\n",
       "  <matplotlib.lines.Line2D at 0x7f6095c52d50>,\n",
       "  <matplotlib.lines.Line2D at 0x7f6092feca50>,\n",
       "  <matplotlib.lines.Line2D at 0x7f6092f8f690>],\n",
       " 'means': [],\n",
       " 'medians': [<matplotlib.lines.Line2D at 0x7f60930a3310>,\n",
       "  <matplotlib.lines.Line2D at 0x7f60930bbf50>,\n",
       "  <matplotlib.lines.Line2D at 0x7f609305fb90>,\n",
       "  <matplotlib.lines.Line2D at 0x7f60930837d0>,\n",
       "  <matplotlib.lines.Line2D at 0x7f6093028410>,\n",
       "  <matplotlib.lines.Line2D at 0x7f6093222d10>,\n",
       "  <matplotlib.lines.Line2D at 0x7f6093a1c650>,\n",
       "  <matplotlib.lines.Line2D at 0x7f6092fec410>,\n",
       "  <matplotlib.lines.Line2D at 0x7f6092f8f050>],\n",
       " 'whiskers': [<matplotlib.lines.Line2D at 0x7f609310b8d0>,\n",
       "  <matplotlib.lines.Line2D at 0x7f609310bfd0>,\n",
       "  <matplotlib.lines.Line2D at 0x7f60930af610>,\n",
       "  <matplotlib.lines.Line2D at 0x7f60930afc50>,\n",
       "  <matplotlib.lines.Line2D at 0x7f6093052250>,\n",
       "  <matplotlib.lines.Line2D at 0x7f6093052890>,\n",
       "  <matplotlib.lines.Line2D at 0x7f609306be50>,\n",
       "  <matplotlib.lines.Line2D at 0x7f60930784d0>,\n",
       "  <matplotlib.lines.Line2D at 0x7f609300fa90>,\n",
       "  <matplotlib.lines.Line2D at 0x7f609301c110>,\n",
       "  <matplotlib.lines.Line2D at 0x7f60930346d0>,\n",
       "  <matplotlib.lines.Line2D at 0x7f6093034d10>,\n",
       "  <matplotlib.lines.Line2D at 0x7f609304e690>,\n",
       "  <matplotlib.lines.Line2D at 0x7f609304ecd0>,\n",
       "  <matplotlib.lines.Line2D at 0x7f6092fdaa90>,\n",
       "  <matplotlib.lines.Line2D at 0x7f6092fe0110>,\n",
       "  <matplotlib.lines.Line2D at 0x7f6092ff76d0>,\n",
       "  <matplotlib.lines.Line2D at 0x7f6092ff7d10>]}"
      ]
     },
     "execution_count": 14,
     "metadata": {},
     "output_type": "execute_result"
    },
    {
     "data": {
      "image/png": "[encoded data removed]",
      "text/plain": [
       "<matplotlib.figure.Figure at 0x7f60abbdb650>"
      ]
     },
     "metadata": {},
     "output_type": "display_data"
    }
   ],
   "source": [
    "plt.boxplot(zscore)"
   ]
  },
  {
   "cell_type": "code",
   "execution_count": 15,
   "metadata": {
    "collapsed": true
   },
   "outputs": [],
   "source": [
    "from sklearn.decomposition import PCA \n",
    "sklearn_pca = PCA(n_components=9)\n",
    "Y_sklearn = sklearn_pca.fit_transform(X_std)\n",
    "\n"
   ]
  },
  {
   "cell_type": "code",
   "execution_count": 16,
   "metadata": {
    "collapsed": false
   },
   "outputs": [
    {
     "data": {
      "text/html": [
       "<div>\n",
       "<table border=\"1\" class=\"dataframe\">\n",
       "  <thead>\n",
       "    <tr style=\"text-align: right;\">\n",
       "      <th></th>\n",
       "      <th>PCA1</th>\n",
       "      <th>PCA2</th>\n",
       "      <th>PCA3</th>\n",
       "      <th>PCA4</th>\n",
       "      <th>PCA5</th>\n",
       "      <th>PCA6</th>\n",
       "      <th>PCA7</th>\n",
       "      <th>PCA8</th>\n",
       "      <th>PCA9</th>\n",
       "    </tr>\n",
       "  </thead>\n",
       "  <tbody>\n",
       "    <tr>\n",
       "      <th>0</th>\n",
       "      <td>6.478272</td>\n",
       "      <td>-2.004349</td>\n",
       "      <td>0.832634</td>\n",
       "      <td>0.325690</td>\n",
       "      <td>0.166163</td>\n",
       "      <td>0.112744</td>\n",
       "      <td>-0.043534</td>\n",
       "      <td>-0.007617</td>\n",
       "      <td>0.004075</td>\n",
       "    </tr>\n",
       "    <tr>\n",
       "      <th>1</th>\n",
       "      <td>6.482626</td>\n",
       "      <td>-2.000501</td>\n",
       "      <td>0.826960</td>\n",
       "      <td>0.326404</td>\n",
       "      <td>0.167152</td>\n",
       "      <td>0.113730</td>\n",
       "      <td>-0.043292</td>\n",
       "      <td>-0.007664</td>\n",
       "      <td>0.004168</td>\n",
       "    </tr>\n",
       "    <tr>\n",
       "      <th>2</th>\n",
       "      <td>6.483993</td>\n",
       "      <td>-1.996518</td>\n",
       "      <td>0.826020</td>\n",
       "      <td>0.326317</td>\n",
       "      <td>0.167874</td>\n",
       "      <td>0.115169</td>\n",
       "      <td>-0.043085</td>\n",
       "      <td>-0.007563</td>\n",
       "      <td>0.004180</td>\n",
       "    </tr>\n",
       "    <tr>\n",
       "      <th>3</th>\n",
       "      <td>6.485360</td>\n",
       "      <td>-1.992535</td>\n",
       "      <td>0.825080</td>\n",
       "      <td>0.326229</td>\n",
       "      <td>0.168596</td>\n",
       "      <td>0.116608</td>\n",
       "      <td>-0.042879</td>\n",
       "      <td>-0.007461</td>\n",
       "      <td>0.004193</td>\n",
       "    </tr>\n",
       "    <tr>\n",
       "      <th>4</th>\n",
       "      <td>6.486727</td>\n",
       "      <td>-1.988552</td>\n",
       "      <td>0.824139</td>\n",
       "      <td>0.326142</td>\n",
       "      <td>0.169317</td>\n",
       "      <td>0.118046</td>\n",
       "      <td>-0.042672</td>\n",
       "      <td>-0.007359</td>\n",
       "      <td>0.004205</td>\n",
       "    </tr>\n",
       "  </tbody>\n",
       "</table>\n",
       "</div>"
      ],
      "text/plain": [
       "       PCA1      PCA2      PCA3      PCA4      PCA5      PCA6      PCA7  \\\n",
       "0  6.478272 -2.004349  0.832634  0.325690  0.166163  0.112744 -0.043534   \n",
       "1  6.482626 -2.000501  0.826960  0.326404  0.167152  0.113730 -0.043292   \n",
       "2  6.483993 -1.996518  0.826020  0.326317  0.167874  0.115169 -0.043085   \n",
       "3  6.485360 -1.992535  0.825080  0.326229  0.168596  0.116608 -0.042879   \n",
       "4  6.486727 -1.988552  0.824139  0.326142  0.169317  0.118046 -0.042672   \n",
       "\n",
       "       PCA8      PCA9  \n",
       "0 -0.007617  0.004075  \n",
       "1 -0.007664  0.004168  \n",
       "2 -0.007563  0.004180  \n",
       "3 -0.007461  0.004193  \n",
       "4 -0.007359  0.004205  "
      ]
     },
     "execution_count": 16,
     "metadata": {},
     "output_type": "execute_result"
    }
   ],
   "source": [
    "#Convert the PCA to dataframe\n",
    "data = pd.DataFrame(Y_sklearn, columns=('PCA1', 'PCA2','PCA3','PCA4','PCA5','PCA6','PCA7','PCA8','PCA9'))\n",
    "data.head()\n",
    "\n"
   ]
  },
  {
   "cell_type": "code",
   "execution_count": 17,
   "metadata": {
    "collapsed": false
   },
   "outputs": [
    {
     "name": "stderr",
     "output_type": "stream",
     "text": [
      "/home/arun/anaconda2/lib/python2.7/site-packages/matplotlib/axes/_axes.py:545: UserWarning: No labelled objects found. Use label='...' kwarg on individual plots.\n",
      "  warnings.warn(\"No labelled objects found. \"\n"
     ]
    },
    {
     "data": {
      "text/plain": [
       "<matplotlib.text.Text at 0x7f6092f15590>"
      ]
     },
     "execution_count": 17,
     "metadata": {},
     "output_type": "execute_result"
    },
    {
     "data": {
      "image/png": "[encoded data removed]",
      "text/plain": [
       "<matplotlib.figure.Figure at 0x7f60930e3bd0>"
      ]
     },
     "metadata": {},
     "output_type": "display_data"
    }
   ],
   "source": [
    "#Plot the PCA values\n",
    "fig = plt.figure() \n",
    "plt.legend(loc='upper right')\n",
    "plt.plot(data)\n",
    "plt.title(\"PCA of Torschlag_Trafo_07122015_to_11122015(Week-1)\")\n",
    "\n",
    "#plt.legend()\n",
    "plt.ylabel(\"PCA recorded value\")\n",
    "plt.xlabel(\"observation\")"
   ]
  },
  {
   "cell_type": "code",
   "execution_count": 18,
   "metadata": {
    "collapsed": false
   },
   "outputs": [
    {
     "ename": "KeyboardInterrupt",
     "evalue": "",
     "output_type": "error",
     "traceback": [
      "\u001b[0;31m---------------------------------------------------------------------------\u001b[0m",
      "\u001b[0;31mKeyboardInterrupt\u001b[0m                         Traceback (most recent call last)",
      "\u001b[0;32m<ipython-input-18-d815cbabb145>\u001b[0m in \u001b[0;36m<module>\u001b[0;34m()\u001b[0m\n\u001b[1;32m      9\u001b[0m     clf = GaussianMixture(n_components=n,\n\u001b[1;32m     10\u001b[0m               covariance_type='full')\n\u001b[0;32m---> 11\u001b[0;31m     \u001b[0mclf\u001b[0m\u001b[0;34m.\u001b[0m\u001b[0mfit\u001b[0m\u001b[0;34m(\u001b[0m\u001b[0mdata\u001b[0m\u001b[0;34m)\u001b[0m\u001b[0;34m\u001b[0m\u001b[0m\n\u001b[0m\u001b[1;32m     12\u001b[0m \u001b[0;34m\u001b[0m\u001b[0m\n\u001b[1;32m     13\u001b[0m     \u001b[0mAIC\u001b[0m\u001b[0;34m[\u001b[0m\u001b[0mi\u001b[0m\u001b[0;34m]\u001b[0m \u001b[0;34m=\u001b[0m \u001b[0mclf\u001b[0m\u001b[0;34m.\u001b[0m\u001b[0maic\u001b[0m\u001b[0;34m(\u001b[0m\u001b[0mdata\u001b[0m\u001b[0;34m)\u001b[0m\u001b[0;34m\u001b[0m\u001b[0m\n",
      "\u001b[0;32m/home/arun/anaconda2/lib/python2.7/site-packages/sklearn/mixture/base.pyc\u001b[0m in \u001b[0;36mfit\u001b[0;34m(self, X, y)\u001b[0m\n\u001b[1;32m    212\u001b[0m \u001b[0;34m\u001b[0m\u001b[0m\n\u001b[1;32m    213\u001b[0m                 \u001b[0mlog_prob_norm\u001b[0m\u001b[0;34m,\u001b[0m \u001b[0mlog_resp\u001b[0m \u001b[0;34m=\u001b[0m \u001b[0mself\u001b[0m\u001b[0;34m.\u001b[0m\u001b[0m_e_step\u001b[0m\u001b[0;34m(\u001b[0m\u001b[0mX\u001b[0m\u001b[0;34m)\u001b[0m\u001b[0;34m\u001b[0m\u001b[0m\n\u001b[0;32m--> 214\u001b[0;31m                 \u001b[0mself\u001b[0m\u001b[0;34m.\u001b[0m\u001b[0m_m_step\u001b[0m\u001b[0;34m(\u001b[0m\u001b[0mX\u001b[0m\u001b[0;34m,\u001b[0m \u001b[0mlog_resp\u001b[0m\u001b[0;34m)\u001b[0m\u001b[0;34m\u001b[0m\u001b[0m\n\u001b[0m\u001b[1;32m    215\u001b[0m                 self.lower_bound_ = self._compute_lower_bound(\n\u001b[1;32m    216\u001b[0m                     log_resp, log_prob_norm)\n",
      "\u001b[0;32m/home/arun/anaconda2/lib/python2.7/site-packages/sklearn/mixture/gaussian_mixture.pyc\u001b[0m in \u001b[0;36m_m_step\u001b[0;34m(self, X, log_resp)\u001b[0m\n\u001b[1;32m    664\u001b[0m         self.weights_, self.means_, self.covariances_ = (\n\u001b[1;32m    665\u001b[0m             _estimate_gaussian_parameters(X, np.exp(log_resp), self.reg_covar,\n\u001b[0;32m--> 666\u001b[0;31m                                           self.covariance_type))\n\u001b[0m\u001b[1;32m    667\u001b[0m         \u001b[0mself\u001b[0m\u001b[0;34m.\u001b[0m\u001b[0mweights_\u001b[0m \u001b[0;34m/=\u001b[0m \u001b[0mn_samples\u001b[0m\u001b[0;34m\u001b[0m\u001b[0m\n\u001b[1;32m    668\u001b[0m         self.precisions_cholesky_ = _compute_precision_cholesky(\n",
      "\u001b[0;32m/home/arun/anaconda2/lib/python2.7/site-packages/sklearn/mixture/gaussian_mixture.pyc\u001b[0m in \u001b[0;36m_estimate_gaussian_parameters\u001b[0;34m(X, resp, reg_covar, covariance_type)\u001b[0m\n\u001b[1;32m    283\u001b[0m                    \u001b[0;34m\"diag\"\u001b[0m\u001b[0;34m:\u001b[0m \u001b[0m_estimate_gaussian_covariances_diag\u001b[0m\u001b[0;34m,\u001b[0m\u001b[0;34m\u001b[0m\u001b[0m\n\u001b[1;32m    284\u001b[0m                    \u001b[0;34m\"spherical\"\u001b[0m\u001b[0;34m:\u001b[0m \u001b[0m_estimate_gaussian_covariances_spherical\u001b[0m\u001b[0;34m\u001b[0m\u001b[0m\n\u001b[0;32m--> 285\u001b[0;31m                    }[covariance_type](resp, X, nk, means, reg_covar)\n\u001b[0m\u001b[1;32m    286\u001b[0m     \u001b[0;32mreturn\u001b[0m \u001b[0mnk\u001b[0m\u001b[0;34m,\u001b[0m \u001b[0mmeans\u001b[0m\u001b[0;34m,\u001b[0m \u001b[0mcovariances\u001b[0m\u001b[0;34m\u001b[0m\u001b[0m\n\u001b[1;32m    287\u001b[0m \u001b[0;34m\u001b[0m\u001b[0m\n",
      "\u001b[0;32m/home/arun/anaconda2/lib/python2.7/site-packages/sklearn/mixture/gaussian_mixture.pyc\u001b[0m in \u001b[0;36m_estimate_gaussian_covariances_full\u001b[0;34m(resp, X, nk, means, reg_covar)\u001b[0m\n\u001b[1;32m    165\u001b[0m     \u001b[0;32mfor\u001b[0m \u001b[0mk\u001b[0m \u001b[0;32min\u001b[0m \u001b[0mrange\u001b[0m\u001b[0;34m(\u001b[0m\u001b[0mn_components\u001b[0m\u001b[0;34m)\u001b[0m\u001b[0;34m:\u001b[0m\u001b[0;34m\u001b[0m\u001b[0m\n\u001b[1;32m    166\u001b[0m         \u001b[0mdiff\u001b[0m \u001b[0;34m=\u001b[0m \u001b[0mX\u001b[0m \u001b[0;34m-\u001b[0m \u001b[0mmeans\u001b[0m\u001b[0;34m[\u001b[0m\u001b[0mk\u001b[0m\u001b[0;34m]\u001b[0m\u001b[0;34m\u001b[0m\u001b[0m\n\u001b[0;32m--> 167\u001b[0;31m         \u001b[0mcovariances\u001b[0m\u001b[0;34m[\u001b[0m\u001b[0mk\u001b[0m\u001b[0;34m]\u001b[0m \u001b[0;34m=\u001b[0m \u001b[0mnp\u001b[0m\u001b[0;34m.\u001b[0m\u001b[0mdot\u001b[0m\u001b[0;34m(\u001b[0m\u001b[0mresp\u001b[0m\u001b[0;34m[\u001b[0m\u001b[0;34m:\u001b[0m\u001b[0;34m,\u001b[0m \u001b[0mk\u001b[0m\u001b[0;34m]\u001b[0m \u001b[0;34m*\u001b[0m \u001b[0mdiff\u001b[0m\u001b[0;34m.\u001b[0m\u001b[0mT\u001b[0m\u001b[0;34m,\u001b[0m \u001b[0mdiff\u001b[0m\u001b[0;34m)\u001b[0m \u001b[0;34m/\u001b[0m \u001b[0mnk\u001b[0m\u001b[0;34m[\u001b[0m\u001b[0mk\u001b[0m\u001b[0;34m]\u001b[0m\u001b[0;34m\u001b[0m\u001b[0m\n\u001b[0m\u001b[1;32m    168\u001b[0m         \u001b[0mcovariances\u001b[0m\u001b[0;34m[\u001b[0m\u001b[0mk\u001b[0m\u001b[0;34m]\u001b[0m\u001b[0;34m.\u001b[0m\u001b[0mflat\u001b[0m\u001b[0;34m[\u001b[0m\u001b[0;34m:\u001b[0m\u001b[0;34m:\u001b[0m\u001b[0mn_features\u001b[0m \u001b[0;34m+\u001b[0m \u001b[0;36m1\u001b[0m\u001b[0;34m]\u001b[0m \u001b[0;34m+=\u001b[0m \u001b[0mreg_covar\u001b[0m\u001b[0;34m\u001b[0m\u001b[0m\n\u001b[1;32m    169\u001b[0m     \u001b[0;32mreturn\u001b[0m \u001b[0mcovariances\u001b[0m\u001b[0;34m\u001b[0m\u001b[0m\n",
      "\u001b[0;31mKeyboardInterrupt\u001b[0m: "
     ]
    }
   ],
   "source": [
    "#Fit GMM on the PCA\n",
    "from sklearn.mixture import GaussianMixture\n",
    "import pylab as pl\n",
    "\n",
    "n_components = np.arange(1, 200)\n",
    "BIC = np.zeros(n_components.shape)\n",
    "AIC = np.zeros(n_components.shape)\n",
    "for i, n in enumerate(n_components):\n",
    "    clf = GaussianMixture(n_components=n,\n",
    "              covariance_type='full')\n",
    "    clf.fit(data)\n",
    "\n",
    "    AIC[i] = clf.aic(data)\n",
    "    BIC[i] = clf.bic(data)\n",
    "    \n",
    "pl.figure()\n",
    "pl.plot(n_components, AIC, label='AIC')\n",
    "pl.plot(n_components, BIC, label='BIC')\n",
    "pl.legend(loc=0)\n",
    "pl.xlabel('n_components')\n",
    "pl.ylabel('AIC / BIC')"
   ]
  },
  {
   "cell_type": "code",
   "execution_count": null,
   "metadata": {
    "collapsed": false
   },
   "outputs": [],
   "source": [
    "clf.weights_.shape #the weights of no_of_components, see first parameter to GaussianMixture"
   ]
  },
  {
   "cell_type": "code",
   "execution_count": null,
   "metadata": {
    "collapsed": false
   },
   "outputs": [],
   "source": [
    "clf.means_.shape #(n_components, n_features)"
   ]
  },
  {
   "cell_type": "code",
   "execution_count": null,
   "metadata": {
    "collapsed": false
   },
   "outputs": [],
   "source": [
    "clf.covariances_.shape #(n_components, n_features, n_features) if 'full'"
   ]
  },
  {
   "cell_type": "markdown",
   "metadata": {},
   "source": [
    "The precision matrices for each component in the mixture. **A precision matrix is the inverse of a covariance matrix.** A covariance matrix is symmetric positive definite so the mixture of Gaussian can be equivalently parameterized by the precision matrices. Storing the precision matrices instead of the covariance matrices makes it more efficient to compute the log-likelihood of new samples at test time. The shape depends on covariance_type:"
   ]
  },
  {
   "cell_type": "code",
   "execution_count": null,
   "metadata": {
    "collapsed": false
   },
   "outputs": [],
   "source": [
    "clf.precisions_.shape #"
   ]
  },
  {
   "cell_type": "code",
   "execution_count": null,
   "metadata": {
    "collapsed": false
   },
   "outputs": [],
   "source": [
    "data.shape"
   ]
  },
  {
   "cell_type": "code",
   "execution_count": null,
   "metadata": {
    "collapsed": false
   },
   "outputs": [],
   "source": [
    "plt.scatter(clf.precisions_, clf.covariances_)\n",
    "plt.title('Scatter plot of precisions and covariances')"
   ]
  },
  {
   "cell_type": "code",
   "execution_count": null,
   "metadata": {
    "collapsed": false
   },
   "outputs": [],
   "source": [
    "Y = clf.sample(1000)\n"
   ]
  },
  {
   "cell_type": "code",
   "execution_count": null,
   "metadata": {
    "collapsed": false
   },
   "outputs": [],
   "source": [
    "classes = clf.predict(data)\n",
    "classes"
   ]
  },
  {
   "cell_type": "code",
   "execution_count": null,
   "metadata": {
    "collapsed": false
   },
   "outputs": [],
   "source": [
    "classes = clf.predict(data)\n",
    "plt.scatter(data.iloc[:,0], data.iloc[:,1], c=classes)\n",
    "plt.legend()\n",
    "plt.title('Scatterplot of predicted data')\n",
    "plt.show()"
   ]
  },
  {
   "cell_type": "code",
   "execution_count": null,
   "metadata": {
    "collapsed": false
   },
   "outputs": [],
   "source": [
    "score_samp = clf.score_samples(Y_sklearn) #Compute the weighted log probabilities for each sample."
   ]
  },
  {
   "cell_type": "code",
   "execution_count": null,
   "metadata": {
    "collapsed": false
   },
   "outputs": [],
   "source": [
    "score_samp.shape"
   ]
  },
  {
   "cell_type": "code",
   "execution_count": null,
   "metadata": {
    "collapsed": false
   },
   "outputs": [],
   "source": [
    "print(\"Score sample values:\")\n",
    "print(\"Min value : %s \" % score_samp.min())\n",
    "print(\"Max value : %s \" % score_samp.max())\n",
    "print(\"Mean value : %s \" % score_samp.mean())\n",
    "print(\"Median value : %s \" % np.median(score_samp))\n",
    "print(\"Standard Deviation value : %s \" % score_samp.std())"
   ]
  },
  {
   "cell_type": "code",
   "execution_count": null,
   "metadata": {
    "collapsed": false
   },
   "outputs": [],
   "source": [
    "pdf = np.exp(score_samp)\n",
    "pdf.shape"
   ]
  },
  {
   "cell_type": "code",
   "execution_count": null,
   "metadata": {
    "collapsed": false
   },
   "outputs": [],
   "source": [
    "print(\"Score sample values:\")\n",
    "print(\"Min value : %s \" % pdf.min())\n",
    "print(\"Max value : %s \" % pdf.max())\n",
    "print(\"Mean value : %s \" % pdf.mean())\n",
    "print(\"Median value : %s \" % np.median(pdf))\n",
    "print(\"Standard Deviation value : %s \" % pdf.std())"
   ]
  },
  {
   "cell_type": "code",
   "execution_count": null,
   "metadata": {
    "collapsed": false
   },
   "outputs": [],
   "source": [
    "def gmm_ad(wgt_log_probability):\n",
    "    values = []\n",
    "    threshold = 3 * wgt_log_probability.std() #Cannot consider since its not a normal distribution\n",
    "    a = np.absolute(wgt_log_probability.mean()) + threshold\n",
    "    count = 0\n",
    "    for i in range(0,len(wgt_log_probability)):\n",
    "        #print i\n",
    "        if np.absolute(wgt_log_probability[i]) > a:\n",
    "            count = count + 1\n",
    "            values.append(wgt_log_probability[i])\n",
    "    return count, values\n",
    "    #print values"
   ]
  },
  {
   "cell_type": "code",
   "execution_count": null,
   "metadata": {
    "collapsed": false
   },
   "outputs": [],
   "source": [
    "no_of_anomalies, wgt_log_prob = gmm_ad(score_samp)"
   ]
  },
  {
   "cell_type": "code",
   "execution_count": null,
   "metadata": {
    "collapsed": false
   },
   "outputs": [],
   "source": [
    "no_of_anomalies"
   ]
  },
  {
   "cell_type": "code",
   "execution_count": null,
   "metadata": {
    "collapsed": true
   },
   "outputs": [],
   "source": [
    "no_of_anomalies_pdf, wgt_log_prob_pdf = gmm_ad(pdf)"
   ]
  },
  {
   "cell_type": "code",
   "execution_count": null,
   "metadata": {
    "collapsed": false
   },
   "outputs": [],
   "source": [
    "no_of_anomalies_pdf"
   ]
  },
  {
   "cell_type": "code",
   "execution_count": null,
   "metadata": {
    "collapsed": false
   },
   "outputs": [],
   "source": [
    "wgt_log_prob[0:5]"
   ]
  },
  {
   "cell_type": "code",
   "execution_count": null,
   "metadata": {
    "collapsed": false
   },
   "outputs": [],
   "source": [
    "plt.hist(score_samp,bins=1000)"
   ]
  },
  {
   "cell_type": "code",
   "execution_count": null,
   "metadata": {
    "collapsed": false
   },
   "outputs": [],
   "source": [
    "plt.hist(pdf,bins=5)"
   ]
  },
  {
   "cell_type": "code",
   "execution_count": null,
   "metadata": {
    "collapsed": true
   },
   "outputs": [],
   "source": [
    "import numpy as np\n",
    "import matplotlib.pyplot as plt\n",
    "from matplotlib.colors import LogNorm\n",
    "from sklearn import mixture\n",
    "\n",
    "n_samples = 300\n",
    "\n",
    "# generate random sample, two components\n",
    "np.random.seed(0)\n",
    "\n",
    "# generate spherical data centered on (20, 20)\n",
    "shifted_gaussian = np.random.randn(n_samples, 2) + np.array([20, 20])\n",
    "\n",
    "# generate zero centered stretched Gaussian data\n",
    "C = np.array([[0., -0.7], [3.5, .7]])\n",
    "stretched_gaussian = np.dot(np.random.randn(n_samples, 2), C)\n",
    "\n",
    "# concatenate the two datasets into the final training set\n",
    "X_train = np.vstack([shifted_gaussian, stretched_gaussian])\n",
    "\n",
    "# fit a Gaussian Mixture Model with two components\n",
    "clf = mixture.GaussianMixture(n_components=2, covariance_type='full')\n",
    "clf.fit(X_train)\n",
    "\n",
    "# display predicted scores by the model as a contour plot\n",
    "x = np.linspace(-20., 30.)\n",
    "y = np.linspace(-20., 40.)\n",
    "X, Y = np.meshgrid(x, y)\n",
    "XX = np.array([X.ravel(), Y.ravel()]).T\n",
    "Z = -clf.score_samples(XX)\n",
    "Z = Z.reshape(X.shape)\n",
    "\n",
    "CS = plt.contour(X, Y, Z, norm=LogNorm(vmin=1.0, vmax=1000.0),\n",
    "                 levels=np.logspace(0, 3, 10))\n",
    "CB = plt.colorbar(CS, shrink=0.8, extend='both')\n",
    "plt.scatter(X_train[:, 0], X_train[:, 1], .8)\n",
    "\n",
    "plt.title('Negative log-likelihood predicted by a GMM')\n",
    "plt.axis('tight')\n",
    "plt.show()"
   ]
  },
  {
   "cell_type": "code",
   "execution_count": null,
   "metadata": {
    "collapsed": true
   },
   "outputs": [],
   "source": [
    "def feature_normalize(dataset):\n",
    "    mu = np.mean(dataset,axis=0)\n",
    "    sigma = np.std(dataset,axis=0)\n",
    "    return (dataset - mu)/sigma"
   ]
  },
  {
   "cell_type": "code",
   "execution_count": null,
   "metadata": {
    "collapsed": true
   },
   "outputs": [],
   "source": [
    "def estimateGaussian(dataset):\n",
    "    mu = np.mean(dataset, axis=0)\n",
    "    sigma = np.cov(dataset.T)\n",
    "    return mu, sigma"
   ]
  },
  {
   "cell_type": "code",
   "execution_count": null,
   "metadata": {
    "collapsed": true
   },
   "outputs": [],
   "source": [
    "from scipy.stats import multivariate_normal\n",
    "\n",
    "def multivariateGaussian(dataset,mu,sigma):\n",
    "    p = multivariate_normal(mean=mu, cov=sigma)\n",
    "    return p.pdf(dataset)"
   ]
  },
  {
   "cell_type": "code",
   "execution_count": null,
   "metadata": {
    "collapsed": false
   },
   "outputs": [],
   "source": [
    "mu, sigma = estimateGaussian(X)\n",
    "p = multivariateGaussian(X,mu,sigma)"
   ]
  }
 ],
 "metadata": {
  "kernelspec": {
   "display_name": "Python 2",
   "language": "python",
   "name": "python2"
  },
  "language_info": {
   "codemirror_mode": {
    "name": "ipython",
    "version": 2
   },
   "file_extension": ".py",
   "mimetype": "text/x-python",
   "name": "python",
   "nbconvert_exporter": "python",
   "pygments_lexer": "ipython2",
   "version": "2.7.13"
  }
 },
 "nbformat": 4,
 "nbformat_minor": 2
}
