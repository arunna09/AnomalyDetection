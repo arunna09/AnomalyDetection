{
 "cells": [
  {
   "cell_type": "code",
   "execution_count": 1,
   "metadata": {
    "collapsed": false
   },
   "outputs": [],
   "source": [
    "%matplotlib inline\n",
    "import pandas as pd\n",
    "import numpy as np\n",
    "import matplotlib.pyplot as plt\n",
    "from scipy import stats\n",
    "\n",
    "from mpl_toolkits.mplot3d import Axes3D\n",
    "import pylab\n",
    "import itertools\n",
    "import matplotlib as mpl\n",
    "from scipy import linalg\n",
    "\n",
    "from sklearn.preprocessing import StandardScaler\n",
    "from sklearn.decomposition import PCA\n",
    "\n",
    "\n",
    "import seaborn as sns\n",
    "sns.set()"
   ]
  },
  {
   "cell_type": "code",
   "execution_count": 2,
   "metadata": {
    "collapsed": false
   },
   "outputs": [],
   "source": [
    "df = pd.read_csv('data/Test_data_07_11_2015.csv',sep=',')"
   ]
  },
  {
   "cell_type": "code",
   "execution_count": 3,
   "metadata": {
    "collapsed": true
   },
   "outputs": [],
   "source": [
    "X = df[[\"V1\",\"V2\",\"V3\",\"I1\",\"I2\",\"I3\",\"Pges\",\"Sges\",\"CosPhi\"]]"
   ]
  },
  {
   "cell_type": "code",
   "execution_count": 4,
   "metadata": {
    "collapsed": false
   },
   "outputs": [],
   "source": [
    "r = X.rolling(60).mean()\n"
   ]
  },
  {
   "cell_type": "code",
   "execution_count": 5,
   "metadata": {
    "collapsed": false
   },
   "outputs": [
    {
     "data": {
      "text/plain": [
       "(76071, 9)"
      ]
     },
     "execution_count": 5,
     "metadata": {},
     "output_type": "execute_result"
    }
   ],
   "source": [
    "data_smooth = pd.DataFrame(r.iloc[59:,:])\n",
    "data_smooth.shape"
   ]
  },
  {
   "cell_type": "code",
   "execution_count": 6,
   "metadata": {
    "collapsed": false
   },
   "outputs": [
    {
     "data": {
      "image/png": "[encoded data removed]",
      "text/plain": [
       "<matplotlib.figure.Figure at 0x7fd82234b410>"
      ]
     },
     "metadata": {},
     "output_type": "display_data"
    }
   ],
   "source": [
    "plt.hist(data_smooth.iloc[:,0],bins=1000)\n",
    "plt.show()"
   ]
  },
  {
   "cell_type": "markdown",
   "metadata": {},
   "source": [
    "# PCA Based Anomaly Detection "
   ]
  },
  {
   "cell_type": "code",
   "execution_count": 7,
   "metadata": {
    "collapsed": false
   },
   "outputs": [],
   "source": [
    "X_std = StandardScaler().fit_transform(data_smooth)"
   ]
  },
  {
   "cell_type": "code",
   "execution_count": 8,
   "metadata": {
    "collapsed": false
   },
   "outputs": [],
   "source": [
    "sklearn_pca = PCA(n_components=9)\n",
    "Y_sklearn = sklearn_pca.fit_transform(X_std)"
   ]
  },
  {
   "cell_type": "code",
   "execution_count": 9,
   "metadata": {
    "collapsed": false
   },
   "outputs": [
    {
     "data": {
      "text/plain": [
       "[<matplotlib.lines.Line2D at 0x7fd7e9715e50>]"
      ]
     },
     "execution_count": 9,
     "metadata": {},
     "output_type": "execute_result"
    },
    {
     "data": {
      "image/png": "[encoded data removed]",
      "text/plain": [
       "<matplotlib.figure.Figure at 0x7fd82022be10>"
      ]
     },
     "metadata": {},
     "output_type": "display_data"
    }
   ],
   "source": [
    "plt.plot(sklearn_pca.explained_variance_ratio_.cumsum())"
   ]
  },
  {
   "cell_type": "markdown",
   "metadata": {},
   "source": [
    "# Method to calculate the PCA which captures very less variance"
   ]
  },
  {
   "cell_type": "code",
   "execution_count": 10,
   "metadata": {
    "collapsed": false
   },
   "outputs": [],
   "source": [
    "class PCA_decomp:\n",
    "    def __init__(self):\n",
    "        self.e_values = None\n",
    "        self.e_vectors = None\n",
    "        self.mean_data = None\n",
    "\n",
    "    # Find all eigenvalues and eigenvectors\n",
    "    # data -> instances as rows\n",
    "    def prepare(self, data):\n",
    "        # Substract mean\n",
    "        self.mean_data = np.mean(data, axis=0)\n",
    "        adj_data = data - self.mean_data\n",
    "        # Covariance matrix\n",
    "        covariance = np.cov(adj_data.T)\n",
    "        # Eigenstuff\n",
    "        self.e_values, self.e_vectors = np.linalg.eig(covariance)\n",
    "        i = np.argsort(self.e_values)\n",
    "        i = i[::-1]\n",
    "        self.e_vectors = self.e_vectors[:,i]\n",
    "        self.e_values = self.e_values[i]\n",
    "        # Print the coverage of variance\n",
    "        table = pd.DataFrame(index=['eVal','eTotal', 'Idiv%', '%'], columns=list(range(len(self.e_values))))\n",
    "        current_val = 0\n",
    "        total_val = np.sum(self.e_values)\n",
    "        for i, val in enumerate(self.e_values):\n",
    "            current_val += val\n",
    "            table[i] = [val, current_val, val/total_val, current_val/total_val]\n",
    "        print('Coverage of Variance:')\n",
    "        print(table)\n",
    "        print(\"\\n\")\n",
    "        return table\n",
    "\n",
    "    # Project the data into the normal or abnormal subspace\n",
    "    def project(self, data, dimensions, normal_subspace=True):\n",
    "        adj_data = data - self.mean_data\n",
    "        if normal_subspace:\n",
    "            # Extract only the top most eigenvectors\n",
    "            e_vectors = self.e_vectors[:,:dimensions]\n",
    "        else:\n",
    "            # Extract the smallers eigenvectors as the anomalous part\n",
    "            e_vectors = self.e_vectors[:,dimensions:]\n",
    "        # Return the projected data\n",
    "        return np.dot(adj_data, e_vectors)\n",
    "\n",
    "    def revert(self, projected_data, dimensions):\n",
    "        e_vectors = self.e_vectors[:,:dimensions]\n",
    "        return np.dot(projected_data, e_vectors.T) + self.mean_data"
   ]
  },
  {
   "cell_type": "code",
   "execution_count": 11,
   "metadata": {
    "collapsed": false
   },
   "outputs": [
    {
     "name": "stdout",
     "output_type": "stream",
     "text": [
      "Coverage of Variance:\n",
      "               0         1         2         3         4         5         6  \\\n",
      "eVal    6.276633  1.999516  0.648243  0.042887  0.024598  0.004565  0.003294   \n",
      "eTotal  6.276633  8.276150  8.924393  8.967280  8.991878  8.996443  8.999737   \n",
      "Idiv%   0.697395  0.222166  0.072026  0.004765  0.002733  0.000507  0.000366   \n",
      "%       0.697395  0.919560  0.991586  0.996351  0.999084  0.999592  0.999958   \n",
      "\n",
      "               7         8  \n",
      "eVal    0.000350  0.000031  \n",
      "eTotal  9.000087  9.000118  \n",
      "Idiv%   0.000039  0.000003  \n",
      "%       0.999997  1.000000  \n",
      "\n",
      "\n"
     ]
    }
   ],
   "source": [
    "a = PCA_decomp()\n",
    "df_pca = a.prepare(X_std)"
   ]
  },
  {
   "cell_type": "markdown",
   "metadata": {},
   "source": [
    "Split the PCA components into normal and abnormal depending on the variance. The first 4 components capture most of the variances as can be seen from the *sklearn_pca.explained_variance_ratio_.cumsum()* plot and hence, will be considered as **normal** and rest as **abnormal**"
   ]
  },
  {
   "cell_type": "code",
   "execution_count": 12,
   "metadata": {
    "collapsed": false
   },
   "outputs": [],
   "source": [
    "df_pca_abnormal = a.project(X_std,6,normal_subspace=False)"
   ]
  },
  {
   "cell_type": "code",
   "execution_count": 13,
   "metadata": {
    "collapsed": false
   },
   "outputs": [
    {
     "data": {
      "text/plain": [
       "(76071, 3)"
      ]
     },
     "execution_count": 13,
     "metadata": {},
     "output_type": "execute_result"
    }
   ],
   "source": [
    "df_pca_abnormal.shape"
   ]
  },
  {
   "cell_type": "code",
   "execution_count": 14,
   "metadata": {
    "collapsed": false
   },
   "outputs": [
    {
     "data": {
      "text/plain": [
       "array([[-0.01689663, -0.00525643,  0.000244  ],\n",
       "       [-0.01615253, -0.00506404,  0.00030335],\n",
       "       [-0.01575099, -0.00458404,  0.00026311],\n",
       "       [-0.01462793, -0.00425966,  0.00031854],\n",
       "       [-0.01416099, -0.00393925,  0.00033001]])"
      ]
     },
     "execution_count": 14,
     "metadata": {},
     "output_type": "execute_result"
    }
   ],
   "source": [
    "df_pca_abnormal[:5]"
   ]
  },
  {
   "cell_type": "code",
   "execution_count": 15,
   "metadata": {
    "collapsed": false
   },
   "outputs": [
    {
     "data": {
      "text/plain": [
       "[<matplotlib.lines.Line2D at 0x7fd7e5c49ed0>,\n",
       " <matplotlib.lines.Line2D at 0x7fd7e5c49fd0>,\n",
       " <matplotlib.lines.Line2D at 0x7fd7e5c4c110>]"
      ]
     },
     "execution_count": 15,
     "metadata": {},
     "output_type": "execute_result"
    },
    {
     "data": {
      "image/png": "[encoded data removed]",
      "text/plain": [
       "<matplotlib.figure.Figure at 0x7fd7e6275550>"
      ]
     },
     "metadata": {},
     "output_type": "display_data"
    }
   ],
   "source": [
    "plt.plot(df_pca_abnormal)"
   ]
  },
  {
   "cell_type": "markdown",
   "metadata": {},
   "source": [
    "# Calculate the Squared Prediction Error"
   ]
  },
  {
   "cell_type": "markdown",
   "metadata": {},
   "source": [
    "$$ y = ŷ + ỹ $$\n",
    "\n",
    "\n",
    "\n",
    "$$ŷ = PP^Ty = Cy$$ and $$ỹ = I − PP^T y = C̃y $$\n",
    "\n",
    "\n",
    "$$ \\textbf{SPE} ≡  \\parallel ỹ \\space \\parallel ^ 2 $$\n",
    "\n",
    "$$ \\delta^2_\\alpha == \\phi_1 \\Bigg[ \\frac{c_\\alpha\\sqrt{2\\phi_2 h^2_0}}{\\phi_1} + 1 + \\frac{ \\phi_2 h_0(h_0 -1)}{\\phi_1 ^ 2} \\Bigg]^\\frac{1}{h_0} $$\n",
    "\n",
    "$$\\phi_i=\\sum_{j=r+1}^m \\lambda^i_j \\quad for \\quad i = 1,2,3 $$\n",
    "\n",
    "$$ h_0 = 1 - \\frac{2\\phi_1 \\phi_3}{3\\phi_2 ^2} $$"
   ]
  },
  {
   "cell_type": "code",
   "execution_count": 16,
   "metadata": {
    "collapsed": true
   },
   "outputs": [],
   "source": [
    "def calc_spe(data):\n",
    "    norm_val = np.linalg.norm(data,axis=1)\n",
    "    SPE = norm_val * norm_val\n",
    "    return SPE"
   ]
  },
  {
   "cell_type": "code",
   "execution_count": 17,
   "metadata": {
    "collapsed": false
   },
   "outputs": [
    {
     "data": {
      "text/plain": [
       "array([ 0.00031319,  0.00028664,  0.00026918, ...,  0.00041384,\n",
       "        0.00040005,  0.00037394])"
      ]
     },
     "execution_count": 17,
     "metadata": {},
     "output_type": "execute_result"
    }
   ],
   "source": [
    "spe_err = calc_spe(df_pca_abnormal)\n",
    "spe_err"
   ]
  },
  {
   "cell_type": "code",
   "execution_count": 18,
   "metadata": {
    "collapsed": false
   },
   "outputs": [
    {
     "data": {
      "text/plain": [
       "76071"
      ]
     },
     "execution_count": 18,
     "metadata": {},
     "output_type": "execute_result"
    }
   ],
   "source": [
    "spe_err.shape[0]"
   ]
  },
  {
   "cell_type": "code",
   "execution_count": 19,
   "metadata": {
    "collapsed": false
   },
   "outputs": [
    {
     "data": {
      "text/plain": [
       "[<matplotlib.lines.Line2D at 0x7fd7e4c31950>]"
      ]
     },
     "execution_count": 19,
     "metadata": {},
     "output_type": "execute_result"
    },
    {
     "data": {
      "image/png": "[encoded data removed]",
      "text/plain": [
       "<matplotlib.figure.Figure at 0x7fd7e6267810>"
      ]
     },
     "metadata": {},
     "output_type": "display_data"
    }
   ],
   "source": [
    "plt.plot(spe_err)"
   ]
  },
  {
   "cell_type": "markdown",
   "metadata": {
    "collapsed": true
   },
   "source": [
    "# Calculate the Q-threshold"
   ]
  },
  {
   "cell_type": "markdown",
   "metadata": {},
   "source": [
    "Remember eigen values are in descending order"
   ]
  },
  {
   "cell_type": "code",
   "execution_count": 20,
   "metadata": {
    "collapsed": false
   },
   "outputs": [
    {
     "data": {
      "text/plain": [
       "0    6.276633\n",
       "1    1.999516\n",
       "2    0.648243\n",
       "3    0.042887\n",
       "4    0.024598\n",
       "5    0.004565\n",
       "6    0.003294\n",
       "7    0.000350\n",
       "8    0.000031\n",
       "Name: eVal, dtype: float64"
      ]
     },
     "execution_count": 20,
     "metadata": {},
     "output_type": "execute_result"
    }
   ],
   "source": [
    "eig_vals = df_pca.iloc[0,:]\n",
    "eig_vals# gives the eigen values of the residual PCA components"
   ]
  },
  {
   "cell_type": "markdown",
   "metadata": {},
   "source": [
    "$$\\phi_i=\\sum_{j=r+1}^m \\lambda^i_j \\quad for \\quad i = 1,2,3 $$"
   ]
  },
  {
   "cell_type": "code",
   "execution_count": 21,
   "metadata": {
    "collapsed": false
   },
   "outputs": [
    {
     "name": "stdout",
     "output_type": "stream",
     "text": [
      "3\n",
      "4\n",
      "5\n",
      "6\n",
      "7\n",
      "8\n",
      "3\n",
      "4\n",
      "5\n",
      "6\n",
      "7\n",
      "8\n",
      "3\n",
      "4\n",
      "5\n",
      "6\n",
      "7\n",
      "8\n"
     ]
    }
   ],
   "source": [
    "list_eig = []\n",
    "eig_vals_j = 0\n",
    "for i in (1,2,3):\n",
    "    for j in range(df_pca_abnormal.shape[1], data_smooth.shape[1]):\n",
    "        print j\n",
    "        eig_vals_j += eig_vals[j]\n",
    "    list_eig.append(np.power(eig_vals_j,i))"
   ]
  },
  {
   "cell_type": "code",
   "execution_count": 22,
   "metadata": {
    "collapsed": false
   },
   "outputs": [
    {
     "data": {
      "text/plain": [
       "[0.075725351646408187, 0.022937315527888708, 0.011724319918174443]"
      ]
     },
     "execution_count": 22,
     "metadata": {},
     "output_type": "execute_result"
    }
   ],
   "source": [
    "list_eig"
   ]
  },
  {
   "cell_type": "code",
   "execution_count": 23,
   "metadata": {
    "collapsed": false
   },
   "outputs": [],
   "source": [
    "phi_1,phi_2,phi_3 = list_eig[0],list_eig[1],list_eig[2]"
   ]
  },
  {
   "cell_type": "code",
   "execution_count": 24,
   "metadata": {
    "collapsed": false
   },
   "outputs": [
    {
     "data": {
      "text/plain": [
       "0.075725351646408187"
      ]
     },
     "execution_count": 24,
     "metadata": {},
     "output_type": "execute_result"
    }
   ],
   "source": [
    "phi_1"
   ]
  },
  {
   "cell_type": "markdown",
   "metadata": {},
   "source": [
    "$$ h_0 = 1 - \\frac{2\\phi_1 \\phi_3}{3\\phi_2 ^2} $$"
   ]
  },
  {
   "cell_type": "code",
   "execution_count": 25,
   "metadata": {
    "collapsed": false
   },
   "outputs": [],
   "source": [
    "h0 = 1 - ((2 * phi_1 * phi_3)/(3 * phi_2 * phi_2))"
   ]
  },
  {
   "cell_type": "code",
   "execution_count": 26,
   "metadata": {
    "collapsed": false
   },
   "outputs": [
    {
     "data": {
      "text/plain": [
       "-0.12499999999999978"
      ]
     },
     "execution_count": 26,
     "metadata": {},
     "output_type": "execute_result"
    }
   ],
   "source": [
    "h0"
   ]
  },
  {
   "cell_type": "markdown",
   "metadata": {},
   "source": [
    "$$ \\delta^2_\\alpha == \\phi_1 \\Bigg[ \\frac{c_\\alpha\\sqrt{2\\phi_2 h^2_0}}{\\phi_1} + 1 + \\frac{ \\phi_2 h_0(h_0 -1)}{\\phi_1 ^ 2} \\Bigg]^\\frac{1}{h_0} $$"
   ]
  },
  {
   "cell_type": "code",
   "execution_count": 27,
   "metadata": {
    "collapsed": false
   },
   "outputs": [],
   "source": [
    "a = 2.576\n",
    "b = np.sqrt(2 * phi_2 * h0 * h0)\n",
    "c = phi_1\n",
    "d = phi_2 * h0 * (h0 - 1)\n",
    "e1 = 1/h0\n",
    "threshold = ( c * np.power( ((a * b)/c) + 1 + (d/(c * c)),e1) )"
   ]
  },
  {
   "cell_type": "code",
   "execution_count": 28,
   "metadata": {
    "collapsed": false
   },
   "outputs": [
    {
     "data": {
      "text/plain": [
       "5.4086912647795319e-05"
      ]
     },
     "execution_count": 28,
     "metadata": {},
     "output_type": "execute_result"
    }
   ],
   "source": [
    "threshold"
   ]
  },
  {
   "cell_type": "code",
   "execution_count": 29,
   "metadata": {
    "collapsed": false
   },
   "outputs": [
    {
     "name": "stdout",
     "output_type": "stream",
     "text": [
      "74438\n"
     ]
    }
   ],
   "source": [
    "count = 0\n",
    "for i in range(spe_err.shape[0]):\n",
    "    if spe_err[i] > threshold:\n",
    "        count = count + 1\n",
    "print count"
   ]
  },
  {
   "cell_type": "code",
   "execution_count": null,
   "metadata": {
    "collapsed": true
   },
   "outputs": [],
   "source": []
  }
 ],
 "metadata": {
  "anaconda-cloud": {},
  "kernelspec": {
   "display_name": "Python 2",
   "language": "python",
   "name": "python2"
  },
  "language_info": {
   "codemirror_mode": {
    "name": "ipython",
    "version": 2
   },
   "file_extension": ".py",
   "mimetype": "text/x-python",
   "name": "python",
   "nbconvert_exporter": "python",
   "pygments_lexer": "ipython2",
   "version": "2.7.13"
  }
 },
 "nbformat": 4,
 "nbformat_minor": 1
}
