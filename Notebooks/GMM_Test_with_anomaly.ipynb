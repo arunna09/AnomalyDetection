{
 "cells": [
  {
   "cell_type": "code",
   "execution_count": 1,
   "metadata": {
    "collapsed": true
   },
   "outputs": [],
   "source": [
    "import numpy as np\n",
    "import pandas as pd\n",
    "import matplotlib.pyplot as plt\n",
    "import matplotlib.mlab as mlab\n",
    "from mpl_toolkits.mplot3d import Axes3D\n",
    "from sklearn import mixture\n",
    "\n",
    "from sklearn.preprocessing import StandardScaler\n",
    "from sklearn.mixture import GaussianMixture\n",
    "\n",
    "import itertools\n",
    "import scipy as sp\n",
    "from scipy import linalg\n",
    "import matplotlib as mpl\n",
    "\n",
    "from itertools import product\n",
    "from scipy import stats\n",
    "\n",
    "import math\n",
    "%matplotlib inline"
   ]
  },
  {
   "cell_type": "code",
   "execution_count": 2,
   "metadata": {
    "collapsed": false
   },
   "outputs": [],
   "source": [
    "df = pd.read_csv('data/Test_data_07_11_2015.csv', sep=',')"
   ]
  },
  {
   "cell_type": "code",
   "execution_count": 3,
   "metadata": {
    "collapsed": false
   },
   "outputs": [],
   "source": [
    "X = df[[\"V1\",\"V2\",\"V3\",\"I1\",\"I2\",\"I3\",\"Pges\",\"Sges\",\"CosPhi\"]]"
   ]
  },
  {
   "cell_type": "markdown",
   "metadata": {},
   "source": [
    "# Inject anomalies dynamically for some range defined as below"
   ]
  },
  {
   "cell_type": "code",
   "execution_count": 4,
   "metadata": {
    "collapsed": true
   },
   "outputs": [],
   "source": [
    "def add_anomaly_dynamically(num,x,count,mid_pos):\n",
    "    t_num = list(num)\n",
    "    if (mid_pos + count >= len(t_num)) and (mid_pos - count < 0):\n",
    "        print \"Point of injection is not suitable for injecting anomalies\"\n",
    "    else:\n",
    "        #t_num.sort() #changed to work on multidimensional data, uncomment if its a 1D data\n",
    "        last_idx = len(t_num)\n",
    "        delta = 1.0 + (float(x)/float(100))\n",
    "        new_list_test = [t_num[mid_pos]]\n",
    "        for j in range(0,count):\n",
    "            a = mid_pos - j\n",
    "            b = mid_pos + j\n",
    "            new_list_test.append(t_num[a])\n",
    "            new_list_test.append(t_num[b])\n",
    "            new_list_test.sort()\n",
    "        mu = len(new_list_test)/2 \n",
    "        increment = new_list_test[mu] * delta\n",
    "        \n",
    "        for k in range(mid_pos-count,mid_pos+count+1):\n",
    "            if k == mid_pos:\n",
    "                t_num[k] = increment\n",
    "            else:\n",
    "                increment_new = increment - new_list_test[mu]\n",
    "                share = abs(mid_pos - k )\n",
    "                t_num[k] = t_num[k] + increment_new * (1.0 - (float(share)/float(mu)))\n",
    "    return t_num "
   ]
  },
  {
   "cell_type": "markdown",
   "metadata": {},
   "source": [
    "# Create and copy the anomalous data into new dataframe"
   ]
  },
  {
   "cell_type": "code",
   "execution_count": 5,
   "metadata": {
    "collapsed": false
   },
   "outputs": [
    {
     "data": {
      "text/html": [
       "<div>\n",
       "<table border=\"1\" class=\"dataframe\">\n",
       "  <thead>\n",
       "    <tr style=\"text-align: right;\">\n",
       "      <th></th>\n",
       "      <th>0</th>\n",
       "      <th>1</th>\n",
       "      <th>2</th>\n",
       "      <th>3</th>\n",
       "      <th>4</th>\n",
       "      <th>5</th>\n",
       "      <th>6</th>\n",
       "      <th>7</th>\n",
       "      <th>8</th>\n",
       "    </tr>\n",
       "  </thead>\n",
       "  <tbody>\n",
       "    <tr>\n",
       "      <th>0</th>\n",
       "      <td>231.48</td>\n",
       "      <td>230.68</td>\n",
       "      <td>231.13</td>\n",
       "      <td>28.62</td>\n",
       "      <td>85.35</td>\n",
       "      <td>67.17</td>\n",
       "      <td>40634.93</td>\n",
       "      <td>41954.64</td>\n",
       "      <td>0.90</td>\n",
       "    </tr>\n",
       "    <tr>\n",
       "      <th>1</th>\n",
       "      <td>232.55</td>\n",
       "      <td>231.93</td>\n",
       "      <td>232.12</td>\n",
       "      <td>42.26</td>\n",
       "      <td>59.70</td>\n",
       "      <td>55.55</td>\n",
       "      <td>34041.65</td>\n",
       "      <td>36562.76</td>\n",
       "      <td>0.92</td>\n",
       "    </tr>\n",
       "    <tr>\n",
       "      <th>2</th>\n",
       "      <td>235.39</td>\n",
       "      <td>234.91</td>\n",
       "      <td>234.56</td>\n",
       "      <td>46.28</td>\n",
       "      <td>48.49</td>\n",
       "      <td>50.96</td>\n",
       "      <td>31277.35</td>\n",
       "      <td>34297.96</td>\n",
       "      <td>0.91</td>\n",
       "    </tr>\n",
       "    <tr>\n",
       "      <th>3</th>\n",
       "      <td>231.87</td>\n",
       "      <td>231.05</td>\n",
       "      <td>231.39</td>\n",
       "      <td>69.17</td>\n",
       "      <td>92.45</td>\n",
       "      <td>89.39</td>\n",
       "      <td>56084.99</td>\n",
       "      <td>58069.81</td>\n",
       "      <td>0.96</td>\n",
       "    </tr>\n",
       "    <tr>\n",
       "      <th>4</th>\n",
       "      <td>232.40</td>\n",
       "      <td>231.82</td>\n",
       "      <td>231.79</td>\n",
       "      <td>77.44</td>\n",
       "      <td>93.10</td>\n",
       "      <td>81.21</td>\n",
       "      <td>54859.91</td>\n",
       "      <td>58391.86</td>\n",
       "      <td>0.94</td>\n",
       "    </tr>\n",
       "    <tr>\n",
       "      <th>5</th>\n",
       "      <td>231.58</td>\n",
       "      <td>231.38</td>\n",
       "      <td>230.89</td>\n",
       "      <td>7.53</td>\n",
       "      <td>18.79</td>\n",
       "      <td>20.06</td>\n",
       "      <td>10255.33</td>\n",
       "      <td>10727.22</td>\n",
       "      <td>0.90</td>\n",
       "    </tr>\n",
       "    <tr>\n",
       "      <th>6</th>\n",
       "      <td>234.33</td>\n",
       "      <td>234.09</td>\n",
       "      <td>233.85</td>\n",
       "      <td>10.12</td>\n",
       "      <td>27.80</td>\n",
       "      <td>27.74</td>\n",
       "      <td>14915.07</td>\n",
       "      <td>15356.71</td>\n",
       "      <td>0.91</td>\n",
       "    </tr>\n",
       "    <tr>\n",
       "      <th>7</th>\n",
       "      <td>235.04</td>\n",
       "      <td>234.32</td>\n",
       "      <td>234.34</td>\n",
       "      <td>23.03</td>\n",
       "      <td>56.14</td>\n",
       "      <td>38.57</td>\n",
       "      <td>25265.05</td>\n",
       "      <td>27750.68</td>\n",
       "      <td>0.86</td>\n",
       "    </tr>\n",
       "    <tr>\n",
       "      <th>8</th>\n",
       "      <td>235.39</td>\n",
       "      <td>235.21</td>\n",
       "      <td>234.88</td>\n",
       "      <td>7.93</td>\n",
       "      <td>14.37</td>\n",
       "      <td>19.27</td>\n",
       "      <td>9001.35</td>\n",
       "      <td>9778.18</td>\n",
       "      <td>0.87</td>\n",
       "    </tr>\n",
       "    <tr>\n",
       "      <th>9</th>\n",
       "      <td>234.10</td>\n",
       "      <td>232.78</td>\n",
       "      <td>232.98</td>\n",
       "      <td>64.06</td>\n",
       "      <td>104.39</td>\n",
       "      <td>83.65</td>\n",
       "      <td>57105.00</td>\n",
       "      <td>58702.05</td>\n",
       "      <td>0.95</td>\n",
       "    </tr>\n",
       "    <tr>\n",
       "      <th>10</th>\n",
       "      <td>234.06</td>\n",
       "      <td>233.92</td>\n",
       "      <td>233.53</td>\n",
       "      <td>7.05</td>\n",
       "      <td>17.24</td>\n",
       "      <td>19.30</td>\n",
       "      <td>9393.06</td>\n",
       "      <td>10192.23</td>\n",
       "      <td>0.86</td>\n",
       "    </tr>\n",
       "    <tr>\n",
       "      <th>11</th>\n",
       "      <td>230.76</td>\n",
       "      <td>229.76</td>\n",
       "      <td>229.58</td>\n",
       "      <td>51.57</td>\n",
       "      <td>60.95</td>\n",
       "      <td>70.41</td>\n",
       "      <td>39319.16</td>\n",
       "      <td>42059.79</td>\n",
       "      <td>0.93</td>\n",
       "    </tr>\n",
       "    <tr>\n",
       "      <th>12</th>\n",
       "      <td>235.12</td>\n",
       "      <td>234.41</td>\n",
       "      <td>234.26</td>\n",
       "      <td>96.10</td>\n",
       "      <td>108.97</td>\n",
       "      <td>114.15</td>\n",
       "      <td>70442.73</td>\n",
       "      <td>74844.83</td>\n",
       "      <td>0.94</td>\n",
       "    </tr>\n",
       "    <tr>\n",
       "      <th>13</th>\n",
       "      <td>231.58</td>\n",
       "      <td>231.31</td>\n",
       "      <td>230.96</td>\n",
       "      <td>8.14</td>\n",
       "      <td>17.06</td>\n",
       "      <td>21.81</td>\n",
       "      <td>10397.29</td>\n",
       "      <td>10862.61</td>\n",
       "      <td>0.90</td>\n",
       "    </tr>\n",
       "    <tr>\n",
       "      <th>14</th>\n",
       "      <td>232.59</td>\n",
       "      <td>232.06</td>\n",
       "      <td>231.76</td>\n",
       "      <td>7.87</td>\n",
       "      <td>42.62</td>\n",
       "      <td>28.32</td>\n",
       "      <td>17658.33</td>\n",
       "      <td>18340.53</td>\n",
       "      <td>0.85</td>\n",
       "    </tr>\n",
       "    <tr>\n",
       "      <th>15</th>\n",
       "      <td>235.87</td>\n",
       "      <td>234.61</td>\n",
       "      <td>234.84</td>\n",
       "      <td>41.47</td>\n",
       "      <td>65.80</td>\n",
       "      <td>53.08</td>\n",
       "      <td>34451.75</td>\n",
       "      <td>37652.43</td>\n",
       "      <td>0.90</td>\n",
       "    </tr>\n",
       "    <tr>\n",
       "      <th>16</th>\n",
       "      <td>234.74</td>\n",
       "      <td>234.38</td>\n",
       "      <td>234.38</td>\n",
       "      <td>9.86</td>\n",
       "      <td>33.32</td>\n",
       "      <td>23.84</td>\n",
       "      <td>14961.07</td>\n",
       "      <td>15710.31</td>\n",
       "      <td>0.87</td>\n",
       "    </tr>\n",
       "    <tr>\n",
       "      <th>17</th>\n",
       "      <td>236.58</td>\n",
       "      <td>236.46</td>\n",
       "      <td>236.15</td>\n",
       "      <td>7.28</td>\n",
       "      <td>13.18</td>\n",
       "      <td>16.49</td>\n",
       "      <td>8270.52</td>\n",
       "      <td>8734.51</td>\n",
       "      <td>0.90</td>\n",
       "    </tr>\n",
       "    <tr>\n",
       "      <th>18</th>\n",
       "      <td>237.09</td>\n",
       "      <td>237.00</td>\n",
       "      <td>236.52</td>\n",
       "      <td>16.36</td>\n",
       "      <td>15.08</td>\n",
       "      <td>16.10</td>\n",
       "      <td>10795.58</td>\n",
       "      <td>11260.89</td>\n",
       "      <td>0.96</td>\n",
       "    </tr>\n",
       "    <tr>\n",
       "      <th>19</th>\n",
       "      <td>235.47</td>\n",
       "      <td>235.27</td>\n",
       "      <td>234.92</td>\n",
       "      <td>6.93</td>\n",
       "      <td>13.69</td>\n",
       "      <td>13.62</td>\n",
       "      <td>7626.43</td>\n",
       "      <td>8048.37</td>\n",
       "      <td>0.91</td>\n",
       "    </tr>\n",
       "    <tr>\n",
       "      <th>20</th>\n",
       "      <td>234.89</td>\n",
       "      <td>233.86</td>\n",
       "      <td>234.25</td>\n",
       "      <td>36.82</td>\n",
       "      <td>71.25</td>\n",
       "      <td>51.68</td>\n",
       "      <td>34270.35</td>\n",
       "      <td>37547.29</td>\n",
       "      <td>0.88</td>\n",
       "    </tr>\n",
       "    <tr>\n",
       "      <th>21</th>\n",
       "      <td>234.29</td>\n",
       "      <td>234.14</td>\n",
       "      <td>233.59</td>\n",
       "      <td>9.43</td>\n",
       "      <td>18.61</td>\n",
       "      <td>16.52</td>\n",
       "      <td>9637.54</td>\n",
       "      <td>10420.95</td>\n",
       "      <td>0.89</td>\n",
       "    </tr>\n",
       "    <tr>\n",
       "      <th>22</th>\n",
       "      <td>231.59</td>\n",
       "      <td>230.83</td>\n",
       "      <td>231.22</td>\n",
       "      <td>102.77</td>\n",
       "      <td>121.23</td>\n",
       "      <td>105.04</td>\n",
       "      <td>69811.79</td>\n",
       "      <td>76079.10</td>\n",
       "      <td>0.92</td>\n",
       "    </tr>\n",
       "    <tr>\n",
       "      <th>23</th>\n",
       "      <td>231.97</td>\n",
       "      <td>231.53</td>\n",
       "      <td>231.47</td>\n",
       "      <td>8.57</td>\n",
       "      <td>19.92</td>\n",
       "      <td>16.39</td>\n",
       "      <td>9837.34</td>\n",
       "      <td>10392.03</td>\n",
       "      <td>0.90</td>\n",
       "    </tr>\n",
       "    <tr>\n",
       "      <th>24</th>\n",
       "      <td>234.07</td>\n",
       "      <td>234.06</td>\n",
       "      <td>233.38</td>\n",
       "      <td>8.31</td>\n",
       "      <td>13.42</td>\n",
       "      <td>15.30</td>\n",
       "      <td>8217.93</td>\n",
       "      <td>8653.01</td>\n",
       "      <td>0.92</td>\n",
       "    </tr>\n",
       "    <tr>\n",
       "      <th>25</th>\n",
       "      <td>235.86</td>\n",
       "      <td>235.34</td>\n",
       "      <td>234.89</td>\n",
       "      <td>9.85</td>\n",
       "      <td>41.03</td>\n",
       "      <td>33.16</td>\n",
       "      <td>18470.65</td>\n",
       "      <td>19756.18</td>\n",
       "      <td>0.84</td>\n",
       "    </tr>\n",
       "    <tr>\n",
       "      <th>26</th>\n",
       "      <td>236.52</td>\n",
       "      <td>235.55</td>\n",
       "      <td>235.90</td>\n",
       "      <td>70.03</td>\n",
       "      <td>100.13</td>\n",
       "      <td>89.95</td>\n",
       "      <td>57806.92</td>\n",
       "      <td>61182.43</td>\n",
       "      <td>0.93</td>\n",
       "    </tr>\n",
       "    <tr>\n",
       "      <th>27</th>\n",
       "      <td>233.68</td>\n",
       "      <td>233.46</td>\n",
       "      <td>233.07</td>\n",
       "      <td>15.17</td>\n",
       "      <td>29.89</td>\n",
       "      <td>21.34</td>\n",
       "      <td>14784.92</td>\n",
       "      <td>15503.93</td>\n",
       "      <td>0.92</td>\n",
       "    </tr>\n",
       "    <tr>\n",
       "      <th>28</th>\n",
       "      <td>236.95</td>\n",
       "      <td>236.87</td>\n",
       "      <td>236.23</td>\n",
       "      <td>7.26</td>\n",
       "      <td>15.24</td>\n",
       "      <td>15.66</td>\n",
       "      <td>8574.16</td>\n",
       "      <td>9025.01</td>\n",
       "      <td>0.91</td>\n",
       "    </tr>\n",
       "    <tr>\n",
       "      <th>29</th>\n",
       "      <td>235.64</td>\n",
       "      <td>235.68</td>\n",
       "      <td>235.32</td>\n",
       "      <td>7.07</td>\n",
       "      <td>13.89</td>\n",
       "      <td>14.34</td>\n",
       "      <td>7945.85</td>\n",
       "      <td>8308.63</td>\n",
       "      <td>0.92</td>\n",
       "    </tr>\n",
       "    <tr>\n",
       "      <th>...</th>\n",
       "      <td>...</td>\n",
       "      <td>...</td>\n",
       "      <td>...</td>\n",
       "      <td>...</td>\n",
       "      <td>...</td>\n",
       "      <td>...</td>\n",
       "      <td>...</td>\n",
       "      <td>...</td>\n",
       "      <td>...</td>\n",
       "    </tr>\n",
       "    <tr>\n",
       "      <th>76100</th>\n",
       "      <td>235.14</td>\n",
       "      <td>234.52</td>\n",
       "      <td>234.34</td>\n",
       "      <td>80.10</td>\n",
       "      <td>98.13</td>\n",
       "      <td>94.09</td>\n",
       "      <td>59468.39</td>\n",
       "      <td>63812.65</td>\n",
       "      <td>0.93</td>\n",
       "    </tr>\n",
       "    <tr>\n",
       "      <th>76101</th>\n",
       "      <td>234.79</td>\n",
       "      <td>233.68</td>\n",
       "      <td>234.12</td>\n",
       "      <td>55.73</td>\n",
       "      <td>97.67</td>\n",
       "      <td>71.13</td>\n",
       "      <td>51464.69</td>\n",
       "      <td>53131.42</td>\n",
       "      <td>0.95</td>\n",
       "    </tr>\n",
       "    <tr>\n",
       "      <th>76102</th>\n",
       "      <td>235.33</td>\n",
       "      <td>234.91</td>\n",
       "      <td>234.47</td>\n",
       "      <td>9.31</td>\n",
       "      <td>22.34</td>\n",
       "      <td>15.41</td>\n",
       "      <td>10464.33</td>\n",
       "      <td>11037.42</td>\n",
       "      <td>0.90</td>\n",
       "    </tr>\n",
       "    <tr>\n",
       "      <th>76103</th>\n",
       "      <td>233.23</td>\n",
       "      <td>232.28</td>\n",
       "      <td>232.18</td>\n",
       "      <td>43.66</td>\n",
       "      <td>66.93</td>\n",
       "      <td>65.96</td>\n",
       "      <td>40035.54</td>\n",
       "      <td>41010.85</td>\n",
       "      <td>0.96</td>\n",
       "    </tr>\n",
       "    <tr>\n",
       "      <th>76104</th>\n",
       "      <td>234.87</td>\n",
       "      <td>234.08</td>\n",
       "      <td>234.18</td>\n",
       "      <td>91.72</td>\n",
       "      <td>113.11</td>\n",
       "      <td>110.31</td>\n",
       "      <td>69537.08</td>\n",
       "      <td>73862.94</td>\n",
       "      <td>0.94</td>\n",
       "    </tr>\n",
       "    <tr>\n",
       "      <th>76105</th>\n",
       "      <td>233.86</td>\n",
       "      <td>233.15</td>\n",
       "      <td>232.98</td>\n",
       "      <td>12.69</td>\n",
       "      <td>35.38</td>\n",
       "      <td>33.30</td>\n",
       "      <td>18423.33</td>\n",
       "      <td>18964.89</td>\n",
       "      <td>0.91</td>\n",
       "    </tr>\n",
       "    <tr>\n",
       "      <th>76106</th>\n",
       "      <td>236.66</td>\n",
       "      <td>236.43</td>\n",
       "      <td>236.14</td>\n",
       "      <td>6.64</td>\n",
       "      <td>13.83</td>\n",
       "      <td>17.07</td>\n",
       "      <td>8413.78</td>\n",
       "      <td>8876.47</td>\n",
       "      <td>0.90</td>\n",
       "    </tr>\n",
       "    <tr>\n",
       "      <th>76107</th>\n",
       "      <td>231.45</td>\n",
       "      <td>230.90</td>\n",
       "      <td>231.28</td>\n",
       "      <td>13.83</td>\n",
       "      <td>43.43</td>\n",
       "      <td>30.72</td>\n",
       "      <td>18918.88</td>\n",
       "      <td>20326.65</td>\n",
       "      <td>0.86</td>\n",
       "    </tr>\n",
       "    <tr>\n",
       "      <th>76108</th>\n",
       "      <td>233.20</td>\n",
       "      <td>232.89</td>\n",
       "      <td>232.75</td>\n",
       "      <td>7.97</td>\n",
       "      <td>32.13</td>\n",
       "      <td>20.86</td>\n",
       "      <td>13498.08</td>\n",
       "      <td>14211.83</td>\n",
       "      <td>0.85</td>\n",
       "    </tr>\n",
       "    <tr>\n",
       "      <th>76109</th>\n",
       "      <td>236.17</td>\n",
       "      <td>235.86</td>\n",
       "      <td>235.65</td>\n",
       "      <td>7.08</td>\n",
       "      <td>29.11</td>\n",
       "      <td>17.30</td>\n",
       "      <td>12175.75</td>\n",
       "      <td>12609.51</td>\n",
       "      <td>0.86</td>\n",
       "    </tr>\n",
       "    <tr>\n",
       "      <th>76110</th>\n",
       "      <td>235.94</td>\n",
       "      <td>234.94</td>\n",
       "      <td>235.32</td>\n",
       "      <td>40.83</td>\n",
       "      <td>75.56</td>\n",
       "      <td>62.25</td>\n",
       "      <td>39597.83</td>\n",
       "      <td>42044.02</td>\n",
       "      <td>0.92</td>\n",
       "    </tr>\n",
       "    <tr>\n",
       "      <th>76111</th>\n",
       "      <td>232.36</td>\n",
       "      <td>231.55</td>\n",
       "      <td>231.70</td>\n",
       "      <td>53.65</td>\n",
       "      <td>81.53</td>\n",
       "      <td>100.65</td>\n",
       "      <td>52975.00</td>\n",
       "      <td>54648.29</td>\n",
       "      <td>0.94</td>\n",
       "    </tr>\n",
       "    <tr>\n",
       "      <th>76112</th>\n",
       "      <td>233.16</td>\n",
       "      <td>232.24</td>\n",
       "      <td>232.41</td>\n",
       "      <td>54.33</td>\n",
       "      <td>90.05</td>\n",
       "      <td>80.04</td>\n",
       "      <td>50305.34</td>\n",
       "      <td>52174.50</td>\n",
       "      <td>0.94</td>\n",
       "    </tr>\n",
       "    <tr>\n",
       "      <th>76113</th>\n",
       "      <td>233.82</td>\n",
       "      <td>233.57</td>\n",
       "      <td>233.28</td>\n",
       "      <td>8.03</td>\n",
       "      <td>18.86</td>\n",
       "      <td>20.19</td>\n",
       "      <td>10440.67</td>\n",
       "      <td>10991.43</td>\n",
       "      <td>0.90</td>\n",
       "    </tr>\n",
       "    <tr>\n",
       "      <th>76114</th>\n",
       "      <td>232.77</td>\n",
       "      <td>232.64</td>\n",
       "      <td>232.52</td>\n",
       "      <td>7.59</td>\n",
       "      <td>20.15</td>\n",
       "      <td>17.03</td>\n",
       "      <td>9956.94</td>\n",
       "      <td>10411.75</td>\n",
       "      <td>0.90</td>\n",
       "    </tr>\n",
       "    <tr>\n",
       "      <th>76115</th>\n",
       "      <td>231.75</td>\n",
       "      <td>230.83</td>\n",
       "      <td>230.99</td>\n",
       "      <td>61.01</td>\n",
       "      <td>89.78</td>\n",
       "      <td>85.17</td>\n",
       "      <td>52376.92</td>\n",
       "      <td>54816.53</td>\n",
       "      <td>0.95</td>\n",
       "    </tr>\n",
       "    <tr>\n",
       "      <th>76116</th>\n",
       "      <td>236.35</td>\n",
       "      <td>236.03</td>\n",
       "      <td>236.10</td>\n",
       "      <td>8.75</td>\n",
       "      <td>24.90</td>\n",
       "      <td>24.09</td>\n",
       "      <td>13336.41</td>\n",
       "      <td>13634.78</td>\n",
       "      <td>0.91</td>\n",
       "    </tr>\n",
       "    <tr>\n",
       "      <th>76117</th>\n",
       "      <td>235.00</td>\n",
       "      <td>234.46</td>\n",
       "      <td>234.51</td>\n",
       "      <td>49.56</td>\n",
       "      <td>71.39</td>\n",
       "      <td>55.26</td>\n",
       "      <td>37636.66</td>\n",
       "      <td>41336.84</td>\n",
       "      <td>0.90</td>\n",
       "    </tr>\n",
       "    <tr>\n",
       "      <th>76118</th>\n",
       "      <td>235.88</td>\n",
       "      <td>235.74</td>\n",
       "      <td>235.17</td>\n",
       "      <td>6.18</td>\n",
       "      <td>13.68</td>\n",
       "      <td>20.53</td>\n",
       "      <td>9276.07</td>\n",
       "      <td>9557.36</td>\n",
       "      <td>0.89</td>\n",
       "    </tr>\n",
       "    <tr>\n",
       "      <th>76119</th>\n",
       "      <td>233.65</td>\n",
       "      <td>232.70</td>\n",
       "      <td>233.28</td>\n",
       "      <td>10.99</td>\n",
       "      <td>62.08</td>\n",
       "      <td>32.17</td>\n",
       "      <td>22818.86</td>\n",
       "      <td>24503.98</td>\n",
       "      <td>0.80</td>\n",
       "    </tr>\n",
       "    <tr>\n",
       "      <th>76120</th>\n",
       "      <td>235.72</td>\n",
       "      <td>235.25</td>\n",
       "      <td>235.23</td>\n",
       "      <td>7.85</td>\n",
       "      <td>29.74</td>\n",
       "      <td>27.53</td>\n",
       "      <td>14243.38</td>\n",
       "      <td>15314.66</td>\n",
       "      <td>0.85</td>\n",
       "    </tr>\n",
       "    <tr>\n",
       "      <th>76121</th>\n",
       "      <td>234.75</td>\n",
       "      <td>234.14</td>\n",
       "      <td>234.04</td>\n",
       "      <td>8.23</td>\n",
       "      <td>29.02</td>\n",
       "      <td>15.48</td>\n",
       "      <td>11993.04</td>\n",
       "      <td>12343.99</td>\n",
       "      <td>0.87</td>\n",
       "    </tr>\n",
       "    <tr>\n",
       "      <th>76122</th>\n",
       "      <td>231.00</td>\n",
       "      <td>230.24</td>\n",
       "      <td>230.43</td>\n",
       "      <td>13.41</td>\n",
       "      <td>48.14</td>\n",
       "      <td>23.92</td>\n",
       "      <td>18034.25</td>\n",
       "      <td>19693.09</td>\n",
       "      <td>0.82</td>\n",
       "    </tr>\n",
       "    <tr>\n",
       "      <th>76123</th>\n",
       "      <td>232.66</td>\n",
       "      <td>232.27</td>\n",
       "      <td>232.02</td>\n",
       "      <td>7.02</td>\n",
       "      <td>18.45</td>\n",
       "      <td>15.72</td>\n",
       "      <td>9039.47</td>\n",
       "      <td>9549.48</td>\n",
       "      <td>0.89</td>\n",
       "    </tr>\n",
       "    <tr>\n",
       "      <th>76124</th>\n",
       "      <td>232.43</td>\n",
       "      <td>231.90</td>\n",
       "      <td>232.22</td>\n",
       "      <td>21.87</td>\n",
       "      <td>44.36</td>\n",
       "      <td>25.91</td>\n",
       "      <td>19718.07</td>\n",
       "      <td>21375.59</td>\n",
       "      <td>0.88</td>\n",
       "    </tr>\n",
       "    <tr>\n",
       "      <th>76125</th>\n",
       "      <td>234.64</td>\n",
       "      <td>234.66</td>\n",
       "      <td>233.91</td>\n",
       "      <td>6.49</td>\n",
       "      <td>14.74</td>\n",
       "      <td>13.94</td>\n",
       "      <td>7899.84</td>\n",
       "      <td>8242.90</td>\n",
       "      <td>0.91</td>\n",
       "    </tr>\n",
       "    <tr>\n",
       "      <th>76126</th>\n",
       "      <td>230.48</td>\n",
       "      <td>229.82</td>\n",
       "      <td>229.91</td>\n",
       "      <td>31.66</td>\n",
       "      <td>53.61</td>\n",
       "      <td>49.75</td>\n",
       "      <td>28442.07</td>\n",
       "      <td>31048.64</td>\n",
       "      <td>0.90</td>\n",
       "    </tr>\n",
       "    <tr>\n",
       "      <th>76127</th>\n",
       "      <td>234.27</td>\n",
       "      <td>234.44</td>\n",
       "      <td>234.57</td>\n",
       "      <td>6.62</td>\n",
       "      <td>14.04</td>\n",
       "      <td>15.68</td>\n",
       "      <td>8083.86</td>\n",
       "      <td>8515.00</td>\n",
       "      <td>0.90</td>\n",
       "    </tr>\n",
       "    <tr>\n",
       "      <th>76128</th>\n",
       "      <td>232.85</td>\n",
       "      <td>232.08</td>\n",
       "      <td>232.67</td>\n",
       "      <td>29.78</td>\n",
       "      <td>53.92</td>\n",
       "      <td>47.74</td>\n",
       "      <td>28526.20</td>\n",
       "      <td>30605.66</td>\n",
       "      <td>0.91</td>\n",
       "    </tr>\n",
       "    <tr>\n",
       "      <th>76129</th>\n",
       "      <td>235.19</td>\n",
       "      <td>234.09</td>\n",
       "      <td>234.62</td>\n",
       "      <td>33.05</td>\n",
       "      <td>90.29</td>\n",
       "      <td>63.45</td>\n",
       "      <td>42452.81</td>\n",
       "      <td>43789.61</td>\n",
       "      <td>0.91</td>\n",
       "    </tr>\n",
       "  </tbody>\n",
       "</table>\n",
       "<p>76130 rows × 9 columns</p>\n",
       "</div>"
      ],
      "text/plain": [
       "            0       1       2       3       4       5         6         7  \\\n",
       "0      231.48  230.68  231.13   28.62   85.35   67.17  40634.93  41954.64   \n",
       "1      232.55  231.93  232.12   42.26   59.70   55.55  34041.65  36562.76   \n",
       "2      235.39  234.91  234.56   46.28   48.49   50.96  31277.35  34297.96   \n",
       "3      231.87  231.05  231.39   69.17   92.45   89.39  56084.99  58069.81   \n",
       "4      232.40  231.82  231.79   77.44   93.10   81.21  54859.91  58391.86   \n",
       "5      231.58  231.38  230.89    7.53   18.79   20.06  10255.33  10727.22   \n",
       "6      234.33  234.09  233.85   10.12   27.80   27.74  14915.07  15356.71   \n",
       "7      235.04  234.32  234.34   23.03   56.14   38.57  25265.05  27750.68   \n",
       "8      235.39  235.21  234.88    7.93   14.37   19.27   9001.35   9778.18   \n",
       "9      234.10  232.78  232.98   64.06  104.39   83.65  57105.00  58702.05   \n",
       "10     234.06  233.92  233.53    7.05   17.24   19.30   9393.06  10192.23   \n",
       "11     230.76  229.76  229.58   51.57   60.95   70.41  39319.16  42059.79   \n",
       "12     235.12  234.41  234.26   96.10  108.97  114.15  70442.73  74844.83   \n",
       "13     231.58  231.31  230.96    8.14   17.06   21.81  10397.29  10862.61   \n",
       "14     232.59  232.06  231.76    7.87   42.62   28.32  17658.33  18340.53   \n",
       "15     235.87  234.61  234.84   41.47   65.80   53.08  34451.75  37652.43   \n",
       "16     234.74  234.38  234.38    9.86   33.32   23.84  14961.07  15710.31   \n",
       "17     236.58  236.46  236.15    7.28   13.18   16.49   8270.52   8734.51   \n",
       "18     237.09  237.00  236.52   16.36   15.08   16.10  10795.58  11260.89   \n",
       "19     235.47  235.27  234.92    6.93   13.69   13.62   7626.43   8048.37   \n",
       "20     234.89  233.86  234.25   36.82   71.25   51.68  34270.35  37547.29   \n",
       "21     234.29  234.14  233.59    9.43   18.61   16.52   9637.54  10420.95   \n",
       "22     231.59  230.83  231.22  102.77  121.23  105.04  69811.79  76079.10   \n",
       "23     231.97  231.53  231.47    8.57   19.92   16.39   9837.34  10392.03   \n",
       "24     234.07  234.06  233.38    8.31   13.42   15.30   8217.93   8653.01   \n",
       "25     235.86  235.34  234.89    9.85   41.03   33.16  18470.65  19756.18   \n",
       "26     236.52  235.55  235.90   70.03  100.13   89.95  57806.92  61182.43   \n",
       "27     233.68  233.46  233.07   15.17   29.89   21.34  14784.92  15503.93   \n",
       "28     236.95  236.87  236.23    7.26   15.24   15.66   8574.16   9025.01   \n",
       "29     235.64  235.68  235.32    7.07   13.89   14.34   7945.85   8308.63   \n",
       "...       ...     ...     ...     ...     ...     ...       ...       ...   \n",
       "76100  235.14  234.52  234.34   80.10   98.13   94.09  59468.39  63812.65   \n",
       "76101  234.79  233.68  234.12   55.73   97.67   71.13  51464.69  53131.42   \n",
       "76102  235.33  234.91  234.47    9.31   22.34   15.41  10464.33  11037.42   \n",
       "76103  233.23  232.28  232.18   43.66   66.93   65.96  40035.54  41010.85   \n",
       "76104  234.87  234.08  234.18   91.72  113.11  110.31  69537.08  73862.94   \n",
       "76105  233.86  233.15  232.98   12.69   35.38   33.30  18423.33  18964.89   \n",
       "76106  236.66  236.43  236.14    6.64   13.83   17.07   8413.78   8876.47   \n",
       "76107  231.45  230.90  231.28   13.83   43.43   30.72  18918.88  20326.65   \n",
       "76108  233.20  232.89  232.75    7.97   32.13   20.86  13498.08  14211.83   \n",
       "76109  236.17  235.86  235.65    7.08   29.11   17.30  12175.75  12609.51   \n",
       "76110  235.94  234.94  235.32   40.83   75.56   62.25  39597.83  42044.02   \n",
       "76111  232.36  231.55  231.70   53.65   81.53  100.65  52975.00  54648.29   \n",
       "76112  233.16  232.24  232.41   54.33   90.05   80.04  50305.34  52174.50   \n",
       "76113  233.82  233.57  233.28    8.03   18.86   20.19  10440.67  10991.43   \n",
       "76114  232.77  232.64  232.52    7.59   20.15   17.03   9956.94  10411.75   \n",
       "76115  231.75  230.83  230.99   61.01   89.78   85.17  52376.92  54816.53   \n",
       "76116  236.35  236.03  236.10    8.75   24.90   24.09  13336.41  13634.78   \n",
       "76117  235.00  234.46  234.51   49.56   71.39   55.26  37636.66  41336.84   \n",
       "76118  235.88  235.74  235.17    6.18   13.68   20.53   9276.07   9557.36   \n",
       "76119  233.65  232.70  233.28   10.99   62.08   32.17  22818.86  24503.98   \n",
       "76120  235.72  235.25  235.23    7.85   29.74   27.53  14243.38  15314.66   \n",
       "76121  234.75  234.14  234.04    8.23   29.02   15.48  11993.04  12343.99   \n",
       "76122  231.00  230.24  230.43   13.41   48.14   23.92  18034.25  19693.09   \n",
       "76123  232.66  232.27  232.02    7.02   18.45   15.72   9039.47   9549.48   \n",
       "76124  232.43  231.90  232.22   21.87   44.36   25.91  19718.07  21375.59   \n",
       "76125  234.64  234.66  233.91    6.49   14.74   13.94   7899.84   8242.90   \n",
       "76126  230.48  229.82  229.91   31.66   53.61   49.75  28442.07  31048.64   \n",
       "76127  234.27  234.44  234.57    6.62   14.04   15.68   8083.86   8515.00   \n",
       "76128  232.85  232.08  232.67   29.78   53.92   47.74  28526.20  30605.66   \n",
       "76129  235.19  234.09  234.62   33.05   90.29   63.45  42452.81  43789.61   \n",
       "\n",
       "          8  \n",
       "0      0.90  \n",
       "1      0.92  \n",
       "2      0.91  \n",
       "3      0.96  \n",
       "4      0.94  \n",
       "5      0.90  \n",
       "6      0.91  \n",
       "7      0.86  \n",
       "8      0.87  \n",
       "9      0.95  \n",
       "10     0.86  \n",
       "11     0.93  \n",
       "12     0.94  \n",
       "13     0.90  \n",
       "14     0.85  \n",
       "15     0.90  \n",
       "16     0.87  \n",
       "17     0.90  \n",
       "18     0.96  \n",
       "19     0.91  \n",
       "20     0.88  \n",
       "21     0.89  \n",
       "22     0.92  \n",
       "23     0.90  \n",
       "24     0.92  \n",
       "25     0.84  \n",
       "26     0.93  \n",
       "27     0.92  \n",
       "28     0.91  \n",
       "29     0.92  \n",
       "...     ...  \n",
       "76100  0.93  \n",
       "76101  0.95  \n",
       "76102  0.90  \n",
       "76103  0.96  \n",
       "76104  0.94  \n",
       "76105  0.91  \n",
       "76106  0.90  \n",
       "76107  0.86  \n",
       "76108  0.85  \n",
       "76109  0.86  \n",
       "76110  0.92  \n",
       "76111  0.94  \n",
       "76112  0.94  \n",
       "76113  0.90  \n",
       "76114  0.90  \n",
       "76115  0.95  \n",
       "76116  0.91  \n",
       "76117  0.90  \n",
       "76118  0.89  \n",
       "76119  0.80  \n",
       "76120  0.85  \n",
       "76121  0.87  \n",
       "76122  0.82  \n",
       "76123  0.89  \n",
       "76124  0.88  \n",
       "76125  0.91  \n",
       "76126  0.90  \n",
       "76127  0.90  \n",
       "76128  0.91  \n",
       "76129  0.91  \n",
       "\n",
       "[76130 rows x 9 columns]"
      ]
     },
     "execution_count": 5,
     "metadata": {},
     "output_type": "execute_result"
    }
   ],
   "source": [
    "#add_anomaly_dynamically(num,x,count,mid_pos):\n",
    "df_new = pd.DataFrame()\n",
    "for i in range(X.shape[1]):\n",
    "    df_new[i] = add_anomaly_dynamically(X.iloc[:,i],10,5,500)"
   ]
  },
  {
   "cell_type": "markdown",
   "metadata": {
    "collapsed": true
   },
   "source": [
    "class plot_func():\n",
    "    def __init__(self, data, clr, name):\n",
    "        fig = plt.figure(1)\n",
    "        ax = fig.add_subplot(111)\n",
    "        ax.plot(range(1,len(data)+1),data,color=clr,label=name)\n",
    "        #ax.legend(loc='upper left')\n",
    "        #ax.set_xbound(-1,10)\n",
    "        #ax.set_ybound(1,100)\n",
    "        ax.set_xlabel('Number of elements')\n",
    "        ax.set_ylabel('Value')"
   ]
  },
  {
   "cell_type": "markdown",
   "metadata": {
    "collapsed": false
   },
   "source": [
    "test9 = plot_func(X[490:510],'red','Original Data')\n",
    "test_10 = plot_func(df_new[490:510],'blue','Anomalous Data') "
   ]
  },
  {
   "cell_type": "markdown",
   "metadata": {},
   "source": [
    "# Data Smoothing"
   ]
  },
  {
   "cell_type": "code",
   "execution_count": 8,
   "metadata": {
    "collapsed": false
   },
   "outputs": [],
   "source": [
    "r = df_new.rolling(60).mean()"
   ]
  },
  {
   "cell_type": "code",
   "execution_count": 9,
   "metadata": {
    "collapsed": false
   },
   "outputs": [],
   "source": [
    "data_smooth = pd.DataFrame(r.iloc[59:,:])"
   ]
  },
  {
   "cell_type": "code",
   "execution_count": 10,
   "metadata": {
    "collapsed": false
   },
   "outputs": [
    {
     "data": {
      "text/plain": [
       "(76071, 9)"
      ]
     },
     "execution_count": 10,
     "metadata": {},
     "output_type": "execute_result"
    }
   ],
   "source": [
    "data_smooth.shape"
   ]
  },
  {
   "cell_type": "code",
   "execution_count": 11,
   "metadata": {
    "collapsed": false
   },
   "outputs": [
    {
     "data": {
      "image/png": "[encoded data removed]",
      "text/plain": [
       "<matplotlib.figure.Figure at 0x7f70ec6093d0>"
      ]
     },
     "metadata": {},
     "output_type": "display_data"
    }
   ],
   "source": [
    "plt.hist(data_smooth.iloc[:,0],bins=1000)\n",
    "plt.show()"
   ]
  },
  {
   "cell_type": "markdown",
   "metadata": {},
   "source": [
    "# End of Data Smoothing"
   ]
  },
  {
   "cell_type": "code",
   "execution_count": 12,
   "metadata": {
    "collapsed": false
   },
   "outputs": [],
   "source": [
    "#PCA Implementation\n",
    "from sklearn.preprocessing import StandardScaler\n",
    "X_std = StandardScaler().fit_transform(data_smooth)\n",
    "\n",
    "X_non_smoothed = StandardScaler().fit_transform(df_new)"
   ]
  },
  {
   "cell_type": "code",
   "execution_count": 13,
   "metadata": {
    "collapsed": false
   },
   "outputs": [
    {
     "data": {
      "image/png": "[encoded data removed]",
      "text/plain": [
       "<matplotlib.figure.Figure at 0x7f70b7e1fed0>"
      ]
     },
     "metadata": {},
     "output_type": "display_data"
    }
   ],
   "source": [
    "plt.hist(X_non_smoothed,bins=100)\n",
    "plt.show()"
   ]
  },
  {
   "cell_type": "code",
   "execution_count": 14,
   "metadata": {
    "collapsed": false
   },
   "outputs": [
    {
     "data": {
      "image/png": "[encoded data removed]",
      "text/plain": [
       "<matplotlib.figure.Figure at 0x7f70b3e16290>"
      ]
     },
     "metadata": {},
     "output_type": "display_data"
    }
   ],
   "source": [
    "plt.plot(X_non_smoothed)\n",
    "plt.show()"
   ]
  },
  {
   "cell_type": "code",
   "execution_count": 15,
   "metadata": {
    "collapsed": false
   },
   "outputs": [
    {
     "data": {
      "image/png": "[encoded data removed]",
      "text/plain": [
       "<matplotlib.figure.Figure at 0x7f70b7cd1ed0>"
      ]
     },
     "metadata": {},
     "output_type": "display_data"
    }
   ],
   "source": [
    "plt.hist(X_std,bins=100)\n",
    "plt.show()"
   ]
  },
  {
   "cell_type": "code",
   "execution_count": 16,
   "metadata": {
    "collapsed": false
   },
   "outputs": [
    {
     "data": {
      "text/plain": [
       "array([ 0.54721308,  0.61747083,  0.67114693, -0.45589307, -0.55336245,\n",
       "       -0.43293026, -0.48779537, -0.48362947, -0.15695572])"
      ]
     },
     "execution_count": 16,
     "metadata": {},
     "output_type": "execute_result"
    }
   ],
   "source": [
    "X_std[1000]"
   ]
  },
  {
   "cell_type": "code",
   "execution_count": 17,
   "metadata": {
    "collapsed": false
   },
   "outputs": [],
   "source": [
    "#Calculate the z-score of all the points\n",
    "from scipy import stats\n",
    "zscore = stats.zscore(df_new)"
   ]
  },
  {
   "cell_type": "code",
   "execution_count": 18,
   "metadata": {
    "collapsed": false
   },
   "outputs": [
    {
     "data": {
      "image/png": "[encoded data removed]",
      "text/plain": [
       "<matplotlib.figure.Figure at 0x7f70b2f690d0>"
      ]
     },
     "metadata": {},
     "output_type": "display_data"
    }
   ],
   "source": [
    "plt.boxplot(zscore)\n",
    "plt.show()"
   ]
  },
  {
   "cell_type": "code",
   "execution_count": 19,
   "metadata": {
    "collapsed": false
   },
   "outputs": [
    {
     "data": {
      "text/plain": [
       "array([ 0.66627299,  0.9089013 ,  0.98940582,  0.99535871,  0.9987822 ,\n",
       "        0.99944428,  0.99990974,  0.99998256,  1.        ])"
      ]
     },
     "execution_count": 19,
     "metadata": {},
     "output_type": "execute_result"
    }
   ],
   "source": [
    "from sklearn.decomposition import PCA \n",
    "sklearn_pca = PCA(n_components=9)\n",
    "Y_sklearn = sklearn_pca.fit_transform(X_std)\n",
    "Y_sklearn_ns = sklearn_pca.fit_transform(X_non_smoothed)\n",
    "\n",
    "sklearn_pca.explained_variance_ratio_.cumsum()"
   ]
  },
  {
   "cell_type": "code",
   "execution_count": 20,
   "metadata": {
    "collapsed": false
   },
   "outputs": [
    {
     "data": {
      "text/plain": [
       "[<matplotlib.lines.Line2D at 0x7f70b2d06390>]"
      ]
     },
     "execution_count": 20,
     "metadata": {},
     "output_type": "execute_result"
    },
    {
     "data": {
      "image/png": "[encoded data removed]",
      "text/plain": [
       "<matplotlib.figure.Figure at 0x7f70b2f69d50>"
      ]
     },
     "metadata": {},
     "output_type": "display_data"
    }
   ],
   "source": [
    "plt.plot(sklearn_pca.explained_variance_ratio_.cumsum())"
   ]
  },
  {
   "cell_type": "code",
   "execution_count": 21,
   "metadata": {
    "collapsed": false
   },
   "outputs": [
    {
     "data": {
      "text/html": [
       "<div>\n",
       "<table border=\"1\" class=\"dataframe\">\n",
       "  <thead>\n",
       "    <tr style=\"text-align: right;\">\n",
       "      <th></th>\n",
       "      <th>PCA1</th>\n",
       "      <th>PCA2</th>\n",
       "      <th>PCA3</th>\n",
       "    </tr>\n",
       "  </thead>\n",
       "  <tbody>\n",
       "    <tr>\n",
       "      <th>0</th>\n",
       "      <td>-2.349339</td>\n",
       "      <td>-1.798770</td>\n",
       "      <td>0.258858</td>\n",
       "    </tr>\n",
       "    <tr>\n",
       "      <th>1</th>\n",
       "      <td>-1.531437</td>\n",
       "      <td>-0.978596</td>\n",
       "      <td>-0.428461</td>\n",
       "    </tr>\n",
       "    <tr>\n",
       "      <th>2</th>\n",
       "      <td>-0.098923</td>\n",
       "      <td>1.043191</td>\n",
       "      <td>0.025473</td>\n",
       "    </tr>\n",
       "    <tr>\n",
       "      <th>3</th>\n",
       "      <td>-4.017238</td>\n",
       "      <td>-0.377094</td>\n",
       "      <td>-0.926900</td>\n",
       "    </tr>\n",
       "    <tr>\n",
       "      <th>4</th>\n",
       "      <td>-3.664858</td>\n",
       "      <td>-0.060993</td>\n",
       "      <td>-0.365460</td>\n",
       "    </tr>\n",
       "  </tbody>\n",
       "</table>\n",
       "</div>"
      ],
      "text/plain": [
       "       PCA1      PCA2      PCA3\n",
       "0 -2.349339 -1.798770  0.258858\n",
       "1 -1.531437 -0.978596 -0.428461\n",
       "2 -0.098923  1.043191  0.025473\n",
       "3 -4.017238 -0.377094 -0.926900\n",
       "4 -3.664858 -0.060993 -0.365460"
      ]
     },
     "execution_count": 21,
     "metadata": {},
     "output_type": "execute_result"
    }
   ],
   "source": [
    "#Convert the PCA to dataframe\n",
    "data = pd.DataFrame(Y_sklearn_ns[:,0:3], columns=('PCA1', 'PCA2','PCA3'))\n",
    "data.head()\n",
    "\n"
   ]
  },
  {
   "cell_type": "code",
   "execution_count": 22,
   "metadata": {
    "collapsed": false
   },
   "outputs": [
    {
     "name": "stderr",
     "output_type": "stream",
     "text": [
      "/home/arun/anaconda2/lib/python2.7/site-packages/matplotlib/axes/_axes.py:545: UserWarning: No labelled objects found. Use label='...' kwarg on individual plots.\n",
      "  warnings.warn(\"No labelled objects found. \"\n"
     ]
    },
    {
     "data": {
      "text/plain": [
       "<matplotlib.text.Text at 0x7f70b31c8b50>"
      ]
     },
     "execution_count": 22,
     "metadata": {},
     "output_type": "execute_result"
    },
    {
     "data": {
      "image/png": "[encoded data removed]",
      "text/plain": [
       "<matplotlib.figure.Figure at 0x7f70b2d41d50>"
      ]
     },
     "metadata": {},
     "output_type": "display_data"
    }
   ],
   "source": [
    "#Plot the PCA values\n",
    "fig = plt.figure() \n",
    "plt.legend(loc='upper right')\n",
    "plt.plot(data)\n",
    "plt.title(\"PCA of Torschlag_Trafo_07122015_to_11122015(Week-1)\")\n",
    "\n",
    "#plt.legend()\n",
    "plt.ylabel(\"PCA recorded value\")\n",
    "plt.xlabel(\"N-Observations\")"
   ]
  },
  {
   "cell_type": "markdown",
   "metadata": {},
   "source": [
    "# Split the data into training and testing "
   ]
  },
  {
   "cell_type": "markdown",
   "metadata": {
    "collapsed": true
   },
   "source": [
    "def split_data(data, val_size=0, test_size=0):\n",
    "    \"\"\"\n",
    "    splits data to training, validation and testing parts\n",
    "    \"\"\"\n",
    "    ntest = int(round(len(data) * (1 - test_size)))\n",
    "    nval = int(round(len(data.iloc[:ntest]) * (1 - val_size)))\n",
    "    df_train, df_val, df_test = data.iloc[:nval], data.iloc[nval:ntest], data.iloc[ntest:]\n",
    "    return df_train, df_val, df_test"
   ]
  },
  {
   "cell_type": "markdown",
   "metadata": {
    "collapsed": true
   },
   "source": [
    "train, validate, test = split_data(data)"
   ]
  },
  {
   "cell_type": "markdown",
   "metadata": {},
   "source": [
    "# Splitting data ends"
   ]
  },
  {
   "cell_type": "markdown",
   "metadata": {},
   "source": [
    "# Method 1 : Choose the best model"
   ]
  },
  {
   "cell_type": "code",
   "execution_count": 23,
   "metadata": {
    "collapsed": false
   },
   "outputs": [],
   "source": [
    "#Fit GMM on the PCA\n",
    "from sklearn.mixture import GaussianMixture\n",
    "import pylab as pl\n",
    "\n",
    "def model_fit_1(X):\n",
    "    n_components = np.arange(1, 21)\n",
    "    BIC = np.zeros(n_components.shape)\n",
    "    AIC = np.zeros(n_components.shape)\n",
    "    for i, n in enumerate(n_components):\n",
    "        clf = GaussianMixture(n_components=n, covariance_type='full')\n",
    "        clf.fit(X)\n",
    "        AIC[i] = clf.aic(X)\n",
    "        BIC[i] = clf.bic(X)\n",
    "    pl.figure()\n",
    "    pl.plot(n_components, AIC, label='AIC')\n",
    "    pl.plot(n_components, BIC, label='BIC')\n",
    "    pl.legend(loc=0)\n",
    "    pl.xlabel('n_components')\n",
    "    pl.ylabel('AIC / BIC')\n",
    "    return clf, AIC, BIC"
   ]
  },
  {
   "cell_type": "markdown",
   "metadata": {
    "collapsed": false
   },
   "source": [
    "def gmm_ad(wgt_log_probability):\n",
    "    values = []\n",
    "    index = []\n",
    "    threshold = 3 * wgt_log_probability.std() #Check if we can consider since its not a normal distribution\n",
    "    a = np.absolute(wgt_log_probability.mean()) + threshold\n",
    "    count = 0\n",
    "    for i in range(0,len(wgt_log_probability)):\n",
    "        #print i\n",
    "        if np.absolute(wgt_log_probability[i]) > a:\n",
    "            count = count + 1\n",
    "            values.append(wgt_log_probability[i])\n",
    "            index.append(i)\n",
    "    return count, values, index\n",
    "    #print values"
   ]
  },
  {
   "cell_type": "code",
   "execution_count": 24,
   "metadata": {
    "collapsed": false
   },
   "outputs": [
    {
     "data": {
      "image/png": "[encoded data removed]",
      "text/plain": [
       "<matplotlib.figure.Figure at 0x7f70b3423450>"
      ]
     },
     "metadata": {},
     "output_type": "display_data"
    }
   ],
   "source": [
    "clf, clf_aic, clf_bic  = model_fit_1(data)"
   ]
  },
  {
   "cell_type": "code",
   "execution_count": 25,
   "metadata": {
    "collapsed": false
   },
   "outputs": [
    {
     "data": {
      "text/plain": [
       "array([ 0.14661747,  0.08235623,  0.05315888,  0.01844478,  0.06204131,\n",
       "        0.05972135,  0.0472227 ,  0.02403117,  0.00050246,  0.03597219,\n",
       "        0.04084783,  0.05435092,  0.05147513,  0.0588934 ,  0.02001355,\n",
       "        0.03019588,  0.00137766,  0.06158273,  0.10143274,  0.0497616 ])"
      ]
     },
     "execution_count": 25,
     "metadata": {},
     "output_type": "execute_result"
    }
   ],
   "source": [
    "clf.weights_ #the weights of no_of_components, see first parameter to GaussianMixture"
   ]
  },
  {
   "cell_type": "code",
   "execution_count": 26,
   "metadata": {
    "collapsed": false
   },
   "outputs": [
    {
     "data": {
      "text/plain": [
       "(20, 3)"
      ]
     },
     "execution_count": 26,
     "metadata": {},
     "output_type": "execute_result"
    }
   ],
   "source": [
    "clf.means_.shape #(n_components, n_features)"
   ]
  },
  {
   "cell_type": "markdown",
   "metadata": {},
   "source": [
    "The precision matrices for each component in the mixture. **A precision matrix is the inverse of a covariance matrix.** A covariance matrix is symmetric positive definite so the mixture of Gaussian can be equivalently parameterized by the precision matrices. Storing the precision matrices instead of the covariance matrices makes it more efficient to compute the log-likelihood of new samples at test time. The shape depends on covariance_type:"
   ]
  },
  {
   "cell_type": "code",
   "execution_count": 27,
   "metadata": {
    "collapsed": false
   },
   "outputs": [
    {
     "data": {
      "text/plain": [
       "(20, 3, 3)"
      ]
     },
     "execution_count": 27,
     "metadata": {},
     "output_type": "execute_result"
    }
   ],
   "source": [
    "clf.covariances_.shape #(n_components, n_features, n_features) if 'full'"
   ]
  },
  {
   "cell_type": "code",
   "execution_count": 28,
   "metadata": {
    "collapsed": false
   },
   "outputs": [
    {
     "data": {
      "text/plain": [
       "(20, 3, 3)"
      ]
     },
     "execution_count": 28,
     "metadata": {},
     "output_type": "execute_result"
    }
   ],
   "source": [
    "clf.precisions_.shape #"
   ]
  },
  {
   "cell_type": "code",
   "execution_count": 29,
   "metadata": {
    "collapsed": false
   },
   "outputs": [
    {
     "data": {
      "text/plain": [
       "<matplotlib.text.Text at 0x7f70b805fc10>"
      ]
     },
     "execution_count": 29,
     "metadata": {},
     "output_type": "execute_result"
    },
    {
     "data": {
      "image/png": "[encoded data removed]",
      "text/plain": [
       "<matplotlib.figure.Figure at 0x7f70b2f5e190>"
      ]
     },
     "metadata": {},
     "output_type": "display_data"
    }
   ],
   "source": [
    "plt.scatter(clf.precisions_, clf.covariances_)\n",
    "plt.title('Scatter plot of precisions and covariances')"
   ]
  },
  {
   "cell_type": "code",
   "execution_count": 30,
   "metadata": {
    "collapsed": false
   },
   "outputs": [
    {
     "data": {
      "text/plain": [
       "array([ 1,  1, 13, ...,  0,  1, 10])"
      ]
     },
     "execution_count": 30,
     "metadata": {},
     "output_type": "execute_result"
    }
   ],
   "source": [
    "classes = clf.predict(data)\n",
    "classes"
   ]
  },
  {
   "cell_type": "code",
   "execution_count": 31,
   "metadata": {
    "collapsed": false
   },
   "outputs": [
    {
     "data": {
      "image/png": "[encoded data removed]",
      "text/plain": [
       "<matplotlib.figure.Figure at 0x7f70d007ad90>"
      ]
     },
     "metadata": {},
     "output_type": "display_data"
    }
   ],
   "source": [
    "classes = clf.predict(data)\n",
    "plt.scatter(data.iloc[:,0], data.iloc[:,1], c=classes)\n",
    "plt.legend()\n",
    "plt.title('Scatterplot of predicted data')\n",
    "plt.show()"
   ]
  },
  {
   "cell_type": "code",
   "execution_count": 32,
   "metadata": {
    "collapsed": false
   },
   "outputs": [],
   "source": [
    "score_samp = clf.score_samples(data) #Compute the weighted log probabilities for each sample."
   ]
  },
  {
   "cell_type": "code",
   "execution_count": 33,
   "metadata": {
    "collapsed": false
   },
   "outputs": [],
   "source": [
    "np.savetxt(\"Original_data.txt\",score_samp)"
   ]
  },
  {
   "cell_type": "code",
   "execution_count": 34,
   "metadata": {
    "collapsed": false,
    "scrolled": true
   },
   "outputs": [
    {
     "data": {
      "image/png": "[encoded data removed]",
      "text/plain": [
       "<matplotlib.figure.Figure at 0x7f70b8095150>"
      ]
     },
     "metadata": {},
     "output_type": "display_data"
    }
   ],
   "source": [
    "plt.hist(score_samp,bins =100)\n",
    "plt.show()"
   ]
  },
  {
   "cell_type": "markdown",
   "metadata": {},
   "source": [
    "# Calculate the confidence intervals"
   ]
  },
  {
   "cell_type": "code",
   "execution_count": 35,
   "metadata": {
    "collapsed": false
   },
   "outputs": [],
   "source": [
    "#http://stackoverflow.com/questions/4493543/calculating-confidence-intervals-for-a-non-normal-distribution\n",
    "def CI_dist(X):\n",
    "    N = len(X)\n",
    "    mu = np.mean(abs(X))         # sample mean (normally distributed)\n",
    "    print(\"Mean = %s\"%mu)\n",
    "    #sig = np.std(X)/math.sqrt(N); # sample standard deviation of the mean\n",
    "    sig = np.std(X) # sample standard deviation of the mean\n",
    "    print(\"Std = %s\"%sig)\n",
    "    alphao2 = .05/2;      # alpha over 2   \n",
    "    CI = stats.norm.ppf(0.95, loc=mu, scale= 2.5*sig)\n",
    "    return CI"
   ]
  },
  {
   "cell_type": "code",
   "execution_count": 36,
   "metadata": {
    "collapsed": false
   },
   "outputs": [
    {
     "name": "stdout",
     "output_type": "stream",
     "text": [
      "Mean = 4.08169969192\n",
      "Std = 1.72670296495\n"
     ]
    },
    {
     "data": {
      "text/plain": [
       "11.182133778354432"
      ]
     },
     "execution_count": 36,
     "metadata": {},
     "output_type": "execute_result"
    }
   ],
   "source": [
    "CI = CI_dist(score_samp)\n",
    "CI"
   ]
  },
  {
   "cell_type": "markdown",
   "metadata": {},
   "source": [
    "# Calculate the number of data points lower than -10"
   ]
  },
  {
   "cell_type": "code",
   "execution_count": 37,
   "metadata": {
    "collapsed": false
   },
   "outputs": [],
   "source": [
    "def count_no_of_points(dist,confidence_interval,filename):\n",
    "    count = 0\n",
    "    anomalous_values = []\n",
    "    idx = []\n",
    "    for i in dist:\n",
    "        if i < -confidence_interval:\n",
    "            count += 1\n",
    "            k, = np.where(dist == i)\n",
    "            idx.append(k)\n",
    "            anomalous_values.append(i)\n",
    "    np.savetxt(filename,anomalous_values)\n",
    "    return count,idx"
   ]
  },
  {
   "cell_type": "code",
   "execution_count": 38,
   "metadata": {
    "collapsed": false
   },
   "outputs": [
    {
     "data": {
      "text/plain": [
       "(124,\n",
       " [array([79]),\n",
       "  array([80]),\n",
       "  array([81]),\n",
       "  array([82]),\n",
       "  array([83]),\n",
       "  array([84]),\n",
       "  array([85]),\n",
       "  array([86]),\n",
       "  array([87]),\n",
       "  array([88]),\n",
       "  array([89]),\n",
       "  array([99]),\n",
       "  array([119]),\n",
       "  array([487]),\n",
       "  array([497]),\n",
       "  array([498]),\n",
       "  array([499]),\n",
       "  array([500]),\n",
       "  array([501]),\n",
       "  array([502]),\n",
       "  array([503]),\n",
       "  array([504]),\n",
       "  array([ 4058, 58393]),\n",
       "  array([ 4368, 35354, 64912]),\n",
       "  array([4526]),\n",
       "  array([5354]),\n",
       "  array([ 8439, 71099]),\n",
       "  array([11005]),\n",
       "  array([11180, 33391]),\n",
       "  array([11839]),\n",
       "  array([13370]),\n",
       "  array([13897, 60411]),\n",
       "  array([13992, 31986]),\n",
       "  array([14499]),\n",
       "  array([14746, 24122]),\n",
       "  array([16502]),\n",
       "  array([17159]),\n",
       "  array([19380]),\n",
       "  array([19485, 43308]),\n",
       "  array([23752]),\n",
       "  array([14746, 24122]),\n",
       "  array([25279]),\n",
       "  array([26270]),\n",
       "  array([26380, 35807]),\n",
       "  array([26822]),\n",
       "  array([27186]),\n",
       "  array([27273]),\n",
       "  array([27762]),\n",
       "  array([28124]),\n",
       "  array([29950, 70281]),\n",
       "  array([30610]),\n",
       "  array([30689]),\n",
       "  array([31660]),\n",
       "  array([13992, 31986]),\n",
       "  array([32601]),\n",
       "  array([32913]),\n",
       "  array([11180, 33391]),\n",
       "  array([33644]),\n",
       "  array([34911]),\n",
       "  array([ 4368, 35354, 64912]),\n",
       "  array([26380, 35807]),\n",
       "  array([38949]),\n",
       "  array([38976]),\n",
       "  array([38996]),\n",
       "  array([40719, 63341]),\n",
       "  array([41038, 52159, 64517]),\n",
       "  array([19485, 43308]),\n",
       "  array([43885]),\n",
       "  array([44790]),\n",
       "  array([45148, 51354]),\n",
       "  array([46521]),\n",
       "  array([48840]),\n",
       "  array([49318]),\n",
       "  array([45148, 51354]),\n",
       "  array([51550]),\n",
       "  array([51935, 56681]),\n",
       "  array([41038, 52159, 64517]),\n",
       "  array([53215]),\n",
       "  array([56277]),\n",
       "  array([51935, 56681]),\n",
       "  array([58317]),\n",
       "  array([ 4058, 58393]),\n",
       "  array([59170]),\n",
       "  array([59780]),\n",
       "  array([59999]),\n",
       "  array([60000]),\n",
       "  array([60001]),\n",
       "  array([60002]),\n",
       "  array([60003]),\n",
       "  array([60004]),\n",
       "  array([60005]),\n",
       "  array([60006]),\n",
       "  array([60007]),\n",
       "  array([60008]),\n",
       "  array([60010]),\n",
       "  array([60011]),\n",
       "  array([60012]),\n",
       "  array([60013]),\n",
       "  array([60014]),\n",
       "  array([13897, 60411]),\n",
       "  array([60558]),\n",
       "  array([61159]),\n",
       "  array([62318]),\n",
       "  array([63112]),\n",
       "  array([40719, 63341]),\n",
       "  array([63345, 72813]),\n",
       "  array([41038, 52159, 64517]),\n",
       "  array([ 4368, 35354, 64912]),\n",
       "  array([66181]),\n",
       "  array([66388]),\n",
       "  array([66657]),\n",
       "  array([68782]),\n",
       "  array([29950, 70281]),\n",
       "  array([70337]),\n",
       "  array([ 8439, 71099]),\n",
       "  array([71799]),\n",
       "  array([71912]),\n",
       "  array([71965]),\n",
       "  array([72213]),\n",
       "  array([72656]),\n",
       "  array([72716]),\n",
       "  array([63345, 72813]),\n",
       "  array([73149]),\n",
       "  array([75675])])"
      ]
     },
     "execution_count": 38,
     "metadata": {},
     "output_type": "execute_result"
    }
   ],
   "source": [
    "less_probable_value_count, idx_ap = count_no_of_points(score_samp,CI,\"test_anomaly_range_11.txt\")\n",
    "less_probable_value_count, idx_ap"
   ]
  }
 ],
 "metadata": {
  "kernelspec": {
   "display_name": "Python 2",
   "language": "python",
   "name": "python2"
  },
  "language_info": {
   "codemirror_mode": {
    "name": "ipython",
    "version": 2
   },
   "file_extension": ".py",
   "mimetype": "text/x-python",
   "name": "python",
   "nbconvert_exporter": "python",
   "pygments_lexer": "ipython2",
   "version": "2.7.13"
  }
 },
 "nbformat": 4,
 "nbformat_minor": 2
}
