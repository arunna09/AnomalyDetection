{
 "cells": [
  {
   "cell_type": "code",
   "execution_count": 1,
   "metadata": {
    "collapsed": true
   },
   "outputs": [],
   "source": [
    "import numpy as np\n",
    "import pandas as pd\n",
    "import matplotlib.pyplot as plt\n",
    "import matplotlib.mlab as mlab\n",
    "from mpl_toolkits.mplot3d import Axes3D\n",
    "from sklearn import mixture\n",
    "\n",
    "from sklearn.preprocessing import StandardScaler\n",
    "from sklearn.mixture import GaussianMixture\n",
    "\n",
    "import itertools\n",
    "import scipy as sp\n",
    "from scipy import linalg\n",
    "import matplotlib as mpl\n",
    "\n",
    "from itertools import product\n",
    "from scipy import stats\n",
    "\n",
    "import math\n",
    "%matplotlib inline"
   ]
  },
  {
   "cell_type": "code",
   "execution_count": 2,
   "metadata": {
    "collapsed": false
   },
   "outputs": [],
   "source": [
    "df = pd.read_csv('data/Test_data_07_11_2015.csv', sep=',')"
   ]
  },
  {
   "cell_type": "code",
   "execution_count": 3,
   "metadata": {
    "collapsed": false
   },
   "outputs": [],
   "source": [
    "X = df[[\"V1\",\"V2\",\"V3\",\"I1\",\"I2\",\"I3\",\"Pges\",\"Sges\",\"CosPhi\"]]"
   ]
  },
  {
   "cell_type": "code",
   "execution_count": 4,
   "metadata": {
    "collapsed": false
   },
   "outputs": [
    {
     "data": {
      "text/plain": [
       "(76130, 9)"
      ]
     },
     "execution_count": 4,
     "metadata": {},
     "output_type": "execute_result"
    }
   ],
   "source": [
    "X.shape"
   ]
  },
  {
   "cell_type": "markdown",
   "metadata": {},
   "source": [
    "# Inject anomalies dynamically for some range defined as below"
   ]
  },
  {
   "cell_type": "code",
   "execution_count": 5,
   "metadata": {
    "collapsed": true
   },
   "outputs": [],
   "source": [
    "def add_anomaly_dynamically(num,x,count,mid_pos):\n",
    "    t_num = list(num)\n",
    "    if (mid_pos + count >= len(t_num)) and (mid_pos - count < 0):\n",
    "        print \"Point of injection is not suitable for injecting anomalies\"\n",
    "    else:\n",
    "        #t_num.sort() #changed to work on multidimensional data, uncomment if its a 1D data\n",
    "        last_idx = len(t_num)\n",
    "        delta = 1.0 + (float(x)/float(100))\n",
    "        new_list_test = [t_num[mid_pos]]\n",
    "        for j in range(0,count):\n",
    "            a = mid_pos - j\n",
    "            b = mid_pos + j\n",
    "            new_list_test.append(t_num[a])\n",
    "            new_list_test.append(t_num[b])\n",
    "            new_list_test.sort()\n",
    "        mu = len(new_list_test)/2 \n",
    "        increment = new_list_test[mu] * delta\n",
    "        \n",
    "        for k in range(mid_pos-count,mid_pos+count+1):\n",
    "            if k == mid_pos:\n",
    "                t_num[k] = increment\n",
    "            else:\n",
    "                increment_new = increment - new_list_test[mu]\n",
    "                share = abs(mid_pos - k )\n",
    "                t_num[k] = t_num[k] + increment_new * (1.0 - (float(share)/float(mu)))\n",
    "    return t_num "
   ]
  },
  {
   "cell_type": "markdown",
   "metadata": {},
   "source": [
    "# Create and copy the anomalous data into new dataframe"
   ]
  },
  {
   "cell_type": "markdown",
   "metadata": {
    "collapsed": false
   },
   "source": [
    "#add_anomaly_dynamically(num,x,count,mid_pos):\n",
    "df_new = pd.DataFrame()\n",
    "for i in range(X.shape[1]):\n",
    "    df_new[i] = add_anomaly_dynamically(X.iloc[:,i],10,12,743)"
   ]
  },
  {
   "cell_type": "code",
   "execution_count": 8,
   "metadata": {
    "collapsed": false
   },
   "outputs": [],
   "source": [
    "df_new = pd.DataFrame()\n",
    "for i in range(X.shape[1]):\n",
    "    df_new[i] = X.iloc[:,i]"
   ]
  },
  {
   "cell_type": "code",
   "execution_count": 9,
   "metadata": {
    "collapsed": false
   },
   "outputs": [
    {
     "data": {
      "text/plain": [
       "Int64Index([0, 1, 2, 3, 4, 5, 6, 7, 8], dtype='int64')"
      ]
     },
     "execution_count": 9,
     "metadata": {},
     "output_type": "execute_result"
    }
   ],
   "source": [
    "df_new.columns"
   ]
  },
  {
   "cell_type": "code",
   "execution_count": 10,
   "metadata": {
    "collapsed": false
   },
   "outputs": [],
   "source": [
    "change_column_with_index = 2\n",
    "df_new[change_column_with_index] = add_anomaly_dynamically(X.iloc[:,change_column_with_index],10,12,743)"
   ]
  },
  {
   "cell_type": "code",
   "execution_count": 11,
   "metadata": {
    "collapsed": false
   },
   "outputs": [
    {
     "data": {
      "text/plain": [
       "(76130, 9)"
      ]
     },
     "execution_count": 11,
     "metadata": {},
     "output_type": "execute_result"
    }
   ],
   "source": [
    "df_new.shape"
   ]
  },
  {
   "cell_type": "code",
   "execution_count": 12,
   "metadata": {
    "collapsed": false
   },
   "outputs": [
    {
     "data": {
      "text/plain": [
       "730    236.83\n",
       "731    230.44\n",
       "732    234.74\n",
       "733    232.48\n",
       "734    231.92\n",
       "735    233.40\n",
       "736    233.04\n",
       "737    233.88\n",
       "738    233.33\n",
       "739    232.43\n",
       "740    231.75\n",
       "741    236.30\n",
       "742    233.13\n",
       "743    232.48\n",
       "744    233.47\n",
       "745    233.38\n",
       "746    232.10\n",
       "747    231.51\n",
       "748    232.37\n",
       "749    235.57\n",
       "750    235.97\n",
       "751    235.95\n",
       "752    233.22\n",
       "753    230.20\n",
       "754    234.87\n",
       "755    233.80\n",
       "756    235.92\n",
       "757    231.48\n",
       "758    234.15\n",
       "759    234.36\n",
       "Name: V3, dtype: float64"
      ]
     },
     "execution_count": 12,
     "metadata": {},
     "output_type": "execute_result"
    }
   ],
   "source": [
    "X.iloc[730:760,2]"
   ]
  },
  {
   "cell_type": "code",
   "execution_count": 13,
   "metadata": {
    "collapsed": false
   },
   "outputs": [
    {
     "data": {
      "text/plain": [
       "730    236.83000\n",
       "731    230.44000\n",
       "732    236.68275\n",
       "733    236.36550\n",
       "734    237.74825\n",
       "735    241.17100\n",
       "736    242.75375\n",
       "737    245.53650\n",
       "738    246.92925\n",
       "739    247.97200\n",
       "740    249.23475\n",
       "741    255.72750\n",
       "742    254.50025\n",
       "743    256.44300\n",
       "744    254.84025\n",
       "745    252.80750\n",
       "746    249.58475\n",
       "747    247.05200\n",
       "748    245.96925\n",
       "749    247.22650\n",
       "750    245.68375\n",
       "751    243.72100\n",
       "752    239.04825\n",
       "753    234.08550\n",
       "754    236.81275\n",
       "755    233.80000\n",
       "756    235.92000\n",
       "757    231.48000\n",
       "758    234.15000\n",
       "759    234.36000\n",
       "Name: 2, dtype: float64"
      ]
     },
     "execution_count": 13,
     "metadata": {},
     "output_type": "execute_result"
    }
   ],
   "source": [
    "df_new.iloc[730:760,2]"
   ]
  },
  {
   "cell_type": "code",
   "execution_count": 14,
   "metadata": {
    "collapsed": true
   },
   "outputs": [],
   "source": [
    "class plot_func():\n",
    "    def __init__(self, data, clr, name):\n",
    "        fig = plt.figure(1)\n",
    "        ax = fig.add_subplot(111)\n",
    "        ax.plot(range(1,len(data)+1),data,color=clr,label=name)\n",
    "        #ax.legend(loc='upper left')\n",
    "        #ax.set_xbound(-1,10)\n",
    "        #ax.set_ybound(1,100)\n",
    "        ax.set_xlabel('Number of elements')\n",
    "        ax.set_ylabel('Value')"
   ]
  },
  {
   "cell_type": "code",
   "execution_count": 52,
   "metadata": {
    "collapsed": false
   },
   "outputs": [
    {
     "data": {
      "image/png": "[encoded data removed]",
      "text/plain": [
       "<matplotlib.figure.Figure at 0x7f85a7525050>"
      ]
     },
     "metadata": {},
     "output_type": "display_data"
    }
   ],
   "source": [
    "test9 = plot_func(X.iloc[730:760,7],'red','Original Data')\n",
    "test_10 = plot_func(df_new.iloc[730:760,7],'blue','Anomalous Data') "
   ]
  },
  {
   "cell_type": "markdown",
   "metadata": {},
   "source": [
    "# Data Smoothing"
   ]
  },
  {
   "cell_type": "code",
   "execution_count": 16,
   "metadata": {
    "collapsed": false
   },
   "outputs": [],
   "source": [
    "r = df_new.rolling(60).mean()"
   ]
  },
  {
   "cell_type": "code",
   "execution_count": 17,
   "metadata": {
    "collapsed": false
   },
   "outputs": [],
   "source": [
    "data_smooth = pd.DataFrame(r.iloc[59:,:])"
   ]
  },
  {
   "cell_type": "code",
   "execution_count": 18,
   "metadata": {
    "collapsed": false
   },
   "outputs": [
    {
     "data": {
      "text/plain": [
       "(76071, 9)"
      ]
     },
     "execution_count": 18,
     "metadata": {},
     "output_type": "execute_result"
    }
   ],
   "source": [
    "data_smooth.shape"
   ]
  },
  {
   "cell_type": "code",
   "execution_count": 19,
   "metadata": {
    "collapsed": false
   },
   "outputs": [
    {
     "data": {
      "image/png": "[encoded data removed]",
      "text/plain": [
       "<matplotlib.figure.Figure at 0x7f85ac8e6710>"
      ]
     },
     "metadata": {},
     "output_type": "display_data"
    }
   ],
   "source": [
    "plt.hist(data_smooth.iloc[:,0],bins=1000)\n",
    "plt.show()"
   ]
  },
  {
   "cell_type": "markdown",
   "metadata": {},
   "source": [
    "# End of Data Smoothing"
   ]
  },
  {
   "cell_type": "code",
   "execution_count": 20,
   "metadata": {
    "collapsed": false
   },
   "outputs": [],
   "source": [
    "#PCA Implementation\n",
    "from sklearn.preprocessing import StandardScaler\n",
    "X_std = StandardScaler().fit_transform(data_smooth)\n",
    "\n",
    "X_non_smoothed = StandardScaler().fit_transform(df_new)"
   ]
  },
  {
   "cell_type": "code",
   "execution_count": 21,
   "metadata": {
    "collapsed": false
   },
   "outputs": [
    {
     "data": {
      "image/png": "[encoded data removed]",
      "text/plain": [
       "<matplotlib.figure.Figure at 0x7f85b9d4a110>"
      ]
     },
     "metadata": {},
     "output_type": "display_data"
    }
   ],
   "source": [
    "plt.hist(X_non_smoothed,bins=100)\n",
    "plt.show()"
   ]
  },
  {
   "cell_type": "code",
   "execution_count": 22,
   "metadata": {
    "collapsed": false
   },
   "outputs": [
    {
     "data": {
      "image/png": "[encoded data removed]",
      "text/plain": [
       "<matplotlib.figure.Figure at 0x7f85a84dcd90>"
      ]
     },
     "metadata": {},
     "output_type": "display_data"
    }
   ],
   "source": [
    "plt.plot(X_non_smoothed)\n",
    "plt.show()"
   ]
  },
  {
   "cell_type": "code",
   "execution_count": 23,
   "metadata": {
    "collapsed": false
   },
   "outputs": [
    {
     "data": {
      "image/png": "[encoded data removed]",
      "text/plain": [
       "<matplotlib.figure.Figure at 0x7f85a8e7c210>"
      ]
     },
     "metadata": {},
     "output_type": "display_data"
    }
   ],
   "source": [
    "plt.hist(X_std,bins=100)\n",
    "plt.show()"
   ]
  },
  {
   "cell_type": "code",
   "execution_count": 24,
   "metadata": {
    "collapsed": false
   },
   "outputs": [
    {
     "data": {
      "text/plain": [
       "array([ 0.5582168 ,  0.62857709,  0.6422214 , -0.45584056, -0.55327863,\n",
       "       -0.43292456, -0.4877729 , -0.48358296, -0.15573154])"
      ]
     },
     "execution_count": 24,
     "metadata": {},
     "output_type": "execute_result"
    }
   ],
   "source": [
    "X_std[1000]"
   ]
  },
  {
   "cell_type": "code",
   "execution_count": 25,
   "metadata": {
    "collapsed": false
   },
   "outputs": [],
   "source": [
    "#Calculate the z-score of all the points\n",
    "from scipy import stats\n",
    "zscore = stats.zscore(df_new)"
   ]
  },
  {
   "cell_type": "code",
   "execution_count": 26,
   "metadata": {
    "collapsed": false
   },
   "outputs": [
    {
     "data": {
      "image/png": "[encoded data removed]",
      "text/plain": [
       "<matplotlib.figure.Figure at 0x7f85a76bded0>"
      ]
     },
     "metadata": {},
     "output_type": "display_data"
    }
   ],
   "source": [
    "plt.boxplot(zscore)\n",
    "plt.show()"
   ]
  },
  {
   "cell_type": "code",
   "execution_count": 27,
   "metadata": {
    "collapsed": false
   },
   "outputs": [
    {
     "data": {
      "text/plain": [
       "array([ 0.66610582,  0.90773543,  0.98823851,  0.99421021,  0.99770213,\n",
       "        0.99944135,  0.99990973,  0.99998258,  1.        ])"
      ]
     },
     "execution_count": 27,
     "metadata": {},
     "output_type": "execute_result"
    }
   ],
   "source": [
    "from sklearn.decomposition import PCA \n",
    "sklearn_pca = PCA(n_components=9)\n",
    "Y_sklearn = sklearn_pca.fit_transform(X_std)\n",
    "Y_sklearn_ns = sklearn_pca.fit_transform(X_non_smoothed)\n",
    "\n",
    "sklearn_pca.explained_variance_ratio_.cumsum()"
   ]
  },
  {
   "cell_type": "code",
   "execution_count": 28,
   "metadata": {
    "collapsed": false
   },
   "outputs": [
    {
     "data": {
      "text/plain": [
       "[<matplotlib.lines.Line2D at 0x7f85a83ac7d0>]"
      ]
     },
     "execution_count": 28,
     "metadata": {},
     "output_type": "execute_result"
    },
    {
     "data": {
      "image/png": "[encoded data removed]",
      "text/plain": [
       "<matplotlib.figure.Figure at 0x7f85a76bd4d0>"
      ]
     },
     "metadata": {},
     "output_type": "display_data"
    }
   ],
   "source": [
    "plt.plot(sklearn_pca.explained_variance_ratio_.cumsum())"
   ]
  },
  {
   "cell_type": "code",
   "execution_count": 29,
   "metadata": {
    "collapsed": false
   },
   "outputs": [
    {
     "data": {
      "text/html": [
       "<div>\n",
       "<table border=\"1\" class=\"dataframe\">\n",
       "  <thead>\n",
       "    <tr style=\"text-align: right;\">\n",
       "      <th></th>\n",
       "      <th>PCA1</th>\n",
       "      <th>PCA2</th>\n",
       "      <th>PCA3</th>\n",
       "    </tr>\n",
       "  </thead>\n",
       "  <tbody>\n",
       "    <tr>\n",
       "      <th>0</th>\n",
       "      <td>-2.348910</td>\n",
       "      <td>-1.803628</td>\n",
       "      <td>0.257402</td>\n",
       "    </tr>\n",
       "    <tr>\n",
       "      <th>1</th>\n",
       "      <td>-1.531184</td>\n",
       "      <td>-0.981083</td>\n",
       "      <td>-0.429280</td>\n",
       "    </tr>\n",
       "    <tr>\n",
       "      <th>2</th>\n",
       "      <td>-0.099248</td>\n",
       "      <td>1.044407</td>\n",
       "      <td>0.025942</td>\n",
       "    </tr>\n",
       "    <tr>\n",
       "      <th>3</th>\n",
       "      <td>-4.017864</td>\n",
       "      <td>-0.382414</td>\n",
       "      <td>-0.927558</td>\n",
       "    </tr>\n",
       "    <tr>\n",
       "      <th>4</th>\n",
       "      <td>-3.665352</td>\n",
       "      <td>-0.065545</td>\n",
       "      <td>-0.366003</td>\n",
       "    </tr>\n",
       "  </tbody>\n",
       "</table>\n",
       "</div>"
      ],
      "text/plain": [
       "       PCA1      PCA2      PCA3\n",
       "0 -2.348910 -1.803628  0.257402\n",
       "1 -1.531184 -0.981083 -0.429280\n",
       "2 -0.099248  1.044407  0.025942\n",
       "3 -4.017864 -0.382414 -0.927558\n",
       "4 -3.665352 -0.065545 -0.366003"
      ]
     },
     "execution_count": 29,
     "metadata": {},
     "output_type": "execute_result"
    }
   ],
   "source": [
    "#Convert the PCA to dataframe\n",
    "data = pd.DataFrame(Y_sklearn_ns[:,0:3], columns=('PCA1', 'PCA2','PCA3'))\n",
    "data.head()\n",
    "\n"
   ]
  },
  {
   "cell_type": "code",
   "execution_count": 30,
   "metadata": {
    "collapsed": false
   },
   "outputs": [
    {
     "name": "stderr",
     "output_type": "stream",
     "text": [
      "/home/arun/anaconda2/lib/python2.7/site-packages/matplotlib/axes/_axes.py:545: UserWarning: No labelled objects found. Use label='...' kwarg on individual plots.\n",
      "  warnings.warn(\"No labelled objects found. \"\n"
     ]
    },
    {
     "data": {
      "text/plain": [
       "<matplotlib.text.Text at 0x7f85a790eed0>"
      ]
     },
     "execution_count": 30,
     "metadata": {},
     "output_type": "execute_result"
    },
    {
     "data": {
      "image/png": "[encoded data removed]",
      "text/plain": [
       "<matplotlib.figure.Figure at 0x7f85a75af5d0>"
      ]
     },
     "metadata": {},
     "output_type": "display_data"
    }
   ],
   "source": [
    "#Plot the PCA values\n",
    "fig = plt.figure() \n",
    "plt.legend(loc='upper right')\n",
    "plt.plot(data)\n",
    "plt.title(\"PCA of Torschlag_Trafo_07122015_to_11122015(Week-1)\")\n",
    "\n",
    "#plt.legend()\n",
    "plt.ylabel(\"PCA recorded value\")\n",
    "plt.xlabel(\"N-Observations\")"
   ]
  },
  {
   "cell_type": "markdown",
   "metadata": {},
   "source": [
    "# Split the data into training and testing "
   ]
  },
  {
   "cell_type": "markdown",
   "metadata": {
    "collapsed": true
   },
   "source": [
    "def split_data(data, val_size=0, test_size=0):\n",
    "    \"\"\"\n",
    "    splits data to training, validation and testing parts\n",
    "    \"\"\"\n",
    "    ntest = int(round(len(data) * (1 - test_size)))\n",
    "    nval = int(round(len(data.iloc[:ntest]) * (1 - val_size)))\n",
    "    df_train, df_val, df_test = data.iloc[:nval], data.iloc[nval:ntest], data.iloc[ntest:]\n",
    "    return df_train, df_val, df_test"
   ]
  },
  {
   "cell_type": "markdown",
   "metadata": {
    "collapsed": true
   },
   "source": [
    "train, validate, test = split_data(data)"
   ]
  },
  {
   "cell_type": "markdown",
   "metadata": {},
   "source": [
    "# Splitting data ends"
   ]
  },
  {
   "cell_type": "markdown",
   "metadata": {},
   "source": [
    "# Method 1 : Choose the best model"
   ]
  },
  {
   "cell_type": "code",
   "execution_count": 31,
   "metadata": {
    "collapsed": false
   },
   "outputs": [],
   "source": [
    "#Fit GMM on the PCA\n",
    "from sklearn.mixture import GaussianMixture\n",
    "import pylab as pl\n",
    "\n",
    "def model_fit_1(X):\n",
    "    n_components = np.arange(1, 21)\n",
    "    BIC = np.zeros(n_components.shape)\n",
    "    AIC = np.zeros(n_components.shape)\n",
    "    for i, n in enumerate(n_components):\n",
    "        clf = GaussianMixture(n_components=n, covariance_type='full')\n",
    "        clf.fit(X)\n",
    "        AIC[i] = clf.aic(X)\n",
    "        BIC[i] = clf.bic(X)\n",
    "    pl.figure()\n",
    "    pl.plot(n_components, AIC, label='AIC')\n",
    "    pl.plot(n_components, BIC, label='BIC')\n",
    "    pl.legend(loc=0)\n",
    "    pl.xlabel('n_components')\n",
    "    pl.ylabel('AIC / BIC')\n",
    "    return clf, AIC, BIC"
   ]
  },
  {
   "cell_type": "markdown",
   "metadata": {
    "collapsed": false
   },
   "source": [
    "def gmm_ad(wgt_log_probability):\n",
    "    values = []\n",
    "    index = []\n",
    "    threshold = 3 * wgt_log_probability.std() #Check if we can consider since its not a normal distribution\n",
    "    a = np.absolute(wgt_log_probability.mean()) + threshold\n",
    "    count = 0\n",
    "    for i in range(0,len(wgt_log_probability)):\n",
    "        #print i\n",
    "        if np.absolute(wgt_log_probability[i]) > a:\n",
    "            count = count + 1\n",
    "            values.append(wgt_log_probability[i])\n",
    "            index.append(i)\n",
    "    return count, values, index\n",
    "    #print values"
   ]
  },
  {
   "cell_type": "code",
   "execution_count": 32,
   "metadata": {
    "collapsed": false
   },
   "outputs": [
    {
     "data": {
      "image/png": "[encoded data removed]",
      "text/plain": [
       "<matplotlib.figure.Figure at 0x7f85a8cf3e90>"
      ]
     },
     "metadata": {},
     "output_type": "display_data"
    }
   ],
   "source": [
    "clf, clf_aic, clf_bic  = model_fit_1(data)"
   ]
  },
  {
   "cell_type": "code",
   "execution_count": 33,
   "metadata": {
    "collapsed": false
   },
   "outputs": [
    {
     "data": {
      "text/plain": [
       "array([ 0.04994821,  0.05272007,  0.01986362,  0.11979502,  0.01926054,\n",
       "        0.00101058,  0.05065287,  0.03037979,  0.15167621,  0.02734775,\n",
       "        0.06298776,  0.0706613 ,  0.04017336,  0.02559466,  0.02565223,\n",
       "        0.05275257,  0.0616578 ,  0.03539884,  0.0530555 ,  0.04941132])"
      ]
     },
     "execution_count": 33,
     "metadata": {},
     "output_type": "execute_result"
    }
   ],
   "source": [
    "clf.weights_ #the weights of no_of_components, see first parameter to GaussianMixture"
   ]
  },
  {
   "cell_type": "code",
   "execution_count": 34,
   "metadata": {
    "collapsed": false
   },
   "outputs": [
    {
     "data": {
      "text/plain": [
       "(20, 3)"
      ]
     },
     "execution_count": 34,
     "metadata": {},
     "output_type": "execute_result"
    }
   ],
   "source": [
    "clf.means_.shape #(n_components, n_features)"
   ]
  },
  {
   "cell_type": "markdown",
   "metadata": {},
   "source": [
    "The precision matrices for each component in the mixture. **A precision matrix is the inverse of a covariance matrix.** A covariance matrix is symmetric positive definite so the mixture of Gaussian can be equivalently parameterized by the precision matrices. Storing the precision matrices instead of the covariance matrices makes it more efficient to compute the log-likelihood of new samples at test time. The shape depends on covariance_type:"
   ]
  },
  {
   "cell_type": "code",
   "execution_count": 35,
   "metadata": {
    "collapsed": false
   },
   "outputs": [
    {
     "data": {
      "text/plain": [
       "(20, 3, 3)"
      ]
     },
     "execution_count": 35,
     "metadata": {},
     "output_type": "execute_result"
    }
   ],
   "source": [
    "clf.covariances_.shape #(n_components, n_features, n_features) if 'full'"
   ]
  },
  {
   "cell_type": "code",
   "execution_count": 36,
   "metadata": {
    "collapsed": false
   },
   "outputs": [
    {
     "data": {
      "text/plain": [
       "(20, 3, 3)"
      ]
     },
     "execution_count": 36,
     "metadata": {},
     "output_type": "execute_result"
    }
   ],
   "source": [
    "clf.precisions_.shape #"
   ]
  },
  {
   "cell_type": "code",
   "execution_count": 37,
   "metadata": {
    "collapsed": false
   },
   "outputs": [
    {
     "data": {
      "text/plain": [
       "<matplotlib.text.Text at 0x7f85a708ab10>"
      ]
     },
     "execution_count": 37,
     "metadata": {},
     "output_type": "execute_result"
    },
    {
     "data": {
      "image/png": "[encoded data removed]",
      "text/plain": [
       "<matplotlib.figure.Figure at 0x7f85a83c86d0>"
      ]
     },
     "metadata": {},
     "output_type": "display_data"
    }
   ],
   "source": [
    "plt.scatter(clf.precisions_, clf.covariances_)\n",
    "plt.title('Scatter plot of precisions and covariances')"
   ]
  },
  {
   "cell_type": "code",
   "execution_count": 38,
   "metadata": {
    "collapsed": false
   },
   "outputs": [
    {
     "data": {
      "text/plain": [
       "array([ 6,  6, 15, ...,  8, 17, 15])"
      ]
     },
     "execution_count": 38,
     "metadata": {},
     "output_type": "execute_result"
    }
   ],
   "source": [
    "classes = clf.predict(data)\n",
    "classes"
   ]
  },
  {
   "cell_type": "code",
   "execution_count": 39,
   "metadata": {
    "collapsed": false
   },
   "outputs": [
    {
     "data": {
      "image/png": "[encoded data removed]",
      "text/plain": [
       "<matplotlib.figure.Figure at 0x7f85a70dc5d0>"
      ]
     },
     "metadata": {},
     "output_type": "display_data"
    }
   ],
   "source": [
    "classes = clf.predict(data)\n",
    "plt.scatter(data.iloc[:,0], data.iloc[:,1], c=classes)\n",
    "plt.legend()\n",
    "plt.title('Scatterplot of predicted data')\n",
    "plt.show()"
   ]
  },
  {
   "cell_type": "code",
   "execution_count": 40,
   "metadata": {
    "collapsed": false
   },
   "outputs": [],
   "source": [
    "score_samp = clf.score_samples(data) #Compute the weighted log probabilities for each sample."
   ]
  },
  {
   "cell_type": "code",
   "execution_count": 41,
   "metadata": {
    "collapsed": false
   },
   "outputs": [],
   "source": [
    "np.savetxt(\"Original_data.txt\",score_samp)"
   ]
  },
  {
   "cell_type": "code",
   "execution_count": 42,
   "metadata": {
    "collapsed": false,
    "scrolled": true
   },
   "outputs": [
    {
     "data": {
      "image/png": "[encoded data removed]",
      "text/plain": [
       "<matplotlib.figure.Figure at 0x7f85ac8e6d90>"
      ]
     },
     "metadata": {},
     "output_type": "display_data"
    }
   ],
   "source": [
    "plt.hist(score_samp,bins =100)\n",
    "plt.show()"
   ]
  },
  {
   "cell_type": "markdown",
   "metadata": {},
   "source": [
    "# Calculate the confidence intervals"
   ]
  },
  {
   "cell_type": "code",
   "execution_count": 43,
   "metadata": {
    "collapsed": false
   },
   "outputs": [],
   "source": [
    "#http://stackoverflow.com/questions/4493543/calculating-confidence-intervals-for-a-non-normal-distribution\n",
    "def CI_dist(X):\n",
    "    N = len(X)\n",
    "    mu = np.mean(abs(X))         # sample mean (normally distributed)\n",
    "    print(\"Mean = %s\"%mu)\n",
    "    #sig = np.std(X)/math.sqrt(N); # sample standard deviation of the mean\n",
    "    sig = np.std(X) # sample standard deviation of the mean\n",
    "    print(\"Std = %s\"%sig)\n",
    "    alphao2 = .05/2;      # alpha over 2   \n",
    "    CI = stats.norm.ppf(0.95, loc=mu, scale= 2.5*sig)\n",
    "    return CI"
   ]
  },
  {
   "cell_type": "code",
   "execution_count": 44,
   "metadata": {
    "collapsed": false
   },
   "outputs": [
    {
     "name": "stdout",
     "output_type": "stream",
     "text": [
      "Mean = 4.06892752477\n",
      "Std = 1.71805772476\n"
     ]
    },
    {
     "data": {
      "text/plain": [
       "11.133811224467124"
      ]
     },
     "execution_count": 44,
     "metadata": {},
     "output_type": "execute_result"
    }
   ],
   "source": [
    "CI = CI_dist(score_samp)\n",
    "CI"
   ]
  },
  {
   "cell_type": "markdown",
   "metadata": {},
   "source": [
    "# Calculate the number of data points lower than -10"
   ]
  },
  {
   "cell_type": "code",
   "execution_count": 45,
   "metadata": {
    "collapsed": false
   },
   "outputs": [],
   "source": [
    "def count_no_of_points(dist,confidence_interval,filename):\n",
    "    count = 0\n",
    "    anomalous_values = []\n",
    "    idx = []\n",
    "    for i in dist:\n",
    "        if i < -confidence_interval:\n",
    "            count += 1\n",
    "            k, = np.where(dist == i)\n",
    "            idx.append(k)\n",
    "            anomalous_values.append(i)\n",
    "    np.savetxt(filename,anomalous_values)\n",
    "    return count,idx"
   ]
  },
  {
   "cell_type": "code",
   "execution_count": 46,
   "metadata": {
    "collapsed": false
   },
   "outputs": [
    {
     "data": {
      "text/plain": [
       "(137,\n",
       " [array([79]),\n",
       "  array([80]),\n",
       "  array([81]),\n",
       "  array([82]),\n",
       "  array([83]),\n",
       "  array([84]),\n",
       "  array([85]),\n",
       "  array([86]),\n",
       "  array([87]),\n",
       "  array([88]),\n",
       "  array([89]),\n",
       "  array([99]),\n",
       "  array([119]),\n",
       "  array([487]),\n",
       "  array([739]),\n",
       "  array([740]),\n",
       "  array([741]),\n",
       "  array([742]),\n",
       "  array([743]),\n",
       "  array([744]),\n",
       "  array([745]),\n",
       "  array([747]),\n",
       "  array([749]),\n",
       "  array([750]),\n",
       "  array([751]),\n",
       "  array([ 4058, 58393]),\n",
       "  array([ 4368, 35354, 64912]),\n",
       "  array([5354]),\n",
       "  array([6055]),\n",
       "  array([ 6222, 18865]),\n",
       "  array([6461]),\n",
       "  array([ 7916, 17139, 25255]),\n",
       "  array([ 8439, 71099]),\n",
       "  array([11005]),\n",
       "  array([11180, 33391]),\n",
       "  array([11839]),\n",
       "  array([13370]),\n",
       "  array([13897, 60411]),\n",
       "  array([13992, 31986]),\n",
       "  array([14032]),\n",
       "  array([14499]),\n",
       "  array([14746, 24122]),\n",
       "  array([14935]),\n",
       "  array([16502]),\n",
       "  array([ 7916, 17139, 25255]),\n",
       "  array([17159]),\n",
       "  array([ 6222, 18865]),\n",
       "  array([19380]),\n",
       "  array([19485, 43308]),\n",
       "  array([20627]),\n",
       "  array([23642]),\n",
       "  array([23752]),\n",
       "  array([14746, 24122]),\n",
       "  array([ 7916, 17139, 25255]),\n",
       "  array([25279]),\n",
       "  array([26190]),\n",
       "  array([26380, 35807]),\n",
       "  array([26822]),\n",
       "  array([27186]),\n",
       "  array([27762]),\n",
       "  array([28124]),\n",
       "  array([29950, 70281]),\n",
       "  array([30610]),\n",
       "  array([30689]),\n",
       "  array([31660]),\n",
       "  array([13992, 31986]),\n",
       "  array([32601]),\n",
       "  array([32913]),\n",
       "  array([11180, 33391]),\n",
       "  array([33644]),\n",
       "  array([34911]),\n",
       "  array([ 4368, 35354, 64912]),\n",
       "  array([26380, 35807]),\n",
       "  array([38769]),\n",
       "  array([38949]),\n",
       "  array([38976]),\n",
       "  array([38996]),\n",
       "  array([40719, 63341]),\n",
       "  array([40779]),\n",
       "  array([41038, 52159, 64517]),\n",
       "  array([41905]),\n",
       "  array([19485, 43308]),\n",
       "  array([43874, 61964]),\n",
       "  array([43885]),\n",
       "  array([44790]),\n",
       "  array([48840]),\n",
       "  array([49318]),\n",
       "  array([50198]),\n",
       "  array([50487, 66641]),\n",
       "  array([50500]),\n",
       "  array([51550]),\n",
       "  array([41038, 52159, 64517]),\n",
       "  array([53215]),\n",
       "  array([58317]),\n",
       "  array([ 4058, 58393]),\n",
       "  array([59033]),\n",
       "  array([59170]),\n",
       "  array([59780]),\n",
       "  array([59999]),\n",
       "  array([60000]),\n",
       "  array([60001]),\n",
       "  array([60002]),\n",
       "  array([60003]),\n",
       "  array([60004]),\n",
       "  array([60005]),\n",
       "  array([60006]),\n",
       "  array([60007]),\n",
       "  array([60008]),\n",
       "  array([60010]),\n",
       "  array([60011]),\n",
       "  array([60012]),\n",
       "  array([60013]),\n",
       "  array([60014]),\n",
       "  array([13897, 60411]),\n",
       "  array([60558]),\n",
       "  array([61159]),\n",
       "  array([43874, 61964]),\n",
       "  array([62318]),\n",
       "  array([63112]),\n",
       "  array([40719, 63341]),\n",
       "  array([41038, 52159, 64517]),\n",
       "  array([ 4368, 35354, 64912]),\n",
       "  array([66181]),\n",
       "  array([50487, 66641]),\n",
       "  array([66657]),\n",
       "  array([68782]),\n",
       "  array([29950, 70281]),\n",
       "  array([70337]),\n",
       "  array([ 8439, 71099]),\n",
       "  array([71799]),\n",
       "  array([71912]),\n",
       "  array([72213]),\n",
       "  array([72656]),\n",
       "  array([72716]),\n",
       "  array([73149]),\n",
       "  array([74899]),\n",
       "  array([75675])])"
      ]
     },
     "execution_count": 46,
     "metadata": {},
     "output_type": "execute_result"
    }
   ],
   "source": [
    "less_probable_value_count, idx_ap = count_no_of_points(score_samp,CI,\"test_anomaly_range_11.txt\")\n",
    "less_probable_value_count, idx_ap"
   ]
  }
 ],
 "metadata": {
  "kernelspec": {
   "display_name": "Python 2",
   "language": "python",
   "name": "python2"
  },
  "language_info": {
   "codemirror_mode": {
    "name": "ipython",
    "version": 2
   },
   "file_extension": ".py",
   "mimetype": "text/x-python",
   "name": "python",
   "nbconvert_exporter": "python",
   "pygments_lexer": "ipython2",
   "version": "2.7.13"
  }
 },
 "nbformat": 4,
 "nbformat_minor": 2
}
