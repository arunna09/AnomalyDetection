{
 "cells": [
  {
   "cell_type": "code",
   "execution_count": 1,
   "metadata": {
    "collapsed": true
   },
   "outputs": [],
   "source": [
    "import numpy as np\n",
    "import pandas as pd\n",
    "import matplotlib.pyplot as plt\n",
    "import matplotlib.mlab as mlab\n",
    "from mpl_toolkits.mplot3d import Axes3D\n",
    "from sklearn import mixture\n",
    "\n",
    "from sklearn.preprocessing import StandardScaler\n",
    "from sklearn.mixture import GaussianMixture\n",
    "\n",
    "import itertools\n",
    "import scipy as sp\n",
    "from scipy import linalg\n",
    "import matplotlib as mpl\n",
    "\n",
    "from itertools import product\n",
    "from scipy import stats\n",
    "\n",
    "import math\n",
    "%matplotlib inline"
   ]
  },
  {
   "cell_type": "code",
   "execution_count": 2,
   "metadata": {
    "collapsed": false
   },
   "outputs": [],
   "source": [
    "df = pd.read_csv('data/Test_data_07_11_2015.csv', sep=',')"
   ]
  },
  {
   "cell_type": "code",
   "execution_count": 3,
   "metadata": {
    "collapsed": false
   },
   "outputs": [],
   "source": [
    "X = df[[\"V1\",\"V2\",\"V3\",\"I1\",\"I2\",\"I3\",\"Pges\",\"Sges\",\"CosPhi\"]]"
   ]
  },
  {
   "cell_type": "code",
   "execution_count": 4,
   "metadata": {
    "collapsed": false
   },
   "outputs": [
    {
     "data": {
      "text/plain": [
       "(76130, 9)"
      ]
     },
     "execution_count": 4,
     "metadata": {},
     "output_type": "execute_result"
    }
   ],
   "source": [
    "X.shape"
   ]
  },
  {
   "cell_type": "markdown",
   "metadata": {},
   "source": [
    "# Inject anomalies dynamically for some range defined as below"
   ]
  },
  {
   "cell_type": "code",
   "execution_count": 5,
   "metadata": {
    "collapsed": true
   },
   "outputs": [],
   "source": [
    "def add_anomaly_dynamically(num,x,count,mid_pos):\n",
    "    t_num = list(num)\n",
    "    if (mid_pos + count >= len(t_num)) and (mid_pos - count < 0):\n",
    "        print \"Point of injection is not suitable for injecting anomalies\"\n",
    "    else:\n",
    "        #t_num.sort() #changed to work on multidimensional data, uncomment if its a 1D data\n",
    "        last_idx = len(t_num)\n",
    "        delta = 1.0 + (float(x)/float(100))\n",
    "        new_list_test = [t_num[mid_pos]]\n",
    "        for j in range(0,count):\n",
    "            a = mid_pos - j\n",
    "            b = mid_pos + j\n",
    "            new_list_test.append(t_num[a])\n",
    "            new_list_test.append(t_num[b])\n",
    "            new_list_test.sort()\n",
    "        mu = len(new_list_test)/2 \n",
    "        increment = new_list_test[mu] * delta\n",
    "        \n",
    "        for k in range(mid_pos-count,mid_pos+count+1):\n",
    "            if k == mid_pos:\n",
    "                t_num[k] = increment\n",
    "            else:\n",
    "                increment_new = increment - new_list_test[mu]\n",
    "                share = abs(mid_pos - k )\n",
    "                t_num[k] = t_num[k] + increment_new * (1.0 - (float(share)/float(mu)))\n",
    "    return t_num "
   ]
  },
  {
   "cell_type": "markdown",
   "metadata": {},
   "source": [
    "# Create and copy the anomalous data into new dataframe"
   ]
  },
  {
   "cell_type": "markdown",
   "metadata": {
    "collapsed": false
   },
   "source": [
    "#add_anomaly_dynamically(num,x,count,mid_pos):\n",
    "df_new = pd.DataFrame()\n",
    "for i in range(X.shape[1]):\n",
    "    df_new[i] = add_anomaly_dynamically(X.iloc[:,i],10,12,743)"
   ]
  },
  {
   "cell_type": "code",
   "execution_count": 6,
   "metadata": {
    "collapsed": false
   },
   "outputs": [],
   "source": [
    "df_new = pd.DataFrame()\n",
    "for i in range(X.shape[1]):\n",
    "    df_new[i] = X.iloc[:,i]"
   ]
  },
  {
   "cell_type": "code",
   "execution_count": 7,
   "metadata": {
    "collapsed": false
   },
   "outputs": [
    {
     "data": {
      "text/plain": [
       "Int64Index([0, 1, 2, 3, 4, 5, 6, 7, 8], dtype='int64')"
      ]
     },
     "execution_count": 7,
     "metadata": {},
     "output_type": "execute_result"
    }
   ],
   "source": [
    "df_new.columns"
   ]
  },
  {
   "cell_type": "code",
   "execution_count": 8,
   "metadata": {
    "collapsed": false
   },
   "outputs": [],
   "source": [
    "change_column_with_index = 8\n",
    "df_new[change_column_with_index] = add_anomaly_dynamically(X.iloc[:,change_column_with_index],20,12,743)"
   ]
  },
  {
   "cell_type": "code",
   "execution_count": 9,
   "metadata": {
    "collapsed": false
   },
   "outputs": [
    {
     "data": {
      "text/plain": [
       "(76130, 9)"
      ]
     },
     "execution_count": 9,
     "metadata": {},
     "output_type": "execute_result"
    }
   ],
   "source": [
    "df_new.shape"
   ]
  },
  {
   "cell_type": "code",
   "execution_count": 10,
   "metadata": {
    "collapsed": true
   },
   "outputs": [],
   "source": [
    "class plot_func():\n",
    "    def __init__(self, data, clr, name):\n",
    "        fig = plt.figure(1)\n",
    "        ax = fig.add_subplot(111)\n",
    "        ax.plot(range(1,len(data)+1),data,color=clr,label=name)\n",
    "        #ax.legend(loc='upper left')\n",
    "        #ax.set_xbound(-1,10)\n",
    "        #ax.set_ybound(1,100)\n",
    "        ax.set_xlabel('Number of elements')\n",
    "        ax.set_ylabel('Value')"
   ]
  },
  {
   "cell_type": "code",
   "execution_count": 11,
   "metadata": {
    "collapsed": false
   },
   "outputs": [
    {
     "data": {
      "image/png": "[encoded data removed]",
      "text/plain": [
       "<matplotlib.figure.Figure at 0x7fdab9a3c150>"
      ]
     },
     "metadata": {},
     "output_type": "display_data"
    }
   ],
   "source": [
    "test9 = plot_func(X.iloc[730:760,change_column_with_index],'red','Original Data')\n",
    "test_10 = plot_func(df_new.iloc[730:760,change_column_with_index],'blue','Anomalous Data') "
   ]
  },
  {
   "cell_type": "markdown",
   "metadata": {},
   "source": [
    "# Data Smoothing"
   ]
  },
  {
   "cell_type": "code",
   "execution_count": 12,
   "metadata": {
    "collapsed": false
   },
   "outputs": [],
   "source": [
    "r = df_new.rolling(60).mean()"
   ]
  },
  {
   "cell_type": "code",
   "execution_count": 13,
   "metadata": {
    "collapsed": false
   },
   "outputs": [],
   "source": [
    "data_smooth = pd.DataFrame(r.iloc[59:,:])"
   ]
  },
  {
   "cell_type": "code",
   "execution_count": 14,
   "metadata": {
    "collapsed": false
   },
   "outputs": [
    {
     "data": {
      "text/plain": [
       "(76071, 9)"
      ]
     },
     "execution_count": 14,
     "metadata": {},
     "output_type": "execute_result"
    }
   ],
   "source": [
    "data_smooth.shape"
   ]
  },
  {
   "cell_type": "code",
   "execution_count": 15,
   "metadata": {
    "collapsed": false
   },
   "outputs": [
    {
     "data": {
      "image/png": "[encoded data removed]",
      "text/plain": [
       "<matplotlib.figure.Figure at 0x7fdaac407e50>"
      ]
     },
     "metadata": {},
     "output_type": "display_data"
    }
   ],
   "source": [
    "plt.hist(data_smooth.iloc[:,0],bins=1000)\n",
    "plt.show()"
   ]
  },
  {
   "cell_type": "markdown",
   "metadata": {},
   "source": [
    "# End of Data Smoothing"
   ]
  },
  {
   "cell_type": "code",
   "execution_count": 16,
   "metadata": {
    "collapsed": false
   },
   "outputs": [],
   "source": [
    "#PCA Implementation\n",
    "from sklearn.preprocessing import StandardScaler\n",
    "X_std = StandardScaler().fit_transform(data_smooth)\n",
    "\n",
    "X_non_smoothed = StandardScaler().fit_transform(df_new)"
   ]
  },
  {
   "cell_type": "code",
   "execution_count": 17,
   "metadata": {
    "collapsed": false
   },
   "outputs": [
    {
     "data": {
      "image/png": "[encoded data removed]",
      "text/plain": [
       "<matplotlib.figure.Figure at 0x7fdaac2915d0>"
      ]
     },
     "metadata": {},
     "output_type": "display_data"
    }
   ],
   "source": [
    "plt.hist(X_non_smoothed,bins=100)\n",
    "plt.show()"
   ]
  },
  {
   "cell_type": "code",
   "execution_count": 18,
   "metadata": {
    "collapsed": false
   },
   "outputs": [
    {
     "data": {
      "image/png": "[encoded data removed]",
      "text/plain": [
       "<matplotlib.figure.Figure at 0x7fdaa8381350>"
      ]
     },
     "metadata": {},
     "output_type": "display_data"
    }
   ],
   "source": [
    "plt.plot(X_non_smoothed)\n",
    "plt.show()"
   ]
  },
  {
   "cell_type": "code",
   "execution_count": 19,
   "metadata": {
    "collapsed": false
   },
   "outputs": [
    {
     "data": {
      "image/png": "[encoded data removed]",
      "text/plain": [
       "<matplotlib.figure.Figure at 0x7fdaa8c038d0>"
      ]
     },
     "metadata": {},
     "output_type": "display_data"
    }
   ],
   "source": [
    "plt.hist(X_std,bins=100)\n",
    "plt.show()"
   ]
  },
  {
   "cell_type": "code",
   "execution_count": 20,
   "metadata": {
    "collapsed": false
   },
   "outputs": [
    {
     "data": {
      "text/plain": [
       "array([-0.76834973, -0.75621518, -0.85339509,  0.98836784,  0.66562416,\n",
       "        1.09027399,  0.95743541,  0.91318912,  1.59014418])"
      ]
     },
     "execution_count": 20,
     "metadata": {},
     "output_type": "execute_result"
    }
   ],
   "source": [
    "X_std[1000]"
   ]
  },
  {
   "cell_type": "code",
   "execution_count": 21,
   "metadata": {
    "collapsed": false
   },
   "outputs": [],
   "source": [
    "#Calculate the z-score of all the points\n",
    "from scipy import stats\n",
    "zscore = stats.zscore(df_new)"
   ]
  },
  {
   "cell_type": "code",
   "execution_count": 22,
   "metadata": {
    "collapsed": false
   },
   "outputs": [
    {
     "data": {
      "image/png": "[encoded data removed]",
      "text/plain": [
       "<matplotlib.figure.Figure at 0x7fdaa8144e90>"
      ]
     },
     "metadata": {},
     "output_type": "display_data"
    }
   ],
   "source": [
    "plt.boxplot(zscore)\n",
    "plt.show()"
   ]
  },
  {
   "cell_type": "code",
   "execution_count": 23,
   "metadata": {
    "collapsed": false
   },
   "outputs": [
    {
     "data": {
      "text/plain": [
       "array([ 0.66673501,  0.90886631,  0.98939257,  0.99535104,  0.99877496,\n",
       "        0.99944135,  0.99990978,  0.99998259,  1.        ])"
      ]
     },
     "execution_count": 23,
     "metadata": {},
     "output_type": "execute_result"
    }
   ],
   "source": [
    "from sklearn.decomposition import PCA \n",
    "sklearn_pca = PCA(n_components=9)\n",
    "Y_sklearn = sklearn_pca.fit_transform(X_std)\n",
    "Y_sklearn_ns = sklearn_pca.fit_transform(X_non_smoothed)\n",
    "\n",
    "sklearn_pca.explained_variance_ratio_.cumsum()"
   ]
  },
  {
   "cell_type": "code",
   "execution_count": 24,
   "metadata": {
    "collapsed": false
   },
   "outputs": [
    {
     "data": {
      "text/plain": [
       "[<matplotlib.lines.Line2D at 0x7fdaa6eceb50>]"
      ]
     },
     "execution_count": 24,
     "metadata": {},
     "output_type": "execute_result"
    },
    {
     "data": {
      "image/png": "[encoded data removed]",
      "text/plain": [
       "<matplotlib.figure.Figure at 0x7fdaa80d1f10>"
      ]
     },
     "metadata": {},
     "output_type": "display_data"
    }
   ],
   "source": [
    "plt.plot(sklearn_pca.explained_variance_ratio_.cumsum())"
   ]
  },
  {
   "cell_type": "code",
   "execution_count": 25,
   "metadata": {
    "collapsed": false
   },
   "outputs": [
    {
     "data": {
      "text/html": [
       "<div>\n",
       "<table border=\"1\" class=\"dataframe\">\n",
       "  <thead>\n",
       "    <tr style=\"text-align: right;\">\n",
       "      <th></th>\n",
       "      <th>PCA1</th>\n",
       "      <th>PCA2</th>\n",
       "      <th>PCA3</th>\n",
       "    </tr>\n",
       "  </thead>\n",
       "  <tbody>\n",
       "    <tr>\n",
       "      <th>0</th>\n",
       "      <td>-6.397398</td>\n",
       "      <td>2.030995</td>\n",
       "      <td>0.746227</td>\n",
       "    </tr>\n",
       "    <tr>\n",
       "      <th>1</th>\n",
       "      <td>-6.352763</td>\n",
       "      <td>2.180511</td>\n",
       "      <td>0.754058</td>\n",
       "    </tr>\n",
       "    <tr>\n",
       "      <th>2</th>\n",
       "      <td>-6.538260</td>\n",
       "      <td>1.969463</td>\n",
       "      <td>0.742930</td>\n",
       "    </tr>\n",
       "    <tr>\n",
       "      <th>3</th>\n",
       "      <td>-6.272296</td>\n",
       "      <td>2.107203</td>\n",
       "      <td>0.751465</td>\n",
       "    </tr>\n",
       "    <tr>\n",
       "      <th>4</th>\n",
       "      <td>-6.376686</td>\n",
       "      <td>1.985634</td>\n",
       "      <td>0.741627</td>\n",
       "    </tr>\n",
       "  </tbody>\n",
       "</table>\n",
       "</div>"
      ],
      "text/plain": [
       "       PCA1      PCA2      PCA3\n",
       "0 -6.397398  2.030995  0.746227\n",
       "1 -6.352763  2.180511  0.754058\n",
       "2 -6.538260  1.969463  0.742930\n",
       "3 -6.272296  2.107203  0.751465\n",
       "4 -6.376686  1.985634  0.741627"
      ]
     },
     "execution_count": 25,
     "metadata": {},
     "output_type": "execute_result"
    }
   ],
   "source": [
    "#Convert the PCA to dataframe\n",
    "data = pd.DataFrame(Y_sklearn_ns[:,0:3], columns=('PCA1', 'PCA2','PCA3'))\n",
    "data.head()\n",
    "\n"
   ]
  },
  {
   "cell_type": "code",
   "execution_count": 26,
   "metadata": {
    "collapsed": false
   },
   "outputs": [
    {
     "name": "stderr",
     "output_type": "stream",
     "text": [
      "/home/arun/anaconda2/lib/python2.7/site-packages/matplotlib/axes/_axes.py:545: UserWarning: No labelled objects found. Use label='...' kwarg on individual plots.\n",
      "  warnings.warn(\"No labelled objects found. \"\n"
     ]
    },
    {
     "data": {
      "text/plain": [
       "<matplotlib.text.Text at 0x7fdaa7fad810>"
      ]
     },
     "execution_count": 26,
     "metadata": {},
     "output_type": "execute_result"
    },
    {
     "data": {
      "image/png": "[encoded data removed]",
      "text/plain": [
       "<matplotlib.figure.Figure at 0x7fdaa81599d0>"
      ]
     },
     "metadata": {},
     "output_type": "display_data"
    }
   ],
   "source": [
    "#Plot the PCA values\n",
    "fig = plt.figure() \n",
    "plt.legend(loc='upper right')\n",
    "plt.plot(data)\n",
    "plt.title(\"PCA of Torschlag_Trafo_07122015_to_11122015(Week-1)\")\n",
    "\n",
    "#plt.legend()\n",
    "plt.ylabel(\"PCA recorded value\")\n",
    "plt.xlabel(\"N-Observations\")"
   ]
  },
  {
   "cell_type": "markdown",
   "metadata": {},
   "source": [
    "# Split the data into training and testing "
   ]
  },
  {
   "cell_type": "markdown",
   "metadata": {
    "collapsed": true
   },
   "source": [
    "def split_data(data, val_size=0, test_size=0):\n",
    "    \"\"\"\n",
    "    splits data to training, validation and testing parts\n",
    "    \"\"\"\n",
    "    ntest = int(round(len(data) * (1 - test_size)))\n",
    "    nval = int(round(len(data.iloc[:ntest]) * (1 - val_size)))\n",
    "    df_train, df_val, df_test = data.iloc[:nval], data.iloc[nval:ntest], data.iloc[ntest:]\n",
    "    return df_train, df_val, df_test"
   ]
  },
  {
   "cell_type": "markdown",
   "metadata": {
    "collapsed": true
   },
   "source": [
    "train, validate, test = split_data(data)"
   ]
  },
  {
   "cell_type": "markdown",
   "metadata": {},
   "source": [
    "# Splitting data ends"
   ]
  },
  {
   "cell_type": "markdown",
   "metadata": {},
   "source": [
    "# Method 1 : Choose the best model"
   ]
  },
  {
   "cell_type": "code",
   "execution_count": 27,
   "metadata": {
    "collapsed": false
   },
   "outputs": [],
   "source": [
    "#Fit GMM on the PCA\n",
    "from sklearn.mixture import GaussianMixture\n",
    "import pylab as pl\n",
    "\n",
    "def model_fit_1(X):\n",
    "    n_components = np.arange(1, 21)\n",
    "    BIC = np.zeros(n_components.shape)\n",
    "    AIC = np.zeros(n_components.shape)\n",
    "    for i, n in enumerate(n_components):\n",
    "        clf = GaussianMixture(n_components=n, covariance_type='full')\n",
    "        clf.fit(X)\n",
    "        AIC[i] = clf.aic(X)\n",
    "        BIC[i] = clf.bic(X)\n",
    "    pl.figure()\n",
    "    pl.plot(n_components, AIC, label='AIC')\n",
    "    pl.plot(n_components, BIC, label='BIC')\n",
    "    pl.legend(loc=0)\n",
    "    pl.xlabel('n_components')\n",
    "    pl.ylabel('AIC / BIC')\n",
    "    return clf, AIC, BIC"
   ]
  },
  {
   "cell_type": "markdown",
   "metadata": {
    "collapsed": false
   },
   "source": [
    "def gmm_ad(wgt_log_probability):\n",
    "    values = []\n",
    "    index = []\n",
    "    threshold = 3 * wgt_log_probability.std() #Check if we can consider since its not a normal distribution\n",
    "    a = np.absolute(wgt_log_probability.mean()) + threshold\n",
    "    count = 0\n",
    "    for i in range(0,len(wgt_log_probability)):\n",
    "        #print i\n",
    "        if np.absolute(wgt_log_probability[i]) > a:\n",
    "            count = count + 1\n",
    "            values.append(wgt_log_probability[i])\n",
    "            index.append(i)\n",
    "    return count, values, index\n",
    "    #print values"
   ]
  },
  {
   "cell_type": "code",
   "execution_count": 28,
   "metadata": {
    "collapsed": false
   },
   "outputs": [
    {
     "data": {
      "image/png": "[encoded data removed]",
      "text/plain": [
       "<matplotlib.figure.Figure at 0x7fdaa8129b10>"
      ]
     },
     "metadata": {},
     "output_type": "display_data"
    }
   ],
   "source": [
    "clf, clf_aic, clf_bic  = model_fit_1(data)"
   ]
  },
  {
   "cell_type": "code",
   "execution_count": 29,
   "metadata": {
    "collapsed": false
   },
   "outputs": [
    {
     "data": {
      "text/plain": [
       "array([ 0.05935027,  0.13383529,  0.13502029,  0.02257285,  0.0004061 ,\n",
       "        0.05226162,  0.04166842,  0.13956867,  0.02606744,  0.02465906,\n",
       "        0.02918641,  0.03309697,  0.02470174,  0.02565092,  0.03279212,\n",
       "        0.04720384,  0.0620087 ,  0.04784268,  0.00865332,  0.05345328])"
      ]
     },
     "execution_count": 29,
     "metadata": {},
     "output_type": "execute_result"
    }
   ],
   "source": [
    "clf.weights_ #the weights of no_of_components, see first parameter to GaussianMixture"
   ]
  },
  {
   "cell_type": "code",
   "execution_count": 30,
   "metadata": {
    "collapsed": false
   },
   "outputs": [
    {
     "data": {
      "text/plain": [
       "(20, 3)"
      ]
     },
     "execution_count": 30,
     "metadata": {},
     "output_type": "execute_result"
    }
   ],
   "source": [
    "clf.means_.shape #(n_components, n_features)"
   ]
  },
  {
   "cell_type": "markdown",
   "metadata": {},
   "source": [
    "The precision matrices for each component in the mixture. **A precision matrix is the inverse of a covariance matrix.** A covariance matrix is symmetric positive definite so the mixture of Gaussian can be equivalently parameterized by the precision matrices. Storing the precision matrices instead of the covariance matrices makes it more efficient to compute the log-likelihood of new samples at test time. The shape depends on covariance_type:"
   ]
  },
  {
   "cell_type": "code",
   "execution_count": 31,
   "metadata": {
    "collapsed": false
   },
   "outputs": [
    {
     "data": {
      "text/plain": [
       "(20, 3, 3)"
      ]
     },
     "execution_count": 31,
     "metadata": {},
     "output_type": "execute_result"
    }
   ],
   "source": [
    "clf.covariances_.shape #(n_components, n_features, n_features) if 'full'"
   ]
  },
  {
   "cell_type": "code",
   "execution_count": 32,
   "metadata": {
    "collapsed": false
   },
   "outputs": [
    {
     "data": {
      "text/plain": [
       "(20, 3, 3)"
      ]
     },
     "execution_count": 32,
     "metadata": {},
     "output_type": "execute_result"
    }
   ],
   "source": [
    "clf.precisions_.shape #"
   ]
  },
  {
   "cell_type": "code",
   "execution_count": 33,
   "metadata": {
    "collapsed": false
   },
   "outputs": [
    {
     "data": {
      "text/plain": [
       "<matplotlib.text.Text at 0x7fdaa7810250>"
      ]
     },
     "execution_count": 33,
     "metadata": {},
     "output_type": "execute_result"
    },
    {
     "data": {
      "image/png": "[encoded data removed]",
      "text/plain": [
       "<matplotlib.figure.Figure at 0x7fdaa7200b10>"
      ]
     },
     "metadata": {},
     "output_type": "display_data"
    }
   ],
   "source": [
    "plt.scatter(clf.precisions_, clf.covariances_)\n",
    "plt.title('Scatter plot of precisions and covariances')"
   ]
  },
  {
   "cell_type": "code",
   "execution_count": 34,
   "metadata": {
    "collapsed": false
   },
   "outputs": [
    {
     "data": {
      "text/plain": [
       "array([ 3,  3, 10, ...,  2,  2, 18])"
      ]
     },
     "execution_count": 34,
     "metadata": {},
     "output_type": "execute_result"
    }
   ],
   "source": [
    "classes = clf.predict(data)\n",
    "classes"
   ]
  },
  {
   "cell_type": "code",
   "execution_count": 35,
   "metadata": {
    "collapsed": false
   },
   "outputs": [
    {
     "data": {
      "image/png": "[encoded data removed]",
      "text/plain": [
       "<matplotlib.figure.Figure at 0x7fdaa814c2d0>"
      ]
     },
     "metadata": {},
     "output_type": "display_data"
    }
   ],
   "source": [
    "classes = clf.predict(data)\n",
    "plt.scatter(data.iloc[:,0], data.iloc[:,1], c=classes)\n",
    "plt.legend()\n",
    "plt.title('Scatterplot of predicted data')\n",
    "plt.show()"
   ]
  },
  {
   "cell_type": "code",
   "execution_count": 36,
   "metadata": {
    "collapsed": false
   },
   "outputs": [],
   "source": [
    "score_samp = clf.score_samples(data) #Compute the weighted log probabilities for each sample."
   ]
  },
  {
   "cell_type": "code",
   "execution_count": 37,
   "metadata": {
    "collapsed": false
   },
   "outputs": [],
   "source": [
    "np.savetxt(\"Original_data.txt\",score_samp)"
   ]
  },
  {
   "cell_type": "code",
   "execution_count": 38,
   "metadata": {
    "collapsed": false,
    "scrolled": true
   },
   "outputs": [
    {
     "data": {
      "image/png": "[encoded data removed]",
      "text/plain": [
       "<matplotlib.figure.Figure at 0x7fdaa7eb22d0>"
      ]
     },
     "metadata": {},
     "output_type": "display_data"
    }
   ],
   "source": [
    "plt.hist(score_samp,bins =100)\n",
    "plt.show()"
   ]
  },
  {
   "cell_type": "markdown",
   "metadata": {},
   "source": [
    "# Calculate the confidence intervals"
   ]
  },
  {
   "cell_type": "code",
   "execution_count": 39,
   "metadata": {
    "collapsed": false
   },
   "outputs": [],
   "source": [
    "#http://stackoverflow.com/questions/4493543/calculating-confidence-intervals-for-a-non-normal-distribution\n",
    "def CI_dist(X):\n",
    "    N = len(X)\n",
    "    mu = np.mean(abs(X))         # sample mean (normally distributed)\n",
    "    print(\"Mean = %s\"%mu)\n",
    "    #sig = np.std(X)/math.sqrt(N); # sample standard deviation of the mean\n",
    "    sig = np.std(X) # sample standard deviation of the mean\n",
    "    print(\"Std = %s\"%sig)\n",
    "    alphao2 = .05/2;      # alpha over 2   \n",
    "    CI = stats.norm.ppf(0.95, loc=mu, scale= 2.5*sig)\n",
    "    return CI"
   ]
  },
  {
   "cell_type": "code",
   "execution_count": 40,
   "metadata": {
    "collapsed": false
   },
   "outputs": [
    {
     "name": "stdout",
     "output_type": "stream",
     "text": [
      "Mean = 4.08737973802\n",
      "Std = 1.71536084787\n"
     ]
    },
    {
     "data": {
      "text/plain": [
       "11.141173518392913"
      ]
     },
     "execution_count": 40,
     "metadata": {},
     "output_type": "execute_result"
    }
   ],
   "source": [
    "CI = CI_dist(score_samp)\n",
    "CI"
   ]
  },
  {
   "cell_type": "markdown",
   "metadata": {},
   "source": [
    "# Calculate the number of data points lower than -10"
   ]
  },
  {
   "cell_type": "code",
   "execution_count": 41,
   "metadata": {
    "collapsed": false
   },
   "outputs": [],
   "source": [
    "def count_no_of_points(dist,confidence_interval,filename):\n",
    "    count = 0\n",
    "    anomalous_values = []\n",
    "    idx = []\n",
    "    for i in dist:\n",
    "        if i < -confidence_interval:\n",
    "            count += 1\n",
    "            k, = np.where(dist == i)\n",
    "            idx.append(k)\n",
    "            anomalous_values.append(i)\n",
    "    np.savetxt(filename,anomalous_values)\n",
    "    return count,idx"
   ]
  },
  {
   "cell_type": "code",
   "execution_count": 42,
   "metadata": {
    "collapsed": false
   },
   "outputs": [
    {
     "data": {
      "text/plain": [
       "(113,\n",
       " [array([150]),\n",
       "  array([487]),\n",
       "  array([735]),\n",
       "  array([736]),\n",
       "  array([737]),\n",
       "  array([738]),\n",
       "  array([739]),\n",
       "  array([740]),\n",
       "  array([741]),\n",
       "  array([742]),\n",
       "  array([743]),\n",
       "  array([744]),\n",
       "  array([745]),\n",
       "  array([746]),\n",
       "  array([747]),\n",
       "  array([748]),\n",
       "  array([751]),\n",
       "  array([955, 956]),\n",
       "  array([955, 956]),\n",
       "  array([1842]),\n",
       "  array([8876]),\n",
       "  array([9331]),\n",
       "  array([9921]),\n",
       "  array([12171, 12172]),\n",
       "  array([12171, 12172]),\n",
       "  array([12179]),\n",
       "  array([12774]),\n",
       "  array([13884]),\n",
       "  array([14378]),\n",
       "  array([14904]),\n",
       "  array([15031]),\n",
       "  array([15201]),\n",
       "  array([15213]),\n",
       "  array([15659]),\n",
       "  array([17802]),\n",
       "  array([17854]),\n",
       "  array([18108]),\n",
       "  array([18332]),\n",
       "  array([18466]),\n",
       "  array([19904]),\n",
       "  array([20366]),\n",
       "  array([24761]),\n",
       "  array([28249]),\n",
       "  array([28289]),\n",
       "  array([29710]),\n",
       "  array([30263]),\n",
       "  array([30514]),\n",
       "  array([31535, 31536]),\n",
       "  array([31535, 31536]),\n",
       "  array([32036, 32037]),\n",
       "  array([32036, 32037]),\n",
       "  array([32217]),\n",
       "  array([32445, 32446, 32447]),\n",
       "  array([32445, 32446, 32447]),\n",
       "  array([32445, 32446, 32447]),\n",
       "  array([33655]),\n",
       "  array([34268]),\n",
       "  array([34432]),\n",
       "  array([34546]),\n",
       "  array([34698]),\n",
       "  array([36273]),\n",
       "  array([36298]),\n",
       "  array([37053]),\n",
       "  array([40801]),\n",
       "  array([41181]),\n",
       "  array([47025]),\n",
       "  array([47516]),\n",
       "  array([47519, 47520]),\n",
       "  array([47519, 47520]),\n",
       "  array([47539]),\n",
       "  array([48132]),\n",
       "  array([48326]),\n",
       "  array([49971, 49972]),\n",
       "  array([49971, 49972]),\n",
       "  array([49981, 49982]),\n",
       "  array([49981, 49982]),\n",
       "  array([50236]),\n",
       "  array([50237]),\n",
       "  array([51051]),\n",
       "  array([51219]),\n",
       "  array([51325]),\n",
       "  array([51445]),\n",
       "  array([51629, 51630]),\n",
       "  array([51629, 51630]),\n",
       "  array([52091]),\n",
       "  array([52092]),\n",
       "  array([52771, 52772]),\n",
       "  array([52771, 52772]),\n",
       "  array([53044]),\n",
       "  array([53311]),\n",
       "  array([55083]),\n",
       "  array([58254]),\n",
       "  array([58911]),\n",
       "  array([59173]),\n",
       "  array([64901]),\n",
       "  array([65396]),\n",
       "  array([65397]),\n",
       "  array([65398]),\n",
       "  array([66677]),\n",
       "  array([67387]),\n",
       "  array([67442]),\n",
       "  array([68970, 68971, 68972]),\n",
       "  array([68970, 68971, 68972]),\n",
       "  array([68970, 68971, 68972]),\n",
       "  array([69356]),\n",
       "  array([69357]),\n",
       "  array([69358]),\n",
       "  array([69359]),\n",
       "  array([69360]),\n",
       "  array([69425]),\n",
       "  array([70190]),\n",
       "  array([71299]),\n",
       "  array([74936])])"
      ]
     },
     "execution_count": 42,
     "metadata": {},
     "output_type": "execute_result"
    }
   ],
   "source": [
    "less_probable_value_count, idx_ap = count_no_of_points(score_samp,CI,\"test_anomaly_range_11.txt\")\n",
    "less_probable_value_count, idx_ap"
   ]
  },
  {
   "cell_type": "code",
   "execution_count": 43,
   "metadata": {
    "collapsed": false
   },
   "outputs": [
    {
     "data": {
      "text/plain": [
       "0      295.00\n",
       "1      295.00\n",
       "2      295.00\n",
       "3      100.00\n",
       "4      100.00\n",
       "5      100.00\n",
       "6    84000.00\n",
       "7    85000.00\n",
       "8        0.95\n",
       "Name: 487, dtype: float64"
      ]
     },
     "execution_count": 43,
     "metadata": {},
     "output_type": "execute_result"
    }
   ],
   "source": [
    "df_new.iloc[487]"
   ]
  },
  {
   "cell_type": "code",
   "execution_count": null,
   "metadata": {
    "collapsed": true
   },
   "outputs": [],
   "source": []
  }
 ],
 "metadata": {
  "kernelspec": {
   "display_name": "Python 2",
   "language": "python",
   "name": "python2"
  },
  "language_info": {
   "codemirror_mode": {
    "name": "ipython",
    "version": 2
   },
   "file_extension": ".py",
   "mimetype": "text/x-python",
   "name": "python",
   "nbconvert_exporter": "python",
   "pygments_lexer": "ipython2",
   "version": "2.7.13"
  }
 },
 "nbformat": 4,
 "nbformat_minor": 2
}
